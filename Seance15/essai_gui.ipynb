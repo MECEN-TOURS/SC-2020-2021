{
 "cells": [
  {
   "cell_type": "code",
   "execution_count": 1,
   "id": "chief-letter",
   "metadata": {},
   "outputs": [],
   "source": [
    "from app import Application"
   ]
  },
  {
   "cell_type": "code",
   "execution_count": 2,
   "id": "derived-garlic",
   "metadata": {},
   "outputs": [
    {
     "data": {
      "image/png": "[encoded data removed]",
      "text/plain": [
       "<Figure size 432x288 with 1 Axes>"
      ]
     },
     "metadata": {
      "needs_background": "light"
     },
     "output_type": "display_data"
    }
   ],
   "source": [
    "mon_application = Application()"
   ]
  },
  {
   "cell_type": "code",
   "execution_count": 3,
   "id": "transparent-reporter",
   "metadata": {},
   "outputs": [
    {
     "data": {
      "application/vnd.jupyter.widget-view+json": {
       "model_id": "648861e5ad6c43f79cb8b69394b4326e",
       "version_major": 2,
       "version_minor": 0
      },
      "text/plain": [
       "VBox(children=(HBox(children=(VBox(children=(Button(description='Résoudre', style=ButtonStyle()), Textarea(val…"
      ]
     },
     "metadata": {},
     "output_type": "display_data"
    }
   ],
   "source": [
    "mon_application.affichage()"
   ]
  },
  {
   "cell_type": "code",
   "execution_count": 4,
   "id": "polish-growing",
   "metadata": {},
   "outputs": [
    {
     "data": {
      "application/vnd.jupyter.widget-view+json": {
       "model_id": "648861e5ad6c43f79cb8b69394b4326e",
       "version_major": 2,
       "version_minor": 0
      },
      "text/plain": [
       "VBox(children=(HBox(children=(VBox(children=(Button(description='Résoudre', style=ButtonStyle()), Textarea(val…"
      ]
     },
     "metadata": {},
     "output_type": "display_data"
    }
   ],
   "source": [
    "mon_application.affichage()"
   ]
  },
  {
   "cell_type": "markdown",
   "id": "blessed-objective",
   "metadata": {},
   "source": [
    "# Exercice\n",
    "\n",
    "Modifier la librairie et les applications (ligne de commande et gui) pour avoir un affiche supplémentaire plus visuel.\n",
    "\n",
    "Exemple:"
   ]
  },
  {
   "cell_type": "code",
   "execution_count": 5,
   "id": "weighted-intellectual",
   "metadata": {},
   "outputs": [],
   "source": [
    "from ordonnancement import Probleme, resous"
   ]
  },
  {
   "cell_type": "code",
   "execution_count": 6,
   "id": "original-phone",
   "metadata": {},
   "outputs": [
    {
     "data": {
      "text/html": [
       "<pre style=\"white-space:pre;overflow-x:auto;line-height:normal;font-family:Menlo,'DejaVu Sans Mono',consolas,'Courier New',monospace\"><span style=\"font-style: italic\">  Problème d'ordonnancement  </span>\n",
       "┏━━━━━━━┳━━━━━━━┳━━━━━━━━━━━┓\n",
       "┃<span style=\"font-weight: bold\"> Tache </span>┃<span style=\"font-weight: bold\"> Durée </span>┃<span style=\"font-weight: bold\"> Prérequis </span>┃\n",
       "┡━━━━━━━╇━━━━━━━╇━━━━━━━━━━━┩\n",
       "│ A     │ 1     │           │\n",
       "│ B     │ 2     │ A         │\n",
       "│ C     │ 3     │ A, B      │\n",
       "│ D     │ 4     │ A         │\n",
       "└───────┴───────┴───────────┘\n",
       "</pre>\n"
      ],
      "text/plain": [
       "<rich.table.Table at 0x7ff4683c0a60>"
      ]
     },
     "execution_count": 6,
     "metadata": {},
     "output_type": "execute_result"
    }
   ],
   "source": [
    "probleme = Probleme.par_str(\"\"\"\n",
    "A / 1 / \n",
    "B / 2 / A\n",
    "C / 3 / A B\n",
    "D / 4 / A\n",
    "\"\"\")\n",
    "probleme.genere_table()"
   ]
  },
  {
   "cell_type": "code",
   "execution_count": 7,
   "id": "expired-notice",
   "metadata": {},
   "outputs": [
    {
     "data": {
      "text/html": [
       "<pre style=\"white-space:pre;overflow-x:auto;line-height:normal;font-family:Menlo,'DejaVu Sans Mono',consolas,'Courier New',monospace\"><span style=\"font-style: italic\"> Solution du problème  </span>\n",
       "┏━━━━━━━┳━━━━━━━┳━━━━━┓\n",
       "┃<span style=\"font-weight: bold\"> Tache </span>┃<span style=\"font-weight: bold\"> Début </span>┃<span style=\"font-weight: bold\"> Fin </span>┃\n",
       "┡━━━━━━━╇━━━━━━━╇━━━━━┩\n",
       "│ A     │ 0     │ 1   │\n",
       "│ D     │ 1     │ 5   │\n",
       "│ B     │ 1     │ 3   │\n",
       "│ C     │ 3     │ 6   │\n",
       "└───────┴───────┴─────┘\n",
       "</pre>\n"
      ],
      "text/plain": [
       "<rich.table.Table at 0x7ff490102610>"
      ]
     },
     "execution_count": 7,
     "metadata": {},
     "output_type": "execute_result"
    }
   ],
   "source": [
    "solution = resous(probleme)\n",
    "solution.genere_table()"
   ]
  },
  {
   "cell_type": "markdown",
   "id": "particular-riding",
   "metadata": {},
   "source": [
    "On aimerait une méthode de `solution.genere_graphique()` qui renvoie une figure matplotlib.\n"
   ]
  },
  {
   "cell_type": "code",
   "execution_count": 8,
   "id": "close-radiation",
   "metadata": {},
   "outputs": [],
   "source": [
    "%matplotlib inline\n",
    "import matplotlib.pyplot as plt\n",
    "\n",
    "plt.rcParams[\"figure.figsize\"] = (15, 5)"
   ]
  },
  {
   "cell_type": "code",
   "execution_count": 9,
   "id": "divine-tongue",
   "metadata": {},
   "outputs": [
    {
     "data": {
      "text/plain": [
       "[<matplotlib.lines.Line2D at 0x7ff4566ef1f0>]"
      ]
     },
     "execution_count": 9,
     "metadata": {},
     "output_type": "execute_result"
    },
    {
     "data": {
      "image/png": "[encoded data removed]",
      "text/plain": [
       "<Figure size 1080x360 with 1 Axes>"
      ]
     },
     "metadata": {
      "needs_background": "light"
     },
     "output_type": "display_data"
    }
   ],
   "source": [
    "figure, repere = plt.subplots()\n",
    "repere.plot([0, 1], [-1, -1], color=\"blue\", linewidth=2)\n",
    "repere.plot([1, 5], [-2, -2], color=\"blue\", linewidth=2)\n",
    "repere.plot([1, 3], [-3, -3], color=\"blue\", linewidth=2)\n",
    "repere.plot([3, 6], [-4, -4], color=\"blue\", linewidth=2)"
   ]
  },
  {
   "cell_type": "code",
   "execution_count": 10,
   "id": "harmful-vector",
   "metadata": {
    "tags": []
   },
   "outputs": [
    {
     "data": {
      "image/png": "[encoded data removed]",
      "text/plain": [
       "<Figure size 1080x360 with 1 Axes>"
      ]
     },
     "metadata": {
      "needs_background": "light"
     },
     "output_type": "display_data"
    }
   ],
   "source": [
    "figure, repere = plt.subplots()\n",
    "repere.plot([0, 1], [-1, -1], color=\"blue\", linewidth=2)\n",
    "repere.plot([1, 5], [-2, -2], color=\"blue\", linewidth=2)\n",
    "repere.plot([1, 3], [-3, -3], color=\"blue\", linewidth=2)\n",
    "repere.plot([3, 6], [-4, -4], color=\"blue\", linewidth=2)\n",
    "\n",
    "repere.set_yticks([-1, -2, -3, -4])\n",
    "repere.set_yticklabels([\"A\", \"D\", \"B\", \"C\"])\n",
    "repere.set_ylabel(\"Taches\")\n",
    "repere.set_xlabel(\"Instants\")\n",
    "repere.set_title(\"Solution du problème d'ordonnancement\");\n"
   ]
  },
  {
   "cell_type": "markdown",
   "id": "retired-badge",
   "metadata": {},
   "source": [
    "20min -> 12h05"
   ]
  },
  {
   "cell_type": "code",
   "execution_count": 11,
   "id": "handy-florist",
   "metadata": {
    "tags": []
   },
   "outputs": [
    {
     "data": {
      "text/plain": [
       "['__class__',\n",
       " '__delattr__',\n",
       " '__dict__',\n",
       " '__dir__',\n",
       " '__doc__',\n",
       " '__eq__',\n",
       " '__format__',\n",
       " '__ge__',\n",
       " '__getattribute__',\n",
       " '__getitem__',\n",
       " '__gt__',\n",
       " '__hash__',\n",
       " '__init__',\n",
       " '__init_subclass__',\n",
       " '__le__',\n",
       " '__lt__',\n",
       " '__module__',\n",
       " '__ne__',\n",
       " '__new__',\n",
       " '__reduce__',\n",
       " '__reduce_ex__',\n",
       " '__repr__',\n",
       " '__setattr__',\n",
       " '__sizeof__',\n",
       " '__str__',\n",
       " '__subclasshook__',\n",
       " '__weakref__',\n",
       " '_activites',\n",
       " 'activites',\n",
       " 'affiche',\n",
       " 'ajoute',\n",
       " 'est_valide',\n",
       " 'genere_graphique',\n",
       " 'genere_table']"
      ]
     },
     "execution_count": 11,
     "metadata": {},
     "output_type": "execute_result"
    }
   ],
   "source": [
    "dir(solution)"
   ]
  },
  {
   "cell_type": "code",
   "execution_count": 12,
   "id": "stable-beaver",
   "metadata": {},
   "outputs": [
    {
     "data": {
      "image/png": "[encoded data removed]",
      "text/plain": [
       "<Figure size 1080x360 with 1 Axes>"
      ]
     },
     "metadata": {
      "needs_background": "light"
     },
     "output_type": "display_data"
    }
   ],
   "source": [
    "solution.genere_graphique();"
   ]
  },
  {
   "cell_type": "code",
   "execution_count": null,
   "id": "spectacular-liabilities",
   "metadata": {},
   "outputs": [],
   "source": []
  }
 ],
 "metadata": {
  "kernelspec": {
   "display_name": "Python 3",
   "language": "python",
   "name": "python3"
  },
  "language_info": {
   "codemirror_mode": {
    "name": "ipython",
    "version": 3
   },
   "file_extension": ".py",
   "mimetype": "text/x-python",
   "name": "python",
   "nbconvert_exporter": "python",
   "pygments_lexer": "ipython3",
   "version": "3.8.3"
  }
 },
 "nbformat": 4,
 "nbformat_minor": 5
}
