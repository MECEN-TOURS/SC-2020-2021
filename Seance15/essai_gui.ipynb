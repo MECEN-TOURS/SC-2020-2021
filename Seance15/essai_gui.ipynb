{
 "cells": [
  {
   "cell_type": "code",
   "execution_count": 1,
   "id": "deadly-thousand",
   "metadata": {},
   "outputs": [],
   "source": [
    "from app import Application"
   ]
  },
  {
   "cell_type": "code",
   "execution_count": 2,
   "id": "interim-rabbit",
   "metadata": {},
   "outputs": [],
   "source": [
    "mon_application = Application()"
   ]
  },
  {
   "cell_type": "code",
   "execution_count": 3,
   "id": "caroline-confidentiality",
   "metadata": {},
   "outputs": [
    {
     "data": {
      "application/vnd.jupyter.widget-view+json": {
       "model_id": "c3f3f4279656402e930c913f0781a19e",
       "version_major": 2,
       "version_minor": 0
      },
      "text/plain": [
       "HBox(children=(VBox(children=(Button(description='Résoudre', style=ButtonStyle()), Textarea(value='A / 1 / \\nB…"
      ]
     },
     "metadata": {},
     "output_type": "display_data"
    }
   ],
   "source": [
    "mon_application.affichage()"
   ]
  },
  {
   "cell_type": "code",
   "execution_count": 4,
   "id": "chicken-tobago",
   "metadata": {},
   "outputs": [
    {
     "data": {
      "application/vnd.jupyter.widget-view+json": {
       "model_id": "",
       "version_major": 2,
       "version_minor": 0
      },
      "text/plain": [
       "HBox(children=(VBox(children=(Button(description='Résoudre', style=ButtonStyle()), Textarea(value='A / 1 / \\nB…"
      ]
     },
     "metadata": {},
     "output_type": "display_data"
    }
   ],
   "source": [
    "mon_application.affichage()"
   ]
  },
  {
   "cell_type": "markdown",
   "id": "stylish-appreciation",
   "metadata": {},
   "source": [
    "# Exercice\n",
    "\n",
    "Modifier la librairie et les applications (ligne de commande et gui) pour avoir un affiche supplémentaire plus visuel.\n",
    "\n",
    "Exemple:"
   ]
  },
  {
   "cell_type": "code",
   "execution_count": 5,
   "id": "realistic-choir",
   "metadata": {},
   "outputs": [],
   "source": [
    "from ordonnancement import Probleme, resous"
   ]
  },
  {
   "cell_type": "code",
   "execution_count": 6,
   "id": "fleet-literature",
   "metadata": {},
   "outputs": [
    {
     "data": {
      "text/html": [
       "<pre style=\"white-space:pre;overflow-x:auto;line-height:normal;font-family:Menlo,'DejaVu Sans Mono',consolas,'Courier New',monospace\"><span style=\"font-style: italic\">  Problème d'ordonnancement  </span>\n",
       "┏━━━━━━━┳━━━━━━━┳━━━━━━━━━━━┓\n",
       "┃<span style=\"font-weight: bold\"> Tache </span>┃<span style=\"font-weight: bold\"> Durée </span>┃<span style=\"font-weight: bold\"> Prérequis </span>┃\n",
       "┡━━━━━━━╇━━━━━━━╇━━━━━━━━━━━┩\n",
       "│ A     │ 1     │           │\n",
       "│ B     │ 2     │ A         │\n",
       "│ C     │ 3     │ A, B      │\n",
       "│ D     │ 4     │ A         │\n",
       "└───────┴───────┴───────────┘\n",
       "</pre>\n"
      ],
      "text/plain": [
       "<rich.table.Table at 0x7f39d5c0eaf0>"
      ]
     },
     "execution_count": 6,
     "metadata": {},
     "output_type": "execute_result"
    }
   ],
   "source": [
    "probleme = Probleme.par_str(\"\"\"\n",
    "A / 1 / \n",
    "B / 2 / A\n",
    "C / 3 / A B\n",
    "D / 4 / A\n",
    "\"\"\")\n",
    "probleme.genere_table()"
   ]
  },
  {
   "cell_type": "code",
   "execution_count": 7,
   "id": "threaded-coupon",
   "metadata": {},
   "outputs": [
    {
     "data": {
      "text/html": [
       "<pre style=\"white-space:pre;overflow-x:auto;line-height:normal;font-family:Menlo,'DejaVu Sans Mono',consolas,'Courier New',monospace\"><span style=\"font-style: italic\"> Solution du problème  </span>\n",
       "┏━━━━━━━┳━━━━━━━┳━━━━━┓\n",
       "┃<span style=\"font-weight: bold\"> Tache </span>┃<span style=\"font-weight: bold\"> Début </span>┃<span style=\"font-weight: bold\"> Fin </span>┃\n",
       "┡━━━━━━━╇━━━━━━━╇━━━━━┩\n",
       "│ A     │ 0     │ 1   │\n",
       "│ D     │ 1     │ 5   │\n",
       "│ B     │ 1     │ 3   │\n",
       "│ C     │ 3     │ 6   │\n",
       "└───────┴───────┴─────┘\n",
       "</pre>\n"
      ],
      "text/plain": [
       "<rich.table.Table at 0x7f39d5c0e490>"
      ]
     },
     "execution_count": 7,
     "metadata": {},
     "output_type": "execute_result"
    }
   ],
   "source": [
    "solution = resous(probleme)\n",
    "solution.genere_table()"
   ]
  },
  {
   "cell_type": "markdown",
   "id": "impressive-eight",
   "metadata": {},
   "source": [
    "On aimerait une méthode de `solution` appelée `graphique` qui renvoie une figure matplotlib.\n"
   ]
  },
  {
   "cell_type": "code",
   "execution_count": 8,
   "id": "widespread-details",
   "metadata": {},
   "outputs": [],
   "source": [
    "%matplotlib inline\n",
    "import matplotlib.pyplot as plt\n",
    "\n",
    "plt.rcParams[\"figure.figsize\"] = (15, 5)"
   ]
  },
  {
   "cell_type": "code",
   "execution_count": 9,
   "id": "tribal-infection",
   "metadata": {},
   "outputs": [
    {
     "data": {
      "text/plain": [
       "[<matplotlib.lines.Line2D at 0x7f39d4c38760>]"
      ]
     },
     "execution_count": 9,
     "metadata": {},
     "output_type": "execute_result"
    },
    {
     "data": {
      "image/png": "[encoded data removed]",
      "text/plain": [
       "<Figure size 1080x360 with 1 Axes>"
      ]
     },
     "metadata": {
      "needs_background": "light"
     },
     "output_type": "display_data"
    }
   ],
   "source": [
    "figure, repere = plt.subplots()\n",
    "repere.plot([0, 1], [-1, -1], color=\"blue\", linewidth=2)\n",
    "repere.plot([1, 5], [-2, -2], color=\"blue\", linewidth=2)\n",
    "repere.plot([1, 3], [-3, -3], color=\"blue\", linewidth=2)\n",
    "repere.plot([3, 6], [-4, -4], color=\"blue\", linewidth=2)"
   ]
  },
  {
   "cell_type": "code",
   "execution_count": 14,
   "id": "lyric-third",
   "metadata": {},
   "outputs": [
    {
     "data": {
      "image/png": "[encoded data removed]",
      "text/plain": [
       "<Figure size 1080x360 with 1 Axes>"
      ]
     },
     "metadata": {
      "needs_background": "light"
     },
     "output_type": "display_data"
    }
   ],
   "source": [
    "figure, repere = plt.subplots()\n",
    "repere.plot([0, 1], [-1, -1], color=\"blue\", linewidth=2)\n",
    "repere.plot([1, 5], [-2, -2], color=\"blue\", linewidth=2)\n",
    "repere.plot([1, 3], [-3, -3], color=\"blue\", linewidth=2)\n",
    "repere.plot([3, 6], [-4, -4], color=\"blue\", linewidth=2)\n",
    "\n",
    "repere.set_yticks([-1, -2, -3, -4])\n",
    "repere.set_yticklabels([\"A\", \"B\", \"C\", \"D\"])\n",
    "repere.set_ylabel(\"Taches\")\n",
    "repere.set_xlabel(\"Instants\")\n",
    "repere.set_title(\"Solution du problème d'ordonnancement\");\n"
   ]
  }
 ],
 "metadata": {
  "kernelspec": {
   "display_name": "Python 3",
   "language": "python",
   "name": "python3"
  },
  "language_info": {
   "codemirror_mode": {
    "name": "ipython",
    "version": 3
   },
   "file_extension": ".py",
   "mimetype": "text/x-python",
   "name": "python",
   "nbconvert_exporter": "python",
   "pygments_lexer": "ipython3",
   "version": "3.8.3"
  }
 },
 "nbformat": 4,
 "nbformat_minor": 5
}
