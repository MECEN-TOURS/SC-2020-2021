{
 "cells": [
  {
   "cell_type": "code",
   "execution_count": 1,
   "id": "emerging-venue",
   "metadata": {},
   "outputs": [],
   "source": [
    "from app import Application"
   ]
  },
  {
   "cell_type": "code",
   "execution_count": 2,
   "id": "distributed-nomination",
   "metadata": {},
   "outputs": [],
   "source": [
    "mon_application = Application()"
   ]
  },
  {
   "cell_type": "code",
   "execution_count": 3,
   "id": "subject-tissue",
   "metadata": {},
   "outputs": [
    {
     "data": {
      "application/vnd.jupyter.widget-view+json": {
       "model_id": "c3f3f4279656402e930c913f0781a19e",
       "version_major": 2,
       "version_minor": 0
      },
      "text/plain": [
       "HBox(children=(VBox(children=(Button(description='Résoudre', style=ButtonStyle()), Textarea(value='A / 1 / \\nB…"
      ]
     },
     "metadata": {},
     "output_type": "display_data"
    }
   ],
   "source": [
    "mon_application.affichage()"
   ]
  },
  {
   "cell_type": "code",
   "execution_count": 4,
   "id": "dedicated-soviet",
   "metadata": {},
   "outputs": [
    {
     "data": {
      "application/vnd.jupyter.widget-view+json": {
       "model_id": "",
       "version_major": 2,
       "version_minor": 0
      },
      "text/plain": [
       "HBox(children=(VBox(children=(Button(description='Résoudre', style=ButtonStyle()), Textarea(value='A / 1 / \\nB…"
      ]
     },
     "metadata": {},
     "output_type": "display_data"
    }
   ],
   "source": [
    "mon_application.affichage()"
   ]
  },
  {
   "cell_type": "markdown",
   "id": "fancy-words",
   "metadata": {},
   "source": [
    "# Exercice\n",
    "\n",
    "Modifier la librairie et les applications (ligne de commande et gui) pour avoir un affiche supplémentaire plus visuel.\n",
    "\n",
    "Exemple:"
   ]
  },
  {
   "cell_type": "code",
   "execution_count": 5,
   "id": "combined-retention",
   "metadata": {},
   "outputs": [],
   "source": [
    "from ordonnancement import Probleme, resous"
   ]
  },
  {
   "cell_type": "code",
   "execution_count": 6,
   "id": "executive-volunteer",
   "metadata": {},
   "outputs": [
    {
     "data": {
      "text/html": [
       "<pre style=\"white-space:pre;overflow-x:auto;line-height:normal;font-family:Menlo,'DejaVu Sans Mono',consolas,'Courier New',monospace\"><span style=\"font-style: italic\">  Problème d'ordonnancement  </span>\n",
       "┏━━━━━━━┳━━━━━━━┳━━━━━━━━━━━┓\n",
       "┃<span style=\"font-weight: bold\"> Tache </span>┃<span style=\"font-weight: bold\"> Durée </span>┃<span style=\"font-weight: bold\"> Prérequis </span>┃\n",
       "┡━━━━━━━╇━━━━━━━╇━━━━━━━━━━━┩\n",
       "│ A     │ 1     │           │\n",
       "│ B     │ 2     │ A         │\n",
       "│ C     │ 3     │ A, B      │\n",
       "│ D     │ 4     │ A         │\n",
       "└───────┴───────┴───────────┘\n",
       "</pre>\n"
      ],
      "text/plain": [
       "<rich.table.Table at 0x7f39d5c0eaf0>"
      ]
     },
     "execution_count": 6,
     "metadata": {},
     "output_type": "execute_result"
    }
   ],
   "source": [
    "probleme = Probleme.par_str(\"\"\"\n",
    "A / 1 / \n",
    "B / 2 / A\n",
    "C / 3 / A B\n",
    "D / 4 / A\n",
    "\"\"\")\n",
    "probleme.genere_table()"
   ]
  },
  {
   "cell_type": "code",
   "execution_count": 7,
   "id": "personal-anthony",
   "metadata": {},
   "outputs": [
    {
     "data": {
      "text/html": [
       "<pre style=\"white-space:pre;overflow-x:auto;line-height:normal;font-family:Menlo,'DejaVu Sans Mono',consolas,'Courier New',monospace\"><span style=\"font-style: italic\"> Solution du problème  </span>\n",
       "┏━━━━━━━┳━━━━━━━┳━━━━━┓\n",
       "┃<span style=\"font-weight: bold\"> Tache </span>┃<span style=\"font-weight: bold\"> Début </span>┃<span style=\"font-weight: bold\"> Fin </span>┃\n",
       "┡━━━━━━━╇━━━━━━━╇━━━━━┩\n",
       "│ A     │ 0     │ 1   │\n",
       "│ D     │ 1     │ 5   │\n",
       "│ B     │ 1     │ 3   │\n",
       "│ C     │ 3     │ 6   │\n",
       "└───────┴───────┴─────┘\n",
       "</pre>\n"
      ],
      "text/plain": [
       "<rich.table.Table at 0x7f39d5c0e490>"
      ]
     },
     "execution_count": 7,
     "metadata": {},
     "output_type": "execute_result"
    }
   ],
   "source": [
    "solution = resous(probleme)\n",
    "solution.genere_table()"
   ]
  },
  {
   "cell_type": "markdown",
   "id": "clean-canon",
   "metadata": {
    "jupyter": {
     "source_hidden": true
    },
    "tags": []
   },
   "source": [
    "On aimerait une méthode de `solution` appelée `visualise` qui renvoie une chaine de caractère \n",
    "\n",
    "  0 1 2 3 4 5 6  \n",
    "A --  \n",
    "D   --------  \n",
    "B   ----  \n",
    "C       ------  "
   ]
  },
  {
   "cell_type": "code",
   "execution_count": null,
   "id": "competitive-fifth",
   "metadata": {},
   "outputs": [],
   "source": []
  }
 ],
 "metadata": {
  "kernelspec": {
   "display_name": "Python 3",
   "language": "python",
   "name": "python3"
  },
  "language_info": {
   "codemirror_mode": {
    "name": "ipython",
    "version": 3
   },
   "file_extension": ".py",
   "mimetype": "text/x-python",
   "name": "python",
   "nbconvert_exporter": "python",
   "pygments_lexer": "ipython3",
   "version": "3.8.3"
  }
 },
 "nbformat": 4,
 "nbformat_minor": 5
}
