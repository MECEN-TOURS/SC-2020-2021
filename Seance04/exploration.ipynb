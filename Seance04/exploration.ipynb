{
 "cells": [
  {
   "cell_type": "code",
   "execution_count": 1,
   "id": "occupied-debut",
   "metadata": {},
   "outputs": [],
   "source": [
    "from importlib import reload"
   ]
  },
  {
   "cell_type": "code",
   "execution_count": 2,
   "id": "continent-fraction",
   "metadata": {},
   "outputs": [],
   "source": [
    "import graphe"
   ]
  },
  {
   "cell_type": "code",
   "execution_count": 15,
   "id": "liable-thickness",
   "metadata": {},
   "outputs": [
    {
     "data": {
      "text/plain": [
       "<module 'graphe' from '/home/vincent/projets/COURS/SC-2020-2021/Seance04/graphe.py'>"
      ]
     },
     "execution_count": 15,
     "metadata": {},
     "output_type": "execute_result"
    }
   ],
   "source": [
    "reload(graphe)"
   ]
  },
  {
   "cell_type": "code",
   "execution_count": 4,
   "id": "mathematical-motion",
   "metadata": {},
   "outputs": [],
   "source": [
    "g = graphe.Graphe(sommets=[1, 2, 3, 4], arretes=[(1, 2), (2, 3), (1, 4)])"
   ]
  },
  {
   "cell_type": "code",
   "execution_count": 5,
   "id": "adaptive-grove",
   "metadata": {},
   "outputs": [
    {
     "data": {
      "text/plain": [
       "Graphe(sommets=[1, 2, 3, 4], arretes=[(1, 2), (2, 3), (1, 4)])"
      ]
     },
     "execution_count": 5,
     "metadata": {},
     "output_type": "execute_result"
    }
   ],
   "source": [
    "g"
   ]
  },
  {
   "cell_type": "code",
   "execution_count": 6,
   "id": "loving-tissue",
   "metadata": {},
   "outputs": [
    {
     "name": "stdout",
     "output_type": "stream",
     "text": [
      "\n",
      "Sommets:\n",
      "    [1, 2, 3, 4]\n",
      "    \n",
      "Arretes:\n",
      "    [(1, 2), (2, 3), (1, 4)]\n",
      "\n"
     ]
    }
   ],
   "source": [
    "print(g)"
   ]
  },
  {
   "cell_type": "code",
   "execution_count": 7,
   "id": "square-craft",
   "metadata": {},
   "outputs": [
    {
     "data": {
      "text/plain": [
       "[1, 2, 3]"
      ]
     },
     "execution_count": 7,
     "metadata": {},
     "output_type": "execute_result"
    }
   ],
   "source": [
    "graphe.trouve_chemin(depart=1, arrivee=3, graphe=g)"
   ]
  },
  {
   "cell_type": "code",
   "execution_count": 8,
   "id": "sweet-package",
   "metadata": {},
   "outputs": [
    {
     "name": "stdout",
     "output_type": "stream",
     "text": [
      "4\n"
     ]
    },
    {
     "data": {
      "text/plain": [
       "False"
      ]
     },
     "execution_count": 8,
     "metadata": {},
     "output_type": "execute_result"
    }
   ],
   "source": [
    "graphe.sont_relies(depart=4, arrivee=3, graphe=g)"
   ]
  },
  {
   "cell_type": "markdown",
   "id": "strong-import",
   "metadata": {},
   "source": [
    "**REMARQUE** dans les deux fonctions `deja_visites` n'est utilisé que pour tester l'appartenance.\n",
    "Il vaut donc mieux utiliser un `set` qu'une `list`.\n",
    "\n",
    "Rappel le test d'appartenance pour\n",
    "- une `list` a une durée proportionnelle à la taille de la `list`\n",
    "- un `set` est indépendant de la taille du `set`"
   ]
  },
  {
   "cell_type": "markdown",
   "id": "random-patent",
   "metadata": {},
   "source": [
    "# Ordre de visite"
   ]
  },
  {
   "cell_type": "code",
   "execution_count": 11,
   "id": "framed-receptor",
   "metadata": {},
   "outputs": [],
   "source": [
    "g2 = graphe.Graphe(\n",
    "    sommets=list(\"abcdefghijk\"),\n",
    "    arretes=[tuple(arrete) for arrete in [\"ab\", \"ac\", \"bd\", \"be\", \"cf\", \"cg\", \"dh\", \"ei\", \"ej\", \"fk\"]]\n",
    ")"
   ]
  },
  {
   "cell_type": "code",
   "execution_count": 12,
   "id": "suited-working",
   "metadata": {},
   "outputs": [
    {
     "name": "stdout",
     "output_type": "stream",
     "text": [
      "\n",
      "Sommets:\n",
      "    ['a', 'b', 'c', 'd', 'e', 'f', 'g', 'h', 'i', 'j', 'k']\n",
      "    \n",
      "Arretes:\n",
      "    [('a', 'b'), ('a', 'c'), ('b', 'd'), ('b', 'e'), ('c', 'f'), ('c', 'g'), ('d', 'h'), ('e', 'i'), ('e', 'j'), ('f', 'k')]\n",
      "\n"
     ]
    }
   ],
   "source": [
    "print(g2)"
   ]
  },
  {
   "cell_type": "markdown",
   "id": "governing-island",
   "metadata": {},
   "source": [
    "![ordre](./depth_first_breadth_first.gif)"
   ]
  },
  {
   "cell_type": "code",
   "execution_count": 13,
   "id": "silver-database",
   "metadata": {},
   "outputs": [
    {
     "name": "stdout",
     "output_type": "stream",
     "text": [
      "a\n",
      "c\n",
      "g\n",
      "f\n"
     ]
    },
    {
     "data": {
      "text/plain": [
       "True"
      ]
     },
     "execution_count": 13,
     "metadata": {},
     "output_type": "execute_result"
    }
   ],
   "source": [
    "graphe.sont_relies(depart=\"a\", arrivee=\"k\", graphe=g2)"
   ]
  },
  {
   "cell_type": "code",
   "execution_count": 14,
   "id": "artificial-license",
   "metadata": {},
   "outputs": [
    {
     "name": "stdout",
     "output_type": "stream",
     "text": [
      "a\n",
      "c\n",
      "g\n",
      "f\n",
      "k\n",
      "b\n",
      "e\n",
      "j\n",
      "i\n",
      "d\n"
     ]
    },
    {
     "data": {
      "text/plain": [
       "True"
      ]
     },
     "execution_count": 14,
     "metadata": {},
     "output_type": "execute_result"
    }
   ],
   "source": [
    "graphe.sont_relies(depart=\"a\", arrivee=\"h\", graphe=g2)"
   ]
  },
  {
   "cell_type": "code",
   "execution_count": 16,
   "id": "listed-antarctica",
   "metadata": {},
   "outputs": [
    {
     "name": "stdout",
     "output_type": "stream",
     "text": [
      "a\n",
      "b\n",
      "c\n",
      "d\n",
      "e\n",
      "f\n",
      "g\n",
      "h\n",
      "i\n",
      "j\n"
     ]
    },
    {
     "data": {
      "text/plain": [
       "True"
      ]
     },
     "execution_count": 16,
     "metadata": {},
     "output_type": "execute_result"
    }
   ],
   "source": [
    "graphe.sont_relies_v2(depart=\"a\", arrivee=\"k\", graphe=g2)"
   ]
  },
  {
   "cell_type": "markdown",
   "id": "surprised-season",
   "metadata": {},
   "source": [
    "# Exercice\n",
    "\n",
    "Adapté"
   ]
  }
 ],
 "metadata": {
  "kernelspec": {
   "display_name": "Python 3",
   "language": "python",
   "name": "python3"
  },
  "language_info": {
   "codemirror_mode": {
    "name": "ipython",
    "version": 3
   },
   "file_extension": ".py",
   "mimetype": "text/x-python",
   "name": "python",
   "nbconvert_exporter": "python",
   "pygments_lexer": "ipython3",
   "version": "3.8.3"
  }
 },
 "nbformat": 4,
 "nbformat_minor": 5
}
