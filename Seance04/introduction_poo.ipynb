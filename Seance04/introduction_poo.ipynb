{
 "cells": [
  {
   "cell_type": "markdown",
   "id": "nonprofit-dividend",
   "metadata": {},
   "source": [
    "# Introduction à la programmation orientée objet"
   ]
  },
  {
   "cell_type": "markdown",
   "id": "graduate-diamond",
   "metadata": {},
   "source": [
    "Constat numérique en python."
   ]
  },
  {
   "cell_type": "code",
   "execution_count": 3,
   "id": "imported-mortgage",
   "metadata": {},
   "outputs": [
    {
     "name": "stdout",
     "output_type": "stream",
     "text": [
      "1 est de type:  <class 'int'>\n"
     ]
    }
   ],
   "source": [
    "x = 1\n",
    "print(x, \"est de type: \", type(x))\n"
   ]
  },
  {
   "cell_type": "code",
   "execution_count": 4,
   "id": "injured-giant",
   "metadata": {},
   "outputs": [
    {
     "name": "stdout",
     "output_type": "stream",
     "text": [
      "1.5 est de type:  <class 'float'>\n"
     ]
    }
   ],
   "source": [
    "y = 1.5\n",
    "print(y, \"est de type: \", type(y))"
   ]
  },
  {
   "cell_type": "markdown",
   "id": "tribal-reflection",
   "metadata": {},
   "source": [
    "**REMARQUE** les flottants sont toujours arrondis, et sont stockés de manière binaire."
   ]
  },
  {
   "cell_type": "code",
   "execution_count": 7,
   "id": "valuable-entrepreneur",
   "metadata": {},
   "outputs": [
    {
     "data": {
      "text/plain": [
       "0.3333333333333333"
      ]
     },
     "execution_count": 7,
     "metadata": {},
     "output_type": "execute_result"
    }
   ],
   "source": [
    "1 / 3"
   ]
  },
  {
   "cell_type": "code",
   "execution_count": 8,
   "id": "democratic-superintendent",
   "metadata": {},
   "outputs": [
    {
     "name": "stdout",
     "output_type": "stream",
     "text": [
      "n = 3\n",
      "0.30000000000000004 == 0.3\n",
      "n = 6\n",
      "0.6000000000000001 == 0.6\n",
      "n = 7\n",
      "0.7000000000000001 == 0.7\n",
      "n = 12\n",
      "1.2000000000000002 == 1.2\n",
      "n = 14\n",
      "1.4000000000000001 == 1.4\n",
      "n = 17\n",
      "1.7000000000000002 == 1.7\n",
      "n = 19\n",
      "1.9000000000000001 == 1.9\n",
      "n = 23\n",
      "2.3000000000000003 == 2.3\n",
      "n = 24\n",
      "2.4000000000000004 == 2.4\n",
      "n = 28\n",
      "2.8000000000000003 == 2.8\n",
      "n = 29\n",
      "2.9000000000000004 == 2.9\n",
      "n = 33\n",
      "3.3000000000000003 == 3.3\n",
      "n = 34\n",
      "3.4000000000000004 == 3.4\n",
      "n = 38\n",
      "3.8000000000000003 == 3.8\n",
      "n = 39\n",
      "3.9000000000000004 == 3.9\n",
      "n = 41\n",
      "4.1000000000000005 == 4.1\n",
      "n = 46\n",
      "4.6000000000000005 == 4.6\n",
      "n = 48\n",
      "4.800000000000001 == 4.8\n"
     ]
    }
   ],
   "source": [
    "for n in range(50):\n",
    "    egalite = (0.1 * n == n / 10)\n",
    "    if not egalite:\n",
    "        print(f\"{n = }\")\n",
    "        print(f\"{0.1 * n} == {n / 10}\")\n",
    "              "
   ]
  },
  {
   "cell_type": "markdown",
   "id": "victorian-therapist",
   "metadata": {},
   "source": [
    "**VOIR LE COURS PYTHON POUR PLUS DE DETAILS**"
   ]
  },
  {
   "cell_type": "markdown",
   "id": "grave-convert",
   "metadata": {},
   "source": [
    "On peut ressentir le besoin de travailler de manière exacte avec au moins les nombres rationnels.\n",
    "\n",
    "On va crée une structure python pour le faire."
   ]
  },
  {
   "cell_type": "markdown",
   "id": "union-valuation",
   "metadata": {},
   "source": [
    "## Création d'un objet"
   ]
  },
  {
   "cell_type": "code",
   "execution_count": 17,
   "id": "interracial-newman",
   "metadata": {},
   "outputs": [],
   "source": [
    "class Fraction:\n",
    "    def __init__(self, numerateur: int, denominateur: int):\n",
    "        self.numerateur = numerateur\n",
    "        self.denominateur = denominateur"
   ]
  },
  {
   "cell_type": "code",
   "execution_count": 18,
   "id": "monthly-mention",
   "metadata": {},
   "outputs": [
    {
     "data": {
      "text/plain": [
       "<__main__.Fraction at 0x7f469e2f8ca0>"
      ]
     },
     "execution_count": 18,
     "metadata": {},
     "output_type": "execute_result"
    }
   ],
   "source": [
    "f = Fraction(numerateur=1, denominateur=3)\n",
    "f"
   ]
  },
  {
   "cell_type": "code",
   "execution_count": 19,
   "id": "structured-jacksonville",
   "metadata": {},
   "outputs": [
    {
     "data": {
      "text/plain": [
       "['__class__',\n",
       " '__delattr__',\n",
       " '__dict__',\n",
       " '__dir__',\n",
       " '__doc__',\n",
       " '__eq__',\n",
       " '__format__',\n",
       " '__ge__',\n",
       " '__getattribute__',\n",
       " '__gt__',\n",
       " '__hash__',\n",
       " '__init__',\n",
       " '__init_subclass__',\n",
       " '__le__',\n",
       " '__lt__',\n",
       " '__module__',\n",
       " '__ne__',\n",
       " '__new__',\n",
       " '__reduce__',\n",
       " '__reduce_ex__',\n",
       " '__repr__',\n",
       " '__setattr__',\n",
       " '__sizeof__',\n",
       " '__str__',\n",
       " '__subclasshook__',\n",
       " '__weakref__',\n",
       " 'denominateur',\n",
       " 'numerateur']"
      ]
     },
     "execution_count": 19,
     "metadata": {},
     "output_type": "execute_result"
    }
   ],
   "source": [
    "dir(f)"
   ]
  },
  {
   "cell_type": "code",
   "execution_count": 20,
   "id": "olympic-faculty",
   "metadata": {},
   "outputs": [
    {
     "data": {
      "text/plain": [
       "3"
      ]
     },
     "execution_count": 20,
     "metadata": {},
     "output_type": "execute_result"
    }
   ],
   "source": [
    "f.denominateur"
   ]
  },
  {
   "cell_type": "code",
   "execution_count": 21,
   "id": "alpha-lying",
   "metadata": {},
   "outputs": [
    {
     "data": {
      "text/plain": [
       "1"
      ]
     },
     "execution_count": 21,
     "metadata": {},
     "output_type": "execute_result"
    }
   ],
   "source": [
    "f.numerateur"
   ]
  },
  {
   "cell_type": "markdown",
   "id": "younger-difference",
   "metadata": {},
   "source": [
    "## Affichage moins barbare\n",
    "\n",
    "L'affichage passe par un conversion vers `str`.\n",
    "\n",
    "Il y a deux façons d'obtenir une chaine de caractères:\n",
    "- en utilisant `str` (c'est ce que fait `print`)\n",
    "- en utilisant `repr` (c'est ce que fait l'affichage en fin de cellule"
   ]
  },
  {
   "cell_type": "code",
   "execution_count": 22,
   "id": "coastal-arkansas",
   "metadata": {},
   "outputs": [
    {
     "name": "stdout",
     "output_type": "stream",
     "text": [
      "<__main__.Fraction object at 0x7f469e2f8ca0>\n",
      "<__main__.Fraction object at 0x7f469e2f8ca0>\n"
     ]
    }
   ],
   "source": [
    "print(f)\n",
    "print(str(f))"
   ]
  },
  {
   "cell_type": "code",
   "execution_count": 23,
   "id": "exposed-viking",
   "metadata": {},
   "outputs": [
    {
     "name": "stdout",
     "output_type": "stream",
     "text": [
      "<__main__.Fraction object at 0x7f469e2f8ca0>\n"
     ]
    },
    {
     "data": {
      "text/plain": [
       "<__main__.Fraction at 0x7f469e2f8ca0>"
      ]
     },
     "execution_count": 23,
     "metadata": {},
     "output_type": "execute_result"
    }
   ],
   "source": [
    "print(repr(f))\n",
    "f"
   ]
  },
  {
   "cell_type": "markdown",
   "id": "gorgeous-conservation",
   "metadata": {},
   "source": [
    "Pour utiliser des fonctionnalités natives de python avec des objets \"surmesures\" on utilise des *dunder* méthodes (on parle aussi de métaprotocoles).\n",
    "\n",
    "Il s'agit de méthodes commençant et finissant par __.\n",
    "\n",
    "Les méthodes sont des fonctions internes à un objet.\n",
    "\n",
    "Quand on fait `repr(f)`, python remplace ceci par `f.__repr__()`, qui est remplacé par `Fraction.__repr__(f)`."
   ]
  },
  {
   "cell_type": "code",
   "execution_count": 24,
   "id": "surrounded-facing",
   "metadata": {},
   "outputs": [],
   "source": [
    "class Fraction:\n",
    "    def __init__(self, numerateur: int, denominateur: int):\n",
    "        self.numerateur = numerateur\n",
    "        self.denominateur = denominateur\n",
    "        \n",
    "    def __repr__(self):\n",
    "        return f\"Fraction(numerateur={self.numerateur}, denominateur={self.denominateur})\"\n",
    "        \n",
    "    def __str__(self):\n",
    "        return f\"{self.numerateur}/{self.denominateur}\""
   ]
  },
  {
   "cell_type": "code",
   "execution_count": 25,
   "id": "judicial-chance",
   "metadata": {},
   "outputs": [
    {
     "data": {
      "text/plain": [
       "Fraction(numerateur=1, denominateur=3)"
      ]
     },
     "execution_count": 25,
     "metadata": {},
     "output_type": "execute_result"
    }
   ],
   "source": [
    "f = Fraction(numerateur=1, denominateur=3)\n",
    "f"
   ]
  },
  {
   "cell_type": "code",
   "execution_count": 26,
   "id": "absolute-afternoon",
   "metadata": {},
   "outputs": [
    {
     "name": "stdout",
     "output_type": "stream",
     "text": [
      "1/3\n"
     ]
    }
   ],
   "source": [
    "print(f)"
   ]
  },
  {
   "cell_type": "markdown",
   "id": "typical-trout",
   "metadata": {},
   "source": [
    "## Arithmétique"
   ]
  },
  {
   "cell_type": "code",
   "execution_count": 27,
   "id": "other-frost",
   "metadata": {},
   "outputs": [
    {
     "ename": "TypeError",
     "evalue": "unsupported operand type(s) for +: 'Fraction' and 'Fraction'",
     "output_type": "error",
     "traceback": [
      "\u001b[0;31m---------------------------------------------------------------------------\u001b[0m",
      "\u001b[0;31mTypeError\u001b[0m                                 Traceback (most recent call last)",
      "\u001b[0;32m<ipython-input-27-ad8073a38d8e>\u001b[0m in \u001b[0;36m<module>\u001b[0;34m\u001b[0m\n\u001b[0;32m----> 1\u001b[0;31m \u001b[0mFraction\u001b[0m\u001b[0;34m(\u001b[0m\u001b[0;36m1\u001b[0m\u001b[0;34m,\u001b[0m \u001b[0;36m2\u001b[0m\u001b[0;34m)\u001b[0m \u001b[0;34m+\u001b[0m \u001b[0mFraction\u001b[0m\u001b[0;34m(\u001b[0m\u001b[0;36m1\u001b[0m\u001b[0;34m,\u001b[0m \u001b[0;36m3\u001b[0m\u001b[0;34m)\u001b[0m\u001b[0;34m\u001b[0m\u001b[0;34m\u001b[0m\u001b[0m\n\u001b[0m",
      "\u001b[0;31mTypeError\u001b[0m: unsupported operand type(s) for +: 'Fraction' and 'Fraction'"
     ]
    }
   ],
   "source": [
    "Fraction(1, 2) + Fraction(1, 3)"
   ]
  },
  {
   "cell_type": "markdown",
   "id": "experienced-library",
   "metadata": {},
   "source": [
    "**REMARQUE** l'opérateur `+` est une fonctionnalité native de python. On a une dunder méthode correspondante: `__add__`."
   ]
  },
  {
   "cell_type": "markdown",
   "id": "inner-daisy",
   "metadata": {},
   "source": [
    "**REMARQUE** si on fait `f1 + f2`, python remplace par `f1.__add__(f2)` qui est lui même remplacé par `Fraction.__add__(f1, f2)`."
   ]
  },
  {
   "cell_type": "code",
   "execution_count": 30,
   "id": "excited-dominant",
   "metadata": {},
   "outputs": [],
   "source": [
    "class Fraction:\n",
    "    def __init__(self, numerateur: int, denominateur: int):\n",
    "        self.numerateur = numerateur\n",
    "        self.denominateur = denominateur\n",
    "        \n",
    "    def __repr__(self):\n",
    "        return f\"Fraction(numerateur={self.numerateur}, denominateur={self.denominateur})\"\n",
    "        \n",
    "    def __str__(self):\n",
    "        return f\"{self.numerateur}/{self.denominateur}\"\n",
    "    \n",
    "    def __add__(self, autre):\n",
    "        num = self.numerateur * autre.denominateur + autre.numerateur * self.denominateur\n",
    "        den = self.denominateur * autre.denominateur\n",
    "        return Fraction(num, den)\n",
    "    \n",
    "    def __mul__(self, autre):\n",
    "        num = self.numerateur * autre.numerateur\n",
    "        den = self.denominateur * autre.denominateur\n",
    "        return Fraction(num, den)"
   ]
  },
  {
   "cell_type": "code",
   "execution_count": 31,
   "id": "proprietary-flexibility",
   "metadata": {},
   "outputs": [
    {
     "data": {
      "text/plain": [
       "Fraction(numerateur=5, denominateur=6)"
      ]
     },
     "execution_count": 31,
     "metadata": {},
     "output_type": "execute_result"
    }
   ],
   "source": [
    "Fraction(1, 2) + Fraction(1, 3)"
   ]
  },
  {
   "cell_type": "code",
   "execution_count": 32,
   "id": "younger-victoria",
   "metadata": {},
   "outputs": [
    {
     "data": {
      "text/plain": [
       "Fraction(numerateur=1, denominateur=6)"
      ]
     },
     "execution_count": 32,
     "metadata": {},
     "output_type": "execute_result"
    }
   ],
   "source": [
    "Fraction(1, 2) * Fraction(1, 3)"
   ]
  },
  {
   "cell_type": "markdown",
   "id": "dying-october",
   "metadata": {},
   "source": [
    "**REMARQUE** on pourrait consulter la [documentation](https://docs.python.org/3/reference/datamodel.html#special-method-names) pour l'ensemble des dunders méthodes."
   ]
  },
  {
   "cell_type": "markdown",
   "id": "suspected-excuse",
   "metadata": {},
   "source": [
    "## On peut aussi avoir des méthodes conventionnelle"
   ]
  },
  {
   "cell_type": "code",
   "execution_count": 35,
   "id": "honest-fancy",
   "metadata": {},
   "outputs": [],
   "source": [
    "import math\n",
    "\n",
    "class Fraction:\n",
    "    def __init__(self, numerateur: int, denominateur: int):\n",
    "        self.numerateur = numerateur\n",
    "        self.denominateur = denominateur\n",
    "        \n",
    "    def __repr__(self):\n",
    "        return f\"Fraction(numerateur={self.numerateur}, denominateur={self.denominateur})\"\n",
    "        \n",
    "    def __str__(self):\n",
    "        return f\"{self.numerateur}/{self.denominateur}\"\n",
    "    \n",
    "    def __add__(self, autre):\n",
    "        num = self.numerateur * autre.denominateur + autre.numerateur * self.denominateur\n",
    "        den = self.denominateur * autre.denominateur\n",
    "        return Fraction(num, den)\n",
    "    \n",
    "    def __mul__(self, autre):\n",
    "        num = self.numerateur * autre.numerateur\n",
    "        den = self.denominateur * autre.denominateur\n",
    "        return Fraction(num, den)\n",
    "    \n",
    "    def est_reduite(self):\n",
    "        return math.gcd(self.numerateur, self.denominateur) == 1"
   ]
  },
  {
   "cell_type": "code",
   "execution_count": 36,
   "id": "norwegian-corporation",
   "metadata": {},
   "outputs": [
    {
     "data": {
      "text/plain": [
       "True"
      ]
     },
     "execution_count": 36,
     "metadata": {},
     "output_type": "execute_result"
    }
   ],
   "source": [
    "Fraction(1, 2).est_reduite()"
   ]
  },
  {
   "cell_type": "code",
   "execution_count": 37,
   "id": "continent-balance",
   "metadata": {},
   "outputs": [
    {
     "data": {
      "text/plain": [
       "False"
      ]
     },
     "execution_count": 37,
     "metadata": {},
     "output_type": "execute_result"
    }
   ],
   "source": [
    "Fraction(2, 4).est_reduite()"
   ]
  },
  {
   "cell_type": "markdown",
   "id": "planned-tribute",
   "metadata": {},
   "source": [
    "## Egalité"
   ]
  },
  {
   "cell_type": "code",
   "execution_count": 38,
   "id": "mineral-headset",
   "metadata": {},
   "outputs": [
    {
     "data": {
      "text/plain": [
       "False"
      ]
     },
     "execution_count": 38,
     "metadata": {},
     "output_type": "execute_result"
    }
   ],
   "source": [
    "Fraction(1, 2) == Fraction(2, 4)"
   ]
  },
  {
   "cell_type": "code",
   "execution_count": 39,
   "id": "changed-tuesday",
   "metadata": {},
   "outputs": [],
   "source": [
    "class Fraction:\n",
    "    def __init__(self, numerateur: int, denominateur: int):\n",
    "        self.numerateur = numerateur\n",
    "        self.denominateur = denominateur\n",
    "        \n",
    "    def __repr__(self):\n",
    "        return f\"Fraction(numerateur={self.numerateur}, denominateur={self.denominateur})\"\n",
    "        \n",
    "    def __str__(self):\n",
    "        return f\"{self.numerateur}/{self.denominateur}\"\n",
    "    \n",
    "    def __add__(self, autre):\n",
    "        num = self.numerateur * autre.denominateur + autre.numerateur * self.denominateur\n",
    "        den = self.denominateur * autre.denominateur\n",
    "        return Fraction(num, den)\n",
    "    \n",
    "    def __mul__(self, autre):\n",
    "        num = self.numerateur * autre.numerateur\n",
    "        den = self.denominateur * autre.denominateur\n",
    "        return Fraction(num, den)\n",
    "    \n",
    "    def __eq__(self, autre):\n",
    "        return self.numerateur * autre.denominateur == autre.numerateur * self.denominateur\n",
    "    \n",
    "    def est_reduite(self):\n",
    "        return math.gcd(self.numerateur, self.denominateur) == 1"
   ]
  },
  {
   "cell_type": "code",
   "execution_count": 40,
   "id": "human-retailer",
   "metadata": {},
   "outputs": [
    {
     "data": {
      "text/plain": [
       "True"
      ]
     },
     "execution_count": 40,
     "metadata": {},
     "output_type": "execute_result"
    }
   ],
   "source": [
    "Fraction(1, 2) == Fraction(2, 4)"
   ]
  },
  {
   "cell_type": "markdown",
   "id": "explicit-algorithm",
   "metadata": {},
   "source": [
    "# Exercice\n",
    "\n",
    "Implémenter le reste des opérations: soustraction, division, inégalités..."
   ]
  }
 ],
 "metadata": {
  "kernelspec": {
   "display_name": "Python 3",
   "language": "python",
   "name": "python3"
  },
  "language_info": {
   "codemirror_mode": {
    "name": "ipython",
    "version": 3
   },
   "file_extension": ".py",
   "mimetype": "text/x-python",
   "name": "python",
   "nbconvert_exporter": "python",
   "pygments_lexer": "ipython3",
   "version": "3.8.3"
  }
 },
 "nbformat": 4,
 "nbformat_minor": 5
}
