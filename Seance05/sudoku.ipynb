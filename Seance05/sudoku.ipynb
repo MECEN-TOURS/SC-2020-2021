{
 "cells": [
  {
   "cell_type": "markdown",
   "id": "lightweight-strike",
   "metadata": {},
   "source": [
    "# Objectif\n",
    "\n",
    "Codez un solveur de Sudoku."
   ]
  },
  {
   "cell_type": "markdown",
   "id": "integrated-justice",
   "metadata": {},
   "source": [
    "## Cas 4x4\n",
    "\n",
    "On a 4 lignes et 4 colonnes, les nombres vont de 1 à 4.\n",
    "\n",
    "| 1 | 2 | 3 | 4 |\n",
    "|---|---|---|---|\n",
    "| 3 | 4 | 1 | 2 |\n",
    "| 2 | 1 | 4 | 3 |\n",
    "| 4 | 3 | 2 | 1 |\n",
    "\n",
    "On a exactement une fois chaque nombre sur chaque ligne, chaque colonne et chaque carré."
   ]
  },
  {
   "cell_type": "markdown",
   "id": "wired-complaint",
   "metadata": {},
   "source": [
    "**REMARQUE** On utilisera les 4x4 pour faire des tests plus simples."
   ]
  },
  {
   "cell_type": "markdown",
   "id": "convenient-response",
   "metadata": {},
   "source": [
    "Un grille partiellement remplie serait \n",
    "\n",
    "| 1 | 2 | x | x |\n",
    "|---|---|---|---|\n",
    "| x | x | 1 | 2 |\n",
    "| 2 | x | x | 3 |\n",
    "| x | 3 | 2 | x |"
   ]
  },
  {
   "cell_type": "markdown",
   "id": "historic-chapter",
   "metadata": {},
   "source": [
    "Les sommets suivants"
   ]
  },
  {
   "cell_type": "markdown",
   "id": "graduate-prospect",
   "metadata": {},
   "source": [
    "| 1 | 2 | 1 | x |\n",
    "|---|---|---|---|\n",
    "| x | x | 1 | 2 |\n",
    "| 2 | x | x | 3 |\n",
    "| x | 3 | 2 | x |\n",
    "\n",
    "| 1 | 2 | 2 | x |\n",
    "|---|---|---|---|\n",
    "| x | x | 1 | 2 |\n",
    "| 2 | x | x | 3 |\n",
    "| x | 3 | 2 | x |\n",
    "\n",
    "| 1 | 2 | 3 | x |\n",
    "|---|---|---|---|\n",
    "| x | x | 1 | 2 |\n",
    "| 2 | x | x | 3 |\n",
    "| x | 3 | 2 | x |\n",
    "\n",
    "| 1 | 2 | 4 | x |\n",
    "|---|---|---|---|\n",
    "| x | x | 1 | 2 |\n",
    "| 2 | x | x | 3 |\n",
    "| x | 3 | 2 | x |\n"
   ]
  },
  {
   "cell_type": "markdown",
   "id": "charming-easter",
   "metadata": {},
   "source": [
    "**EXPLICATION** on a pris la première case non remplie et on généré des grilles où cette case prend les différentes valeurs possibles."
   ]
  },
  {
   "cell_type": "markdown",
   "id": "mounted-taste",
   "metadata": {},
   "source": [
    "## Exercice\n",
    "\n",
    "Codez deux classes (`Grille` et `Graphe`) implémentant en python cette structure de données.\n",
    "10min -> 11h30"
   ]
  },
  {
   "cell_type": "code",
   "execution_count": 16,
   "id": "whole-undergraduate",
   "metadata": {},
   "outputs": [],
   "source": [
    "%run auxiliaire.py"
   ]
  },
  {
   "cell_type": "code",
   "execution_count": 8,
   "id": "biological-corps",
   "metadata": {},
   "outputs": [],
   "source": [
    "from random import choice"
   ]
  },
  {
   "cell_type": "code",
   "execution_count": 9,
   "id": "eight-stocks",
   "metadata": {},
   "outputs": [
    {
     "data": {
      "text/plain": [
       "Grille(cases=[3, 1, 3, 1, 2, 3, 4, 2, 4, 3, 4, 2, 2, 1, 1, 3])"
      ]
     },
     "execution_count": 9,
     "metadata": {},
     "output_type": "execute_result"
    }
   ],
   "source": [
    "g = Grille([choice([1, 2, 3, 4]) for _ in range(16)])\n",
    "g"
   ]
  },
  {
   "cell_type": "code",
   "execution_count": 10,
   "id": "renewable-material",
   "metadata": {},
   "outputs": [
    {
     "name": "stdout",
     "output_type": "stream",
     "text": [
      "\n",
      "        -----------------\n",
      "        | 3 | 1 | 3 | 1 |\n",
      "        -----------------\n",
      "        | 2 | 3 | 4 | 2 |\n",
      "        -----------------\n",
      "        | 4 | 3 | 4 | 2 |\n",
      "        -----------------\n",
      "        | 2 | 1 | 1 | 3 |\n",
      "        -----------------\n",
      "        \n"
     ]
    }
   ],
   "source": [
    "print(g)"
   ]
  },
  {
   "cell_type": "markdown",
   "id": "absolute-italic",
   "metadata": {},
   "source": [
    "# Exercices\n",
    "\n",
    "- Rajouter des tests pour les méthodes de `Grille`.\n",
    "- Compléter la documentation de `Grille` et des fonctions.\n",
    "- Coder des fonctions `verifie_lignes`, `verifie_colonnes` et `verifie_carres` vérifiant que les lignes, colonnes et carrés ne contiennent au plus qu'une fois les nombres 1, 2, 3 et 4.\n",
    "- Implémenter ensuite le solveur via un parcours de graphe."
   ]
  },
  {
   "cell_type": "code",
   "execution_count": null,
   "id": "distant-music",
   "metadata": {},
   "outputs": [],
   "source": []
  }
 ],
 "metadata": {
  "kernelspec": {
   "display_name": "Python 3",
   "language": "python",
   "name": "python3"
  },
  "language_info": {
   "codemirror_mode": {
    "name": "ipython",
    "version": 3
   },
   "file_extension": ".py",
   "mimetype": "text/x-python",
   "name": "python",
   "nbconvert_exporter": "python",
   "pygments_lexer": "ipython3",
   "version": "3.8.3"
  }
 },
 "nbformat": 4,
 "nbformat_minor": 5
}
