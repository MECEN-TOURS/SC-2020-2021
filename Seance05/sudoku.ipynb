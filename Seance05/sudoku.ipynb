{
 "cells": [
  {
   "cell_type": "markdown",
   "id": "separated-charger",
   "metadata": {},
   "source": [
    "# Objectif\n",
    "\n",
    "Codez un solveur de Sudoku."
   ]
  },
  {
   "cell_type": "markdown",
   "id": "permanent-aluminum",
   "metadata": {},
   "source": [
    "## Cas 4x4\n",
    "\n",
    "On a 4 lignes et 4 colonnes, les nombres vont de 1 à 4.\n",
    "\n",
    "```\n",
    "1234  \n",
    "3412  \n",
    "2143  \n",
    "4321\n",
    "```\n",
    "\n",
    "On a exactement une fois chaque nombre sur chaque ligne, chaque colonne et chaque carré."
   ]
  },
  {
   "cell_type": "markdown",
   "id": "collaborative-difference",
   "metadata": {},
   "source": [
    "**REMARQUE** On utilisera les 4x4 pour faire des tests plus simples."
   ]
  },
  {
   "cell_type": "markdown",
   "id": "induced-malta",
   "metadata": {},
   "source": [
    "Un grille partiellement remplie serait \n",
    "\n",
    "```\n",
    "12xx  \n",
    "xx12  \n",
    "2xx3  \n",
    "x32x  \n",
    "```"
   ]
  },
  {
   "cell_type": "markdown",
   "id": "funded-processing",
   "metadata": {},
   "source": [
    "Les sommets suivants"
   ]
  },
  {
   "cell_type": "markdown",
   "id": "fitting-pierce",
   "metadata": {},
   "source": [
    "```\n",
    "121x  \n",
    "xx12  \n",
    "2xx3  \n",
    "x32x  \n",
    "```\n",
    "```\n",
    "122x  \n",
    "xx12  \n",
    "2xx3  \n",
    "x32x  \n",
    "```\n",
    "```\n",
    "123x  \n",
    "xx12  \n",
    "2xx3  \n",
    "x32x  \n",
    "```\n",
    "```\n",
    "124x  \n",
    "xx12  \n",
    "2xx3  \n",
    "x32x  \n",
    "```"
   ]
  },
  {
   "cell_type": "markdown",
   "id": "treated-dinner",
   "metadata": {},
   "source": [
    "**EXPLICATION** on a pris la première case non remplie et on généré des grilles où cette case prend les différentes valeurs possibles."
   ]
  },
  {
   "cell_type": "markdown",
   "id": "atomic-picnic",
   "metadata": {},
   "source": [
    "## Exercice\n",
    "\n",
    "Codez deux classes (`Grille` et `Graphe`) implémentant en python cette structure de données.\n",
    "10min -> 11h30"
   ]
  },
  {
   "cell_type": "code",
   "execution_count": null,
   "id": "prospective-candidate",
   "metadata": {},
   "outputs": [],
   "source": []
  }
 ],
 "metadata": {
  "kernelspec": {
   "display_name": "Python 3",
   "language": "python",
   "name": "python3"
  },
  "language_info": {
   "codemirror_mode": {
    "name": "ipython",
    "version": 3
   },
   "file_extension": ".py",
   "mimetype": "text/x-python",
   "name": "python",
   "nbconvert_exporter": "python",
   "pygments_lexer": "ipython3",
   "version": "3.8.3"
  }
 },
 "nbformat": 4,
 "nbformat_minor": 5
}
