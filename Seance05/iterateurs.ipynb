{
 "cells": [
  {
   "cell_type": "markdown",
   "id": "protecting-monkey",
   "metadata": {},
   "source": [
    "# Boucles"
   ]
  },
  {
   "cell_type": "code",
   "execution_count": 1,
   "id": "usual-conversion",
   "metadata": {},
   "outputs": [
    {
     "data": {
      "text/plain": [
       "[1, 2, 3, 4]"
      ]
     },
     "execution_count": 1,
     "metadata": {},
     "output_type": "execute_result"
    }
   ],
   "source": [
    "ls = [1, 2, 3, 4]\n",
    "ls"
   ]
  },
  {
   "cell_type": "markdown",
   "id": "distinct-indication",
   "metadata": {},
   "source": [
    "## Structure conditionnelle: `while`"
   ]
  },
  {
   "cell_type": "code",
   "execution_count": 3,
   "id": "geographic-angle",
   "metadata": {},
   "outputs": [
    {
     "name": "stdout",
     "output_type": "stream",
     "text": [
      "0 -> 1\n",
      "1 -> 2\n",
      "2 -> 3\n",
      "3 -> 4\n"
     ]
    }
   ],
   "source": [
    "indice = 0\n",
    "lon = len(ls)\n",
    "while indice < lon:\n",
    "    print(f\"{indice} -> {ls[indice]}\")\n",
    "    indice = indice + 1"
   ]
  },
  {
   "cell_type": "markdown",
   "id": "undefined-conversation",
   "metadata": {},
   "source": [
    "## Structure `for`"
   ]
  },
  {
   "cell_type": "code",
   "execution_count": 4,
   "id": "narrow-mills",
   "metadata": {},
   "outputs": [
    {
     "name": "stdout",
     "output_type": "stream",
     "text": [
      "1\n",
      "2\n",
      "3\n",
      "4\n"
     ]
    }
   ],
   "source": [
    "for element in ls:\n",
    "    print(element)"
   ]
  },
  {
   "cell_type": "code",
   "execution_count": 5,
   "id": "gothic-layout",
   "metadata": {},
   "outputs": [
    {
     "name": "stdout",
     "output_type": "stream",
     "text": [
      "0 -> 1\n",
      "1 -> 2\n",
      "2 -> 3\n",
      "3 -> 4\n"
     ]
    }
   ],
   "source": [
    "for indice, element in enumerate(ls):\n",
    "    print(f\"{indice} -> {ls[indice]}\")"
   ]
  },
  {
   "cell_type": "markdown",
   "id": "utility-superior",
   "metadata": {},
   "source": [
    "## Remarques"
   ]
  },
  {
   "cell_type": "markdown",
   "id": "duplicate-consciousness",
   "metadata": {},
   "source": [
    "1. Les élémént de la liste sont récupérés successivement. On n'a pas vraiment besoin d'un conteneur car on n'utilise jamais les éléments simultanément.\n",
    "2. La boucle `for` a un fonctionnement interne qui repose de fait sur `while`."
   ]
  },
  {
   "cell_type": "code",
   "execution_count": 6,
   "id": "irish-logistics",
   "metadata": {},
   "outputs": [
    {
     "data": {
      "text/plain": [
       "<list_iterator at 0x7f7b68f4a910>"
      ]
     },
     "execution_count": 6,
     "metadata": {},
     "output_type": "execute_result"
    }
   ],
   "source": [
    "iterateur = iter(ls)\n",
    "iterateur"
   ]
  },
  {
   "cell_type": "code",
   "execution_count": 7,
   "id": "capable-baltimore",
   "metadata": {},
   "outputs": [
    {
     "data": {
      "text/plain": [
       "1"
      ]
     },
     "execution_count": 7,
     "metadata": {},
     "output_type": "execute_result"
    }
   ],
   "source": [
    "next(iterateur)"
   ]
  },
  {
   "cell_type": "code",
   "execution_count": 8,
   "id": "representative-personality",
   "metadata": {},
   "outputs": [
    {
     "data": {
      "text/plain": [
       "2"
      ]
     },
     "execution_count": 8,
     "metadata": {},
     "output_type": "execute_result"
    }
   ],
   "source": [
    "next(iterateur)"
   ]
  },
  {
   "cell_type": "code",
   "execution_count": 9,
   "id": "blind-crystal",
   "metadata": {},
   "outputs": [
    {
     "data": {
      "text/plain": [
       "3"
      ]
     },
     "execution_count": 9,
     "metadata": {},
     "output_type": "execute_result"
    }
   ],
   "source": [
    "next(iterateur)"
   ]
  },
  {
   "cell_type": "code",
   "execution_count": 10,
   "id": "noble-cuisine",
   "metadata": {},
   "outputs": [
    {
     "data": {
      "text/plain": [
       "4"
      ]
     },
     "execution_count": 10,
     "metadata": {},
     "output_type": "execute_result"
    }
   ],
   "source": [
    "next(iterateur)"
   ]
  },
  {
   "cell_type": "code",
   "execution_count": 11,
   "id": "worthy-count",
   "metadata": {},
   "outputs": [
    {
     "ename": "StopIteration",
     "evalue": "",
     "output_type": "error",
     "traceback": [
      "\u001b[0;31m---------------------------------------------------------------------------\u001b[0m",
      "\u001b[0;31mStopIteration\u001b[0m                             Traceback (most recent call last)",
      "\u001b[0;32m<ipython-input-11-859bb10bc019>\u001b[0m in \u001b[0;36m<module>\u001b[0;34m\u001b[0m\n\u001b[0;32m----> 1\u001b[0;31m \u001b[0mnext\u001b[0m\u001b[0;34m(\u001b[0m\u001b[0miterateur\u001b[0m\u001b[0;34m)\u001b[0m\u001b[0;34m\u001b[0m\u001b[0;34m\u001b[0m\u001b[0m\n\u001b[0m",
      "\u001b[0;31mStopIteration\u001b[0m: "
     ]
    }
   ],
   "source": [
    "next(iterateur)"
   ]
  },
  {
   "cell_type": "code",
   "execution_count": 12,
   "id": "final-electricity",
   "metadata": {},
   "outputs": [
    {
     "name": "stdout",
     "output_type": "stream",
     "text": [
      "1\n",
      "2\n",
      "3\n",
      "4\n"
     ]
    }
   ],
   "source": [
    "iterateur = iter(ls)\n",
    "while True:\n",
    "    try:\n",
    "        element = next(iterateur)\n",
    "    except StopIteration:\n",
    "        break\n",
    "    print(element)"
   ]
  },
  {
   "cell_type": "markdown",
   "id": "opposed-detector",
   "metadata": {},
   "source": [
    "**REMARQUE** la cellule précédente est typiquement ce qu'effectue la boucle `for`."
   ]
  },
  {
   "cell_type": "code",
   "execution_count": 13,
   "id": "appreciated-hypothetical",
   "metadata": {},
   "outputs": [
    {
     "data": {
      "text/plain": [
       "[1, 4, 9, 16, 25, 36, 49, 64, 81, 100]"
      ]
     },
     "execution_count": 13,
     "metadata": {},
     "output_type": "execute_result"
    }
   ],
   "source": [
    "carres = [nbr ** 2 for nbr in range(1, 11)]\n",
    "carres"
   ]
  },
  {
   "cell_type": "code",
   "execution_count": 14,
   "id": "welsh-purchase",
   "metadata": {},
   "outputs": [
    {
     "name": "stdout",
     "output_type": "stream",
     "text": [
      "1\n",
      "4\n",
      "9\n",
      "16\n",
      "25\n",
      "36\n",
      "49\n",
      "64\n",
      "81\n",
      "100\n"
     ]
    }
   ],
   "source": [
    "for carre in carres:\n",
    "    print(carre)"
   ]
  },
  {
   "cell_type": "code",
   "execution_count": 15,
   "id": "convertible-outdoors",
   "metadata": {},
   "outputs": [
    {
     "data": {
      "text/plain": [
       "<generator object <genexpr> at 0x7f7b686e9f90>"
      ]
     },
     "execution_count": 15,
     "metadata": {},
     "output_type": "execute_result"
    }
   ],
   "source": [
    "carres = (nbr ** 2 for nbr in range(1, 11))\n",
    "carres"
   ]
  },
  {
   "cell_type": "code",
   "execution_count": 16,
   "id": "rapid-ministry",
   "metadata": {},
   "outputs": [
    {
     "name": "stdout",
     "output_type": "stream",
     "text": [
      "1\n",
      "4\n",
      "9\n",
      "16\n",
      "25\n",
      "36\n",
      "49\n",
      "64\n",
      "81\n",
      "100\n"
     ]
    }
   ],
   "source": [
    "for carre in carres:\n",
    "    print(carre)"
   ]
  },
  {
   "cell_type": "code",
   "execution_count": 17,
   "id": "negative-internship",
   "metadata": {},
   "outputs": [],
   "source": [
    "for carre in carres:\n",
    "    print(carre)"
   ]
  },
  {
   "cell_type": "markdown",
   "id": "intended-nurse",
   "metadata": {},
   "source": [
    "**ATTENTION** un générateur ne peut être itérer qu'une fois, après il est *épuisé*.\n",
    "L'intérêt est qu'il produit les valeurs les unes après les autres sans devoir tout précalculer et stocker en mémoire. C'est intéressant lorsqu'on travaille avec beaucoup d'éléments."
   ]
  },
  {
   "cell_type": "code",
   "execution_count": 18,
   "id": "manufactured-seven",
   "metadata": {},
   "outputs": [],
   "source": [
    "def genere_carres(n):\n",
    "    for nbr in range(1, n + 1):\n",
    "        return nbr ** 2"
   ]
  },
  {
   "cell_type": "code",
   "execution_count": 19,
   "id": "automotive-controversy",
   "metadata": {},
   "outputs": [
    {
     "data": {
      "text/plain": [
       "1"
      ]
     },
     "execution_count": 19,
     "metadata": {},
     "output_type": "execute_result"
    }
   ],
   "source": [
    "genere_carres(10)"
   ]
  },
  {
   "cell_type": "markdown",
   "id": "educational-accuracy",
   "metadata": {},
   "source": [
    "**REMARQUE** pour obtenir des valeurs successives, on remplace le mot clef `return` par `yield`."
   ]
  },
  {
   "cell_type": "code",
   "execution_count": 20,
   "id": "greek-economics",
   "metadata": {},
   "outputs": [],
   "source": [
    "def genere_carres(n):\n",
    "    for nbr in range(1, n + 1):\n",
    "        yield nbr ** 2"
   ]
  },
  {
   "cell_type": "code",
   "execution_count": 29,
   "id": "upper-graham",
   "metadata": {},
   "outputs": [],
   "source": [
    "iterateur = iter(genere_carres(5))"
   ]
  },
  {
   "cell_type": "code",
   "execution_count": 30,
   "id": "fleet-booking",
   "metadata": {},
   "outputs": [
    {
     "data": {
      "text/plain": [
       "1"
      ]
     },
     "execution_count": 30,
     "metadata": {},
     "output_type": "execute_result"
    }
   ],
   "source": [
    "next(iterateur)"
   ]
  },
  {
   "cell_type": "code",
   "execution_count": 31,
   "id": "awful-sellers",
   "metadata": {},
   "outputs": [
    {
     "data": {
      "text/plain": [
       "4"
      ]
     },
     "execution_count": 31,
     "metadata": {},
     "output_type": "execute_result"
    }
   ],
   "source": [
    "next(iterateur)"
   ]
  },
  {
   "cell_type": "code",
   "execution_count": 32,
   "id": "complex-young",
   "metadata": {},
   "outputs": [
    {
     "data": {
      "text/plain": [
       "9"
      ]
     },
     "execution_count": 32,
     "metadata": {},
     "output_type": "execute_result"
    }
   ],
   "source": [
    "next(iterateur)"
   ]
  },
  {
   "cell_type": "code",
   "execution_count": 33,
   "id": "motivated-communication",
   "metadata": {},
   "outputs": [
    {
     "data": {
      "text/plain": [
       "16"
      ]
     },
     "execution_count": 33,
     "metadata": {},
     "output_type": "execute_result"
    }
   ],
   "source": [
    "next(iterateur)"
   ]
  },
  {
   "cell_type": "code",
   "execution_count": 34,
   "id": "average-damage",
   "metadata": {},
   "outputs": [
    {
     "data": {
      "text/plain": [
       "25"
      ]
     },
     "execution_count": 34,
     "metadata": {},
     "output_type": "execute_result"
    }
   ],
   "source": [
    "next(iterateur)"
   ]
  },
  {
   "cell_type": "code",
   "execution_count": 35,
   "id": "recovered-barcelona",
   "metadata": {},
   "outputs": [
    {
     "ename": "StopIteration",
     "evalue": "",
     "output_type": "error",
     "traceback": [
      "\u001b[0;31m---------------------------------------------------------------------------\u001b[0m",
      "\u001b[0;31mStopIteration\u001b[0m                             Traceback (most recent call last)",
      "\u001b[0;32m<ipython-input-35-859bb10bc019>\u001b[0m in \u001b[0;36m<module>\u001b[0;34m\u001b[0m\n\u001b[0;32m----> 1\u001b[0;31m \u001b[0mnext\u001b[0m\u001b[0;34m(\u001b[0m\u001b[0miterateur\u001b[0m\u001b[0;34m)\u001b[0m\u001b[0;34m\u001b[0m\u001b[0;34m\u001b[0m\u001b[0m\n\u001b[0m",
      "\u001b[0;31mStopIteration\u001b[0m: "
     ]
    }
   ],
   "source": [
    "next(iterateur)"
   ]
  },
  {
   "cell_type": "markdown",
   "id": "macro-indian",
   "metadata": {},
   "source": [
    "**ATTENTION** \n",
    "- `return`  arrête définitivement la fonction après le renvoie\n",
    "- `yield` fait juste une pause en attendant le prochain appel via `next`."
   ]
  },
  {
   "cell_type": "code",
   "execution_count": 36,
   "id": "regional-behalf",
   "metadata": {},
   "outputs": [],
   "source": [
    "def genere_carres():\n",
    "    nbr = 1\n",
    "    while True:\n",
    "        yield nbr ** 2\n",
    "        nbr = nbr + 1"
   ]
  },
  {
   "cell_type": "code",
   "execution_count": 38,
   "id": "cross-battlefield",
   "metadata": {},
   "outputs": [],
   "source": [
    "iterateur = iter(genere_carres())"
   ]
  },
  {
   "cell_type": "code",
   "execution_count": 39,
   "id": "infinite-greenhouse",
   "metadata": {},
   "outputs": [
    {
     "data": {
      "text/plain": [
       "1"
      ]
     },
     "execution_count": 39,
     "metadata": {},
     "output_type": "execute_result"
    }
   ],
   "source": [
    "next(iterateur)"
   ]
  },
  {
   "cell_type": "code",
   "execution_count": 40,
   "id": "extensive-criticism",
   "metadata": {},
   "outputs": [
    {
     "data": {
      "text/plain": [
       "4"
      ]
     },
     "execution_count": 40,
     "metadata": {},
     "output_type": "execute_result"
    }
   ],
   "source": [
    "next(iterateur)"
   ]
  },
  {
   "cell_type": "code",
   "execution_count": 41,
   "id": "changing-healthcare",
   "metadata": {},
   "outputs": [
    {
     "data": {
      "text/plain": [
       "9"
      ]
     },
     "execution_count": 41,
     "metadata": {},
     "output_type": "execute_result"
    }
   ],
   "source": [
    "next(iterateur)"
   ]
  },
  {
   "cell_type": "code",
   "execution_count": 42,
   "id": "herbal-encyclopedia",
   "metadata": {},
   "outputs": [
    {
     "data": {
      "text/plain": [
       "16"
      ]
     },
     "execution_count": 42,
     "metadata": {},
     "output_type": "execute_result"
    }
   ],
   "source": [
    "next(iterateur)"
   ]
  },
  {
   "cell_type": "code",
   "execution_count": 43,
   "id": "demographic-direction",
   "metadata": {},
   "outputs": [
    {
     "data": {
      "text/plain": [
       "25"
      ]
     },
     "execution_count": 43,
     "metadata": {},
     "output_type": "execute_result"
    }
   ],
   "source": [
    "next(iterateur)"
   ]
  },
  {
   "cell_type": "code",
   "execution_count": 44,
   "id": "operating-squad",
   "metadata": {},
   "outputs": [
    {
     "data": {
      "text/plain": [
       "36"
      ]
     },
     "execution_count": 44,
     "metadata": {},
     "output_type": "execute_result"
    }
   ],
   "source": [
    "next(iterateur)"
   ]
  },
  {
   "cell_type": "code",
   "execution_count": 45,
   "id": "polar-finnish",
   "metadata": {},
   "outputs": [
    {
     "data": {
      "text/plain": [
       "49"
      ]
     },
     "execution_count": 45,
     "metadata": {},
     "output_type": "execute_result"
    }
   ],
   "source": [
    "next(iterateur)"
   ]
  },
  {
   "cell_type": "code",
   "execution_count": 46,
   "id": "human-interview",
   "metadata": {},
   "outputs": [
    {
     "data": {
      "text/plain": [
       "64"
      ]
     },
     "execution_count": 46,
     "metadata": {},
     "output_type": "execute_result"
    }
   ],
   "source": [
    "next(iterateur)"
   ]
  },
  {
   "cell_type": "markdown",
   "id": "korean-awareness",
   "metadata": {},
   "source": [
    "**ATTENTION** on ne pourrait pas avoir d'équivalent via les listes ici car on n'a une infinité de nombres produits."
   ]
  },
  {
   "cell_type": "code",
   "execution_count": 47,
   "id": "vocal-person",
   "metadata": {},
   "outputs": [],
   "source": [
    "def genere_cubes(n):\n",
    "    for nbr in range(1, 1 + n):\n",
    "        yield nbr ** 3"
   ]
  },
  {
   "cell_type": "code",
   "execution_count": 48,
   "id": "obvious-equivalent",
   "metadata": {},
   "outputs": [
    {
     "data": {
      "text/plain": [
       "[1, 8, 27, 64, 125, 216, 343, 512, 729, 1000]"
      ]
     },
     "execution_count": 48,
     "metadata": {},
     "output_type": "execute_result"
    }
   ],
   "source": [
    "list(genere_cubes(10))"
   ]
  },
  {
   "cell_type": "markdown",
   "id": "assisted-midwest",
   "metadata": {},
   "source": [
    "**REMARQUE** on peut récupérer la liste de tous les éléments produits par un générateur via la conversion par `list`."
   ]
  },
  {
   "cell_type": "markdown",
   "id": "correct-press",
   "metadata": {},
   "source": [
    "# Exercice\n",
    "\n",
    "Construisez le générateur qui fournit tous les nombres premiers. (10min -> 10h55)"
   ]
  },
  {
   "cell_type": "code",
   "execution_count": 51,
   "id": "literary-south",
   "metadata": {},
   "outputs": [],
   "source": [
    "def genere_entiers():\n",
    "    nombre = 1\n",
    "    while True:\n",
    "        yield nombre\n",
    "        nombre = nombre + 1"
   ]
  },
  {
   "cell_type": "code",
   "execution_count": 52,
   "id": "hundred-accuracy",
   "metadata": {},
   "outputs": [],
   "source": [
    "def test_genere_entiers():\n",
    "    iterateur = iter(genere_entiers())\n",
    "    assert next(iterateur) == 1\n",
    "    assert next(iterateur) == 2\n",
    "    assert next(iterateur) == 3\n",
    "    assert next(iterateur) == 4"
   ]
  },
  {
   "cell_type": "code",
   "execution_count": 53,
   "id": "approved-discovery",
   "metadata": {},
   "outputs": [],
   "source": [
    "test_genere_entiers()"
   ]
  },
  {
   "cell_type": "code",
   "execution_count": 57,
   "id": "diverse-brief",
   "metadata": {},
   "outputs": [],
   "source": [
    "def est_premier(nbr: int) -> bool:\n",
    "    \"\"\"Teste la primalité de l'argument.\"\"\"\n",
    "    if nbr == 1:\n",
    "        return False\n",
    "    for d in range(2, nbr):\n",
    "        if nbr % d == 0:\n",
    "            return False\n",
    "    return True\n",
    "    \n",
    "assert not est_premier(1)\n",
    "assert est_premier(2)\n",
    "assert est_premier(3)\n",
    "assert not est_premier(4)\n",
    "assert est_premier(5)\n",
    "assert not est_premier(6)\n"
   ]
  },
  {
   "cell_type": "code",
   "execution_count": 49,
   "id": "peaceful-hindu",
   "metadata": {},
   "outputs": [],
   "source": [
    "def genere_premiers():\n",
    "    for nbr in genere_entiers():\n",
    "        if est_premier(nbr):\n",
    "            yield nbr"
   ]
  },
  {
   "cell_type": "code",
   "execution_count": 54,
   "id": "northern-friendship",
   "metadata": {},
   "outputs": [],
   "source": [
    "def test_genere_premiers():\n",
    "    iterateur = iter(genere_premiers())\n",
    "    assert next(iterateur) == 2\n",
    "    assert next(iterateur) == 3\n",
    "    assert next(iterateur) == 5\n",
    "    assert next(iterateur) == 7   "
   ]
  },
  {
   "cell_type": "code",
   "execution_count": 58,
   "id": "lyric-payroll",
   "metadata": {},
   "outputs": [],
   "source": [
    "test_genere_premiers()"
   ]
  },
  {
   "cell_type": "code",
   "execution_count": 59,
   "id": "roman-nowhere",
   "metadata": {},
   "outputs": [],
   "source": [
    "def genere_premiers_bis():\n",
    "    return (nbr for nbr in genere_entiers() if est_premier(nbr))"
   ]
  },
  {
   "cell_type": "code",
   "execution_count": 60,
   "id": "verbal-values",
   "metadata": {},
   "outputs": [],
   "source": [
    "def test_genere_premiers_bis():\n",
    "    iterateur = iter(genere_premiers_bis())\n",
    "    assert next(iterateur) == 2\n",
    "    assert next(iterateur) == 3\n",
    "    assert next(iterateur) == 5\n",
    "    assert next(iterateur) == 7   "
   ]
  },
  {
   "cell_type": "code",
   "execution_count": 61,
   "id": "trained-maker",
   "metadata": {},
   "outputs": [],
   "source": [
    "test_genere_premiers_bis()"
   ]
  }
 ],
 "metadata": {
  "kernelspec": {
   "display_name": "Python 3",
   "language": "python",
   "name": "python3"
  },
  "language_info": {
   "codemirror_mode": {
    "name": "ipython",
    "version": 3
   },
   "file_extension": ".py",
   "mimetype": "text/x-python",
   "name": "python",
   "nbconvert_exporter": "python",
   "pygments_lexer": "ipython3",
   "version": "3.8.3"
  }
 },
 "nbformat": 4,
 "nbformat_minor": 5
}
