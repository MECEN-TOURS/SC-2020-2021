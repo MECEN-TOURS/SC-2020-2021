{
 "cells": [
  {
   "cell_type": "markdown",
   "id": "biblical-devon",
   "metadata": {},
   "source": [
    "# Programmation linéaire"
   ]
  },
  {
   "cell_type": "markdown",
   "id": "impressed-entrance",
   "metadata": {},
   "source": [
    "## Flot Maximal"
   ]
  },
  {
   "cell_type": "markdown",
   "id": "english-sequence",
   "metadata": {},
   "source": [
    "<img src=\"./elementaire.svg\" width=\"600\">"
   ]
  },
  {
   "cell_type": "markdown",
   "id": "alike-salem",
   "metadata": {},
   "source": [
    "**VARIABLES**\n",
    "On appelera $q_{AB}$ le flot le long de l'arrête reliant $A$ à $B$.\n",
    "Et on adaptera la notation pour les autres arrêtes $q_{AC},q_{BD},q_{CB},q_{CD}$"
   ]
  },
  {
   "cell_type": "markdown",
   "id": "frequent-lemon",
   "metadata": {},
   "source": [
    "**CONTRAINTES ARRETES**\n",
    "On a les contraintes dûes aux capacité des arrêtes:\n",
    "\\begin{align}\n",
    "0 \\leq q_{AB} \\leq 4& &\\text{ arrete } AB\\\\\n",
    "0 \\leq q_{AC} \\leq 5& &\\text{ arrete } AC\\\\\n",
    "0 \\leq q_{BD} \\leq 5& &\\text{ arrete } BD\\\\\n",
    "0 \\leq q_{CB} \\leq 2& &\\text{ arrete } CB\\\\\n",
    "0 \\leq q_{CD} \\leq 4& &\\text{ arrete } CD\n",
    "\\end{align}"
   ]
  },
  {
   "cell_type": "markdown",
   "id": "failing-listening",
   "metadata": {},
   "source": [
    "**CONTRAINTES NOEUDS** sauf à la source $A$, et au puit $D$\n",
    "\n",
    "\\begin{align}\n",
    "q_{AB} + q_{CB} = q_{BD}& &\\text{ au noeud } B\\\\\n",
    "q_{AC} = q_{CB} + q_{CD}& &\\text{ au noeud } C\n",
    "\\end{align}"
   ]
  },
  {
   "cell_type": "markdown",
   "id": "saving-laptop",
   "metadata": {},
   "source": [
    "**OBJECTIF**\n",
    "\n",
    "$$\n",
    "\\max q_{AB} + q_{AC}\n",
    "$$\n",
    "ou de manière équivalente\n",
    "$$\n",
    "\\max q_{BD} + q_{CD}\n",
    "$$"
   ]
  },
  {
   "cell_type": "markdown",
   "id": "antique-marble",
   "metadata": {},
   "source": [
    "**REMARQUE** \n",
    "- le problème de flot maximal est bien un problème de programmation linéaire.\n",
    "- l'algorithme utilisé la séance dernière est plus efficace que les algorithmes de programmation linéaire."
   ]
  },
  {
   "cell_type": "markdown",
   "id": "fossil-generation",
   "metadata": {},
   "source": [
    "**CALCUL EQUIVALENCE**\n",
    "5 min -> 10h35\n",
    "\n",
    "Pourquoi a-t-on \n",
    "$$q_{AB} + q_{AC} = q_{BD} + q_{CD}$$\n",
    "lorsque les contraintes sont satisfaites?"
   ]
  },
  {
   "cell_type": "markdown",
   "id": "yellow-network",
   "metadata": {},
   "source": [
    "**ETAPE 1** on ajoute toutes les égalités aux noeuds.\n",
    "\n",
    "$$\n",
    "q_{AB} + q_{CB} + q_{AC} = q_{BD} + q_{CB} + q_{CD}\n",
    "$$\n",
    "\n",
    "**ETAPE 2** on élimine les quantités présentes des deux côtés\n",
    "$$\n",
    "q_{AB} + q_{AC} = q_{BD} + q_{CD}\n",
    "$$\n",
    "\n",
    "**COMPLEMENT** expliquer pourquoi cette démarche marche de manière générale."
   ]
  },
  {
   "cell_type": "markdown",
   "id": "needed-profile",
   "metadata": {},
   "source": [
    "## Reformulation\n",
    "\n",
    "On introduit des arrêtes artificielles entrant dans la source et sortant du puit.\n",
    "\n",
    "<img src=\"./elementaire_bis.svg\" width=\"600\">\n",
    "\n",
    "**VARIABLES**\n",
    "\n",
    "$q_s, q_{AB}, q_{AC},q_{BD},q_{CB},q_{CD}, q_p$\n",
    "\n",
    "**CONTRAINTES ARRETES**\n",
    "\n",
    "\\begin{align}\n",
    "&0\\leq q_s&\\\\\n",
    "&0 \\leq q_{AB} \\leq 4 &\\text{ arrete } AB\\\\\n",
    "&0 \\leq q_{AC} \\leq 5 &\\text{ arrete } AC\\\\\n",
    "&0 \\leq q_{BD} \\leq 5 &\\text{ arrete } BD\\\\\n",
    "&0 \\leq q_{CB} \\leq 2 &\\text{ arrete } CB\\\\\n",
    "&0 \\leq q_{CD} \\leq 4 &\\text{ arrete } CD\\\\\n",
    "&0\\leq q_p&\n",
    "\\end{align}\n",
    "\n",
    "**CONTRAINTES NOEUDS**\n",
    "\n",
    "\\begin{align}\n",
    "&q_s = q_{AB} + q_{AC} &\\text{ au noeud } A\\\\\n",
    "&q_{AB} + q_{CB} = q_{BD} &\\text{ au noeud } B\\\\\n",
    "&q_{AC} = q_{CB} + q_{CD} &\\text{ au noeud } C\\\\\n",
    "& q_{BD} + q_{CD} = q_p &\\text{ au noeud } D\n",
    "\\end{align}\n",
    "\n",
    "**OBJECTIF**\n",
    "\n",
    "$$\\max q_s$$\n",
    "ou de manière équivalente (là encore il suffit de sommet toutes les égalités aux sommets)\n",
    "$$\\max q_p$$"
   ]
  },
  {
   "cell_type": "markdown",
   "id": "colored-carrier",
   "metadata": {},
   "source": [
    "## Résolution avec `scipy`"
   ]
  },
  {
   "cell_type": "code",
   "execution_count": 1,
   "id": "neural-handling",
   "metadata": {},
   "outputs": [],
   "source": [
    "from scipy.optimize import linprog"
   ]
  },
  {
   "cell_type": "code",
   "execution_count": 2,
   "id": "structural-identifier",
   "metadata": {},
   "outputs": [],
   "source": [
    "import numpy as np"
   ]
  },
  {
   "cell_type": "markdown",
   "id": "powerful-blade",
   "metadata": {},
   "source": [
    "### Exercice\n",
    "10min -> 11h\n",
    "\n",
    "Résolvez les programmes linéaires ci-dessus avec `linprog`.\n"
   ]
  },
  {
   "cell_type": "code",
   "execution_count": 4,
   "id": "optimum-partner",
   "metadata": {},
   "outputs": [
    {
     "data": {
      "text/plain": [
       "array([-1,  0,  0,  0,  0,  0,  0])"
      ]
     },
     "execution_count": 4,
     "metadata": {},
     "output_type": "execute_result"
    }
   ],
   "source": [
    "c = np.array([-1, 0, 0, 0, 0, 0, 0])\n",
    "c"
   ]
  },
  {
   "cell_type": "code",
   "execution_count": 11,
   "id": "former-baseball",
   "metadata": {},
   "outputs": [
    {
     "data": {
      "text/plain": [
       "array([[-1,  0,  0,  0,  0,  0,  0],\n",
       "       [ 0, -1,  0,  0,  0,  0,  0],\n",
       "       [ 0,  0, -1,  0,  0,  0,  0],\n",
       "       [ 0,  0,  0, -1,  0,  0,  0],\n",
       "       [ 0,  0,  0,  0, -1,  0,  0],\n",
       "       [ 0,  0,  0,  0,  0, -1,  0],\n",
       "       [ 0,  0,  0,  0,  0,  0, -1],\n",
       "       [ 0,  1,  0,  0,  0,  0,  0],\n",
       "       [ 0,  0,  1,  0,  0,  0,  0],\n",
       "       [ 0,  0,  0,  1,  0,  0,  0],\n",
       "       [ 0,  0,  0,  0,  1,  0,  0],\n",
       "       [ 0,  0,  0,  0,  0,  1,  0]])"
      ]
     },
     "execution_count": 11,
     "metadata": {},
     "output_type": "execute_result"
    }
   ],
   "source": [
    "A_ub = np.matrix(\"\"\"\n",
    "-1 0 0 0 0 0 0;\n",
    "0 -1 0 0 0 0 0;\n",
    "0 0 -1 0 0 0 0;\n",
    "0 0 0 -1 0 0 0;\n",
    "0 0 0 0 -1 0 0;\n",
    "0 0 0 0 0 -1 0;\n",
    "0 0 0 0 0 0 -1;\n",
    "0 1 0 0 0 0 0;\n",
    "0 0 1 0 0 0 0;\n",
    "0 0 0 1 0 0 0;\n",
    "0 0 0 0 1 0 0;\n",
    "0 0 0 0 0 1 0\n",
    "\"\"\")\n",
    "A_ub = np.array(A_ub)\n",
    "A_ub"
   ]
  },
  {
   "cell_type": "code",
   "execution_count": 6,
   "id": "wanted-thomas",
   "metadata": {},
   "outputs": [
    {
     "data": {
      "text/plain": [
       "(12, 7)"
      ]
     },
     "execution_count": 6,
     "metadata": {},
     "output_type": "execute_result"
    }
   ],
   "source": [
    "A_ub.shape"
   ]
  },
  {
   "cell_type": "code",
   "execution_count": 7,
   "id": "retained-trance",
   "metadata": {},
   "outputs": [
    {
     "data": {
      "text/plain": [
       "array([0, 0, 0, 0, 0, 0, 0, 4, 5, 5, 2, 4])"
      ]
     },
     "execution_count": 7,
     "metadata": {},
     "output_type": "execute_result"
    }
   ],
   "source": [
    "b_ub = np.array([0, 0, 0, 0, 0, 0, 0, 4, 5, 5, 2, 4])\n",
    "b_ub"
   ]
  },
  {
   "cell_type": "code",
   "execution_count": 12,
   "id": "related-crack",
   "metadata": {},
   "outputs": [
    {
     "data": {
      "text/plain": [
       "array([[ 1, -1, -1,  0,  0,  0,  0],\n",
       "       [ 0,  1,  0, -1,  1,  0,  0],\n",
       "       [ 0,  0,  1,  0, -1, -1,  0],\n",
       "       [ 0,  0,  0,  1,  0,  1, -1]])"
      ]
     },
     "execution_count": 12,
     "metadata": {},
     "output_type": "execute_result"
    }
   ],
   "source": [
    "A_eq = np.matrix(\"\"\"\n",
    "1 -1 -1 0 0 0 0;\n",
    "0 1 0 -1 1 0 0;\n",
    "0 0 1 0 -1 -1 0;\n",
    "0 0 0 1 0 1 -1\n",
    "\"\"\")\n",
    "A_eq = np.array(A_eq)\n",
    "A_eq"
   ]
  },
  {
   "cell_type": "code",
   "execution_count": 13,
   "id": "becoming-remark",
   "metadata": {},
   "outputs": [
    {
     "data": {
      "text/plain": [
       "array([0, 0, 0, 0])"
      ]
     },
     "execution_count": 13,
     "metadata": {},
     "output_type": "execute_result"
    }
   ],
   "source": [
    "b_eq = np.array(4 * [0])\n",
    "b_eq"
   ]
  },
  {
   "cell_type": "code",
   "execution_count": 15,
   "id": "visible-chick",
   "metadata": {},
   "outputs": [
    {
     "name": "stdout",
     "output_type": "stream",
     "text": [
      "     con: array([ 3.92486044e-12, -3.82782694e-12,  4.02966549e-12, -3.95417032e-12])\n",
      "     fun: -8.999999999912182\n",
      " message: 'Optimization terminated successfully.'\n",
      "     nit: 5\n",
      "   slack: array([9.00000000e+00, 4.00000000e+00, 5.00000000e+00, 5.00000000e+00,\n",
      "       1.00000000e+00, 4.00000000e+00, 9.00000000e+00, 2.61133337e-11,\n",
      "       5.77795589e-11, 5.76498849e-11, 1.00000000e+00, 2.60409472e-11])\n",
      "  status: 0\n",
      " success: True\n",
      "       x: array([9., 4., 5., 5., 1., 4., 9.])\n"
     ]
    }
   ],
   "source": [
    "solution = linprog(c=c, A_eq=A_eq, b_eq=b_eq, A_ub=A_ub, b_ub=b_ub)\n",
    "print(solution)"
   ]
  },
  {
   "cell_type": "code",
   "execution_count": 16,
   "id": "australian-diana",
   "metadata": {},
   "outputs": [
    {
     "data": {
      "text/plain": [
       "     con: array([0., 0., 0., 0.])\n",
       "     fun: -9.0\n",
       " message: 'Optimization terminated successfully.'\n",
       "     nit: 9\n",
       "   slack: array([9., 4., 5., 5., 1., 4., 9., 0., 0., 0., 1., 0.])\n",
       "  status: 0\n",
       " success: True\n",
       "       x: array([9., 4., 5., 5., 1., 4., 9.])"
      ]
     },
     "execution_count": 16,
     "metadata": {},
     "output_type": "execute_result"
    }
   ],
   "source": [
    "linprog(c=c, A_eq=A_eq, b_eq=b_eq, A_ub=A_ub, b_ub=b_ub, method=\"simplex\")"
   ]
  },
  {
   "cell_type": "code",
   "execution_count": 17,
   "id": "christian-venice",
   "metadata": {},
   "outputs": [
    {
     "data": {
      "text/plain": [
       "           con: array([0., 0., 0., 0.])\n",
       " crossover_nit: 0\n",
       "           fun: -9.0\n",
       "       message: 'Optimization terminated successfully.'\n",
       "           nit: 3\n",
       "         slack: array([9., 4., 5., 5., 1., 4., 9., 0., 0., 0., 1., 0.])\n",
       "        status: 0\n",
       "       success: True\n",
       "             x: array([9., 4., 5., 5., 1., 4., 9.])"
      ]
     },
     "execution_count": 17,
     "metadata": {},
     "output_type": "execute_result"
    }
   ],
   "source": [
    "linprog(c=c, A_eq=A_eq, b_eq=b_eq, A_ub=A_ub, b_ub=b_ub, method=\"highs\")"
   ]
  },
  {
   "cell_type": "markdown",
   "id": "monthly-world",
   "metadata": {},
   "source": [
    "**REMARQUE** \n",
    "\n",
    "le simplexe est présent pour des raisons historiques, on préférera les autres solvers en particulier les `highs` récents."
   ]
  },
  {
   "cell_type": "markdown",
   "id": "external-agency",
   "metadata": {},
   "source": [
    "**REMARQUE**\n",
    "\n",
    "- On rentre manuellement les matrices ce qui peut être source d'erreur vue la quantité de coefficients.\n",
    "- La modélisation est faite manuellement.\n",
    "- De plus on ne peut résoudre que des problèmes linéaires en variable continue."
   ]
  },
  {
   "cell_type": "markdown",
   "id": "computational-tamil",
   "metadata": {},
   "source": [
    "## Exemple cas entier\n",
    "\n",
    "on cherche à maximiser $4x-3y$ sous les contraintes\n",
    "\n",
    "\\begin{align}\n",
    "0\\leq x\\\\\n",
    "0\\leq y\\\\\n",
    "2x+y\\leq2\\\\\n",
    "x+2y\\leq 2\\\\\n",
    "\\end{align}\n",
    "avec $x$ et $y$ des entiers.\n",
    "\n",
    "### Exercice 10min -> 11h30\n",
    "\n",
    "1. Essayer d'utiliser `linprog`.\n",
    "2. Dessiner le domaine de maximisation."
   ]
  },
  {
   "cell_type": "markdown",
   "id": "supreme-attendance",
   "metadata": {},
   "source": []
  }
 ],
 "metadata": {
  "kernelspec": {
   "display_name": "Python 3",
   "language": "python",
   "name": "python3"
  },
  "language_info": {
   "codemirror_mode": {
    "name": "ipython",
    "version": 3
   },
   "file_extension": ".py",
   "mimetype": "text/x-python",
   "name": "python",
   "nbconvert_exporter": "python",
   "pygments_lexer": "ipython3",
   "version": "3.8.3"
  }
 },
 "nbformat": 4,
 "nbformat_minor": 5
}
