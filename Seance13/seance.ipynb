{
 "cells": [
  {
   "cell_type": "markdown",
   "id": "upset-uzbekistan",
   "metadata": {},
   "source": [
    "# Programmation linéaire"
   ]
  },
  {
   "cell_type": "markdown",
   "id": "official-collect",
   "metadata": {},
   "source": [
    "## Flot Maximal"
   ]
  },
  {
   "cell_type": "markdown",
   "id": "human-gabriel",
   "metadata": {},
   "source": [
    "<img src=\"./elementaire.svg\" width=\"600\">"
   ]
  },
  {
   "cell_type": "markdown",
   "id": "descending-flush",
   "metadata": {},
   "source": [
    "**VARIABLES**\n",
    "On appelera $q_{AB}$ le flot le long de l'arrête reliant $A$ à $B$.\n",
    "Et on adaptera la notation pour les autres arrêtes $q_{AC},q_{BD},q_{CB},q_{CD}$"
   ]
  },
  {
   "cell_type": "markdown",
   "id": "straight-repeat",
   "metadata": {},
   "source": [
    "**CONTRAINTES ARRETES**\n",
    "On a les contraintes dûes aux capacité des arrêtes:\n",
    "\\begin{align}\n",
    "0 \\leq q_{AB} \\leq 4& &\\text{ arrete } AB\\\\\n",
    "0 \\leq q_{AC} \\leq 5& &\\text{ arrete } AC\\\\\n",
    "0 \\leq q_{BD} \\leq 5& &\\text{ arrete } BD\\\\\n",
    "0 \\leq q_{CB} \\leq 2& &\\text{ arrete } CB\\\\\n",
    "0 \\leq q_{CD} \\leq 4& &\\text{ arrete } CD\n",
    "\\end{align}"
   ]
  },
  {
   "cell_type": "markdown",
   "id": "ideal-investment",
   "metadata": {},
   "source": [
    "**CONTRAINTES NOEUDS** sauf à la source $A$, et au puit $D$\n",
    "\n",
    "\\begin{align}\n",
    "q_{AB} + q_{CB} = q_{BD}& &\\text{ au noeud } B\\\\\n",
    "q_{AC} = q_{CB} + q_{CD}& &\\text{ au noeud } C\n",
    "\\end{align}"
   ]
  },
  {
   "cell_type": "markdown",
   "id": "modified-sussex",
   "metadata": {},
   "source": [
    "**OBJECTIF**\n",
    "\n",
    "$$\n",
    "\\max q_{AB} + q_{AC}\n",
    "$$\n",
    "ou de manière équivalente\n",
    "$$\n",
    "\\max q_{BD} + q_{CD}\n",
    "$$"
   ]
  },
  {
   "cell_type": "markdown",
   "id": "sapphire-analysis",
   "metadata": {},
   "source": [
    "**REMARQUE** \n",
    "- le problème de flot maximal est bien un problème de programmation linéaire.\n",
    "- l'algorithme utilisé la séance dernière est plus efficace que les algorithmes de programmation linéaire."
   ]
  },
  {
   "cell_type": "markdown",
   "id": "eleven-accommodation",
   "metadata": {},
   "source": [
    "**CALCUL EQUIVALENCE**\n",
    "5 min -> 10h35\n",
    "\n",
    "Pourquoi a-t-on \n",
    "$$q_{AB} + q_{AC} = q_{BD} + q_{CD}$$\n",
    "lorsque les contraintes sont satisfaites?"
   ]
  },
  {
   "cell_type": "markdown",
   "id": "revised-tackle",
   "metadata": {},
   "source": [
    "**ETAPE 1** on ajoute toutes les égalités aux noeuds.\n",
    "\n",
    "$$\n",
    "q_{AB} + q_{CB} + q_{AC} = q_{BD} + q_{CB} + q_{CD}\n",
    "$$\n",
    "\n",
    "**ETAPE 2** on élimine les quantités présentes des deux côtés\n",
    "$$\n",
    "q_{AB} + q_{AC} = q_{BD} + q_{CD}\n",
    "$$\n",
    "\n",
    "**COMPLEMENT** expliquer pourquoi cette démarche marche de manière générale."
   ]
  },
  {
   "cell_type": "markdown",
   "id": "plastic-canyon",
   "metadata": {},
   "source": [
    "## Reformulation\n",
    "\n",
    "On introduit des arrêtes artificielles entrant dans la source et sortant du puit.\n",
    "\n",
    "<img src=\"./elementaire_bis.svg\" width=\"600\">\n",
    "\n",
    "**VARIABLES**\n",
    "\n",
    "$q_s, q_{AB}, q_{AC},q_{BD},q_{CB},q_{CD}, q_p$\n",
    "\n",
    "**CONTRAINTES ARRETES**\n",
    "\n",
    "\\begin{align}\n",
    "&0\\leq q_s&\\\\\n",
    "&0 \\leq q_{AB} \\leq 4 &\\text{ arrete } AB\\\\\n",
    "&0 \\leq q_{AC} \\leq 5 &\\text{ arrete } AC\\\\\n",
    "&0 \\leq q_{BD} \\leq 5 &\\text{ arrete } BD\\\\\n",
    "&0 \\leq q_{CB} \\leq 2 &\\text{ arrete } CB\\\\\n",
    "&0 \\leq q_{CD} \\leq 4 &\\text{ arrete } CD\\\\\n",
    "&0\\leq q_p&\n",
    "\\end{align}\n",
    "\n",
    "**CONTRAINTES NOEUDS**\n",
    "\n",
    "\\begin{align}\n",
    "&q_s = q_{AB} + q_{AC} &\\text{ au noeud } A\\\\\n",
    "&q_{AB} + q_{CB} = q_{BD} &\\text{ au noeud } B\\\\\n",
    "&q_{AC} = q_{CB} + q_{CD} &\\text{ au noeud } C\\\\\n",
    "& q_{BD} + q_{CD} = q_p &\\text{ au noeud } D\n",
    "\\end{align}\n",
    "\n",
    "**OBJECTIF**\n",
    "\n",
    "$$\\max q_s$$\n",
    "ou de manière équivalente (là encore il suffit de sommet toutes les égalités aux sommets)\n",
    "$$\\max q_p$$"
   ]
  },
  {
   "cell_type": "markdown",
   "id": "intensive-secret",
   "metadata": {},
   "source": [
    "## Résolution avec `scipy`"
   ]
  },
  {
   "cell_type": "code",
   "execution_count": 1,
   "id": "strategic-punishment",
   "metadata": {},
   "outputs": [],
   "source": [
    "from scipy.optimize import linprog"
   ]
  },
  {
   "cell_type": "code",
   "execution_count": 2,
   "id": "optical-check",
   "metadata": {},
   "outputs": [],
   "source": [
    "import numpy as np"
   ]
  },
  {
   "cell_type": "markdown",
   "id": "acoustic-sailing",
   "metadata": {},
   "source": [
    "### Exercice\n",
    "10min -> 11h\n",
    "\n",
    "Résolvez les programmes linéaires ci-dessus avec `linprog`.\n"
   ]
  },
  {
   "cell_type": "code",
   "execution_count": 4,
   "id": "neural-defense",
   "metadata": {},
   "outputs": [
    {
     "data": {
      "text/plain": [
       "array([-1,  0,  0,  0,  0,  0,  0])"
      ]
     },
     "execution_count": 4,
     "metadata": {},
     "output_type": "execute_result"
    }
   ],
   "source": [
    "c = np.array([-1, 0, 0, 0, 0, 0, 0])\n",
    "c"
   ]
  },
  {
   "cell_type": "code",
   "execution_count": 11,
   "id": "absent-shannon",
   "metadata": {},
   "outputs": [
    {
     "data": {
      "text/plain": [
       "array([[-1,  0,  0,  0,  0,  0,  0],\n",
       "       [ 0, -1,  0,  0,  0,  0,  0],\n",
       "       [ 0,  0, -1,  0,  0,  0,  0],\n",
       "       [ 0,  0,  0, -1,  0,  0,  0],\n",
       "       [ 0,  0,  0,  0, -1,  0,  0],\n",
       "       [ 0,  0,  0,  0,  0, -1,  0],\n",
       "       [ 0,  0,  0,  0,  0,  0, -1],\n",
       "       [ 0,  1,  0,  0,  0,  0,  0],\n",
       "       [ 0,  0,  1,  0,  0,  0,  0],\n",
       "       [ 0,  0,  0,  1,  0,  0,  0],\n",
       "       [ 0,  0,  0,  0,  1,  0,  0],\n",
       "       [ 0,  0,  0,  0,  0,  1,  0]])"
      ]
     },
     "execution_count": 11,
     "metadata": {},
     "output_type": "execute_result"
    }
   ],
   "source": [
    "A_ub = np.matrix(\"\"\"\n",
    "-1 0 0 0 0 0 0;\n",
    "0 -1 0 0 0 0 0;\n",
    "0 0 -1 0 0 0 0;\n",
    "0 0 0 -1 0 0 0;\n",
    "0 0 0 0 -1 0 0;\n",
    "0 0 0 0 0 -1 0;\n",
    "0 0 0 0 0 0 -1;\n",
    "0 1 0 0 0 0 0;\n",
    "0 0 1 0 0 0 0;\n",
    "0 0 0 1 0 0 0;\n",
    "0 0 0 0 1 0 0;\n",
    "0 0 0 0 0 1 0\n",
    "\"\"\")\n",
    "A_ub = np.array(A_ub)\n",
    "A_ub"
   ]
  },
  {
   "cell_type": "code",
   "execution_count": 6,
   "id": "secure-hundred",
   "metadata": {},
   "outputs": [
    {
     "data": {
      "text/plain": [
       "(12, 7)"
      ]
     },
     "execution_count": 6,
     "metadata": {},
     "output_type": "execute_result"
    }
   ],
   "source": [
    "A_ub.shape"
   ]
  },
  {
   "cell_type": "code",
   "execution_count": 7,
   "id": "assisted-taiwan",
   "metadata": {},
   "outputs": [
    {
     "data": {
      "text/plain": [
       "array([0, 0, 0, 0, 0, 0, 0, 4, 5, 5, 2, 4])"
      ]
     },
     "execution_count": 7,
     "metadata": {},
     "output_type": "execute_result"
    }
   ],
   "source": [
    "b_ub = np.array([0, 0, 0, 0, 0, 0, 0, 4, 5, 5, 2, 4])\n",
    "b_ub"
   ]
  },
  {
   "cell_type": "code",
   "execution_count": 12,
   "id": "visible-heather",
   "metadata": {},
   "outputs": [
    {
     "data": {
      "text/plain": [
       "array([[ 1, -1, -1,  0,  0,  0,  0],\n",
       "       [ 0,  1,  0, -1,  1,  0,  0],\n",
       "       [ 0,  0,  1,  0, -1, -1,  0],\n",
       "       [ 0,  0,  0,  1,  0,  1, -1]])"
      ]
     },
     "execution_count": 12,
     "metadata": {},
     "output_type": "execute_result"
    }
   ],
   "source": [
    "A_eq = np.matrix(\"\"\"\n",
    "1 -1 -1 0 0 0 0;\n",
    "0 1 0 -1 1 0 0;\n",
    "0 0 1 0 -1 -1 0;\n",
    "0 0 0 1 0 1 -1\n",
    "\"\"\")\n",
    "A_eq = np.array(A_eq)\n",
    "A_eq"
   ]
  },
  {
   "cell_type": "code",
   "execution_count": 13,
   "id": "another-constitution",
   "metadata": {},
   "outputs": [
    {
     "data": {
      "text/plain": [
       "array([0, 0, 0, 0])"
      ]
     },
     "execution_count": 13,
     "metadata": {},
     "output_type": "execute_result"
    }
   ],
   "source": [
    "b_eq = np.array(4 * [0])\n",
    "b_eq"
   ]
  },
  {
   "cell_type": "code",
   "execution_count": 15,
   "id": "moving-dialogue",
   "metadata": {},
   "outputs": [
    {
     "name": "stdout",
     "output_type": "stream",
     "text": [
      "     con: array([ 3.92486044e-12, -3.82782694e-12,  4.02966549e-12, -3.95417032e-12])\n",
      "     fun: -8.999999999912182\n",
      " message: 'Optimization terminated successfully.'\n",
      "     nit: 5\n",
      "   slack: array([9.00000000e+00, 4.00000000e+00, 5.00000000e+00, 5.00000000e+00,\n",
      "       1.00000000e+00, 4.00000000e+00, 9.00000000e+00, 2.61133337e-11,\n",
      "       5.77795589e-11, 5.76498849e-11, 1.00000000e+00, 2.60409472e-11])\n",
      "  status: 0\n",
      " success: True\n",
      "       x: array([9., 4., 5., 5., 1., 4., 9.])\n"
     ]
    }
   ],
   "source": [
    "solution = linprog(c=c, A_eq=A_eq, b_eq=b_eq, A_ub=A_ub, b_ub=b_ub)\n",
    "print(solution)"
   ]
  },
  {
   "cell_type": "code",
   "execution_count": 16,
   "id": "offshore-camera",
   "metadata": {},
   "outputs": [
    {
     "data": {
      "text/plain": [
       "     con: array([0., 0., 0., 0.])\n",
       "     fun: -9.0\n",
       " message: 'Optimization terminated successfully.'\n",
       "     nit: 9\n",
       "   slack: array([9., 4., 5., 5., 1., 4., 9., 0., 0., 0., 1., 0.])\n",
       "  status: 0\n",
       " success: True\n",
       "       x: array([9., 4., 5., 5., 1., 4., 9.])"
      ]
     },
     "execution_count": 16,
     "metadata": {},
     "output_type": "execute_result"
    }
   ],
   "source": [
    "linprog(c=c, A_eq=A_eq, b_eq=b_eq, A_ub=A_ub, b_ub=b_ub, method=\"simplex\")"
   ]
  },
  {
   "cell_type": "code",
   "execution_count": 17,
   "id": "fluid-shopping",
   "metadata": {},
   "outputs": [
    {
     "data": {
      "text/plain": [
       "           con: array([0., 0., 0., 0.])\n",
       " crossover_nit: 0\n",
       "           fun: -9.0\n",
       "       message: 'Optimization terminated successfully.'\n",
       "           nit: 3\n",
       "         slack: array([9., 4., 5., 5., 1., 4., 9., 0., 0., 0., 1., 0.])\n",
       "        status: 0\n",
       "       success: True\n",
       "             x: array([9., 4., 5., 5., 1., 4., 9.])"
      ]
     },
     "execution_count": 17,
     "metadata": {},
     "output_type": "execute_result"
    }
   ],
   "source": [
    "linprog(c=c, A_eq=A_eq, b_eq=b_eq, A_ub=A_ub, b_ub=b_ub, method=\"highs\")"
   ]
  },
  {
   "cell_type": "markdown",
   "id": "returning-bearing",
   "metadata": {},
   "source": [
    "**REMARQUE** \n",
    "\n",
    "le simplexe est présent pour des raisons historiques, on préférera les autres solvers en particulier les `highs` récents."
   ]
  },
  {
   "cell_type": "markdown",
   "id": "developed-purpose",
   "metadata": {},
   "source": [
    "**REMARQUE**\n",
    "\n",
    "- On rentre manuellement les matrices ce qui peut être source d'erreur vue la quantité de coefficients.\n",
    "- La modélisation est faite manuellement.\n",
    "- De plus on ne peut résoudre que des problèmes linéaires en variable continue."
   ]
  },
  {
   "cell_type": "markdown",
   "id": "consolidated-doubt",
   "metadata": {},
   "source": [
    "## Cas des variables entières\n",
    "\n",
    "on cherche à maximiser $4x+3y$ sous les contraintes\n",
    "\n",
    "\\begin{align}\n",
    "0\\leq x\\\\\n",
    "0\\leq y\\\\\n",
    "2x+y\\leq2\\\\\n",
    "x+2y\\leq 2\\\\\n",
    "\\end{align}\n",
    "avec $x$ et $y$ des entiers.\n",
    "\n",
    "### Exercice 10min -> 11h30\n",
    "\n",
    "1. Essayer d'utiliser `linprog`.\n",
    "2. Dessiner le domaine de maximisation."
   ]
  },
  {
   "cell_type": "code",
   "execution_count": 22,
   "id": "gothic-plasma",
   "metadata": {},
   "outputs": [
    {
     "name": "stdout",
     "output_type": "stream",
     "text": [
      "           con: array([], dtype=float64)\n",
      " crossover_nit: 0\n",
      "           fun: -4.666666666666666\n",
      "       message: 'Optimization terminated successfully.'\n",
      "           nit: 2\n",
      "         slack: array([0.66666667, 0.66666667, 0.        , 0.        ])\n",
      "        status: 0\n",
      "       success: True\n",
      "             x: array([0.66666667, 0.66666667])\n"
     ]
    }
   ],
   "source": [
    "c = np.array([-4, -3])\n",
    "A_ub = np.matrix(\"\"\"\n",
    "-1  0;\n",
    " 0 -1;\n",
    " 2  1;\n",
    " 1  2\n",
    "\"\"\")\n",
    "b_ub = np.array([0, 0, 2, 2])\n",
    "solution = linprog(c=c, A_ub=A_ub, b_ub=b_ub, method=\"highs\")\n",
    "print(solution)"
   ]
  },
  {
   "cell_type": "markdown",
   "id": "basic-mineral",
   "metadata": {},
   "source": [
    "**REMARQUE** la solution du problème continu n'est clairement pas entière!"
   ]
  },
  {
   "cell_type": "code",
   "execution_count": 23,
   "id": "stock-peace",
   "metadata": {},
   "outputs": [],
   "source": [
    "import matplotlib.pyplot as plt\n",
    "%matplotlib inline\n",
    "\n",
    "plt.rcParams[\"figure.figsize\"] = (12, 8)"
   ]
  },
  {
   "cell_type": "code",
   "execution_count": 24,
   "id": "premier-cancellation",
   "metadata": {},
   "outputs": [],
   "source": [
    "c1 = lambda x,y: x\n",
    "c2 = lambda x,y: y\n",
    "c3 = lambda x,y: 2 * x + y\n",
    "c4 = lambda x,y: x + 2 * y"
   ]
  },
  {
   "cell_type": "code",
   "execution_count": 27,
   "id": "graphic-specialist",
   "metadata": {},
   "outputs": [],
   "source": [
    "xs, ys = np.linspace(-1, 3, 400), np.linspace(-1, 3, 400)\n",
    "X, Y = np.meshgrid(xs, ys)"
   ]
  },
  {
   "cell_type": "code",
   "execution_count": 30,
   "id": "metallic-theater",
   "metadata": {},
   "outputs": [
    {
     "data": {
      "text/plain": [
       "<matplotlib.contour.QuadContourSet at 0x7f00b242af40>"
      ]
     },
     "execution_count": 30,
     "metadata": {},
     "output_type": "execute_result"
    },
    {
     "data": {
      "image/png": "[encoded data removed]",
      "text/plain": [
       "<Figure size 864x576 with 1 Axes>"
      ]
     },
     "metadata": {
      "needs_background": "light"
     },
     "output_type": "display_data"
    }
   ],
   "source": [
    "figure, repere = plt.subplots()\n",
    "C1 = c1(X, Y)\n",
    "repere.contour(X, Y, C1, levels=[0])\n",
    "C2 = c2(X, Y)\n",
    "repere.contour(X, Y, C2, levels=[0])\n",
    "C3 = c3(X, Y)\n",
    "repere.contour(X, Y, C3, levels=[2])\n",
    "C4 = c4(X, Y)\n",
    "repere.contour(X, Y, C4, levels=[2])\n"
   ]
  },
  {
   "cell_type": "markdown",
   "id": "played-playlist",
   "metadata": {},
   "source": [
    "On constate qu'il n'y a que trois points à coordonnées entières dans le domaine : $(0,0), (0, 1), (1, 0)$"
   ]
  },
  {
   "cell_type": "markdown",
   "id": "sensitive-explorer",
   "metadata": {},
   "source": [
    "On voit que le maximum est atteint sur le troisième point: $(1, 0) \\to 4$."
   ]
  },
  {
   "cell_type": "markdown",
   "id": "molecular-flower",
   "metadata": {},
   "source": [
    "## Bibliothèque `pulp`."
   ]
  },
  {
   "cell_type": "code",
   "execution_count": 31,
   "id": "divided-career",
   "metadata": {},
   "outputs": [],
   "source": [
    "import pulp as pp"
   ]
  },
  {
   "cell_type": "code",
   "execution_count": 52,
   "id": "expected-occasions",
   "metadata": {},
   "outputs": [
    {
     "data": {
      "text/plain": [
       "test:\n",
       "MAXIMIZE\n",
       "None\n",
       "VARIABLES"
      ]
     },
     "execution_count": 52,
     "metadata": {},
     "output_type": "execute_result"
    }
   ],
   "source": [
    "probleme = pp.LpProblem(\"test\", pp.LpMaximize)\n",
    "probleme"
   ]
  },
  {
   "cell_type": "code",
   "execution_count": 53,
   "id": "treated-wireless",
   "metadata": {},
   "outputs": [
    {
     "data": {
      "text/plain": [
       "x"
      ]
     },
     "execution_count": 53,
     "metadata": {},
     "output_type": "execute_result"
    }
   ],
   "source": [
    "x = pp.LpVariable(\"x\", 0, None, pp.LpInteger)\n",
    "x"
   ]
  },
  {
   "cell_type": "code",
   "execution_count": 54,
   "id": "sharp-polish",
   "metadata": {},
   "outputs": [
    {
     "data": {
      "text/plain": [
       "y"
      ]
     },
     "execution_count": 54,
     "metadata": {},
     "output_type": "execute_result"
    }
   ],
   "source": [
    "y = pp.LpVariable(\"y\", 0, None, pp.LpInteger)\n",
    "y"
   ]
  },
  {
   "cell_type": "code",
   "execution_count": 55,
   "id": "perfect-blood",
   "metadata": {},
   "outputs": [
    {
     "data": {
      "text/plain": [
       "test:\n",
       "MAXIMIZE\n",
       "4*x + 3*y + 0\n",
       "VARIABLES\n",
       "0 <= x Integer\n",
       "0 <= y Integer"
      ]
     },
     "execution_count": 55,
     "metadata": {},
     "output_type": "execute_result"
    }
   ],
   "source": [
    "probleme.setObjective(4 * x + 3 * y)\n",
    "probleme"
   ]
  },
  {
   "cell_type": "code",
   "execution_count": 56,
   "id": "cordless-collins",
   "metadata": {},
   "outputs": [
    {
     "data": {
      "text/plain": [
       "test:\n",
       "MAXIMIZE\n",
       "4*x + 3*y + 0\n",
       "SUBJECT TO\n",
       "_C1: 2 x + y <= 2\n",
       "\n",
       "VARIABLES\n",
       "0 <= x Integer\n",
       "0 <= y Integer"
      ]
     },
     "execution_count": 56,
     "metadata": {},
     "output_type": "execute_result"
    }
   ],
   "source": [
    "probleme.addConstraint(2 * x + y <= 2)\n",
    "probleme"
   ]
  },
  {
   "cell_type": "code",
   "execution_count": 57,
   "id": "meaningful-murray",
   "metadata": {},
   "outputs": [
    {
     "data": {
      "text/plain": [
       "test:\n",
       "MAXIMIZE\n",
       "4*x + 3*y + 0\n",
       "SUBJECT TO\n",
       "_C1: 2 x + y <= 2\n",
       "\n",
       "_C2: x + 2 y <= 2\n",
       "\n",
       "VARIABLES\n",
       "0 <= x Integer\n",
       "0 <= y Integer"
      ]
     },
     "execution_count": 57,
     "metadata": {},
     "output_type": "execute_result"
    }
   ],
   "source": [
    "probleme.addConstraint(x + 2 * y <= 2)\n",
    "probleme"
   ]
  },
  {
   "cell_type": "code",
   "execution_count": 58,
   "id": "annoying-mistake",
   "metadata": {},
   "outputs": [
    {
     "data": {
      "text/plain": [
       "1"
      ]
     },
     "execution_count": 58,
     "metadata": {},
     "output_type": "execute_result"
    }
   ],
   "source": [
    "probleme.solve()"
   ]
  },
  {
   "cell_type": "code",
   "execution_count": 59,
   "id": "processed-liechtenstein",
   "metadata": {},
   "outputs": [
    {
     "name": "stdout",
     "output_type": "stream",
     "text": [
      "test:\n",
      "MAXIMIZE\n",
      "4*x + 3*y + 0\n",
      "SUBJECT TO\n",
      "_C1: 2 x + y <= 2\n",
      "\n",
      "_C2: x + 2 y <= 2\n",
      "\n",
      "VARIABLES\n",
      "0 <= x Integer\n",
      "0 <= y Integer\n",
      "\n"
     ]
    }
   ],
   "source": [
    "print(probleme)"
   ]
  },
  {
   "cell_type": "code",
   "execution_count": 60,
   "id": "registered-object",
   "metadata": {},
   "outputs": [
    {
     "data": {
      "text/plain": [
       "1"
      ]
     },
     "execution_count": 60,
     "metadata": {},
     "output_type": "execute_result"
    }
   ],
   "source": [
    "probleme.status"
   ]
  },
  {
   "cell_type": "code",
   "execution_count": 61,
   "id": "central-enough",
   "metadata": {
    "tags": []
   },
   "outputs": [
    {
     "data": {
      "text/plain": [
       "['__class__',\n",
       " '__delattr__',\n",
       " '__dict__',\n",
       " '__dir__',\n",
       " '__doc__',\n",
       " '__eq__',\n",
       " '__format__',\n",
       " '__ge__',\n",
       " '__getattribute__',\n",
       " '__getstate__',\n",
       " '__gt__',\n",
       " '__hash__',\n",
       " '__iadd__',\n",
       " '__init__',\n",
       " '__init_subclass__',\n",
       " '__le__',\n",
       " '__lt__',\n",
       " '__module__',\n",
       " '__ne__',\n",
       " '__new__',\n",
       " '__reduce__',\n",
       " '__reduce_ex__',\n",
       " '__repr__',\n",
       " '__setattr__',\n",
       " '__setstate__',\n",
       " '__sizeof__',\n",
       " '__str__',\n",
       " '__subclasshook__',\n",
       " '__weakref__',\n",
       " '_variable_ids',\n",
       " '_variables',\n",
       " 'add',\n",
       " 'addConstraint',\n",
       " 'addVariable',\n",
       " 'addVariables',\n",
       " 'assignConsPi',\n",
       " 'assignConsSlack',\n",
       " 'assignStatus',\n",
       " 'assignVarsDj',\n",
       " 'assignVarsVals',\n",
       " 'checkDuplicateVars',\n",
       " 'checkLengthVars',\n",
       " 'coefficients',\n",
       " 'constraints',\n",
       " 'copy',\n",
       " 'deepcopy',\n",
       " 'dummyVar',\n",
       " 'extend',\n",
       " 'fixObjective',\n",
       " 'fromDict',\n",
       " 'fromJson',\n",
       " 'fromMPS',\n",
       " 'from_dict',\n",
       " 'from_json',\n",
       " 'getSense',\n",
       " 'get_dummyVar',\n",
       " 'infeasibilityGap',\n",
       " 'isMIP',\n",
       " 'lastUnused',\n",
       " 'modifiedConstraints',\n",
       " 'modifiedVariables',\n",
       " 'name',\n",
       " 'noOverlap',\n",
       " 'normalisedNames',\n",
       " 'numConstraints',\n",
       " 'numVariables',\n",
       " 'objective',\n",
       " 'resolve',\n",
       " 'resolveOK',\n",
       " 'restoreObjective',\n",
       " 'roundSolution',\n",
       " 'sense',\n",
       " 'sequentialSolve',\n",
       " 'setObjective',\n",
       " 'setSolver',\n",
       " 'sol_status',\n",
       " 'solutionTime',\n",
       " 'solve',\n",
       " 'solver',\n",
       " 'sos1',\n",
       " 'sos2',\n",
       " 'status',\n",
       " 'toDict',\n",
       " 'toJson',\n",
       " 'to_dict',\n",
       " 'to_json',\n",
       " 'unusedConstraintName',\n",
       " 'valid',\n",
       " 'variables',\n",
       " 'variablesDict',\n",
       " 'writeLP',\n",
       " 'writeMPS']"
      ]
     },
     "execution_count": 61,
     "metadata": {},
     "output_type": "execute_result"
    }
   ],
   "source": [
    "dir(probleme)"
   ]
  },
  {
   "cell_type": "code",
   "execution_count": 62,
   "id": "faced-government",
   "metadata": {},
   "outputs": [
    {
     "name": "stdout",
     "output_type": "stream",
     "text": [
      "x 1.0\n",
      "y 0.0\n"
     ]
    }
   ],
   "source": [
    "for var in probleme.variables():\n",
    "    print(var, var.value())"
   ]
  },
  {
   "cell_type": "code",
   "execution_count": 70,
   "id": "overall-shape",
   "metadata": {},
   "outputs": [
    {
     "data": {
      "text/html": [
       "<pre style=\"white-space:pre;overflow-x:auto;line-height:normal;font-family:Menlo,'DejaVu Sans Mono',consolas,'Courier New',monospace\"><span style=\"color: #000080; text-decoration-color: #000080; font-weight: bold\">4.0</span>\n",
       "</pre>\n"
      ]
     },
     "metadata": {},
     "output_type": "display_data"
    }
   ],
   "source": [
    "probleme.objective.value()"
   ]
  },
  {
   "cell_type": "code",
   "execution_count": 63,
   "id": "pressing-soccer",
   "metadata": {},
   "outputs": [
    {
     "data": {
      "text/plain": [
       "True"
      ]
     },
     "execution_count": 63,
     "metadata": {},
     "output_type": "execute_result"
    }
   ],
   "source": [
    "probleme.valid()"
   ]
  },
  {
   "cell_type": "code",
   "execution_count": 68,
   "id": "needed-newark",
   "metadata": {},
   "outputs": [],
   "source": [
    "from rich import pretty\n",
    "pretty.install()"
   ]
  },
  {
   "cell_type": "code",
   "execution_count": 69,
   "id": "particular-cosmetic",
   "metadata": {},
   "outputs": [
    {
     "data": {
      "text/html": [
       "<pre style=\"white-space:pre;overflow-x:auto;line-height:normal;font-family:Menlo,'DejaVu Sans Mono',consolas,'Courier New',monospace\"><span style=\"font-weight: bold\">{</span>\n",
       "    <span style=\"color: #008000; text-decoration-color: #008000\">'objective'</span>: <span style=\"font-weight: bold\">{</span>\n",
       "        <span style=\"color: #008000; text-decoration-color: #008000\">'name'</span>: <span style=\"color: #008000; text-decoration-color: #008000\">'OBJ'</span>,\n",
       "        <span style=\"color: #008000; text-decoration-color: #008000\">'coefficients'</span>: <span style=\"font-weight: bold\">[{</span><span style=\"color: #008000; text-decoration-color: #008000\">'name'</span>: <span style=\"color: #008000; text-decoration-color: #008000\">'x'</span>, <span style=\"color: #008000; text-decoration-color: #008000\">'value'</span>: <span style=\"color: #000080; text-decoration-color: #000080; font-weight: bold\">4</span><span style=\"font-weight: bold\">}</span>, <span style=\"font-weight: bold\">{</span><span style=\"color: #008000; text-decoration-color: #008000\">'name'</span>: <span style=\"color: #008000; text-decoration-color: #008000\">'y'</span>, <span style=\"color: #008000; text-decoration-color: #008000\">'value'</span>: <span style=\"color: #000080; text-decoration-color: #000080; font-weight: bold\">3</span><span style=\"font-weight: bold\">}]</span>\n",
       "    <span style=\"font-weight: bold\">}</span>,\n",
       "    <span style=\"color: #008000; text-decoration-color: #008000\">'constraints'</span>: <span style=\"font-weight: bold\">[</span>\n",
       "        <span style=\"font-weight: bold\">{</span>\n",
       "            <span style=\"color: #008000; text-decoration-color: #008000\">'sense'</span>: <span style=\"color: #000080; text-decoration-color: #000080; font-weight: bold\">-1</span>,\n",
       "            <span style=\"color: #008000; text-decoration-color: #008000\">'pi'</span>: <span style=\"color: #000080; text-decoration-color: #000080; font-weight: bold\">-0.0</span>,\n",
       "            <span style=\"color: #008000; text-decoration-color: #008000\">'constant'</span>: <span style=\"color: #000080; text-decoration-color: #000080; font-weight: bold\">-2</span>,\n",
       "            <span style=\"color: #008000; text-decoration-color: #008000\">'name'</span>: <span style=\"color: #800080; text-decoration-color: #800080; font-style: italic\">None</span>,\n",
       "            <span style=\"color: #008000; text-decoration-color: #008000\">'coefficients'</span>: <span style=\"font-weight: bold\">[</span>\n",
       "                <span style=\"font-weight: bold\">{</span><span style=\"color: #008000; text-decoration-color: #008000\">'name'</span>: <span style=\"color: #008000; text-decoration-color: #008000\">'x'</span>, <span style=\"color: #008000; text-decoration-color: #008000\">'value'</span>: <span style=\"color: #000080; text-decoration-color: #000080; font-weight: bold\">2</span><span style=\"font-weight: bold\">}</span>,\n",
       "                <span style=\"font-weight: bold\">{</span><span style=\"color: #008000; text-decoration-color: #008000\">'name'</span>: <span style=\"color: #008000; text-decoration-color: #008000\">'y'</span>, <span style=\"color: #008000; text-decoration-color: #008000\">'value'</span>: <span style=\"color: #000080; text-decoration-color: #000080; font-weight: bold\">1</span><span style=\"font-weight: bold\">}</span>\n",
       "            <span style=\"font-weight: bold\">]</span>\n",
       "        <span style=\"font-weight: bold\">}</span>,\n",
       "        <span style=\"font-weight: bold\">{</span>\n",
       "            <span style=\"color: #008000; text-decoration-color: #008000\">'sense'</span>: <span style=\"color: #000080; text-decoration-color: #000080; font-weight: bold\">-1</span>,\n",
       "            <span style=\"color: #008000; text-decoration-color: #008000\">'pi'</span>: <span style=\"color: #000080; text-decoration-color: #000080; font-weight: bold\">-0.0</span>,\n",
       "            <span style=\"color: #008000; text-decoration-color: #008000\">'constant'</span>: <span style=\"color: #000080; text-decoration-color: #000080; font-weight: bold\">-2</span>,\n",
       "            <span style=\"color: #008000; text-decoration-color: #008000\">'name'</span>: <span style=\"color: #800080; text-decoration-color: #800080; font-style: italic\">None</span>,\n",
       "            <span style=\"color: #008000; text-decoration-color: #008000\">'coefficients'</span>: <span style=\"font-weight: bold\">[</span>\n",
       "                <span style=\"font-weight: bold\">{</span><span style=\"color: #008000; text-decoration-color: #008000\">'name'</span>: <span style=\"color: #008000; text-decoration-color: #008000\">'x'</span>, <span style=\"color: #008000; text-decoration-color: #008000\">'value'</span>: <span style=\"color: #000080; text-decoration-color: #000080; font-weight: bold\">1</span><span style=\"font-weight: bold\">}</span>,\n",
       "                <span style=\"font-weight: bold\">{</span><span style=\"color: #008000; text-decoration-color: #008000\">'name'</span>: <span style=\"color: #008000; text-decoration-color: #008000\">'y'</span>, <span style=\"color: #008000; text-decoration-color: #008000\">'value'</span>: <span style=\"color: #000080; text-decoration-color: #000080; font-weight: bold\">2</span><span style=\"font-weight: bold\">}</span>\n",
       "            <span style=\"font-weight: bold\">]</span>\n",
       "        <span style=\"font-weight: bold\">}</span>\n",
       "    <span style=\"font-weight: bold\">]</span>,\n",
       "    <span style=\"color: #008000; text-decoration-color: #008000\">'variables'</span>: <span style=\"font-weight: bold\">[</span>\n",
       "        <span style=\"font-weight: bold\">{</span>\n",
       "            <span style=\"color: #008000; text-decoration-color: #008000\">'lowBound'</span>: <span style=\"color: #000080; text-decoration-color: #000080; font-weight: bold\">0</span>,\n",
       "            <span style=\"color: #008000; text-decoration-color: #008000\">'upBound'</span>: <span style=\"color: #800080; text-decoration-color: #800080; font-style: italic\">None</span>,\n",
       "            <span style=\"color: #008000; text-decoration-color: #008000\">'cat'</span>: <span style=\"color: #008000; text-decoration-color: #008000\">'Integer'</span>,\n",
       "            <span style=\"color: #008000; text-decoration-color: #008000\">'varValue'</span>: <span style=\"color: #000080; text-decoration-color: #000080; font-weight: bold\">1.0</span>,\n",
       "            <span style=\"color: #008000; text-decoration-color: #008000\">'dj'</span>: <span style=\"color: #000080; text-decoration-color: #000080; font-weight: bold\">4.0</span>,\n",
       "            <span style=\"color: #008000; text-decoration-color: #008000\">'name'</span>: <span style=\"color: #008000; text-decoration-color: #008000\">'x'</span>\n",
       "        <span style=\"font-weight: bold\">}</span>,\n",
       "        <span style=\"font-weight: bold\">{</span>\n",
       "            <span style=\"color: #008000; text-decoration-color: #008000\">'lowBound'</span>: <span style=\"color: #000080; text-decoration-color: #000080; font-weight: bold\">0</span>,\n",
       "            <span style=\"color: #008000; text-decoration-color: #008000\">'upBound'</span>: <span style=\"color: #800080; text-decoration-color: #800080; font-style: italic\">None</span>,\n",
       "            <span style=\"color: #008000; text-decoration-color: #008000\">'cat'</span>: <span style=\"color: #008000; text-decoration-color: #008000\">'Integer'</span>,\n",
       "            <span style=\"color: #008000; text-decoration-color: #008000\">'varValue'</span>: <span style=\"color: #000080; text-decoration-color: #000080; font-weight: bold\">0.0</span>,\n",
       "            <span style=\"color: #008000; text-decoration-color: #008000\">'dj'</span>: <span style=\"color: #000080; text-decoration-color: #000080; font-weight: bold\">3.0</span>,\n",
       "            <span style=\"color: #008000; text-decoration-color: #008000\">'name'</span>: <span style=\"color: #008000; text-decoration-color: #008000\">'y'</span>\n",
       "        <span style=\"font-weight: bold\">}</span>\n",
       "    <span style=\"font-weight: bold\">]</span>,\n",
       "    <span style=\"color: #008000; text-decoration-color: #008000\">'parameters'</span>: <span style=\"font-weight: bold\">{</span><span style=\"color: #008000; text-decoration-color: #008000\">'name'</span>: <span style=\"color: #008000; text-decoration-color: #008000\">'test'</span>, <span style=\"color: #008000; text-decoration-color: #008000\">'sense'</span>: <span style=\"color: #000080; text-decoration-color: #000080; font-weight: bold\">-1</span>, <span style=\"color: #008000; text-decoration-color: #008000\">'status'</span>: <span style=\"color: #000080; text-decoration-color: #000080; font-weight: bold\">1</span>, <span style=\"color: #008000; text-decoration-color: #008000\">'sol_status'</span>: <span style=\"color: #000080; text-decoration-color: #000080; font-weight: bold\">1</span><span style=\"font-weight: bold\">}</span>,\n",
       "    <span style=\"color: #008000; text-decoration-color: #008000\">'sos1'</span>: <span style=\"font-weight: bold\">[]</span>,\n",
       "    <span style=\"color: #008000; text-decoration-color: #008000\">'sos2'</span>: <span style=\"font-weight: bold\">[]</span>\n",
       "<span style=\"font-weight: bold\">}</span>\n",
       "</pre>\n"
      ]
     },
     "metadata": {},
     "output_type": "display_data"
    }
   ],
   "source": [
    "probleme.to_dict()"
   ]
  },
  {
   "cell_type": "markdown",
   "id": "editorial-harvest",
   "metadata": {},
   "source": [
    "### Exercice\n",
    "15min -> 12h05\n",
    "\n",
    "Utiliser `pulp` pour reprendre les programmes linéaires de flot maximal."
   ]
  },
  {
   "cell_type": "code",
   "execution_count": 74,
   "id": "minute-greek",
   "metadata": {},
   "outputs": [
    {
     "name": "stdout",
     "output_type": "stream",
     "text": [
      "flot_maximal:\n",
      "MAXIMIZE\n",
      "1*q_s + 0.0\n",
      "SUBJECT TO\n",
      "_C1: - q_AB - q_AC + q_s = 0\n",
      "\n",
      "_C2: q_AB - q_BD + q_CB = 0\n",
      "\n",
      "_C3: q_AC - q_CB - q_CD = 0\n",
      "\n",
      "_C4: q_BD + q_CD - q_p = 0\n",
      "\n",
      "VARIABLES\n",
      "q_AB <= 4 Continuous\n",
      "q_AC <= 5 Continuous\n",
      "q_BD <= 5 Continuous\n",
      "q_CB <= 2 Continuous\n",
      "q_CD <= 4 Continuous\n",
      "q_p Continuous\n",
      "q_s Continuous\n",
      "\n"
     ]
    }
   ],
   "source": [
    "flot_max = pp.LpProblem(\"flot_maximal\", pp.LpMaximize)\n",
    "\n",
    "qs = pp.LpVariable(\"q_s\", 0, None, pp.LpContinuous)\n",
    "qAB = pp.LpVariable(\"q_AB\", 0, 4, pp.LpContinuous)\n",
    "qAC = pp.LpVariable(\"q_AC\", 0, 5, pp.LpContinuous)\n",
    "qBD = pp.LpVariable(\"q_BD\", 0, 5, pp.LpContinuous)\n",
    "qCB = pp.LpVariable(\"q_CB\", 0, 2, pp.LpContinuous)\n",
    "qCD= pp.LpVariable(\"q_CD\", 0, 4, pp.LpContinuous)\n",
    "qp = pp.LpVariable(\"q_p\", 0, None, pp.LpContinuous)\n",
    "\n",
    "flot_max.setObjective(qs)\n",
    "\n",
    "flot_max.addConstraint(qs == qAB + qAC)\n",
    "flot_max.addConstraint(qAB + qCB == qBD)\n",
    "flot_max.addConstraint(qAC == qCB + qCD)\n",
    "flot_max.addConstraint(qBD + qCD == qp)\n",
    "\n",
    "print(flot_max)"
   ]
  },
  {
   "cell_type": "code",
   "execution_count": 75,
   "id": "terminal-messaging",
   "metadata": {},
   "outputs": [
    {
     "data": {
      "text/html": [
       "<pre style=\"white-space:pre;overflow-x:auto;line-height:normal;font-family:Menlo,'DejaVu Sans Mono',consolas,'Courier New',monospace\"><span style=\"color: #000080; text-decoration-color: #000080; font-weight: bold\">1</span>\n",
       "</pre>\n"
      ]
     },
     "metadata": {},
     "output_type": "display_data"
    }
   ],
   "source": [
    "flot_max.solve()"
   ]
  },
  {
   "cell_type": "code",
   "execution_count": 76,
   "id": "acute-campaign",
   "metadata": {},
   "outputs": [
    {
     "data": {
      "text/html": [
       "<pre style=\"white-space:pre;overflow-x:auto;line-height:normal;font-family:Menlo,'DejaVu Sans Mono',consolas,'Courier New',monospace\"><span style=\"font-weight: bold\">{</span>\n",
       "    <span style=\"color: #008000; text-decoration-color: #008000\">'objective'</span>: <span style=\"font-weight: bold\">{</span><span style=\"color: #008000; text-decoration-color: #008000\">'name'</span>: <span style=\"color: #008000; text-decoration-color: #008000\">'OBJ'</span>, <span style=\"color: #008000; text-decoration-color: #008000\">'coefficients'</span>: <span style=\"font-weight: bold\">[{</span><span style=\"color: #008000; text-decoration-color: #008000\">'name'</span>: <span style=\"color: #008000; text-decoration-color: #008000\">'q_s'</span>, <span style=\"color: #008000; text-decoration-color: #008000\">'value'</span>: <span style=\"color: #000080; text-decoration-color: #000080; font-weight: bold\">1</span><span style=\"font-weight: bold\">}]}</span>,\n",
       "    <span style=\"color: #008000; text-decoration-color: #008000\">'constraints'</span>: <span style=\"font-weight: bold\">[</span>\n",
       "        <span style=\"font-weight: bold\">{</span>\n",
       "            <span style=\"color: #008000; text-decoration-color: #008000\">'sense'</span>: <span style=\"color: #000080; text-decoration-color: #000080; font-weight: bold\">0</span>,\n",
       "            <span style=\"color: #008000; text-decoration-color: #008000\">'pi'</span>: <span style=\"color: #000080; text-decoration-color: #000080; font-weight: bold\">1.0</span>,\n",
       "            <span style=\"color: #008000; text-decoration-color: #008000\">'constant'</span>: <span style=\"color: #000080; text-decoration-color: #000080; font-weight: bold\">0</span>,\n",
       "            <span style=\"color: #008000; text-decoration-color: #008000\">'name'</span>: <span style=\"color: #800080; text-decoration-color: #800080; font-style: italic\">None</span>,\n",
       "            <span style=\"color: #008000; text-decoration-color: #008000\">'coefficients'</span>: <span style=\"font-weight: bold\">[</span>\n",
       "                <span style=\"font-weight: bold\">{</span><span style=\"color: #008000; text-decoration-color: #008000\">'name'</span>: <span style=\"color: #008000; text-decoration-color: #008000\">'q_s'</span>, <span style=\"color: #008000; text-decoration-color: #008000\">'value'</span>: <span style=\"color: #000080; text-decoration-color: #000080; font-weight: bold\">1</span><span style=\"font-weight: bold\">}</span>,\n",
       "                <span style=\"font-weight: bold\">{</span><span style=\"color: #008000; text-decoration-color: #008000\">'name'</span>: <span style=\"color: #008000; text-decoration-color: #008000\">'q_AB'</span>, <span style=\"color: #008000; text-decoration-color: #008000\">'value'</span>: <span style=\"color: #000080; text-decoration-color: #000080; font-weight: bold\">-1</span><span style=\"font-weight: bold\">}</span>,\n",
       "                <span style=\"font-weight: bold\">{</span><span style=\"color: #008000; text-decoration-color: #008000\">'name'</span>: <span style=\"color: #008000; text-decoration-color: #008000\">'q_AC'</span>, <span style=\"color: #008000; text-decoration-color: #008000\">'value'</span>: <span style=\"color: #000080; text-decoration-color: #000080; font-weight: bold\">-1</span><span style=\"font-weight: bold\">}</span>\n",
       "            <span style=\"font-weight: bold\">]</span>\n",
       "        <span style=\"font-weight: bold\">}</span>,\n",
       "        <span style=\"font-weight: bold\">{</span>\n",
       "            <span style=\"color: #008000; text-decoration-color: #008000\">'sense'</span>: <span style=\"color: #000080; text-decoration-color: #000080; font-weight: bold\">0</span>,\n",
       "            <span style=\"color: #008000; text-decoration-color: #008000\">'pi'</span>: <span style=\"color: #000080; text-decoration-color: #000080; font-weight: bold\">-0.0</span>,\n",
       "            <span style=\"color: #008000; text-decoration-color: #008000\">'constant'</span>: <span style=\"color: #000080; text-decoration-color: #000080; font-weight: bold\">0</span>,\n",
       "            <span style=\"color: #008000; text-decoration-color: #008000\">'name'</span>: <span style=\"color: #800080; text-decoration-color: #800080; font-style: italic\">None</span>,\n",
       "            <span style=\"color: #008000; text-decoration-color: #008000\">'coefficients'</span>: <span style=\"font-weight: bold\">[</span>\n",
       "                <span style=\"font-weight: bold\">{</span><span style=\"color: #008000; text-decoration-color: #008000\">'name'</span>: <span style=\"color: #008000; text-decoration-color: #008000\">'q_AB'</span>, <span style=\"color: #008000; text-decoration-color: #008000\">'value'</span>: <span style=\"color: #000080; text-decoration-color: #000080; font-weight: bold\">1</span><span style=\"font-weight: bold\">}</span>,\n",
       "                <span style=\"font-weight: bold\">{</span><span style=\"color: #008000; text-decoration-color: #008000\">'name'</span>: <span style=\"color: #008000; text-decoration-color: #008000\">'q_CB'</span>, <span style=\"color: #008000; text-decoration-color: #008000\">'value'</span>: <span style=\"color: #000080; text-decoration-color: #000080; font-weight: bold\">1</span><span style=\"font-weight: bold\">}</span>,\n",
       "                <span style=\"font-weight: bold\">{</span><span style=\"color: #008000; text-decoration-color: #008000\">'name'</span>: <span style=\"color: #008000; text-decoration-color: #008000\">'q_BD'</span>, <span style=\"color: #008000; text-decoration-color: #008000\">'value'</span>: <span style=\"color: #000080; text-decoration-color: #000080; font-weight: bold\">-1</span><span style=\"font-weight: bold\">}</span>\n",
       "            <span style=\"font-weight: bold\">]</span>\n",
       "        <span style=\"font-weight: bold\">}</span>,\n",
       "        <span style=\"font-weight: bold\">{</span>\n",
       "            <span style=\"color: #008000; text-decoration-color: #008000\">'sense'</span>: <span style=\"color: #000080; text-decoration-color: #000080; font-weight: bold\">0</span>,\n",
       "            <span style=\"color: #008000; text-decoration-color: #008000\">'pi'</span>: <span style=\"color: #000080; text-decoration-color: #000080; font-weight: bold\">-0.0</span>,\n",
       "            <span style=\"color: #008000; text-decoration-color: #008000\">'constant'</span>: <span style=\"color: #000080; text-decoration-color: #000080; font-weight: bold\">0</span>,\n",
       "            <span style=\"color: #008000; text-decoration-color: #008000\">'name'</span>: <span style=\"color: #800080; text-decoration-color: #800080; font-style: italic\">None</span>,\n",
       "            <span style=\"color: #008000; text-decoration-color: #008000\">'coefficients'</span>: <span style=\"font-weight: bold\">[</span>\n",
       "                <span style=\"font-weight: bold\">{</span><span style=\"color: #008000; text-decoration-color: #008000\">'name'</span>: <span style=\"color: #008000; text-decoration-color: #008000\">'q_AC'</span>, <span style=\"color: #008000; text-decoration-color: #008000\">'value'</span>: <span style=\"color: #000080; text-decoration-color: #000080; font-weight: bold\">1</span><span style=\"font-weight: bold\">}</span>,\n",
       "                <span style=\"font-weight: bold\">{</span><span style=\"color: #008000; text-decoration-color: #008000\">'name'</span>: <span style=\"color: #008000; text-decoration-color: #008000\">'q_CB'</span>, <span style=\"color: #008000; text-decoration-color: #008000\">'value'</span>: <span style=\"color: #000080; text-decoration-color: #000080; font-weight: bold\">-1</span><span style=\"font-weight: bold\">}</span>,\n",
       "                <span style=\"font-weight: bold\">{</span><span style=\"color: #008000; text-decoration-color: #008000\">'name'</span>: <span style=\"color: #008000; text-decoration-color: #008000\">'q_CD'</span>, <span style=\"color: #008000; text-decoration-color: #008000\">'value'</span>: <span style=\"color: #000080; text-decoration-color: #000080; font-weight: bold\">-1</span><span style=\"font-weight: bold\">}</span>\n",
       "            <span style=\"font-weight: bold\">]</span>\n",
       "        <span style=\"font-weight: bold\">}</span>,\n",
       "        <span style=\"font-weight: bold\">{</span>\n",
       "            <span style=\"color: #008000; text-decoration-color: #008000\">'sense'</span>: <span style=\"color: #000080; text-decoration-color: #000080; font-weight: bold\">0</span>,\n",
       "            <span style=\"color: #008000; text-decoration-color: #008000\">'pi'</span>: <span style=\"color: #000080; text-decoration-color: #000080; font-weight: bold\">-0.0</span>,\n",
       "            <span style=\"color: #008000; text-decoration-color: #008000\">'constant'</span>: <span style=\"color: #000080; text-decoration-color: #000080; font-weight: bold\">0</span>,\n",
       "            <span style=\"color: #008000; text-decoration-color: #008000\">'name'</span>: <span style=\"color: #800080; text-decoration-color: #800080; font-style: italic\">None</span>,\n",
       "            <span style=\"color: #008000; text-decoration-color: #008000\">'coefficients'</span>: <span style=\"font-weight: bold\">[</span>\n",
       "                <span style=\"font-weight: bold\">{</span><span style=\"color: #008000; text-decoration-color: #008000\">'name'</span>: <span style=\"color: #008000; text-decoration-color: #008000\">'q_BD'</span>, <span style=\"color: #008000; text-decoration-color: #008000\">'value'</span>: <span style=\"color: #000080; text-decoration-color: #000080; font-weight: bold\">1</span><span style=\"font-weight: bold\">}</span>,\n",
       "                <span style=\"font-weight: bold\">{</span><span style=\"color: #008000; text-decoration-color: #008000\">'name'</span>: <span style=\"color: #008000; text-decoration-color: #008000\">'q_CD'</span>, <span style=\"color: #008000; text-decoration-color: #008000\">'value'</span>: <span style=\"color: #000080; text-decoration-color: #000080; font-weight: bold\">1</span><span style=\"font-weight: bold\">}</span>,\n",
       "                <span style=\"font-weight: bold\">{</span><span style=\"color: #008000; text-decoration-color: #008000\">'name'</span>: <span style=\"color: #008000; text-decoration-color: #008000\">'q_p'</span>, <span style=\"color: #008000; text-decoration-color: #008000\">'value'</span>: <span style=\"color: #000080; text-decoration-color: #000080; font-weight: bold\">-1</span><span style=\"font-weight: bold\">}</span>\n",
       "            <span style=\"font-weight: bold\">]</span>\n",
       "        <span style=\"font-weight: bold\">}</span>\n",
       "    <span style=\"font-weight: bold\">]</span>,\n",
       "    <span style=\"color: #008000; text-decoration-color: #008000\">'variables'</span>: <span style=\"font-weight: bold\">[</span>\n",
       "        <span style=\"font-weight: bold\">{</span>\n",
       "            <span style=\"color: #008000; text-decoration-color: #008000\">'lowBound'</span>: <span style=\"color: #000080; text-decoration-color: #000080; font-weight: bold\">0</span>,\n",
       "            <span style=\"color: #008000; text-decoration-color: #008000\">'upBound'</span>: <span style=\"color: #000080; text-decoration-color: #000080; font-weight: bold\">4</span>,\n",
       "            <span style=\"color: #008000; text-decoration-color: #008000\">'cat'</span>: <span style=\"color: #008000; text-decoration-color: #008000\">'Continuous'</span>,\n",
       "            <span style=\"color: #008000; text-decoration-color: #008000\">'varValue'</span>: <span style=\"color: #000080; text-decoration-color: #000080; font-weight: bold\">4.0</span>,\n",
       "            <span style=\"color: #008000; text-decoration-color: #008000\">'dj'</span>: <span style=\"color: #000080; text-decoration-color: #000080; font-weight: bold\">1.0</span>,\n",
       "            <span style=\"color: #008000; text-decoration-color: #008000\">'name'</span>: <span style=\"color: #008000; text-decoration-color: #008000\">'q_AB'</span>\n",
       "        <span style=\"font-weight: bold\">}</span>,\n",
       "        <span style=\"font-weight: bold\">{</span>\n",
       "            <span style=\"color: #008000; text-decoration-color: #008000\">'lowBound'</span>: <span style=\"color: #000080; text-decoration-color: #000080; font-weight: bold\">0</span>,\n",
       "            <span style=\"color: #008000; text-decoration-color: #008000\">'upBound'</span>: <span style=\"color: #000080; text-decoration-color: #000080; font-weight: bold\">5</span>,\n",
       "            <span style=\"color: #008000; text-decoration-color: #008000\">'cat'</span>: <span style=\"color: #008000; text-decoration-color: #008000\">'Continuous'</span>,\n",
       "            <span style=\"color: #008000; text-decoration-color: #008000\">'varValue'</span>: <span style=\"color: #000080; text-decoration-color: #000080; font-weight: bold\">5.0</span>,\n",
       "            <span style=\"color: #008000; text-decoration-color: #008000\">'dj'</span>: <span style=\"color: #000080; text-decoration-color: #000080; font-weight: bold\">1.0</span>,\n",
       "            <span style=\"color: #008000; text-decoration-color: #008000\">'name'</span>: <span style=\"color: #008000; text-decoration-color: #008000\">'q_AC'</span>\n",
       "        <span style=\"font-weight: bold\">}</span>,\n",
       "        <span style=\"font-weight: bold\">{</span>\n",
       "            <span style=\"color: #008000; text-decoration-color: #008000\">'lowBound'</span>: <span style=\"color: #000080; text-decoration-color: #000080; font-weight: bold\">0</span>,\n",
       "            <span style=\"color: #008000; text-decoration-color: #008000\">'upBound'</span>: <span style=\"color: #000080; text-decoration-color: #000080; font-weight: bold\">5</span>,\n",
       "            <span style=\"color: #008000; text-decoration-color: #008000\">'cat'</span>: <span style=\"color: #008000; text-decoration-color: #008000\">'Continuous'</span>,\n",
       "            <span style=\"color: #008000; text-decoration-color: #008000\">'varValue'</span>: <span style=\"color: #000080; text-decoration-color: #000080; font-weight: bold\">5.0</span>,\n",
       "            <span style=\"color: #008000; text-decoration-color: #008000\">'dj'</span>: <span style=\"color: #000080; text-decoration-color: #000080; font-weight: bold\">0.0</span>,\n",
       "            <span style=\"color: #008000; text-decoration-color: #008000\">'name'</span>: <span style=\"color: #008000; text-decoration-color: #008000\">'q_BD'</span>\n",
       "        <span style=\"font-weight: bold\">}</span>,\n",
       "        <span style=\"font-weight: bold\">{</span>\n",
       "            <span style=\"color: #008000; text-decoration-color: #008000\">'lowBound'</span>: <span style=\"color: #000080; text-decoration-color: #000080; font-weight: bold\">0</span>,\n",
       "            <span style=\"color: #008000; text-decoration-color: #008000\">'upBound'</span>: <span style=\"color: #000080; text-decoration-color: #000080; font-weight: bold\">2</span>,\n",
       "            <span style=\"color: #008000; text-decoration-color: #008000\">'cat'</span>: <span style=\"color: #008000; text-decoration-color: #008000\">'Continuous'</span>,\n",
       "            <span style=\"color: #008000; text-decoration-color: #008000\">'varValue'</span>: <span style=\"color: #000080; text-decoration-color: #000080; font-weight: bold\">1.0</span>,\n",
       "            <span style=\"color: #008000; text-decoration-color: #008000\">'dj'</span>: <span style=\"color: #000080; text-decoration-color: #000080; font-weight: bold\">0.0</span>,\n",
       "            <span style=\"color: #008000; text-decoration-color: #008000\">'name'</span>: <span style=\"color: #008000; text-decoration-color: #008000\">'q_CB'</span>\n",
       "        <span style=\"font-weight: bold\">}</span>,\n",
       "        <span style=\"font-weight: bold\">{</span>\n",
       "            <span style=\"color: #008000; text-decoration-color: #008000\">'lowBound'</span>: <span style=\"color: #000080; text-decoration-color: #000080; font-weight: bold\">0</span>,\n",
       "            <span style=\"color: #008000; text-decoration-color: #008000\">'upBound'</span>: <span style=\"color: #000080; text-decoration-color: #000080; font-weight: bold\">4</span>,\n",
       "            <span style=\"color: #008000; text-decoration-color: #008000\">'cat'</span>: <span style=\"color: #008000; text-decoration-color: #008000\">'Continuous'</span>,\n",
       "            <span style=\"color: #008000; text-decoration-color: #008000\">'varValue'</span>: <span style=\"color: #000080; text-decoration-color: #000080; font-weight: bold\">4.0</span>,\n",
       "            <span style=\"color: #008000; text-decoration-color: #008000\">'dj'</span>: <span style=\"color: #000080; text-decoration-color: #000080; font-weight: bold\">0.0</span>,\n",
       "            <span style=\"color: #008000; text-decoration-color: #008000\">'name'</span>: <span style=\"color: #008000; text-decoration-color: #008000\">'q_CD'</span>\n",
       "        <span style=\"font-weight: bold\">}</span>,\n",
       "        <span style=\"font-weight: bold\">{</span>\n",
       "            <span style=\"color: #008000; text-decoration-color: #008000\">'lowBound'</span>: <span style=\"color: #000080; text-decoration-color: #000080; font-weight: bold\">0</span>,\n",
       "            <span style=\"color: #008000; text-decoration-color: #008000\">'upBound'</span>: <span style=\"color: #800080; text-decoration-color: #800080; font-style: italic\">None</span>,\n",
       "            <span style=\"color: #008000; text-decoration-color: #008000\">'cat'</span>: <span style=\"color: #008000; text-decoration-color: #008000\">'Continuous'</span>,\n",
       "            <span style=\"color: #008000; text-decoration-color: #008000\">'varValue'</span>: <span style=\"color: #000080; text-decoration-color: #000080; font-weight: bold\">9.0</span>,\n",
       "            <span style=\"color: #008000; text-decoration-color: #008000\">'dj'</span>: <span style=\"color: #000080; text-decoration-color: #000080; font-weight: bold\">0.0</span>,\n",
       "            <span style=\"color: #008000; text-decoration-color: #008000\">'name'</span>: <span style=\"color: #008000; text-decoration-color: #008000\">'q_p'</span>\n",
       "        <span style=\"font-weight: bold\">}</span>,\n",
       "        <span style=\"font-weight: bold\">{</span>\n",
       "            <span style=\"color: #008000; text-decoration-color: #008000\">'lowBound'</span>: <span style=\"color: #000080; text-decoration-color: #000080; font-weight: bold\">0</span>,\n",
       "            <span style=\"color: #008000; text-decoration-color: #008000\">'upBound'</span>: <span style=\"color: #800080; text-decoration-color: #800080; font-style: italic\">None</span>,\n",
       "            <span style=\"color: #008000; text-decoration-color: #008000\">'cat'</span>: <span style=\"color: #008000; text-decoration-color: #008000\">'Continuous'</span>,\n",
       "            <span style=\"color: #008000; text-decoration-color: #008000\">'varValue'</span>: <span style=\"color: #000080; text-decoration-color: #000080; font-weight: bold\">9.0</span>,\n",
       "            <span style=\"color: #008000; text-decoration-color: #008000\">'dj'</span>: <span style=\"color: #000080; text-decoration-color: #000080; font-weight: bold\">0.0</span>,\n",
       "            <span style=\"color: #008000; text-decoration-color: #008000\">'name'</span>: <span style=\"color: #008000; text-decoration-color: #008000\">'q_s'</span>\n",
       "        <span style=\"font-weight: bold\">}</span>\n",
       "    <span style=\"font-weight: bold\">]</span>,\n",
       "    <span style=\"color: #008000; text-decoration-color: #008000\">'parameters'</span>: <span style=\"font-weight: bold\">{</span>\n",
       "        <span style=\"color: #008000; text-decoration-color: #008000\">'name'</span>: <span style=\"color: #008000; text-decoration-color: #008000\">'flot_maximal'</span>,\n",
       "        <span style=\"color: #008000; text-decoration-color: #008000\">'sense'</span>: <span style=\"color: #000080; text-decoration-color: #000080; font-weight: bold\">-1</span>,\n",
       "        <span style=\"color: #008000; text-decoration-color: #008000\">'status'</span>: <span style=\"color: #000080; text-decoration-color: #000080; font-weight: bold\">1</span>,\n",
       "        <span style=\"color: #008000; text-decoration-color: #008000\">'sol_status'</span>: <span style=\"color: #000080; text-decoration-color: #000080; font-weight: bold\">1</span>\n",
       "    <span style=\"font-weight: bold\">}</span>,\n",
       "    <span style=\"color: #008000; text-decoration-color: #008000\">'sos1'</span>: <span style=\"font-weight: bold\">[]</span>,\n",
       "    <span style=\"color: #008000; text-decoration-color: #008000\">'sos2'</span>: <span style=\"font-weight: bold\">[]</span>\n",
       "<span style=\"font-weight: bold\">}</span>\n",
       "</pre>\n"
      ]
     },
     "metadata": {},
     "output_type": "display_data"
    }
   ],
   "source": [
    "flot_max.to_dict()"
   ]
  },
  {
   "cell_type": "code",
   "execution_count": 77,
   "id": "included-baltimore",
   "metadata": {},
   "outputs": [
    {
     "data": {
      "text/html": [
       "<pre style=\"white-space:pre;overflow-x:auto;line-height:normal;font-family:Menlo,'DejaVu Sans Mono',consolas,'Courier New',monospace\"><span style=\"color: #000080; text-decoration-color: #000080; font-weight: bold\">9.0</span>\n",
       "</pre>\n"
      ]
     },
     "metadata": {},
     "output_type": "display_data"
    }
   ],
   "source": [
    "flot_max.objective.value()"
   ]
  },
  {
   "cell_type": "markdown",
   "id": "romantic-country",
   "metadata": {},
   "source": [
    "# Exercice\n",
    "\n",
    "- Reprenez la méthode pour l'autre problème de flot maximal vu dans la séance précédente.\n",
    "- Codez une fonction qui génère le programme linéaire à partir du graphe."
   ]
  },
  {
   "cell_type": "code",
   "execution_count": null,
   "id": "special-square",
   "metadata": {},
   "outputs": [],
   "source": []
  }
 ],
 "metadata": {
  "kernelspec": {
   "display_name": "Python 3",
   "language": "python",
   "name": "python3"
  },
  "language_info": {
   "codemirror_mode": {
    "name": "ipython",
    "version": 3
   },
   "file_extension": ".py",
   "mimetype": "text/x-python",
   "name": "python",
   "nbconvert_exporter": "python",
   "pygments_lexer": "ipython3",
   "version": "3.8.3"
  }
 },
 "nbformat": 4,
 "nbformat_minor": 5
}
