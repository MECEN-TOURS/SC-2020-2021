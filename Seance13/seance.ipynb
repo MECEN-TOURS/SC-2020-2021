{
 "cells": [
  {
   "cell_type": "markdown",
   "id": "sound-elite",
   "metadata": {},
   "source": [
    "# Programmation linéaire"
   ]
  },
  {
   "cell_type": "markdown",
   "id": "northern-amateur",
   "metadata": {},
   "source": [
    "<img src=\"./elementaire.svg\" width=\"600\">"
   ]
  },
  {
   "cell_type": "markdown",
   "id": "about-setting",
   "metadata": {},
   "source": [
    "**VARIABLES**\n",
    "On appelera $q_{AB}$ le flot le long de l'arrête reliant $A$ à $B$.\n",
    "Et on adaptera la notation pour les autres arrêtes $q_{AC},q_{BD},q_{CB},q_{CD}$"
   ]
  },
  {
   "cell_type": "markdown",
   "id": "conscious-season",
   "metadata": {},
   "source": [
    "**CONTRAINTES ARRETES**\n",
    "On a les contraintes dûes aux capacité des arrêtes:\n",
    "\\begin{align}\n",
    "0 \\leq q_{AB} \\leq 4& &\\text{ arrete } AB\\\\\n",
    "0 \\leq q_{AC} \\leq 5& &\\text{ arrete } AC\\\\\n",
    "0 \\leq q_{BD} \\leq 5& &\\text{ arrete } BD\\\\\n",
    "0 \\leq q_{CB} \\leq 2& &\\text{ arrete } CB\\\\\n",
    "0 \\leq q_{CD} \\leq 4& &\\text{ arrete } CD\n",
    "\\end{align}"
   ]
  },
  {
   "cell_type": "markdown",
   "id": "featured-marijuana",
   "metadata": {},
   "source": [
    "**CONTRAINTES NOEUDS** sauf à la source $A$, et au puit $D$\n",
    "\n",
    "\\begin{align}\n",
    "q_{AB} + q_{CB} = q_{BD}& &\\text{ au noeud } B\\\\\n",
    "q_{AC} = q_{CB} + q_{CD}& &\\text{ au noeud } C\n",
    "\\end{align}"
   ]
  },
  {
   "cell_type": "markdown",
   "id": "united-title",
   "metadata": {},
   "source": [
    "**OBJECTIF**\n",
    "\n",
    "$$\n",
    "\\max q_{AB} + q_{AC}\n",
    "$$\n",
    "ou de manière équivalente\n",
    "$$\n",
    "\\max q_{BD} + q_{CD}\n",
    "$$"
   ]
  },
  {
   "cell_type": "markdown",
   "id": "native-pierce",
   "metadata": {},
   "source": [
    "**REMARQUE** \n",
    "- le problème de flot maximal est bien un problème de programmation linéaire.\n",
    "- l'algorithme utilisé la séance dernière est plus efficace que les algorithmes de programmation linéaire."
   ]
  },
  {
   "cell_type": "markdown",
   "id": "impossible-sugar",
   "metadata": {},
   "source": [
    "**CALCUL EQUIVALENCE**\n",
    "Pourquoi a-t-on \n",
    "$$q_{AB} + q_{AC} = q_{BD} + q_{CD}$$\n",
    "lorsque les contraintes sont satisfaites?"
   ]
  },
  {
   "cell_type": "code",
   "execution_count": null,
   "id": "viral-motion",
   "metadata": {},
   "outputs": [],
   "source": []
  }
 ],
 "metadata": {
  "kernelspec": {
   "display_name": "Python 3",
   "language": "python",
   "name": "python3"
  },
  "language_info": {
   "codemirror_mode": {
    "name": "ipython",
    "version": 3
   },
   "file_extension": ".py",
   "mimetype": "text/x-python",
   "name": "python",
   "nbconvert_exporter": "python",
   "pygments_lexer": "ipython3",
   "version": "3.8.3"
  }
 },
 "nbformat": 4,
 "nbformat_minor": 5
}
