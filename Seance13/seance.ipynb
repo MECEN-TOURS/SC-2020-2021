{
 "cells": [
  {
   "cell_type": "markdown",
   "id": "eleven-night",
   "metadata": {},
   "source": [
    "# Programmation linéaire"
   ]
  },
  {
   "cell_type": "markdown",
   "id": "contained-permit",
   "metadata": {},
   "source": [
    "## Flot Maximal"
   ]
  },
  {
   "cell_type": "markdown",
   "id": "acting-acrobat",
   "metadata": {},
   "source": [
    "<img src=\"./elementaire.svg\" width=\"600\">"
   ]
  },
  {
   "cell_type": "markdown",
   "id": "impressed-combine",
   "metadata": {},
   "source": [
    "**VARIABLES**\n",
    "On appelera $q_{AB}$ le flot le long de l'arrête reliant $A$ à $B$.\n",
    "Et on adaptera la notation pour les autres arrêtes $q_{AC},q_{BD},q_{CB},q_{CD}$"
   ]
  },
  {
   "cell_type": "markdown",
   "id": "blond-disability",
   "metadata": {},
   "source": [
    "**CONTRAINTES ARRETES**\n",
    "On a les contraintes dûes aux capacité des arrêtes:\n",
    "\\begin{align}\n",
    "0 \\leq q_{AB} \\leq 4& &\\text{ arrete } AB\\\\\n",
    "0 \\leq q_{AC} \\leq 5& &\\text{ arrete } AC\\\\\n",
    "0 \\leq q_{BD} \\leq 5& &\\text{ arrete } BD\\\\\n",
    "0 \\leq q_{CB} \\leq 2& &\\text{ arrete } CB\\\\\n",
    "0 \\leq q_{CD} \\leq 4& &\\text{ arrete } CD\n",
    "\\end{align}"
   ]
  },
  {
   "cell_type": "markdown",
   "id": "affiliated-description",
   "metadata": {},
   "source": [
    "**CONTRAINTES NOEUDS** sauf à la source $A$, et au puit $D$\n",
    "\n",
    "\\begin{align}\n",
    "q_{AB} + q_{CB} = q_{BD}& &\\text{ au noeud } B\\\\\n",
    "q_{AC} = q_{CB} + q_{CD}& &\\text{ au noeud } C\n",
    "\\end{align}"
   ]
  },
  {
   "cell_type": "markdown",
   "id": "seeing-dispatch",
   "metadata": {},
   "source": [
    "**OBJECTIF**\n",
    "\n",
    "$$\n",
    "\\max q_{AB} + q_{AC}\n",
    "$$\n",
    "ou de manière équivalente\n",
    "$$\n",
    "\\max q_{BD} + q_{CD}\n",
    "$$"
   ]
  },
  {
   "cell_type": "markdown",
   "id": "endangered-appendix",
   "metadata": {},
   "source": [
    "**REMARQUE** \n",
    "- le problème de flot maximal est bien un problème de programmation linéaire.\n",
    "- l'algorithme utilisé la séance dernière est plus efficace que les algorithmes de programmation linéaire."
   ]
  },
  {
   "cell_type": "markdown",
   "id": "optional-mediterranean",
   "metadata": {},
   "source": [
    "**CALCUL EQUIVALENCE**\n",
    "5 min -> 10h35\n",
    "\n",
    "Pourquoi a-t-on \n",
    "$$q_{AB} + q_{AC} = q_{BD} + q_{CD}$$\n",
    "lorsque les contraintes sont satisfaites?"
   ]
  },
  {
   "cell_type": "markdown",
   "id": "decent-rates",
   "metadata": {},
   "source": [
    "**ETAPE 1** on ajoute toutes les égalités aux noeuds.\n",
    "\n",
    "$$\n",
    "q_{AB} + q_{CB} + q_{AC} = q_{BD} + q_{CB} + q_{CD}\n",
    "$$\n",
    "\n",
    "**ETAPE 2** on élimine les quantités présentes des deux côtés\n",
    "$$\n",
    "q_{AB} + q_{AC} = q_{BD} + q_{CD}\n",
    "$$\n",
    "\n",
    "**COMPLEMENT** expliquer pourquoi cette démarche marche de manière générale."
   ]
  },
  {
   "cell_type": "markdown",
   "id": "acute-taxation",
   "metadata": {},
   "source": [
    "## Reformulation\n",
    "\n",
    "On introduit des arrêtes artificielles entrant dans la source et sortant du puit.\n",
    "\n",
    "<img src=\"./elementaire_bis.svg\" width=\"600\">\n",
    "\n",
    "**VARIABLES**\n",
    "\n",
    "$q_s, q_{AB}, q_{AC},q_{BD},q_{CB},q_{CD}, q_p$\n",
    "\n",
    "**CONTRAINTES ARRETES**\n",
    "\n",
    "\\begin{align}\n",
    "&0\\leq q_s&\\\\\n",
    "&0 \\leq q_{AB} \\leq 4 &\\text{ arrete } AB\\\\\n",
    "&0 \\leq q_{AC} \\leq 5 &\\text{ arrete } AC\\\\\n",
    "&0 \\leq q_{BD} \\leq 5 &\\text{ arrete } BD\\\\\n",
    "&0 \\leq q_{CB} \\leq 2 &\\text{ arrete } CB\\\\\n",
    "&0 \\leq q_{CD} \\leq 4 &\\text{ arrete } CD\\\\\n",
    "&0\\leq q_p&\n",
    "\\end{align}\n",
    "\n",
    "**CONTRAINTES NOEUDS**\n",
    "\n",
    "\\begin{align}\n",
    "&q_s = q_{AB} + q_{AC} &\\text{ au noeud } A\\\\\n",
    "&q_{AB} + q_{CB} = q_{BD} &\\text{ au noeud } B\\\\\n",
    "&q_{AC} = q_{CB} + q_{CD} &\\text{ au noeud } C\\\\\n",
    "& q_{BD} + q_{CD} = q_p &\\text{ au noeud } D\n",
    "\\end{align}\n",
    "\n",
    "**OBJECTIF**\n",
    "\n",
    "$$\\max q_s$$\n",
    "ou de manière équivalente (là encore il suffit de sommet toutes les égalités aux sommets)\n",
    "$$\\max q_p$$"
   ]
  },
  {
   "cell_type": "markdown",
   "id": "atomic-identity",
   "metadata": {},
   "source": [
    "## Résolution avec `scipy`"
   ]
  },
  {
   "cell_type": "code",
   "execution_count": 1,
   "id": "affiliated-steering",
   "metadata": {},
   "outputs": [],
   "source": [
    "from scipy.optimize import linprog"
   ]
  },
  {
   "cell_type": "code",
   "execution_count": 2,
   "id": "objective-department",
   "metadata": {},
   "outputs": [],
   "source": [
    "import numpy as np"
   ]
  },
  {
   "cell_type": "markdown",
   "id": "secondary-celtic",
   "metadata": {},
   "source": [
    "### Exercice\n",
    "10min -> 11h\n",
    "\n",
    "Résolvez les programmes linéaires ci-dessus avec `linprog`.\n"
   ]
  }
 ],
 "metadata": {
  "kernelspec": {
   "display_name": "Python 3",
   "language": "python",
   "name": "python3"
  },
  "language_info": {
   "codemirror_mode": {
    "name": "ipython",
    "version": 3
   },
   "file_extension": ".py",
   "mimetype": "text/x-python",
   "name": "python",
   "nbconvert_exporter": "python",
   "pygments_lexer": "ipython3",
   "version": "3.8.3"
  }
 },
 "nbformat": 4,
 "nbformat_minor": 5
}
