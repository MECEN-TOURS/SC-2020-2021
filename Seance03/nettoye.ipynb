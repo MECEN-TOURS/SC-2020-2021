{
 "cells": [
  {
   "cell_type": "markdown",
   "metadata": {},
   "source": [
    "# Introduction du problème\n",
    "\n",
    "1. Un berger, un loup, un mouton et un chou d'un côté d'une rivière.\n",
    "2. Ils veulent traverser cette rivière.\n",
    "3. Ils possèdent une barque de 2 places.\n",
    "4. Le berger est toujours dans la barque lors d'une traversée.\n",
    "5. Le berger ne peut pas laisser sans surveilance:\n",
    "    - le loup et le mouton\n",
    "    - le mouton et le chou\n",
    "6. Comment doit on planifier les traversées pour que tout le monde passent la rivière?"
   ]
  },
  {
   "cell_type": "markdown",
   "metadata": {},
   "source": [
    "# Résolution du problème"
   ]
  },
  {
   "cell_type": "code",
   "execution_count": 1,
   "metadata": {},
   "outputs": [],
   "source": [
    "import auxiliaire as aux\n",
    "from rich import print\n",
    "from importlib import reload # si jamais on voulait recharger une librairie en cours dans redémarrer le notebook"
   ]
  },
  {
   "cell_type": "code",
   "execution_count": 2,
   "metadata": {},
   "outputs": [
    {
     "data": {
      "text/plain": [
       "<module 'auxiliaire' from '/home/vincent/projets/COURS/SC-2020-2021/Seance03/auxiliaire.py'>"
      ]
     },
     "execution_count": 2,
     "metadata": {},
     "output_type": "execute_result"
    }
   ],
   "source": [
    "reload(aux)"
   ]
  },
  {
   "cell_type": "code",
   "execution_count": 2,
   "metadata": {},
   "outputs": [
    {
     "data": {
      "text/plain": [
       "\u001b[0;31mType:\u001b[0m        module\n",
       "\u001b[0;31mString form:\u001b[0m <module 'auxiliaire' from '/home/vincent/projets/COURS/SC-2020-2021/Seance03/auxiliaire.py'>\n",
       "\u001b[0;31mFile:\u001b[0m        ~/projets/COURS/SC-2020-2021/Seance03/auxiliaire.py\n",
       "\u001b[0;31mDocstring:\u001b[0m  \n",
       "Description.\n",
       "\n",
       "Module auxiliaire pour la résolution du problème de traversée.\n",
       "\n",
       "Variables globales:\n",
       "- COTES\n",
       "- PERSONNAGES\n",
       "- DEPART\n",
       "- ARRIVEE\n",
       "- SOMMETS\n",
       "- GRAPHE\n",
       "\n",
       "Fonctions:\n",
       "- est_valide\n",
       "- sont_connectes\n",
       "- genere_etats\n",
       "- genere_graphe\n",
       "- sont_relies\n",
       "- test_sont_relies\n",
       "- est_absent\n",
       "- test_est_absent\n",
       "- remonte_arbre\n",
       "- test_remonte_arbre\n",
       "- trouve_chemin\n",
       "- test_trouve_chemin\n"
      ]
     },
     "metadata": {},
     "output_type": "display_data"
    }
   ],
   "source": [
    "aux?"
   ]
  },
  {
   "cell_type": "code",
   "execution_count": 3,
   "metadata": {
    "collapsed": true,
    "jupyter": {
     "outputs_hidden": true
    }
   },
   "outputs": [
    {
     "name": "stdout",
     "output_type": "stream",
     "text": [
      "Help on module auxiliaire:\n",
      "\n",
      "NAME\n",
      "    auxiliaire - Description.\n",
      "\n",
      "DESCRIPTION\n",
      "    Module auxiliaire pour la résolution du problème de traversée.\n",
      "    \n",
      "    Variables globales:\n",
      "    - COTES\n",
      "    - PERSONNAGES\n",
      "    - DEPART\n",
      "    - ARRIVEE\n",
      "    - SOMMETS\n",
      "    - GRAPHE\n",
      "    \n",
      "    Fonctions:\n",
      "    - est_valide\n",
      "    - sont_connectes\n",
      "    - genere_etats\n",
      "    - genere_graphe\n",
      "    - sont_relies\n",
      "    - test_sont_relies\n",
      "    - est_absent\n",
      "    - test_est_absent\n",
      "    - remonte_arbre\n",
      "    - test_remonte_arbre\n",
      "    - trouve_chemin\n",
      "    - test_trouve_chemin\n",
      "\n",
      "FUNCTIONS\n",
      "    est_absent(sommet_cherche: <function NewType.<locals>.new_type at 0x7f3eb0345670>, arretes: List[Arrete]) -> bool\n",
      "        Décide si le sommet apparaît comme origine d'une des arrêtes.\n",
      "        \n",
      "        Exemples:\n",
      "        >>> est_absent(\n",
      "        ...     sommet_cherche=\"A\",\n",
      "        ...     arretes=[(\"A\", \"B\"), (\"B\", \"C\"), (\"C\", \"D\")]\n",
      "        ... )\n",
      "        False\n",
      "        >>> est_absent(\n",
      "        ...     sommet_cherche=\"A\",\n",
      "        ...     arretes=[(\"B\", \"C\"), (\"C\", \"D\"), (\"A\", \"B\")]\n",
      "        ... )\n",
      "        False\n",
      "        >>> est_absent(\n",
      "        ...     sommet_cherche=\"D\",\n",
      "        ...     arretes=[(\"B\", \"C\"), (\"C\", \"D\"), (\"A\", \"B\")]\n",
      "        ... )\n",
      "        True\n",
      "    \n",
      "    est_valide(etat: <function NewType.<locals>.new_type at 0x7f3eb0345670>) -> bool\n",
      "        Fonction implémentant la règle Loup/Mouton Mouton/Chou.\n",
      "        \n",
      "        Exemples:\n",
      "        >>> est_valide({\"Berger\": \"Gauche\", \"Loup\": \"Gauche\", \"Mouton\": \"Gauche\", \"Choux\": \"Gauche\"})\n",
      "        True\n",
      "        >>> est_valide({\"Berger\": \"Gauche\", \"Loup\": \"Droite\", \"Mouton\": \"Droite\", \"Choux\": \"Gauche\"})\n",
      "        False\n",
      "    \n",
      "    genere_etats(clefs: List[Literal['Berger', 'Loup', 'Mouton', 'Choux']], valeurs: List[Literal['Gauche', 'Droite']]) -> List[Etat]\n",
      "        Genere les etats correspondant au problème de la traversée.\n",
      "        \n",
      "        Exemples:\n",
      "        >>> genere_etats(clefs=[\"Berger\", \"Loup\"], valeurs=[\"Gauche\", \"Droite\"])\n",
      "        [\n",
      "            {'Berger': 'Gauche', 'Loup': 'Gauche'},\n",
      "            {'Berger': 'Gauche', 'Loup': 'Droite'},\n",
      "            {'Berger': 'Droite', 'Loup': 'Gauche'},\n",
      "            {'Berger': 'Droite', 'Loup': 'Droite'}\n",
      "        ]\n",
      "    \n",
      "    genere_graphe(sommets: List[Etat], contraintes=typing.List[typing.Callable]) -> <function NewType.<locals>.new_type at 0x7f3eb03458b0>\n",
      "        Renvoie le graphe associé au problème.\n",
      "        \n",
      "        Exemple:\n",
      "        >>> genere_graphe(sommets=[DEPART, ARRIVEE], contraintes=[lambda e1, e2: e1 != e2])\n",
      "        (\n",
      "            [\n",
      "                {'Berger': 'Gauche', 'Loup': 'Gauche', 'Mouton': 'Gauche', 'Choux': 'Gauche'},\n",
      "                {'Berger': 'Droite', 'Loup': 'Droite', 'Mouton': 'Droite', 'Choux': 'Droite'}\n",
      "            ],\n",
      "            [\n",
      "                (\n",
      "                    {'Berger': 'Gauche', 'Loup': 'Gauche', 'Mouton': 'Gauche', 'Choux': 'Gauche'},\n",
      "                    {'Berger': 'Droite', 'Loup': 'Droite', 'Mouton': 'Droite', 'Choux': 'Droite'},\n",
      "                ),\n",
      "                (\n",
      "                    {'Berger': 'Droite', 'Loup': 'Droite', 'Mouton': 'Droite', 'Choux': 'Droite'},\n",
      "                    {'Berger': 'Gauche', 'Loup': 'Gauche', 'Mouton': 'Gauche', 'Choux': 'Gauche'},\n",
      "                )\n",
      "            ]\n",
      "        )\n",
      "    \n",
      "    remonte_arbre(depart: <function NewType.<locals>.new_type at 0x7f3eb0345670>, arrivee: <function NewType.<locals>.new_type at 0x7f3eb0345670>, arbre: List[Arrete]) -> <function NewType.<locals>.new_type at 0x7f3eb03453a0>\n",
      "        Génère un chemin entre depart et arrivee utilisant les arrêtes de l'arbre.\n",
      "        \n",
      "        Exemple:\n",
      "        >>> remonte_arbre(\n",
      "        ...     depart=\"D\",\n",
      "        ...     arrivee=\"A\",\n",
      "        ...     arbre=[(\"A\", \"B\"), (\"B\", \"C\"), (\"C\", \"D\")]\n",
      "        ... )\n",
      "        ['D', 'C', 'B', 'A']\n",
      "    \n",
      "    sont_connectes(etat_depart: <function NewType.<locals>.new_type at 0x7f3eb0345670>, etat_arrivee: <function NewType.<locals>.new_type at 0x7f3eb0345670>) -> bool\n",
      "        Décide si deux états forment une arrête.\n",
      "        \n",
      "        Exemples:\n",
      "        >>> sont_connectes(\n",
      "        ...     etat_depart={\n",
      "        ...         \"Berger\": \"Gauche\",\n",
      "        ...         \"Loup\": \"Gauche\",\n",
      "        ...         \"Mouton\": \"Droite\",\n",
      "        ...         \"Choux\": \"Droite\"\n",
      "        ...     },\n",
      "        ...     etat_arrivee={\n",
      "        ...         \"Berger\": \"Droite\",\n",
      "        ...         \"Loup\": \"Gauche\",\n",
      "        ...         \"Mouton\": \"Droite\",\n",
      "        ...         \"Choux\": \"Droite\"\n",
      "        ...     }\n",
      "            ... )\n",
      "        True\n",
      "        >>> sont_connectes(\n",
      "        ...     etat_depart={\n",
      "        ...         \"Berger\": \"Gauche\",\n",
      "        ...         \"Loup\": \"Gauche\",\n",
      "        ...         \"Mouton\": \"Droite\",\n",
      "        ...         \"Choux\": \"Droite\"\n",
      "        ...     },\n",
      "        ...     etat_arrivee={\n",
      "        ...         \"Berger\": \"Droite\",\n",
      "        ...         \"Loup\": \"Droite\",\n",
      "        ...         \"Mouton\": \"Droite\",\n",
      "        ...         \"Choux\": \"Droite\"\n",
      "        ...     }\n",
      "        ... )\n",
      "        True\n",
      "        >>> sont_connectes(\n",
      "        ...     etat_depart={\n",
      "        ...         \"Berger\": \"Gauche\",\n",
      "        ...         \"Loup\": \"Gauche\",\n",
      "        ...         \"Mouton\": \"Droite\",\n",
      "        ...         \"Choux\": \"Droite\"\n",
      "        ...     },\n",
      "        ...     etat_arrivee={\n",
      "        ...         \"Berger\": \"Droite\",\n",
      "        ...         \"Loup\": \"Gauche\",\n",
      "        ...         \"Mouton\": \"Gauche\",\n",
      "        ...         \"Choux\": \"Droite\"\n",
      "        ...     }\n",
      "        ... )\n",
      "        False\n",
      "    \n",
      "    sont_relies(depart: <function NewType.<locals>.new_type at 0x7f3eb0345670>, arrivee: <function NewType.<locals>.new_type at 0x7f3eb0345670>, graphe: <function NewType.<locals>.new_type at 0x7f3eb03458b0>) -> bool\n",
      "        Décide si un chemin du graphe relie les deux états.\n",
      "        \n",
      "        Exemples:\n",
      "        >>> sont_relies(\n",
      "        ...     depart=\"A\",\n",
      "        ...     arrivee=\"D\",\n",
      "        ...     graphe=(\n",
      "        ...         [\"A\", \"B\", \"C\", \"D\"],\n",
      "        ...         [(\"A\", \"B\"), (\"A\", \"C\"), (\"C\", \"D\")]\n",
      "        ...     )\n",
      "        ... )\n",
      "        True\n",
      "        >>> sont_relies(\n",
      "        ...     depart=\"A\",\n",
      "        ...     arrivee=\"D\",\n",
      "        ...     graphe=(\n",
      "        ...         [\"A\", \"B\", \"C\", \"D\"],\n",
      "        ...         [(\"A\", \"B\"), (\"C\", \"D\")]\n",
      "        ...     )\n",
      "        ... )\n",
      "        False\n",
      "    \n",
      "    test_est_absent()\n",
      "        Test sur trois cas particuliers la fonction.\n",
      "    \n",
      "    test_remonte_arbre() -> bool\n",
      "        Test sur trois cas particuliers la fonction.\n",
      "    \n",
      "    test_sont_relies()\n",
      "        Test sur deux cas particuliers la fonction.\n",
      "    \n",
      "    test_trouve_chemin() -> bool\n",
      "        Test sur deux cas particuliers la fonction.\n",
      "    \n",
      "    trouve_chemin(depart: <function NewType.<locals>.new_type at 0x7f3eb0345670>, arrivee: <function NewType.<locals>.new_type at 0x7f3eb0345670>, graphe: <function NewType.<locals>.new_type at 0x7f3eb03458b0>) -> <function NewType.<locals>.new_type at 0x7f3eb03453a0>\n",
      "        Renvoie un chemin reliant depart et arrivee à travers le graphe.\n",
      "        \n",
      "        Renvoie la liste vide si il n'existe pas de tel chemin.\n",
      "        \n",
      "        Exemples:\n",
      "        >>> trouve_chemin(\n",
      "        ...     depart=\"A\",\n",
      "        ...     arrivee=\"D\",\n",
      "        ...     graphe=(\n",
      "        ...         [\"A\", \"B\", \"C\", \"D\"],\n",
      "        ...         [(\"A\", \"B\"), (\"A\", \"C\"), (\"C\", \"D\")]\n",
      "        ...     )\n",
      "        ... )\n",
      "        ['A', 'C', 'D']\n",
      "        >>> trouve_chemin(\n",
      "        ...     depart=\"A\",\n",
      "        ...     arrivee=\"D\",\n",
      "        ...     graphe=(\n",
      "        ...         [\"A\", \"B\", \"C\", \"D\"],\n",
      "        ...         [(\"A\", \"B\"), (\"C\", \"D\")]\n",
      "        ...     )\n",
      "        ... )\n",
      "        []\n",
      "\n",
      "DATA\n",
      "    ARRIVEE = {'Berger': 'Droite', 'Choux': 'Droite', 'Loup': 'Droite', 'M...\n",
      "    COTES = ['Gauche', 'Droite']\n",
      "    Callable = typing.Callable\n",
      "    Cote = typing.Literal['Gauche', 'Droite']\n",
      "    DEPART = {'Berger': 'Gauche', 'Choux': 'Gauche', 'Loup': 'Gauche', 'Mo...\n",
      "    Dict = typing.Dict\n",
      "    GRAPHE = ([{'Berger': 'Gauche', 'Choux': 'Gauche', 'Loup': 'Gauche', '...\n",
      "    List = typing.List\n",
      "    Literal = typing.Literal\n",
      "    PERSONNAGES = ['Berger', 'Loup', 'Mouton', 'Choux']\n",
      "    Personnage = typing.Literal['Berger', 'Loup', 'Mouton', 'Choux']\n",
      "    SOMMETS = [{'Berger': 'Gauche', 'Choux': 'Gauche', 'Loup': 'Gauche', '...\n",
      "    Tuple = typing.Tuple\n",
      "    __annotations__ = {'COTES': typing.List[typing.Literal['Gauche', 'Droi...\n",
      "\n",
      "FILE\n",
      "    /home/vincent/projets/COURS/SC-2020-2021/Seance03/auxiliaire.py\n",
      "\n",
      "\n"
     ]
    }
   ],
   "source": [
    "help(aux)"
   ]
  },
  {
   "cell_type": "markdown",
   "metadata": {},
   "source": [
    "## Modélisation\n",
    "\n",
    "- On introduit les constantes `PERSONNAGES` et `COTES` contenant les différentes valeurs possibles.\n",
    "- On introduit les types litéraux `Personnage` et `Cote` pour représenter chaines de caractères admissibles.\n",
    "- Un état du problème est représenté par un `dict` qui associe à chaque personnage, le côté de la rivière où il se trouve. On utilise le type `Etat` à cet effet.\n",
    "- Les sommets sont les états respectant la règle additionnel. On encode en python cette structure comme `List[Etat]`\n",
    "- Deux états sont reliés par une arrête lorsque on passe de l'un à l'autre avec exactement une traversée de barque. On encode cette structure en python via un couple d'état. On introduit le type `Arrete`.\n",
    "- Finalement le graphe sera le couple constitué de la list des états admissibles (aka les sommets) et de la liste des arrêtes. On introduit le type `Graphe` à cet effet."
   ]
  },
  {
   "cell_type": "code",
   "execution_count": 4,
   "metadata": {},
   "outputs": [
    {
     "data": {
      "text/html": [
       "<pre style=\"white-space:pre;overflow-x:auto;line-height:normal;font-family:Menlo,'DejaVu Sans Mono',consolas,'Courier New',monospace\">typing.Literal<span style=\"font-weight: bold\">[</span><span style=\"color: #008000\">'Berger'</span>, <span style=\"color: #008000\">'Loup'</span>, <span style=\"color: #008000\">'Mouton'</span>, <span style=\"color: #008000\">'Choux'</span><span style=\"font-weight: bold\">]</span>\n",
       "</pre>\n"
      ],
      "text/plain": [
       "<rich.jupyter.JupyterRenderable at 0x7fc829f89490>"
      ]
     },
     "metadata": {},
     "output_type": "display_data"
    }
   ],
   "source": [
    "print(aux.Personnage)"
   ]
  },
  {
   "cell_type": "code",
   "execution_count": 5,
   "metadata": {},
   "outputs": [
    {
     "data": {
      "text/html": [
       "<pre style=\"white-space:pre;overflow-x:auto;line-height:normal;font-family:Menlo,'DejaVu Sans Mono',consolas,'Courier New',monospace\">typing.Literal<span style=\"font-weight: bold\">[</span><span style=\"color: #008000\">'Gauche'</span>, <span style=\"color: #008000\">'Droite'</span><span style=\"font-weight: bold\">]</span>\n",
       "</pre>\n"
      ],
      "text/plain": [
       "<rich.jupyter.JupyterRenderable at 0x7fc829e29bb0>"
      ]
     },
     "metadata": {},
     "output_type": "display_data"
    }
   ],
   "source": [
    "print(aux.Cote)"
   ]
  },
  {
   "cell_type": "code",
   "execution_count": 6,
   "metadata": {},
   "outputs": [
    {
     "data": {
      "text/html": [
       "<pre style=\"white-space:pre;overflow-x:auto;line-height:normal;font-family:Menlo,'DejaVu Sans Mono',consolas,'Courier New',monospace\"><span style=\"font-weight: bold\">[</span><span style=\"color: #008000\">'Berger'</span>, <span style=\"color: #008000\">'Loup'</span>, <span style=\"color: #008000\">'Mouton'</span>, <span style=\"color: #008000\">'Choux'</span><span style=\"font-weight: bold\">]</span>\n",
       "</pre>\n"
      ],
      "text/plain": [
       "<rich.jupyter.JupyterRenderable at 0x7fc829e29ca0>"
      ]
     },
     "metadata": {},
     "output_type": "display_data"
    }
   ],
   "source": [
    "print(aux.PERSONNAGES)"
   ]
  },
  {
   "cell_type": "code",
   "execution_count": 7,
   "metadata": {},
   "outputs": [
    {
     "data": {
      "text/html": [
       "<pre style=\"white-space:pre;overflow-x:auto;line-height:normal;font-family:Menlo,'DejaVu Sans Mono',consolas,'Courier New',monospace\"><span style=\"font-weight: bold\">[</span><span style=\"color: #008000\">'Gauche'</span>, <span style=\"color: #008000\">'Droite'</span><span style=\"font-weight: bold\">]</span>\n",
       "</pre>\n"
      ],
      "text/plain": [
       "<rich.jupyter.JupyterRenderable at 0x7fc8380436d0>"
      ]
     },
     "metadata": {},
     "output_type": "display_data"
    }
   ],
   "source": [
    "print(aux.COTES)"
   ]
  },
  {
   "cell_type": "code",
   "execution_count": 8,
   "metadata": {},
   "outputs": [
    {
     "data": {
      "text/html": [
       "<pre style=\"white-space:pre;overflow-x:auto;line-height:normal;font-family:Menlo,'DejaVu Sans Mono',consolas,'Courier New',monospace\"><span style=\"font-weight: bold\">{</span><span style=\"color: #008000\">'Berger'</span>: <span style=\"color: #008000\">'Gauche'</span>, <span style=\"color: #008000\">'Loup'</span>: <span style=\"color: #008000\">'Gauche'</span>, <span style=\"color: #008000\">'Mouton'</span>: <span style=\"color: #008000\">'Gauche'</span>, <span style=\"color: #008000\">'Choux'</span>: <span style=\"color: #008000\">'Gauche'</span><span style=\"font-weight: bold\">}</span>\n",
       "</pre>\n"
      ],
      "text/plain": [
       "<rich.jupyter.JupyterRenderable at 0x7fc82a7c5c70>"
      ]
     },
     "metadata": {},
     "output_type": "display_data"
    }
   ],
   "source": [
    "print(aux.DEPART)"
   ]
  },
  {
   "cell_type": "code",
   "execution_count": 9,
   "metadata": {},
   "outputs": [
    {
     "data": {
      "text/html": [
       "<pre style=\"white-space:pre;overflow-x:auto;line-height:normal;font-family:Menlo,'DejaVu Sans Mono',consolas,'Courier New',monospace\"><span style=\"font-weight: bold\">{</span><span style=\"color: #008000\">'Berger'</span>: <span style=\"color: #008000\">'Droite'</span>, <span style=\"color: #008000\">'Loup'</span>: <span style=\"color: #008000\">'Droite'</span>, <span style=\"color: #008000\">'Mouton'</span>: <span style=\"color: #008000\">'Droite'</span>, <span style=\"color: #008000\">'Choux'</span>: <span style=\"color: #008000\">'Droite'</span><span style=\"font-weight: bold\">}</span>\n",
       "</pre>\n"
      ],
      "text/plain": [
       "<rich.jupyter.JupyterRenderable at 0x7fc829f89a00>"
      ]
     },
     "metadata": {},
     "output_type": "display_data"
    }
   ],
   "source": [
    "print(aux.ARRIVEE)"
   ]
  },
  {
   "cell_type": "code",
   "execution_count": null,
   "metadata": {},
   "outputs": [],
   "source": []
  },
  {
   "cell_type": "markdown",
   "metadata": {},
   "source": [
    "## Résolution"
   ]
  },
  {
   "cell_type": "code",
   "execution_count": 10,
   "metadata": {},
   "outputs": [
    {
     "data": {
      "text/html": [
       "<pre style=\"white-space:pre;overflow-x:auto;line-height:normal;font-family:Menlo,'DejaVu Sans Mono',consolas,'Courier New',monospace\"><span style=\"font-weight: bold\">[</span>\n",
       "    <span style=\"font-weight: bold\">{</span><span style=\"color: #008000\">'Berger'</span>: <span style=\"color: #008000\">'Gauche'</span>, <span style=\"color: #008000\">'Loup'</span>: <span style=\"color: #008000\">'Gauche'</span>, <span style=\"color: #008000\">'Mouton'</span>: <span style=\"color: #008000\">'Gauche'</span>, <span style=\"color: #008000\">'Choux'</span>: <span style=\"color: #008000\">'Gauche'</span><span style=\"font-weight: bold\">}</span>,\n",
       "    <span style=\"font-weight: bold\">{</span><span style=\"color: #008000\">'Berger'</span>: <span style=\"color: #008000\">'Gauche'</span>, <span style=\"color: #008000\">'Loup'</span>: <span style=\"color: #008000\">'Gauche'</span>, <span style=\"color: #008000\">'Mouton'</span>: <span style=\"color: #008000\">'Gauche'</span>, <span style=\"color: #008000\">'Choux'</span>: <span style=\"color: #008000\">'Droite'</span><span style=\"font-weight: bold\">}</span>,\n",
       "    <span style=\"font-weight: bold\">{</span><span style=\"color: #008000\">'Berger'</span>: <span style=\"color: #008000\">'Gauche'</span>, <span style=\"color: #008000\">'Loup'</span>: <span style=\"color: #008000\">'Gauche'</span>, <span style=\"color: #008000\">'Mouton'</span>: <span style=\"color: #008000\">'Droite'</span>, <span style=\"color: #008000\">'Choux'</span>: <span style=\"color: #008000\">'Gauche'</span><span style=\"font-weight: bold\">}</span>,\n",
       "    <span style=\"font-weight: bold\">{</span><span style=\"color: #008000\">'Berger'</span>: <span style=\"color: #008000\">'Gauche'</span>, <span style=\"color: #008000\">'Loup'</span>: <span style=\"color: #008000\">'Droite'</span>, <span style=\"color: #008000\">'Mouton'</span>: <span style=\"color: #008000\">'Gauche'</span>, <span style=\"color: #008000\">'Choux'</span>: <span style=\"color: #008000\">'Gauche'</span><span style=\"font-weight: bold\">}</span>,\n",
       "    <span style=\"font-weight: bold\">{</span><span style=\"color: #008000\">'Berger'</span>: <span style=\"color: #008000\">'Gauche'</span>, <span style=\"color: #008000\">'Loup'</span>: <span style=\"color: #008000\">'Droite'</span>, <span style=\"color: #008000\">'Mouton'</span>: <span style=\"color: #008000\">'Gauche'</span>, <span style=\"color: #008000\">'Choux'</span>: <span style=\"color: #008000\">'Droite'</span><span style=\"font-weight: bold\">}</span>,\n",
       "    <span style=\"font-weight: bold\">{</span><span style=\"color: #008000\">'Berger'</span>: <span style=\"color: #008000\">'Droite'</span>, <span style=\"color: #008000\">'Loup'</span>: <span style=\"color: #008000\">'Gauche'</span>, <span style=\"color: #008000\">'Mouton'</span>: <span style=\"color: #008000\">'Droite'</span>, <span style=\"color: #008000\">'Choux'</span>: <span style=\"color: #008000\">'Gauche'</span><span style=\"font-weight: bold\">}</span>,\n",
       "    <span style=\"font-weight: bold\">{</span><span style=\"color: #008000\">'Berger'</span>: <span style=\"color: #008000\">'Droite'</span>, <span style=\"color: #008000\">'Loup'</span>: <span style=\"color: #008000\">'Gauche'</span>, <span style=\"color: #008000\">'Mouton'</span>: <span style=\"color: #008000\">'Droite'</span>, <span style=\"color: #008000\">'Choux'</span>: <span style=\"color: #008000\">'Droite'</span><span style=\"font-weight: bold\">}</span>,\n",
       "    <span style=\"font-weight: bold\">{</span><span style=\"color: #008000\">'Berger'</span>: <span style=\"color: #008000\">'Droite'</span>, <span style=\"color: #008000\">'Loup'</span>: <span style=\"color: #008000\">'Droite'</span>, <span style=\"color: #008000\">'Mouton'</span>: <span style=\"color: #008000\">'Gauche'</span>, <span style=\"color: #008000\">'Choux'</span>: <span style=\"color: #008000\">'Droite'</span><span style=\"font-weight: bold\">}</span>,\n",
       "    <span style=\"font-weight: bold\">{</span><span style=\"color: #008000\">'Berger'</span>: <span style=\"color: #008000\">'Droite'</span>, <span style=\"color: #008000\">'Loup'</span>: <span style=\"color: #008000\">'Droite'</span>, <span style=\"color: #008000\">'Mouton'</span>: <span style=\"color: #008000\">'Droite'</span>, <span style=\"color: #008000\">'Choux'</span>: <span style=\"color: #008000\">'Gauche'</span><span style=\"font-weight: bold\">}</span>,\n",
       "    <span style=\"font-weight: bold\">{</span><span style=\"color: #008000\">'Berger'</span>: <span style=\"color: #008000\">'Droite'</span>, <span style=\"color: #008000\">'Loup'</span>: <span style=\"color: #008000\">'Droite'</span>, <span style=\"color: #008000\">'Mouton'</span>: <span style=\"color: #008000\">'Droite'</span>, <span style=\"color: #008000\">'Choux'</span>: <span style=\"color: #008000\">'Droite'</span><span style=\"font-weight: bold\">}</span>\n",
       "<span style=\"font-weight: bold\">]</span>\n",
       "</pre>\n"
      ],
      "text/plain": [
       "<rich.jupyter.JupyterRenderable at 0x7fc82a7c5490>"
      ]
     },
     "metadata": {},
     "output_type": "display_data"
    }
   ],
   "source": [
    "print(aux.SOMMETS)"
   ]
  },
  {
   "cell_type": "code",
   "execution_count": 11,
   "metadata": {},
   "outputs": [
    {
     "data": {
      "text/html": [
       "<pre style=\"white-space:pre;overflow-x:auto;line-height:normal;font-family:Menlo,'DejaVu Sans Mono',consolas,'Courier New',monospace\"><span style=\"font-weight: bold\">(</span>\n",
       "    <span style=\"font-weight: bold\">[</span>\n",
       "        <span style=\"font-weight: bold\">{</span><span style=\"color: #008000\">'Berger'</span>: <span style=\"color: #008000\">'Gauche'</span>, <span style=\"color: #008000\">'Loup'</span>: <span style=\"color: #008000\">'Gauche'</span>, <span style=\"color: #008000\">'Mouton'</span>: <span style=\"color: #008000\">'Gauche'</span>, <span style=\"color: #008000\">'Choux'</span>: <span style=\"color: #008000\">'Gauche'</span><span style=\"font-weight: bold\">}</span>,\n",
       "        <span style=\"font-weight: bold\">{</span><span style=\"color: #008000\">'Berger'</span>: <span style=\"color: #008000\">'Gauche'</span>, <span style=\"color: #008000\">'Loup'</span>: <span style=\"color: #008000\">'Gauche'</span>, <span style=\"color: #008000\">'Mouton'</span>: <span style=\"color: #008000\">'Gauche'</span>, <span style=\"color: #008000\">'Choux'</span>: <span style=\"color: #008000\">'Droite'</span><span style=\"font-weight: bold\">}</span>,\n",
       "        <span style=\"font-weight: bold\">{</span><span style=\"color: #008000\">'Berger'</span>: <span style=\"color: #008000\">'Gauche'</span>, <span style=\"color: #008000\">'Loup'</span>: <span style=\"color: #008000\">'Gauche'</span>, <span style=\"color: #008000\">'Mouton'</span>: <span style=\"color: #008000\">'Droite'</span>, <span style=\"color: #008000\">'Choux'</span>: <span style=\"color: #008000\">'Gauche'</span><span style=\"font-weight: bold\">}</span>,\n",
       "        <span style=\"font-weight: bold\">{</span><span style=\"color: #008000\">'Berger'</span>: <span style=\"color: #008000\">'Gauche'</span>, <span style=\"color: #008000\">'Loup'</span>: <span style=\"color: #008000\">'Droite'</span>, <span style=\"color: #008000\">'Mouton'</span>: <span style=\"color: #008000\">'Gauche'</span>, <span style=\"color: #008000\">'Choux'</span>: <span style=\"color: #008000\">'Gauche'</span><span style=\"font-weight: bold\">}</span>,\n",
       "        <span style=\"font-weight: bold\">{</span><span style=\"color: #008000\">'Berger'</span>: <span style=\"color: #008000\">'Gauche'</span>, <span style=\"color: #008000\">'Loup'</span>: <span style=\"color: #008000\">'Droite'</span>, <span style=\"color: #008000\">'Mouton'</span>: <span style=\"color: #008000\">'Gauche'</span>, <span style=\"color: #008000\">'Choux'</span>: <span style=\"color: #008000\">'Droite'</span><span style=\"font-weight: bold\">}</span>,\n",
       "        <span style=\"font-weight: bold\">{</span><span style=\"color: #008000\">'Berger'</span>: <span style=\"color: #008000\">'Droite'</span>, <span style=\"color: #008000\">'Loup'</span>: <span style=\"color: #008000\">'Gauche'</span>, <span style=\"color: #008000\">'Mouton'</span>: <span style=\"color: #008000\">'Droite'</span>, <span style=\"color: #008000\">'Choux'</span>: <span style=\"color: #008000\">'Gauche'</span><span style=\"font-weight: bold\">}</span>,\n",
       "        <span style=\"font-weight: bold\">{</span><span style=\"color: #008000\">'Berger'</span>: <span style=\"color: #008000\">'Droite'</span>, <span style=\"color: #008000\">'Loup'</span>: <span style=\"color: #008000\">'Gauche'</span>, <span style=\"color: #008000\">'Mouton'</span>: <span style=\"color: #008000\">'Droite'</span>, <span style=\"color: #008000\">'Choux'</span>: <span style=\"color: #008000\">'Droite'</span><span style=\"font-weight: bold\">}</span>,\n",
       "        <span style=\"font-weight: bold\">{</span><span style=\"color: #008000\">'Berger'</span>: <span style=\"color: #008000\">'Droite'</span>, <span style=\"color: #008000\">'Loup'</span>: <span style=\"color: #008000\">'Droite'</span>, <span style=\"color: #008000\">'Mouton'</span>: <span style=\"color: #008000\">'Gauche'</span>, <span style=\"color: #008000\">'Choux'</span>: <span style=\"color: #008000\">'Droite'</span><span style=\"font-weight: bold\">}</span>,\n",
       "        <span style=\"font-weight: bold\">{</span><span style=\"color: #008000\">'Berger'</span>: <span style=\"color: #008000\">'Droite'</span>, <span style=\"color: #008000\">'Loup'</span>: <span style=\"color: #008000\">'Droite'</span>, <span style=\"color: #008000\">'Mouton'</span>: <span style=\"color: #008000\">'Droite'</span>, <span style=\"color: #008000\">'Choux'</span>: <span style=\"color: #008000\">'Gauche'</span><span style=\"font-weight: bold\">}</span>,\n",
       "        <span style=\"font-weight: bold\">{</span><span style=\"color: #008000\">'Berger'</span>: <span style=\"color: #008000\">'Droite'</span>, <span style=\"color: #008000\">'Loup'</span>: <span style=\"color: #008000\">'Droite'</span>, <span style=\"color: #008000\">'Mouton'</span>: <span style=\"color: #008000\">'Droite'</span>, <span style=\"color: #008000\">'Choux'</span>: <span style=\"color: #008000\">'Droite'</span><span style=\"font-weight: bold\">}</span>\n",
       "    <span style=\"font-weight: bold\">]</span>,\n",
       "    <span style=\"font-weight: bold\">[</span>\n",
       "        <span style=\"font-weight: bold\">(</span>\n",
       "            <span style=\"font-weight: bold\">{</span><span style=\"color: #008000\">'Berger'</span>: <span style=\"color: #008000\">'Gauche'</span>, <span style=\"color: #008000\">'Loup'</span>: <span style=\"color: #008000\">'Gauche'</span>, <span style=\"color: #008000\">'Mouton'</span>: <span style=\"color: #008000\">'Gauche'</span>, <span style=\"color: #008000\">'Choux'</span>: <span style=\"color: #008000\">'Gauche'</span><span style=\"font-weight: bold\">}</span>,\n",
       "            <span style=\"font-weight: bold\">{</span><span style=\"color: #008000\">'Berger'</span>: <span style=\"color: #008000\">'Droite'</span>, <span style=\"color: #008000\">'Loup'</span>: <span style=\"color: #008000\">'Gauche'</span>, <span style=\"color: #008000\">'Mouton'</span>: <span style=\"color: #008000\">'Droite'</span>, <span style=\"color: #008000\">'Choux'</span>: <span style=\"color: #008000\">'Gauche'</span><span style=\"font-weight: bold\">}</span>\n",
       "        <span style=\"font-weight: bold\">)</span>,\n",
       "        <span style=\"font-weight: bold\">(</span>\n",
       "            <span style=\"font-weight: bold\">{</span><span style=\"color: #008000\">'Berger'</span>: <span style=\"color: #008000\">'Gauche'</span>, <span style=\"color: #008000\">'Loup'</span>: <span style=\"color: #008000\">'Gauche'</span>, <span style=\"color: #008000\">'Mouton'</span>: <span style=\"color: #008000\">'Gauche'</span>, <span style=\"color: #008000\">'Choux'</span>: <span style=\"color: #008000\">'Droite'</span><span style=\"font-weight: bold\">}</span>,\n",
       "            <span style=\"font-weight: bold\">{</span><span style=\"color: #008000\">'Berger'</span>: <span style=\"color: #008000\">'Droite'</span>, <span style=\"color: #008000\">'Loup'</span>: <span style=\"color: #008000\">'Gauche'</span>, <span style=\"color: #008000\">'Mouton'</span>: <span style=\"color: #008000\">'Droite'</span>, <span style=\"color: #008000\">'Choux'</span>: <span style=\"color: #008000\">'Droite'</span><span style=\"font-weight: bold\">}</span>\n",
       "        <span style=\"font-weight: bold\">)</span>,\n",
       "        <span style=\"font-weight: bold\">(</span>\n",
       "            <span style=\"font-weight: bold\">{</span><span style=\"color: #008000\">'Berger'</span>: <span style=\"color: #008000\">'Gauche'</span>, <span style=\"color: #008000\">'Loup'</span>: <span style=\"color: #008000\">'Gauche'</span>, <span style=\"color: #008000\">'Mouton'</span>: <span style=\"color: #008000\">'Gauche'</span>, <span style=\"color: #008000\">'Choux'</span>: <span style=\"color: #008000\">'Droite'</span><span style=\"font-weight: bold\">}</span>,\n",
       "            <span style=\"font-weight: bold\">{</span><span style=\"color: #008000\">'Berger'</span>: <span style=\"color: #008000\">'Droite'</span>, <span style=\"color: #008000\">'Loup'</span>: <span style=\"color: #008000\">'Droite'</span>, <span style=\"color: #008000\">'Mouton'</span>: <span style=\"color: #008000\">'Gauche'</span>, <span style=\"color: #008000\">'Choux'</span>: <span style=\"color: #008000\">'Droite'</span><span style=\"font-weight: bold\">}</span>\n",
       "        <span style=\"font-weight: bold\">)</span>,\n",
       "        <span style=\"font-weight: bold\">(</span>\n",
       "            <span style=\"font-weight: bold\">{</span><span style=\"color: #008000\">'Berger'</span>: <span style=\"color: #008000\">'Gauche'</span>, <span style=\"color: #008000\">'Loup'</span>: <span style=\"color: #008000\">'Gauche'</span>, <span style=\"color: #008000\">'Mouton'</span>: <span style=\"color: #008000\">'Droite'</span>, <span style=\"color: #008000\">'Choux'</span>: <span style=\"color: #008000\">'Gauche'</span><span style=\"font-weight: bold\">}</span>,\n",
       "            <span style=\"font-weight: bold\">{</span><span style=\"color: #008000\">'Berger'</span>: <span style=\"color: #008000\">'Droite'</span>, <span style=\"color: #008000\">'Loup'</span>: <span style=\"color: #008000\">'Gauche'</span>, <span style=\"color: #008000\">'Mouton'</span>: <span style=\"color: #008000\">'Droite'</span>, <span style=\"color: #008000\">'Choux'</span>: <span style=\"color: #008000\">'Gauche'</span><span style=\"font-weight: bold\">}</span>\n",
       "        <span style=\"font-weight: bold\">)</span>,\n",
       "        <span style=\"font-weight: bold\">(</span>\n",
       "            <span style=\"font-weight: bold\">{</span><span style=\"color: #008000\">'Berger'</span>: <span style=\"color: #008000\">'Gauche'</span>, <span style=\"color: #008000\">'Loup'</span>: <span style=\"color: #008000\">'Gauche'</span>, <span style=\"color: #008000\">'Mouton'</span>: <span style=\"color: #008000\">'Droite'</span>, <span style=\"color: #008000\">'Choux'</span>: <span style=\"color: #008000\">'Gauche'</span><span style=\"font-weight: bold\">}</span>,\n",
       "            <span style=\"font-weight: bold\">{</span><span style=\"color: #008000\">'Berger'</span>: <span style=\"color: #008000\">'Droite'</span>, <span style=\"color: #008000\">'Loup'</span>: <span style=\"color: #008000\">'Gauche'</span>, <span style=\"color: #008000\">'Mouton'</span>: <span style=\"color: #008000\">'Droite'</span>, <span style=\"color: #008000\">'Choux'</span>: <span style=\"color: #008000\">'Droite'</span><span style=\"font-weight: bold\">}</span>\n",
       "        <span style=\"font-weight: bold\">)</span>,\n",
       "        <span style=\"font-weight: bold\">(</span>\n",
       "            <span style=\"font-weight: bold\">{</span><span style=\"color: #008000\">'Berger'</span>: <span style=\"color: #008000\">'Gauche'</span>, <span style=\"color: #008000\">'Loup'</span>: <span style=\"color: #008000\">'Gauche'</span>, <span style=\"color: #008000\">'Mouton'</span>: <span style=\"color: #008000\">'Droite'</span>, <span style=\"color: #008000\">'Choux'</span>: <span style=\"color: #008000\">'Gauche'</span><span style=\"font-weight: bold\">}</span>,\n",
       "            <span style=\"font-weight: bold\">{</span><span style=\"color: #008000\">'Berger'</span>: <span style=\"color: #008000\">'Droite'</span>, <span style=\"color: #008000\">'Loup'</span>: <span style=\"color: #008000\">'Droite'</span>, <span style=\"color: #008000\">'Mouton'</span>: <span style=\"color: #008000\">'Droite'</span>, <span style=\"color: #008000\">'Choux'</span>: <span style=\"color: #008000\">'Gauche'</span><span style=\"font-weight: bold\">}</span>\n",
       "        <span style=\"font-weight: bold\">)</span>,\n",
       "        <span style=\"font-weight: bold\">(</span>\n",
       "            <span style=\"font-weight: bold\">{</span><span style=\"color: #008000\">'Berger'</span>: <span style=\"color: #008000\">'Gauche'</span>, <span style=\"color: #008000\">'Loup'</span>: <span style=\"color: #008000\">'Droite'</span>, <span style=\"color: #008000\">'Mouton'</span>: <span style=\"color: #008000\">'Gauche'</span>, <span style=\"color: #008000\">'Choux'</span>: <span style=\"color: #008000\">'Gauche'</span><span style=\"font-weight: bold\">}</span>,\n",
       "            <span style=\"font-weight: bold\">{</span><span style=\"color: #008000\">'Berger'</span>: <span style=\"color: #008000\">'Droite'</span>, <span style=\"color: #008000\">'Loup'</span>: <span style=\"color: #008000\">'Droite'</span>, <span style=\"color: #008000\">'Mouton'</span>: <span style=\"color: #008000\">'Gauche'</span>, <span style=\"color: #008000\">'Choux'</span>: <span style=\"color: #008000\">'Droite'</span><span style=\"font-weight: bold\">}</span>\n",
       "        <span style=\"font-weight: bold\">)</span>,\n",
       "        <span style=\"font-weight: bold\">(</span>\n",
       "            <span style=\"font-weight: bold\">{</span><span style=\"color: #008000\">'Berger'</span>: <span style=\"color: #008000\">'Gauche'</span>, <span style=\"color: #008000\">'Loup'</span>: <span style=\"color: #008000\">'Droite'</span>, <span style=\"color: #008000\">'Mouton'</span>: <span style=\"color: #008000\">'Gauche'</span>, <span style=\"color: #008000\">'Choux'</span>: <span style=\"color: #008000\">'Gauche'</span><span style=\"font-weight: bold\">}</span>,\n",
       "            <span style=\"font-weight: bold\">{</span><span style=\"color: #008000\">'Berger'</span>: <span style=\"color: #008000\">'Droite'</span>, <span style=\"color: #008000\">'Loup'</span>: <span style=\"color: #008000\">'Droite'</span>, <span style=\"color: #008000\">'Mouton'</span>: <span style=\"color: #008000\">'Droite'</span>, <span style=\"color: #008000\">'Choux'</span>: <span style=\"color: #008000\">'Gauche'</span><span style=\"font-weight: bold\">}</span>\n",
       "        <span style=\"font-weight: bold\">)</span>,\n",
       "        <span style=\"font-weight: bold\">(</span>\n",
       "            <span style=\"font-weight: bold\">{</span><span style=\"color: #008000\">'Berger'</span>: <span style=\"color: #008000\">'Gauche'</span>, <span style=\"color: #008000\">'Loup'</span>: <span style=\"color: #008000\">'Droite'</span>, <span style=\"color: #008000\">'Mouton'</span>: <span style=\"color: #008000\">'Gauche'</span>, <span style=\"color: #008000\">'Choux'</span>: <span style=\"color: #008000\">'Droite'</span><span style=\"font-weight: bold\">}</span>,\n",
       "            <span style=\"font-weight: bold\">{</span><span style=\"color: #008000\">'Berger'</span>: <span style=\"color: #008000\">'Droite'</span>, <span style=\"color: #008000\">'Loup'</span>: <span style=\"color: #008000\">'Droite'</span>, <span style=\"color: #008000\">'Mouton'</span>: <span style=\"color: #008000\">'Gauche'</span>, <span style=\"color: #008000\">'Choux'</span>: <span style=\"color: #008000\">'Droite'</span><span style=\"font-weight: bold\">}</span>\n",
       "        <span style=\"font-weight: bold\">)</span>,\n",
       "        <span style=\"font-weight: bold\">(</span>\n",
       "            <span style=\"font-weight: bold\">{</span><span style=\"color: #008000\">'Berger'</span>: <span style=\"color: #008000\">'Gauche'</span>, <span style=\"color: #008000\">'Loup'</span>: <span style=\"color: #008000\">'Droite'</span>, <span style=\"color: #008000\">'Mouton'</span>: <span style=\"color: #008000\">'Gauche'</span>, <span style=\"color: #008000\">'Choux'</span>: <span style=\"color: #008000\">'Droite'</span><span style=\"font-weight: bold\">}</span>,\n",
       "            <span style=\"font-weight: bold\">{</span><span style=\"color: #008000\">'Berger'</span>: <span style=\"color: #008000\">'Droite'</span>, <span style=\"color: #008000\">'Loup'</span>: <span style=\"color: #008000\">'Droite'</span>, <span style=\"color: #008000\">'Mouton'</span>: <span style=\"color: #008000\">'Droite'</span>, <span style=\"color: #008000\">'Choux'</span>: <span style=\"color: #008000\">'Droite'</span><span style=\"font-weight: bold\">}</span>\n",
       "        <span style=\"font-weight: bold\">)</span>,\n",
       "        <span style=\"font-weight: bold\">(</span>\n",
       "            <span style=\"font-weight: bold\">{</span><span style=\"color: #008000\">'Berger'</span>: <span style=\"color: #008000\">'Droite'</span>, <span style=\"color: #008000\">'Loup'</span>: <span style=\"color: #008000\">'Gauche'</span>, <span style=\"color: #008000\">'Mouton'</span>: <span style=\"color: #008000\">'Droite'</span>, <span style=\"color: #008000\">'Choux'</span>: <span style=\"color: #008000\">'Gauche'</span><span style=\"font-weight: bold\">}</span>,\n",
       "            <span style=\"font-weight: bold\">{</span><span style=\"color: #008000\">'Berger'</span>: <span style=\"color: #008000\">'Gauche'</span>, <span style=\"color: #008000\">'Loup'</span>: <span style=\"color: #008000\">'Gauche'</span>, <span style=\"color: #008000\">'Mouton'</span>: <span style=\"color: #008000\">'Gauche'</span>, <span style=\"color: #008000\">'Choux'</span>: <span style=\"color: #008000\">'Gauche'</span><span style=\"font-weight: bold\">}</span>\n",
       "        <span style=\"font-weight: bold\">)</span>,\n",
       "        <span style=\"font-weight: bold\">(</span>\n",
       "            <span style=\"font-weight: bold\">{</span><span style=\"color: #008000\">'Berger'</span>: <span style=\"color: #008000\">'Droite'</span>, <span style=\"color: #008000\">'Loup'</span>: <span style=\"color: #008000\">'Gauche'</span>, <span style=\"color: #008000\">'Mouton'</span>: <span style=\"color: #008000\">'Droite'</span>, <span style=\"color: #008000\">'Choux'</span>: <span style=\"color: #008000\">'Gauche'</span><span style=\"font-weight: bold\">}</span>,\n",
       "            <span style=\"font-weight: bold\">{</span><span style=\"color: #008000\">'Berger'</span>: <span style=\"color: #008000\">'Gauche'</span>, <span style=\"color: #008000\">'Loup'</span>: <span style=\"color: #008000\">'Gauche'</span>, <span style=\"color: #008000\">'Mouton'</span>: <span style=\"color: #008000\">'Droite'</span>, <span style=\"color: #008000\">'Choux'</span>: <span style=\"color: #008000\">'Gauche'</span><span style=\"font-weight: bold\">}</span>\n",
       "        <span style=\"font-weight: bold\">)</span>,\n",
       "        <span style=\"font-weight: bold\">(</span>\n",
       "            <span style=\"font-weight: bold\">{</span><span style=\"color: #008000\">'Berger'</span>: <span style=\"color: #008000\">'Droite'</span>, <span style=\"color: #008000\">'Loup'</span>: <span style=\"color: #008000\">'Gauche'</span>, <span style=\"color: #008000\">'Mouton'</span>: <span style=\"color: #008000\">'Droite'</span>, <span style=\"color: #008000\">'Choux'</span>: <span style=\"color: #008000\">'Droite'</span><span style=\"font-weight: bold\">}</span>,\n",
       "            <span style=\"font-weight: bold\">{</span><span style=\"color: #008000\">'Berger'</span>: <span style=\"color: #008000\">'Gauche'</span>, <span style=\"color: #008000\">'Loup'</span>: <span style=\"color: #008000\">'Gauche'</span>, <span style=\"color: #008000\">'Mouton'</span>: <span style=\"color: #008000\">'Gauche'</span>, <span style=\"color: #008000\">'Choux'</span>: <span style=\"color: #008000\">'Droite'</span><span style=\"font-weight: bold\">}</span>\n",
       "        <span style=\"font-weight: bold\">)</span>,\n",
       "        <span style=\"font-weight: bold\">(</span>\n",
       "            <span style=\"font-weight: bold\">{</span><span style=\"color: #008000\">'Berger'</span>: <span style=\"color: #008000\">'Droite'</span>, <span style=\"color: #008000\">'Loup'</span>: <span style=\"color: #008000\">'Gauche'</span>, <span style=\"color: #008000\">'Mouton'</span>: <span style=\"color: #008000\">'Droite'</span>, <span style=\"color: #008000\">'Choux'</span>: <span style=\"color: #008000\">'Droite'</span><span style=\"font-weight: bold\">}</span>,\n",
       "            <span style=\"font-weight: bold\">{</span><span style=\"color: #008000\">'Berger'</span>: <span style=\"color: #008000\">'Gauche'</span>, <span style=\"color: #008000\">'Loup'</span>: <span style=\"color: #008000\">'Gauche'</span>, <span style=\"color: #008000\">'Mouton'</span>: <span style=\"color: #008000\">'Droite'</span>, <span style=\"color: #008000\">'Choux'</span>: <span style=\"color: #008000\">'Gauche'</span><span style=\"font-weight: bold\">}</span>\n",
       "        <span style=\"font-weight: bold\">)</span>,\n",
       "        <span style=\"font-weight: bold\">(</span>\n",
       "            <span style=\"font-weight: bold\">{</span><span style=\"color: #008000\">'Berger'</span>: <span style=\"color: #008000\">'Droite'</span>, <span style=\"color: #008000\">'Loup'</span>: <span style=\"color: #008000\">'Droite'</span>, <span style=\"color: #008000\">'Mouton'</span>: <span style=\"color: #008000\">'Gauche'</span>, <span style=\"color: #008000\">'Choux'</span>: <span style=\"color: #008000\">'Droite'</span><span style=\"font-weight: bold\">}</span>,\n",
       "            <span style=\"font-weight: bold\">{</span><span style=\"color: #008000\">'Berger'</span>: <span style=\"color: #008000\">'Gauche'</span>, <span style=\"color: #008000\">'Loup'</span>: <span style=\"color: #008000\">'Gauche'</span>, <span style=\"color: #008000\">'Mouton'</span>: <span style=\"color: #008000\">'Gauche'</span>, <span style=\"color: #008000\">'Choux'</span>: <span style=\"color: #008000\">'Droite'</span><span style=\"font-weight: bold\">}</span>\n",
       "        <span style=\"font-weight: bold\">)</span>,\n",
       "        <span style=\"font-weight: bold\">(</span>\n",
       "            <span style=\"font-weight: bold\">{</span><span style=\"color: #008000\">'Berger'</span>: <span style=\"color: #008000\">'Droite'</span>, <span style=\"color: #008000\">'Loup'</span>: <span style=\"color: #008000\">'Droite'</span>, <span style=\"color: #008000\">'Mouton'</span>: <span style=\"color: #008000\">'Gauche'</span>, <span style=\"color: #008000\">'Choux'</span>: <span style=\"color: #008000\">'Droite'</span><span style=\"font-weight: bold\">}</span>,\n",
       "            <span style=\"font-weight: bold\">{</span><span style=\"color: #008000\">'Berger'</span>: <span style=\"color: #008000\">'Gauche'</span>, <span style=\"color: #008000\">'Loup'</span>: <span style=\"color: #008000\">'Droite'</span>, <span style=\"color: #008000\">'Mouton'</span>: <span style=\"color: #008000\">'Gauche'</span>, <span style=\"color: #008000\">'Choux'</span>: <span style=\"color: #008000\">'Gauche'</span><span style=\"font-weight: bold\">}</span>\n",
       "        <span style=\"font-weight: bold\">)</span>,\n",
       "        <span style=\"font-weight: bold\">(</span>\n",
       "            <span style=\"font-weight: bold\">{</span><span style=\"color: #008000\">'Berger'</span>: <span style=\"color: #008000\">'Droite'</span>, <span style=\"color: #008000\">'Loup'</span>: <span style=\"color: #008000\">'Droite'</span>, <span style=\"color: #008000\">'Mouton'</span>: <span style=\"color: #008000\">'Gauche'</span>, <span style=\"color: #008000\">'Choux'</span>: <span style=\"color: #008000\">'Droite'</span><span style=\"font-weight: bold\">}</span>,\n",
       "            <span style=\"font-weight: bold\">{</span><span style=\"color: #008000\">'Berger'</span>: <span style=\"color: #008000\">'Gauche'</span>, <span style=\"color: #008000\">'Loup'</span>: <span style=\"color: #008000\">'Droite'</span>, <span style=\"color: #008000\">'Mouton'</span>: <span style=\"color: #008000\">'Gauche'</span>, <span style=\"color: #008000\">'Choux'</span>: <span style=\"color: #008000\">'Droite'</span><span style=\"font-weight: bold\">}</span>\n",
       "        <span style=\"font-weight: bold\">)</span>,\n",
       "        <span style=\"font-weight: bold\">(</span>\n",
       "            <span style=\"font-weight: bold\">{</span><span style=\"color: #008000\">'Berger'</span>: <span style=\"color: #008000\">'Droite'</span>, <span style=\"color: #008000\">'Loup'</span>: <span style=\"color: #008000\">'Droite'</span>, <span style=\"color: #008000\">'Mouton'</span>: <span style=\"color: #008000\">'Droite'</span>, <span style=\"color: #008000\">'Choux'</span>: <span style=\"color: #008000\">'Gauche'</span><span style=\"font-weight: bold\">}</span>,\n",
       "            <span style=\"font-weight: bold\">{</span><span style=\"color: #008000\">'Berger'</span>: <span style=\"color: #008000\">'Gauche'</span>, <span style=\"color: #008000\">'Loup'</span>: <span style=\"color: #008000\">'Gauche'</span>, <span style=\"color: #008000\">'Mouton'</span>: <span style=\"color: #008000\">'Droite'</span>, <span style=\"color: #008000\">'Choux'</span>: <span style=\"color: #008000\">'Gauche'</span><span style=\"font-weight: bold\">}</span>\n",
       "        <span style=\"font-weight: bold\">)</span>,\n",
       "        <span style=\"font-weight: bold\">(</span>\n",
       "            <span style=\"font-weight: bold\">{</span><span style=\"color: #008000\">'Berger'</span>: <span style=\"color: #008000\">'Droite'</span>, <span style=\"color: #008000\">'Loup'</span>: <span style=\"color: #008000\">'Droite'</span>, <span style=\"color: #008000\">'Mouton'</span>: <span style=\"color: #008000\">'Droite'</span>, <span style=\"color: #008000\">'Choux'</span>: <span style=\"color: #008000\">'Gauche'</span><span style=\"font-weight: bold\">}</span>,\n",
       "            <span style=\"font-weight: bold\">{</span><span style=\"color: #008000\">'Berger'</span>: <span style=\"color: #008000\">'Gauche'</span>, <span style=\"color: #008000\">'Loup'</span>: <span style=\"color: #008000\">'Droite'</span>, <span style=\"color: #008000\">'Mouton'</span>: <span style=\"color: #008000\">'Gauche'</span>, <span style=\"color: #008000\">'Choux'</span>: <span style=\"color: #008000\">'Gauche'</span><span style=\"font-weight: bold\">}</span>\n",
       "        <span style=\"font-weight: bold\">)</span>,\n",
       "        <span style=\"font-weight: bold\">(</span>\n",
       "            <span style=\"font-weight: bold\">{</span><span style=\"color: #008000\">'Berger'</span>: <span style=\"color: #008000\">'Droite'</span>, <span style=\"color: #008000\">'Loup'</span>: <span style=\"color: #008000\">'Droite'</span>, <span style=\"color: #008000\">'Mouton'</span>: <span style=\"color: #008000\">'Droite'</span>, <span style=\"color: #008000\">'Choux'</span>: <span style=\"color: #008000\">'Droite'</span><span style=\"font-weight: bold\">}</span>,\n",
       "            <span style=\"font-weight: bold\">{</span><span style=\"color: #008000\">'Berger'</span>: <span style=\"color: #008000\">'Gauche'</span>, <span style=\"color: #008000\">'Loup'</span>: <span style=\"color: #008000\">'Droite'</span>, <span style=\"color: #008000\">'Mouton'</span>: <span style=\"color: #008000\">'Gauche'</span>, <span style=\"color: #008000\">'Choux'</span>: <span style=\"color: #008000\">'Droite'</span><span style=\"font-weight: bold\">}</span>\n",
       "        <span style=\"font-weight: bold\">)</span>\n",
       "    <span style=\"font-weight: bold\">]</span>\n",
       "<span style=\"font-weight: bold\">)</span>\n",
       "</pre>\n"
      ],
      "text/plain": [
       "<rich.jupyter.JupyterRenderable at 0x7fc829dd70a0>"
      ]
     },
     "metadata": {},
     "output_type": "display_data"
    }
   ],
   "source": [
    "print(aux.GRAPHE)"
   ]
  },
  {
   "cell_type": "code",
   "execution_count": 12,
   "metadata": {},
   "outputs": [
    {
     "data": {
      "text/plain": [
       "True"
      ]
     },
     "execution_count": 12,
     "metadata": {},
     "output_type": "execute_result"
    }
   ],
   "source": [
    "aux.sont_relies(\n",
    "    depart=aux.DEPART, \n",
    "    arrivee=aux.ARRIVEE, \n",
    "    graphe=aux.GRAPHE\n",
    ")"
   ]
  },
  {
   "cell_type": "code",
   "execution_count": 13,
   "metadata": {},
   "outputs": [
    {
     "data": {
      "text/plain": [
       "[{'Berger': 'Gauche', 'Loup': 'Gauche', 'Mouton': 'Gauche', 'Choux': 'Gauche'},\n",
       " {'Berger': 'Droite', 'Loup': 'Gauche', 'Mouton': 'Droite', 'Choux': 'Gauche'},\n",
       " {'Berger': 'Gauche', 'Loup': 'Gauche', 'Mouton': 'Droite', 'Choux': 'Gauche'},\n",
       " {'Berger': 'Droite', 'Loup': 'Droite', 'Mouton': 'Droite', 'Choux': 'Gauche'},\n",
       " {'Berger': 'Gauche', 'Loup': 'Droite', 'Mouton': 'Gauche', 'Choux': 'Gauche'},\n",
       " {'Berger': 'Droite', 'Loup': 'Droite', 'Mouton': 'Gauche', 'Choux': 'Droite'},\n",
       " {'Berger': 'Gauche', 'Loup': 'Droite', 'Mouton': 'Gauche', 'Choux': 'Droite'},\n",
       " {'Berger': 'Droite', 'Loup': 'Droite', 'Mouton': 'Droite', 'Choux': 'Droite'}]"
      ]
     },
     "execution_count": 13,
     "metadata": {},
     "output_type": "execute_result"
    }
   ],
   "source": [
    "aux.trouve_chemin(\n",
    "    depart=aux.DEPART, \n",
    "    arrivee=aux.ARRIVEE, \n",
    "    graphe=aux.GRAPHE\n",
    ")"
   ]
  },
  {
   "cell_type": "markdown",
   "metadata": {},
   "source": [
    "# Exercice\n",
    "\n",
    "- Coder des tests pour chaque fonction. (25min -> 11h20)  \n",
    "**Sauf** `genere_etats` et `genere_graphe` (ce qui est un symptome que ces fonctions devraient être adaptées)\n",
    "- Finir la documentation de la librairie. (10min -> 12h)"
   ]
  },
  {
   "cell_type": "markdown",
   "metadata": {},
   "source": [
    "# Exercice\n",
    "\n",
    "- Coder la fonction `genere_etats`\n",
    "- Compléter les tests sur les fonctions et la documentation `genere_etats` et `genere_graphe`"
   ]
  },
  {
   "cell_type": "markdown",
   "metadata": {},
   "source": [
    "#  Exercice\n",
    "\n",
    "Basculer en privé tout les objets du module qui ne sont pas utilisés dans le notebook."
   ]
  }
 ],
 "metadata": {
  "kernelspec": {
   "display_name": "Python 3",
   "language": "python",
   "name": "python3"
  },
  "language_info": {
   "codemirror_mode": {
    "name": "ipython",
    "version": 3
   },
   "file_extension": ".py",
   "mimetype": "text/x-python",
   "name": "python",
   "nbconvert_exporter": "python",
   "pygments_lexer": "ipython3",
   "version": "3.8.3"
  },
  "toc-autonumbering": true,
  "toc-showcode": false,
  "toc-showmarkdowntxt": false,
  "toc-showtags": false
 },
 "nbformat": 4,
 "nbformat_minor": 4
}
