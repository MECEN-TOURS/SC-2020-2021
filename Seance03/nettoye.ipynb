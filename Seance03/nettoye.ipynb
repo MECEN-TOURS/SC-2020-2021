{
 "cells": [
  {
   "cell_type": "markdown",
   "metadata": {},
   "source": [
    "# Introduction du problème\n",
    "\n",
    "1. Un berger, un loup, un mouton et un chou d'un côté d'une rivière.\n",
    "2. Ils veulent traverser cette rivière.\n",
    "3. Ils possèdent une barque de 2 places.\n",
    "4. Le berger est toujours dans la barque lors d'une traversée.\n",
    "5. Le berger ne peut pas laisser sans surveilance:\n",
    "    - le loup et le mouton\n",
    "    - le mouton et le chou\n",
    "6. Comment doit on planifier les traversées pour que tout le monde passent la rivière?"
   ]
  },
  {
   "cell_type": "markdown",
   "metadata": {},
   "source": [
    "# Résolution du problème"
   ]
  },
  {
   "cell_type": "code",
   "execution_count": 1,
   "metadata": {},
   "outputs": [],
   "source": [
    "import auxiliaire as aux\n",
    "from rich import print\n",
    "from importlib import reload # si jamais on voulait recharger une librairie en cours dans redémarrer le notebook"
   ]
  },
  {
   "cell_type": "code",
   "execution_count": 29,
   "metadata": {},
   "outputs": [
    {
     "data": {
      "text/plain": [
       "<module 'auxiliaire' from '/home/vincent/projets/COURS/SC-2020-2021/Seance03/auxiliaire.py'>"
      ]
     },
     "execution_count": 29,
     "metadata": {},
     "output_type": "execute_result"
    }
   ],
   "source": [
    "reload(aux)"
   ]
  },
  {
   "cell_type": "code",
   "execution_count": 21,
   "metadata": {},
   "outputs": [
    {
     "data": {
      "text/plain": [
       "\u001b[0;31mType:\u001b[0m        module\n",
       "\u001b[0;31mString form:\u001b[0m <module 'auxiliaire' from '/home/vincent/projets/COURS/SC-2020-2021/Seance03/auxiliaire.py'>\n",
       "\u001b[0;31mFile:\u001b[0m        ~/projets/COURS/SC-2020-2021/Seance03/auxiliaire.py\n",
       "\u001b[0;31mDocstring:\u001b[0m  \n",
       "Description.\n",
       "\n",
       "Module auxiliaire pour la résolution du problème de traversée.\n"
      ]
     },
     "metadata": {},
     "output_type": "display_data"
    }
   ],
   "source": [
    "aux?"
   ]
  },
  {
   "cell_type": "markdown",
   "metadata": {},
   "source": [
    "## Modélisation\n",
    "\n",
    "- Un état du problème est représenté par un `dict` qui associe à chaque personnage, le côté de la rivière où il se trouve.\n",
    "- Les personnages et les côtes de la rivière sont représentés pas des `str`.\n",
    "- les sommets sont les états respectant la règle additionnel. On encode en python cette structure comme `List[Etat]`\n",
    "- deux états sont reliés par une arrête lorsque on passe de l'un à l'autre avec exactement une traversée de barque. On encode cette structure en python via \n",
    "`Arrete = Tuple[Etat, Etat]`, `List[Arrete]`"
   ]
  },
  {
   "cell_type": "code",
   "execution_count": 24,
   "metadata": {},
   "outputs": [
    {
     "data": {
      "text/html": [
       "<pre style=\"white-space:pre;overflow-x:auto;line-height:normal;font-family:Menlo,'DejaVu Sans Mono',consolas,'Courier New',monospace\"><span style=\"font-weight: bold\">&lt;</span><span style=\"color: #ff00ff; font-weight: bold\">function</span><span style=\"color: #000000\"> NewType.&lt;locals</span><span style=\"font-weight: bold\">&gt;</span>.new_type at <span style=\"color: #000080; font-weight: bold\">0x7f7debc2ddc0</span>&gt;\n",
       "</pre>\n"
      ],
      "text/plain": [
       "<rich.jupyter.JupyterRenderable at 0x7f7debc0df70>"
      ]
     },
     "metadata": {},
     "output_type": "display_data"
    }
   ],
   "source": [
    "print(aux.Personnage)"
   ]
  },
  {
   "cell_type": "code",
   "execution_count": 25,
   "metadata": {},
   "outputs": [
    {
     "data": {
      "text/html": [
       "<pre style=\"white-space:pre;overflow-x:auto;line-height:normal;font-family:Menlo,'DejaVu Sans Mono',consolas,'Courier New',monospace\"><span style=\"font-weight: bold\">&lt;</span><span style=\"color: #ff00ff; font-weight: bold\">function</span><span style=\"color: #000000\"> NewType.&lt;locals</span><span style=\"font-weight: bold\">&gt;</span>.new_type at <span style=\"color: #000080; font-weight: bold\">0x7f7e00c188b0</span>&gt;\n",
       "</pre>\n"
      ],
      "text/plain": [
       "<rich.jupyter.JupyterRenderable at 0x7f7debc0da90>"
      ]
     },
     "metadata": {},
     "output_type": "display_data"
    }
   ],
   "source": [
    "print(aux.Cote)"
   ]
  },
  {
   "cell_type": "code",
   "execution_count": 26,
   "metadata": {},
   "outputs": [
    {
     "data": {
      "text/html": [
       "<pre style=\"white-space:pre;overflow-x:auto;line-height:normal;font-family:Menlo,'DejaVu Sans Mono',consolas,'Courier New',monospace\"><span style=\"font-weight: bold\">(</span><span style=\"color: #008000\">'Berger'</span>, <span style=\"color: #008000\">'Loup'</span>, <span style=\"color: #008000\">'Mouton'</span>, <span style=\"color: #008000\">'Choux'</span><span style=\"font-weight: bold\">)</span>\n",
       "</pre>\n"
      ],
      "text/plain": [
       "<rich.jupyter.JupyterRenderable at 0x7f7debc0d970>"
      ]
     },
     "metadata": {},
     "output_type": "display_data"
    }
   ],
   "source": [
    "print(aux.PERSONNAGES)"
   ]
  },
  {
   "cell_type": "code",
   "execution_count": 27,
   "metadata": {},
   "outputs": [
    {
     "data": {
      "text/html": [
       "<pre style=\"white-space:pre;overflow-x:auto;line-height:normal;font-family:Menlo,'DejaVu Sans Mono',consolas,'Courier New',monospace\"><span style=\"font-weight: bold\">(</span><span style=\"color: #008000\">'Gauche'</span>, <span style=\"color: #008000\">'Droite'</span><span style=\"font-weight: bold\">)</span>\n",
       "</pre>\n"
      ],
      "text/plain": [
       "<rich.jupyter.JupyterRenderable at 0x7f7debc0d970>"
      ]
     },
     "metadata": {},
     "output_type": "display_data"
    }
   ],
   "source": [
    "print(aux.COTES)"
   ]
  },
  {
   "cell_type": "code",
   "execution_count": 13,
   "metadata": {},
   "outputs": [
    {
     "data": {
      "text/html": [
       "<pre style=\"white-space:pre;overflow-x:auto;line-height:normal;font-family:Menlo,'DejaVu Sans Mono',consolas,'Courier New',monospace\">typing.Dict<span style=\"font-weight: bold\">[</span>typing.Literal<span style=\"font-weight: bold\">[</span><span style=\"color: #008000\">'Berger'</span>, <span style=\"color: #008000\">'Loup'</span>, <span style=\"color: #008000\">'Mouton'</span>, <span style=\"color: #008000\">'Choux'</span><span style=\"font-weight: bold\">]</span>, typing.Literal<span style=\"font-weight: bold\">[</span><span style=\"color: #008000\">'Gauche'</span>, \n",
       "<span style=\"color: #008000\">'Droite'</span><span style=\"font-weight: bold\">]]</span>\n",
       "</pre>\n"
      ],
      "text/plain": [
       "<rich.jupyter.JupyterRenderable at 0x7f7e00bbc790>"
      ]
     },
     "metadata": {},
     "output_type": "display_data"
    }
   ],
   "source": [
    "print(aux.Etat)"
   ]
  },
  {
   "cell_type": "code",
   "execution_count": 14,
   "metadata": {},
   "outputs": [
    {
     "data": {
      "text/html": [
       "<pre style=\"white-space:pre;overflow-x:auto;line-height:normal;font-family:Menlo,'DejaVu Sans Mono',consolas,'Courier New',monospace\"><span style=\"font-weight: bold\">{</span><span style=\"color: #008000\">'Berger'</span>: <span style=\"color: #008000\">'Gauche'</span>, <span style=\"color: #008000\">'Loup'</span>: <span style=\"color: #008000\">'Gauche'</span>, <span style=\"color: #008000\">'Mouton'</span>: <span style=\"color: #008000\">'Gauche'</span>, <span style=\"color: #008000\">'Chou'</span>: <span style=\"color: #008000\">'Gauche'</span><span style=\"font-weight: bold\">}</span>\n",
       "</pre>\n"
      ],
      "text/plain": [
       "<rich.jupyter.JupyterRenderable at 0x7f7e00bbc370>"
      ]
     },
     "metadata": {},
     "output_type": "display_data"
    }
   ],
   "source": [
    "print(aux.DEPART)"
   ]
  },
  {
   "cell_type": "code",
   "execution_count": 15,
   "metadata": {},
   "outputs": [
    {
     "data": {
      "text/html": [
       "<pre style=\"white-space:pre;overflow-x:auto;line-height:normal;font-family:Menlo,'DejaVu Sans Mono',consolas,'Courier New',monospace\"><span style=\"font-weight: bold\">{</span><span style=\"color: #008000\">'Berger'</span>: <span style=\"color: #008000\">'Droite'</span>, <span style=\"color: #008000\">'Loup'</span>: <span style=\"color: #008000\">'Droite'</span>, <span style=\"color: #008000\">'Mouton'</span>: <span style=\"color: #008000\">'Droite'</span>, <span style=\"color: #008000\">'Chou'</span>: <span style=\"color: #008000\">'Droite'</span><span style=\"font-weight: bold\">}</span>\n",
       "</pre>\n"
      ],
      "text/plain": [
       "<rich.jupyter.JupyterRenderable at 0x7f7e015c8dc0>"
      ]
     },
     "metadata": {},
     "output_type": "display_data"
    }
   ],
   "source": [
    "print(aux.ARRIVEE)"
   ]
  },
  {
   "cell_type": "code",
   "execution_count": 17,
   "metadata": {},
   "outputs": [
    {
     "data": {
      "text/html": [
       "<pre style=\"white-space:pre;overflow-x:auto;line-height:normal;font-family:Menlo,'DejaVu Sans Mono',consolas,'Courier New',monospace\">typing.Tuple<span style=\"font-weight: bold\">[</span>typing.Dict<span style=\"font-weight: bold\">[</span>typing.Literal<span style=\"font-weight: bold\">[</span><span style=\"color: #008000\">'Berger'</span>, <span style=\"color: #008000\">'Loup'</span>, <span style=\"color: #008000\">'Mouton'</span>, <span style=\"color: #008000\">'Choux'</span><span style=\"font-weight: bold\">]</span>, \n",
       "typing.Literal<span style=\"font-weight: bold\">[</span><span style=\"color: #008000\">'Gauche'</span>, <span style=\"color: #008000\">'Droite'</span><span style=\"font-weight: bold\">]]</span>, typing.Dict<span style=\"font-weight: bold\">[</span>typing.Literal<span style=\"font-weight: bold\">[</span><span style=\"color: #008000\">'Berger'</span>, <span style=\"color: #008000\">'Loup'</span>, <span style=\"color: #008000\">'Mouton'</span>, \n",
       "<span style=\"color: #008000\">'Choux'</span><span style=\"font-weight: bold\">]</span>, typing.Literal<span style=\"font-weight: bold\">[</span><span style=\"color: #008000\">'Gauche'</span>, <span style=\"color: #008000\">'Droite'</span><span style=\"font-weight: bold\">]]]</span>\n",
       "</pre>\n"
      ],
      "text/plain": [
       "<rich.jupyter.JupyterRenderable at 0x7f7e00bbcf70>"
      ]
     },
     "metadata": {},
     "output_type": "display_data"
    }
   ],
   "source": [
    "print(aux.Arrete)"
   ]
  },
  {
   "cell_type": "code",
   "execution_count": 18,
   "metadata": {},
   "outputs": [
    {
     "data": {
      "text/html": [
       "<pre style=\"white-space:pre;overflow-x:auto;line-height:normal;font-family:Menlo,'DejaVu Sans Mono',consolas,'Courier New',monospace\">typing.List<span style=\"font-weight: bold\">[</span>typing.Dict<span style=\"font-weight: bold\">[</span>typing.Literal<span style=\"font-weight: bold\">[</span><span style=\"color: #008000\">'Berger'</span>, <span style=\"color: #008000\">'Loup'</span>, <span style=\"color: #008000\">'Mouton'</span>, <span style=\"color: #008000\">'Choux'</span><span style=\"font-weight: bold\">]</span>, \n",
       "typing.Literal<span style=\"font-weight: bold\">[</span><span style=\"color: #008000\">'Gauche'</span>, <span style=\"color: #008000\">'Droite'</span><span style=\"font-weight: bold\">]]]</span>\n",
       "</pre>\n"
      ],
      "text/plain": [
       "<rich.jupyter.JupyterRenderable at 0x7f7e00bd03d0>"
      ]
     },
     "metadata": {},
     "output_type": "display_data"
    }
   ],
   "source": [
    "print(aux.Chemin)"
   ]
  },
  {
   "cell_type": "code",
   "execution_count": 19,
   "metadata": {},
   "outputs": [
    {
     "data": {
      "text/html": [
       "<pre style=\"white-space:pre;overflow-x:auto;line-height:normal;font-family:Menlo,'DejaVu Sans Mono',consolas,'Courier New',monospace\">typing.Tuple<span style=\"font-weight: bold\">[</span>typing.List<span style=\"font-weight: bold\">[</span>typing.Dict<span style=\"font-weight: bold\">[</span>typing.Literal<span style=\"font-weight: bold\">[</span><span style=\"color: #008000\">'Berger'</span>, <span style=\"color: #008000\">'Loup'</span>, <span style=\"color: #008000\">'Mouton'</span>, <span style=\"color: #008000\">'Choux'</span><span style=\"font-weight: bold\">]</span>, \n",
       "typing.Literal<span style=\"font-weight: bold\">[</span><span style=\"color: #008000\">'Gauche'</span>, <span style=\"color: #008000\">'Droite'</span><span style=\"font-weight: bold\">]]]</span>, \n",
       "typing.List<span style=\"font-weight: bold\">[</span>typing.Tuple<span style=\"font-weight: bold\">[</span>typing.Dict<span style=\"font-weight: bold\">[</span>typing.Literal<span style=\"font-weight: bold\">[</span><span style=\"color: #008000\">'Berger'</span>, <span style=\"color: #008000\">'Loup'</span>, <span style=\"color: #008000\">'Mouton'</span>, <span style=\"color: #008000\">'Choux'</span><span style=\"font-weight: bold\">]</span>, \n",
       "typing.Literal<span style=\"font-weight: bold\">[</span><span style=\"color: #008000\">'Gauche'</span>, <span style=\"color: #008000\">'Droite'</span><span style=\"font-weight: bold\">]]</span>, typing.Dict<span style=\"font-weight: bold\">[</span>typing.Literal<span style=\"font-weight: bold\">[</span><span style=\"color: #008000\">'Berger'</span>, <span style=\"color: #008000\">'Loup'</span>, <span style=\"color: #008000\">'Mouton'</span>, \n",
       "<span style=\"color: #008000\">'Choux'</span><span style=\"font-weight: bold\">]</span>, typing.Literal<span style=\"font-weight: bold\">[</span><span style=\"color: #008000\">'Gauche'</span>, <span style=\"color: #008000\">'Droite'</span><span style=\"font-weight: bold\">]]]]]</span>\n",
       "</pre>\n"
      ],
      "text/plain": [
       "<rich.jupyter.JupyterRenderable at 0x7f7e015be340>"
      ]
     },
     "metadata": {},
     "output_type": "display_data"
    }
   ],
   "source": [
    "print(aux.Graphe)"
   ]
  },
  {
   "cell_type": "markdown",
   "metadata": {},
   "source": [
    "## Résolution"
   ]
  },
  {
   "cell_type": "code",
   "execution_count": null,
   "metadata": {},
   "outputs": [],
   "source": [
    "print(aux.SOMMETS)"
   ]
  },
  {
   "cell_type": "code",
   "execution_count": 9,
   "metadata": {},
   "outputs": [
    {
     "data": {
      "text/html": [
       "<pre style=\"white-space:pre;overflow-x:auto;line-height:normal;font-family:Menlo,'DejaVu Sans Mono',consolas,'Courier New',monospace\"><span style=\"font-weight: bold\">(</span>\n",
       "    <span style=\"font-weight: bold\">[</span>\n",
       "        <span style=\"font-weight: bold\">{</span><span style=\"color: #008000\">'Berger'</span>: <span style=\"color: #008000\">'Gauche'</span>, <span style=\"color: #008000\">'Loup'</span>: <span style=\"color: #008000\">'Gauche'</span>, <span style=\"color: #008000\">'Mouton'</span>: <span style=\"color: #008000\">'Gauche'</span>, <span style=\"color: #008000\">'Chou'</span>: <span style=\"color: #008000\">'Gauche'</span><span style=\"font-weight: bold\">}</span>,\n",
       "        <span style=\"font-weight: bold\">{</span><span style=\"color: #008000\">'Berger'</span>: <span style=\"color: #008000\">'Gauche'</span>, <span style=\"color: #008000\">'Loup'</span>: <span style=\"color: #008000\">'Gauche'</span>, <span style=\"color: #008000\">'Mouton'</span>: <span style=\"color: #008000\">'Gauche'</span>, <span style=\"color: #008000\">'Chou'</span>: <span style=\"color: #008000\">'Droite'</span><span style=\"font-weight: bold\">}</span>,\n",
       "        <span style=\"font-weight: bold\">{</span><span style=\"color: #008000\">'Berger'</span>: <span style=\"color: #008000\">'Gauche'</span>, <span style=\"color: #008000\">'Loup'</span>: <span style=\"color: #008000\">'Gauche'</span>, <span style=\"color: #008000\">'Mouton'</span>: <span style=\"color: #008000\">'Droite'</span>, <span style=\"color: #008000\">'Chou'</span>: <span style=\"color: #008000\">'Gauche'</span><span style=\"font-weight: bold\">}</span>,\n",
       "        <span style=\"font-weight: bold\">{</span><span style=\"color: #008000\">'Berger'</span>: <span style=\"color: #008000\">'Gauche'</span>, <span style=\"color: #008000\">'Loup'</span>: <span style=\"color: #008000\">'Droite'</span>, <span style=\"color: #008000\">'Mouton'</span>: <span style=\"color: #008000\">'Gauche'</span>, <span style=\"color: #008000\">'Chou'</span>: <span style=\"color: #008000\">'Gauche'</span><span style=\"font-weight: bold\">}</span>,\n",
       "        <span style=\"font-weight: bold\">{</span><span style=\"color: #008000\">'Berger'</span>: <span style=\"color: #008000\">'Gauche'</span>, <span style=\"color: #008000\">'Loup'</span>: <span style=\"color: #008000\">'Droite'</span>, <span style=\"color: #008000\">'Mouton'</span>: <span style=\"color: #008000\">'Gauche'</span>, <span style=\"color: #008000\">'Chou'</span>: <span style=\"color: #008000\">'Droite'</span><span style=\"font-weight: bold\">}</span>,\n",
       "        <span style=\"font-weight: bold\">{</span><span style=\"color: #008000\">'Berger'</span>: <span style=\"color: #008000\">'Droite'</span>, <span style=\"color: #008000\">'Loup'</span>: <span style=\"color: #008000\">'Gauche'</span>, <span style=\"color: #008000\">'Mouton'</span>: <span style=\"color: #008000\">'Droite'</span>, <span style=\"color: #008000\">'Chou'</span>: <span style=\"color: #008000\">'Gauche'</span><span style=\"font-weight: bold\">}</span>,\n",
       "        <span style=\"font-weight: bold\">{</span><span style=\"color: #008000\">'Berger'</span>: <span style=\"color: #008000\">'Droite'</span>, <span style=\"color: #008000\">'Loup'</span>: <span style=\"color: #008000\">'Gauche'</span>, <span style=\"color: #008000\">'Mouton'</span>: <span style=\"color: #008000\">'Droite'</span>, <span style=\"color: #008000\">'Chou'</span>: <span style=\"color: #008000\">'Droite'</span><span style=\"font-weight: bold\">}</span>,\n",
       "        <span style=\"font-weight: bold\">{</span><span style=\"color: #008000\">'Berger'</span>: <span style=\"color: #008000\">'Droite'</span>, <span style=\"color: #008000\">'Loup'</span>: <span style=\"color: #008000\">'Droite'</span>, <span style=\"color: #008000\">'Mouton'</span>: <span style=\"color: #008000\">'Gauche'</span>, <span style=\"color: #008000\">'Chou'</span>: <span style=\"color: #008000\">'Droite'</span><span style=\"font-weight: bold\">}</span>,\n",
       "        <span style=\"font-weight: bold\">{</span><span style=\"color: #008000\">'Berger'</span>: <span style=\"color: #008000\">'Droite'</span>, <span style=\"color: #008000\">'Loup'</span>: <span style=\"color: #008000\">'Droite'</span>, <span style=\"color: #008000\">'Mouton'</span>: <span style=\"color: #008000\">'Droite'</span>, <span style=\"color: #008000\">'Chou'</span>: <span style=\"color: #008000\">'Gauche'</span><span style=\"font-weight: bold\">}</span>,\n",
       "        <span style=\"font-weight: bold\">{</span><span style=\"color: #008000\">'Berger'</span>: <span style=\"color: #008000\">'Droite'</span>, <span style=\"color: #008000\">'Loup'</span>: <span style=\"color: #008000\">'Droite'</span>, <span style=\"color: #008000\">'Mouton'</span>: <span style=\"color: #008000\">'Droite'</span>, <span style=\"color: #008000\">'Chou'</span>: <span style=\"color: #008000\">'Droite'</span><span style=\"font-weight: bold\">}</span>\n",
       "    <span style=\"font-weight: bold\">]</span>,\n",
       "    <span style=\"font-weight: bold\">[</span>\n",
       "        <span style=\"font-weight: bold\">(</span>\n",
       "            <span style=\"font-weight: bold\">{</span><span style=\"color: #008000\">'Berger'</span>: <span style=\"color: #008000\">'Gauche'</span>, <span style=\"color: #008000\">'Loup'</span>: <span style=\"color: #008000\">'Gauche'</span>, <span style=\"color: #008000\">'Mouton'</span>: <span style=\"color: #008000\">'Gauche'</span>, <span style=\"color: #008000\">'Chou'</span>: <span style=\"color: #008000\">'Gauche'</span><span style=\"font-weight: bold\">}</span>,\n",
       "            <span style=\"font-weight: bold\">{</span><span style=\"color: #008000\">'Berger'</span>: <span style=\"color: #008000\">'Droite'</span>, <span style=\"color: #008000\">'Loup'</span>: <span style=\"color: #008000\">'Gauche'</span>, <span style=\"color: #008000\">'Mouton'</span>: <span style=\"color: #008000\">'Droite'</span>, <span style=\"color: #008000\">'Chou'</span>: <span style=\"color: #008000\">'Gauche'</span><span style=\"font-weight: bold\">}</span>\n",
       "        <span style=\"font-weight: bold\">)</span>,\n",
       "        <span style=\"font-weight: bold\">(</span>\n",
       "            <span style=\"font-weight: bold\">{</span><span style=\"color: #008000\">'Berger'</span>: <span style=\"color: #008000\">'Gauche'</span>, <span style=\"color: #008000\">'Loup'</span>: <span style=\"color: #008000\">'Gauche'</span>, <span style=\"color: #008000\">'Mouton'</span>: <span style=\"color: #008000\">'Gauche'</span>, <span style=\"color: #008000\">'Chou'</span>: <span style=\"color: #008000\">'Droite'</span><span style=\"font-weight: bold\">}</span>,\n",
       "            <span style=\"font-weight: bold\">{</span><span style=\"color: #008000\">'Berger'</span>: <span style=\"color: #008000\">'Droite'</span>, <span style=\"color: #008000\">'Loup'</span>: <span style=\"color: #008000\">'Gauche'</span>, <span style=\"color: #008000\">'Mouton'</span>: <span style=\"color: #008000\">'Droite'</span>, <span style=\"color: #008000\">'Chou'</span>: <span style=\"color: #008000\">'Droite'</span><span style=\"font-weight: bold\">}</span>\n",
       "        <span style=\"font-weight: bold\">)</span>,\n",
       "        <span style=\"font-weight: bold\">(</span>\n",
       "            <span style=\"font-weight: bold\">{</span><span style=\"color: #008000\">'Berger'</span>: <span style=\"color: #008000\">'Gauche'</span>, <span style=\"color: #008000\">'Loup'</span>: <span style=\"color: #008000\">'Gauche'</span>, <span style=\"color: #008000\">'Mouton'</span>: <span style=\"color: #008000\">'Gauche'</span>, <span style=\"color: #008000\">'Chou'</span>: <span style=\"color: #008000\">'Droite'</span><span style=\"font-weight: bold\">}</span>,\n",
       "            <span style=\"font-weight: bold\">{</span><span style=\"color: #008000\">'Berger'</span>: <span style=\"color: #008000\">'Droite'</span>, <span style=\"color: #008000\">'Loup'</span>: <span style=\"color: #008000\">'Droite'</span>, <span style=\"color: #008000\">'Mouton'</span>: <span style=\"color: #008000\">'Gauche'</span>, <span style=\"color: #008000\">'Chou'</span>: <span style=\"color: #008000\">'Droite'</span><span style=\"font-weight: bold\">}</span>\n",
       "        <span style=\"font-weight: bold\">)</span>,\n",
       "        <span style=\"font-weight: bold\">(</span>\n",
       "            <span style=\"font-weight: bold\">{</span><span style=\"color: #008000\">'Berger'</span>: <span style=\"color: #008000\">'Gauche'</span>, <span style=\"color: #008000\">'Loup'</span>: <span style=\"color: #008000\">'Gauche'</span>, <span style=\"color: #008000\">'Mouton'</span>: <span style=\"color: #008000\">'Droite'</span>, <span style=\"color: #008000\">'Chou'</span>: <span style=\"color: #008000\">'Gauche'</span><span style=\"font-weight: bold\">}</span>,\n",
       "            <span style=\"font-weight: bold\">{</span><span style=\"color: #008000\">'Berger'</span>: <span style=\"color: #008000\">'Droite'</span>, <span style=\"color: #008000\">'Loup'</span>: <span style=\"color: #008000\">'Gauche'</span>, <span style=\"color: #008000\">'Mouton'</span>: <span style=\"color: #008000\">'Droite'</span>, <span style=\"color: #008000\">'Chou'</span>: <span style=\"color: #008000\">'Gauche'</span><span style=\"font-weight: bold\">}</span>\n",
       "        <span style=\"font-weight: bold\">)</span>,\n",
       "        <span style=\"font-weight: bold\">(</span>\n",
       "            <span style=\"font-weight: bold\">{</span><span style=\"color: #008000\">'Berger'</span>: <span style=\"color: #008000\">'Gauche'</span>, <span style=\"color: #008000\">'Loup'</span>: <span style=\"color: #008000\">'Gauche'</span>, <span style=\"color: #008000\">'Mouton'</span>: <span style=\"color: #008000\">'Droite'</span>, <span style=\"color: #008000\">'Chou'</span>: <span style=\"color: #008000\">'Gauche'</span><span style=\"font-weight: bold\">}</span>,\n",
       "            <span style=\"font-weight: bold\">{</span><span style=\"color: #008000\">'Berger'</span>: <span style=\"color: #008000\">'Droite'</span>, <span style=\"color: #008000\">'Loup'</span>: <span style=\"color: #008000\">'Gauche'</span>, <span style=\"color: #008000\">'Mouton'</span>: <span style=\"color: #008000\">'Droite'</span>, <span style=\"color: #008000\">'Chou'</span>: <span style=\"color: #008000\">'Droite'</span><span style=\"font-weight: bold\">}</span>\n",
       "        <span style=\"font-weight: bold\">)</span>,\n",
       "        <span style=\"font-weight: bold\">(</span>\n",
       "            <span style=\"font-weight: bold\">{</span><span style=\"color: #008000\">'Berger'</span>: <span style=\"color: #008000\">'Gauche'</span>, <span style=\"color: #008000\">'Loup'</span>: <span style=\"color: #008000\">'Gauche'</span>, <span style=\"color: #008000\">'Mouton'</span>: <span style=\"color: #008000\">'Droite'</span>, <span style=\"color: #008000\">'Chou'</span>: <span style=\"color: #008000\">'Gauche'</span><span style=\"font-weight: bold\">}</span>,\n",
       "            <span style=\"font-weight: bold\">{</span><span style=\"color: #008000\">'Berger'</span>: <span style=\"color: #008000\">'Droite'</span>, <span style=\"color: #008000\">'Loup'</span>: <span style=\"color: #008000\">'Droite'</span>, <span style=\"color: #008000\">'Mouton'</span>: <span style=\"color: #008000\">'Droite'</span>, <span style=\"color: #008000\">'Chou'</span>: <span style=\"color: #008000\">'Gauche'</span><span style=\"font-weight: bold\">}</span>\n",
       "        <span style=\"font-weight: bold\">)</span>,\n",
       "        <span style=\"font-weight: bold\">(</span>\n",
       "            <span style=\"font-weight: bold\">{</span><span style=\"color: #008000\">'Berger'</span>: <span style=\"color: #008000\">'Gauche'</span>, <span style=\"color: #008000\">'Loup'</span>: <span style=\"color: #008000\">'Droite'</span>, <span style=\"color: #008000\">'Mouton'</span>: <span style=\"color: #008000\">'Gauche'</span>, <span style=\"color: #008000\">'Chou'</span>: <span style=\"color: #008000\">'Gauche'</span><span style=\"font-weight: bold\">}</span>,\n",
       "            <span style=\"font-weight: bold\">{</span><span style=\"color: #008000\">'Berger'</span>: <span style=\"color: #008000\">'Droite'</span>, <span style=\"color: #008000\">'Loup'</span>: <span style=\"color: #008000\">'Droite'</span>, <span style=\"color: #008000\">'Mouton'</span>: <span style=\"color: #008000\">'Gauche'</span>, <span style=\"color: #008000\">'Chou'</span>: <span style=\"color: #008000\">'Droite'</span><span style=\"font-weight: bold\">}</span>\n",
       "        <span style=\"font-weight: bold\">)</span>,\n",
       "        <span style=\"font-weight: bold\">(</span>\n",
       "            <span style=\"font-weight: bold\">{</span><span style=\"color: #008000\">'Berger'</span>: <span style=\"color: #008000\">'Gauche'</span>, <span style=\"color: #008000\">'Loup'</span>: <span style=\"color: #008000\">'Droite'</span>, <span style=\"color: #008000\">'Mouton'</span>: <span style=\"color: #008000\">'Gauche'</span>, <span style=\"color: #008000\">'Chou'</span>: <span style=\"color: #008000\">'Gauche'</span><span style=\"font-weight: bold\">}</span>,\n",
       "            <span style=\"font-weight: bold\">{</span><span style=\"color: #008000\">'Berger'</span>: <span style=\"color: #008000\">'Droite'</span>, <span style=\"color: #008000\">'Loup'</span>: <span style=\"color: #008000\">'Droite'</span>, <span style=\"color: #008000\">'Mouton'</span>: <span style=\"color: #008000\">'Droite'</span>, <span style=\"color: #008000\">'Chou'</span>: <span style=\"color: #008000\">'Gauche'</span><span style=\"font-weight: bold\">}</span>\n",
       "        <span style=\"font-weight: bold\">)</span>,\n",
       "        <span style=\"font-weight: bold\">(</span>\n",
       "            <span style=\"font-weight: bold\">{</span><span style=\"color: #008000\">'Berger'</span>: <span style=\"color: #008000\">'Gauche'</span>, <span style=\"color: #008000\">'Loup'</span>: <span style=\"color: #008000\">'Droite'</span>, <span style=\"color: #008000\">'Mouton'</span>: <span style=\"color: #008000\">'Gauche'</span>, <span style=\"color: #008000\">'Chou'</span>: <span style=\"color: #008000\">'Droite'</span><span style=\"font-weight: bold\">}</span>,\n",
       "            <span style=\"font-weight: bold\">{</span><span style=\"color: #008000\">'Berger'</span>: <span style=\"color: #008000\">'Droite'</span>, <span style=\"color: #008000\">'Loup'</span>: <span style=\"color: #008000\">'Droite'</span>, <span style=\"color: #008000\">'Mouton'</span>: <span style=\"color: #008000\">'Gauche'</span>, <span style=\"color: #008000\">'Chou'</span>: <span style=\"color: #008000\">'Droite'</span><span style=\"font-weight: bold\">}</span>\n",
       "        <span style=\"font-weight: bold\">)</span>,\n",
       "        <span style=\"font-weight: bold\">(</span>\n",
       "            <span style=\"font-weight: bold\">{</span><span style=\"color: #008000\">'Berger'</span>: <span style=\"color: #008000\">'Gauche'</span>, <span style=\"color: #008000\">'Loup'</span>: <span style=\"color: #008000\">'Droite'</span>, <span style=\"color: #008000\">'Mouton'</span>: <span style=\"color: #008000\">'Gauche'</span>, <span style=\"color: #008000\">'Chou'</span>: <span style=\"color: #008000\">'Droite'</span><span style=\"font-weight: bold\">}</span>,\n",
       "            <span style=\"font-weight: bold\">{</span><span style=\"color: #008000\">'Berger'</span>: <span style=\"color: #008000\">'Droite'</span>, <span style=\"color: #008000\">'Loup'</span>: <span style=\"color: #008000\">'Droite'</span>, <span style=\"color: #008000\">'Mouton'</span>: <span style=\"color: #008000\">'Droite'</span>, <span style=\"color: #008000\">'Chou'</span>: <span style=\"color: #008000\">'Droite'</span><span style=\"font-weight: bold\">}</span>\n",
       "        <span style=\"font-weight: bold\">)</span>,\n",
       "        <span style=\"font-weight: bold\">(</span>\n",
       "            <span style=\"font-weight: bold\">{</span><span style=\"color: #008000\">'Berger'</span>: <span style=\"color: #008000\">'Droite'</span>, <span style=\"color: #008000\">'Loup'</span>: <span style=\"color: #008000\">'Gauche'</span>, <span style=\"color: #008000\">'Mouton'</span>: <span style=\"color: #008000\">'Droite'</span>, <span style=\"color: #008000\">'Chou'</span>: <span style=\"color: #008000\">'Gauche'</span><span style=\"font-weight: bold\">}</span>,\n",
       "            <span style=\"font-weight: bold\">{</span><span style=\"color: #008000\">'Berger'</span>: <span style=\"color: #008000\">'Gauche'</span>, <span style=\"color: #008000\">'Loup'</span>: <span style=\"color: #008000\">'Gauche'</span>, <span style=\"color: #008000\">'Mouton'</span>: <span style=\"color: #008000\">'Gauche'</span>, <span style=\"color: #008000\">'Chou'</span>: <span style=\"color: #008000\">'Gauche'</span><span style=\"font-weight: bold\">}</span>\n",
       "        <span style=\"font-weight: bold\">)</span>,\n",
       "        <span style=\"font-weight: bold\">(</span>\n",
       "            <span style=\"font-weight: bold\">{</span><span style=\"color: #008000\">'Berger'</span>: <span style=\"color: #008000\">'Droite'</span>, <span style=\"color: #008000\">'Loup'</span>: <span style=\"color: #008000\">'Gauche'</span>, <span style=\"color: #008000\">'Mouton'</span>: <span style=\"color: #008000\">'Droite'</span>, <span style=\"color: #008000\">'Chou'</span>: <span style=\"color: #008000\">'Gauche'</span><span style=\"font-weight: bold\">}</span>,\n",
       "            <span style=\"font-weight: bold\">{</span><span style=\"color: #008000\">'Berger'</span>: <span style=\"color: #008000\">'Gauche'</span>, <span style=\"color: #008000\">'Loup'</span>: <span style=\"color: #008000\">'Gauche'</span>, <span style=\"color: #008000\">'Mouton'</span>: <span style=\"color: #008000\">'Droite'</span>, <span style=\"color: #008000\">'Chou'</span>: <span style=\"color: #008000\">'Gauche'</span><span style=\"font-weight: bold\">}</span>\n",
       "        <span style=\"font-weight: bold\">)</span>,\n",
       "        <span style=\"font-weight: bold\">(</span>\n",
       "            <span style=\"font-weight: bold\">{</span><span style=\"color: #008000\">'Berger'</span>: <span style=\"color: #008000\">'Droite'</span>, <span style=\"color: #008000\">'Loup'</span>: <span style=\"color: #008000\">'Gauche'</span>, <span style=\"color: #008000\">'Mouton'</span>: <span style=\"color: #008000\">'Droite'</span>, <span style=\"color: #008000\">'Chou'</span>: <span style=\"color: #008000\">'Droite'</span><span style=\"font-weight: bold\">}</span>,\n",
       "            <span style=\"font-weight: bold\">{</span><span style=\"color: #008000\">'Berger'</span>: <span style=\"color: #008000\">'Gauche'</span>, <span style=\"color: #008000\">'Loup'</span>: <span style=\"color: #008000\">'Gauche'</span>, <span style=\"color: #008000\">'Mouton'</span>: <span style=\"color: #008000\">'Gauche'</span>, <span style=\"color: #008000\">'Chou'</span>: <span style=\"color: #008000\">'Droite'</span><span style=\"font-weight: bold\">}</span>\n",
       "        <span style=\"font-weight: bold\">)</span>,\n",
       "        <span style=\"font-weight: bold\">(</span>\n",
       "            <span style=\"font-weight: bold\">{</span><span style=\"color: #008000\">'Berger'</span>: <span style=\"color: #008000\">'Droite'</span>, <span style=\"color: #008000\">'Loup'</span>: <span style=\"color: #008000\">'Gauche'</span>, <span style=\"color: #008000\">'Mouton'</span>: <span style=\"color: #008000\">'Droite'</span>, <span style=\"color: #008000\">'Chou'</span>: <span style=\"color: #008000\">'Droite'</span><span style=\"font-weight: bold\">}</span>,\n",
       "            <span style=\"font-weight: bold\">{</span><span style=\"color: #008000\">'Berger'</span>: <span style=\"color: #008000\">'Gauche'</span>, <span style=\"color: #008000\">'Loup'</span>: <span style=\"color: #008000\">'Gauche'</span>, <span style=\"color: #008000\">'Mouton'</span>: <span style=\"color: #008000\">'Droite'</span>, <span style=\"color: #008000\">'Chou'</span>: <span style=\"color: #008000\">'Gauche'</span><span style=\"font-weight: bold\">}</span>\n",
       "        <span style=\"font-weight: bold\">)</span>,\n",
       "        <span style=\"font-weight: bold\">(</span>\n",
       "            <span style=\"font-weight: bold\">{</span><span style=\"color: #008000\">'Berger'</span>: <span style=\"color: #008000\">'Droite'</span>, <span style=\"color: #008000\">'Loup'</span>: <span style=\"color: #008000\">'Droite'</span>, <span style=\"color: #008000\">'Mouton'</span>: <span style=\"color: #008000\">'Gauche'</span>, <span style=\"color: #008000\">'Chou'</span>: <span style=\"color: #008000\">'Droite'</span><span style=\"font-weight: bold\">}</span>,\n",
       "            <span style=\"font-weight: bold\">{</span><span style=\"color: #008000\">'Berger'</span>: <span style=\"color: #008000\">'Gauche'</span>, <span style=\"color: #008000\">'Loup'</span>: <span style=\"color: #008000\">'Gauche'</span>, <span style=\"color: #008000\">'Mouton'</span>: <span style=\"color: #008000\">'Gauche'</span>, <span style=\"color: #008000\">'Chou'</span>: <span style=\"color: #008000\">'Droite'</span><span style=\"font-weight: bold\">}</span>\n",
       "        <span style=\"font-weight: bold\">)</span>,\n",
       "        <span style=\"font-weight: bold\">(</span>\n",
       "            <span style=\"font-weight: bold\">{</span><span style=\"color: #008000\">'Berger'</span>: <span style=\"color: #008000\">'Droite'</span>, <span style=\"color: #008000\">'Loup'</span>: <span style=\"color: #008000\">'Droite'</span>, <span style=\"color: #008000\">'Mouton'</span>: <span style=\"color: #008000\">'Gauche'</span>, <span style=\"color: #008000\">'Chou'</span>: <span style=\"color: #008000\">'Droite'</span><span style=\"font-weight: bold\">}</span>,\n",
       "            <span style=\"font-weight: bold\">{</span><span style=\"color: #008000\">'Berger'</span>: <span style=\"color: #008000\">'Gauche'</span>, <span style=\"color: #008000\">'Loup'</span>: <span style=\"color: #008000\">'Droite'</span>, <span style=\"color: #008000\">'Mouton'</span>: <span style=\"color: #008000\">'Gauche'</span>, <span style=\"color: #008000\">'Chou'</span>: <span style=\"color: #008000\">'Gauche'</span><span style=\"font-weight: bold\">}</span>\n",
       "        <span style=\"font-weight: bold\">)</span>,\n",
       "        <span style=\"font-weight: bold\">(</span>\n",
       "            <span style=\"font-weight: bold\">{</span><span style=\"color: #008000\">'Berger'</span>: <span style=\"color: #008000\">'Droite'</span>, <span style=\"color: #008000\">'Loup'</span>: <span style=\"color: #008000\">'Droite'</span>, <span style=\"color: #008000\">'Mouton'</span>: <span style=\"color: #008000\">'Gauche'</span>, <span style=\"color: #008000\">'Chou'</span>: <span style=\"color: #008000\">'Droite'</span><span style=\"font-weight: bold\">}</span>,\n",
       "            <span style=\"font-weight: bold\">{</span><span style=\"color: #008000\">'Berger'</span>: <span style=\"color: #008000\">'Gauche'</span>, <span style=\"color: #008000\">'Loup'</span>: <span style=\"color: #008000\">'Droite'</span>, <span style=\"color: #008000\">'Mouton'</span>: <span style=\"color: #008000\">'Gauche'</span>, <span style=\"color: #008000\">'Chou'</span>: <span style=\"color: #008000\">'Droite'</span><span style=\"font-weight: bold\">}</span>\n",
       "        <span style=\"font-weight: bold\">)</span>,\n",
       "        <span style=\"font-weight: bold\">(</span>\n",
       "            <span style=\"font-weight: bold\">{</span><span style=\"color: #008000\">'Berger'</span>: <span style=\"color: #008000\">'Droite'</span>, <span style=\"color: #008000\">'Loup'</span>: <span style=\"color: #008000\">'Droite'</span>, <span style=\"color: #008000\">'Mouton'</span>: <span style=\"color: #008000\">'Droite'</span>, <span style=\"color: #008000\">'Chou'</span>: <span style=\"color: #008000\">'Gauche'</span><span style=\"font-weight: bold\">}</span>,\n",
       "            <span style=\"font-weight: bold\">{</span><span style=\"color: #008000\">'Berger'</span>: <span style=\"color: #008000\">'Gauche'</span>, <span style=\"color: #008000\">'Loup'</span>: <span style=\"color: #008000\">'Gauche'</span>, <span style=\"color: #008000\">'Mouton'</span>: <span style=\"color: #008000\">'Droite'</span>, <span style=\"color: #008000\">'Chou'</span>: <span style=\"color: #008000\">'Gauche'</span><span style=\"font-weight: bold\">}</span>\n",
       "        <span style=\"font-weight: bold\">)</span>,\n",
       "        <span style=\"font-weight: bold\">(</span>\n",
       "            <span style=\"font-weight: bold\">{</span><span style=\"color: #008000\">'Berger'</span>: <span style=\"color: #008000\">'Droite'</span>, <span style=\"color: #008000\">'Loup'</span>: <span style=\"color: #008000\">'Droite'</span>, <span style=\"color: #008000\">'Mouton'</span>: <span style=\"color: #008000\">'Droite'</span>, <span style=\"color: #008000\">'Chou'</span>: <span style=\"color: #008000\">'Gauche'</span><span style=\"font-weight: bold\">}</span>,\n",
       "            <span style=\"font-weight: bold\">{</span><span style=\"color: #008000\">'Berger'</span>: <span style=\"color: #008000\">'Gauche'</span>, <span style=\"color: #008000\">'Loup'</span>: <span style=\"color: #008000\">'Droite'</span>, <span style=\"color: #008000\">'Mouton'</span>: <span style=\"color: #008000\">'Gauche'</span>, <span style=\"color: #008000\">'Chou'</span>: <span style=\"color: #008000\">'Gauche'</span><span style=\"font-weight: bold\">}</span>\n",
       "        <span style=\"font-weight: bold\">)</span>,\n",
       "        <span style=\"font-weight: bold\">(</span>\n",
       "            <span style=\"font-weight: bold\">{</span><span style=\"color: #008000\">'Berger'</span>: <span style=\"color: #008000\">'Droite'</span>, <span style=\"color: #008000\">'Loup'</span>: <span style=\"color: #008000\">'Droite'</span>, <span style=\"color: #008000\">'Mouton'</span>: <span style=\"color: #008000\">'Droite'</span>, <span style=\"color: #008000\">'Chou'</span>: <span style=\"color: #008000\">'Droite'</span><span style=\"font-weight: bold\">}</span>,\n",
       "            <span style=\"font-weight: bold\">{</span><span style=\"color: #008000\">'Berger'</span>: <span style=\"color: #008000\">'Gauche'</span>, <span style=\"color: #008000\">'Loup'</span>: <span style=\"color: #008000\">'Droite'</span>, <span style=\"color: #008000\">'Mouton'</span>: <span style=\"color: #008000\">'Gauche'</span>, <span style=\"color: #008000\">'Chou'</span>: <span style=\"color: #008000\">'Droite'</span><span style=\"font-weight: bold\">}</span>\n",
       "        <span style=\"font-weight: bold\">)</span>\n",
       "    <span style=\"font-weight: bold\">]</span>\n",
       "<span style=\"font-weight: bold\">)</span>\n",
       "</pre>\n"
      ],
      "text/plain": [
       "<rich.jupyter.JupyterRenderable at 0x7f7e02e35fd0>"
      ]
     },
     "metadata": {},
     "output_type": "display_data"
    }
   ],
   "source": [
    "print(aux.GRAPHE)"
   ]
  },
  {
   "cell_type": "code",
   "execution_count": 10,
   "metadata": {},
   "outputs": [
    {
     "data": {
      "text/plain": [
       "True"
      ]
     },
     "execution_count": 10,
     "metadata": {},
     "output_type": "execute_result"
    }
   ],
   "source": [
    "aux.sont_relies(\n",
    "    depart=aux.DEPART, \n",
    "    arrivee=aux.ARRIVEE, \n",
    "    graphe=aux.genere_graphe()\n",
    ")"
   ]
  },
  {
   "cell_type": "code",
   "execution_count": 11,
   "metadata": {},
   "outputs": [
    {
     "data": {
      "text/plain": [
       "[{'Berger': 'Gauche', 'Loup': 'Gauche', 'Mouton': 'Gauche', 'Chou': 'Gauche'},\n",
       " {'Berger': 'Droite', 'Loup': 'Gauche', 'Mouton': 'Droite', 'Chou': 'Gauche'},\n",
       " {'Berger': 'Gauche', 'Loup': 'Gauche', 'Mouton': 'Droite', 'Chou': 'Gauche'},\n",
       " {'Berger': 'Droite', 'Loup': 'Droite', 'Mouton': 'Droite', 'Chou': 'Gauche'},\n",
       " {'Berger': 'Gauche', 'Loup': 'Droite', 'Mouton': 'Gauche', 'Chou': 'Gauche'},\n",
       " {'Berger': 'Droite', 'Loup': 'Droite', 'Mouton': 'Gauche', 'Chou': 'Droite'},\n",
       " {'Berger': 'Gauche', 'Loup': 'Droite', 'Mouton': 'Gauche', 'Chou': 'Droite'},\n",
       " {'Berger': 'Droite', 'Loup': 'Droite', 'Mouton': 'Droite', 'Chou': 'Droite'}]"
      ]
     },
     "execution_count": 11,
     "metadata": {},
     "output_type": "execute_result"
    }
   ],
   "source": [
    "aux.trouve_chemin(\n",
    "    depart=aux.DEPART, \n",
    "    arrivee=aux.ARRIVEE, \n",
    "    graphe=aux.genere_graphe()\n",
    ")"
   ]
  },
  {
   "cell_type": "markdown",
   "metadata": {},
   "source": [
    "# Exercice\n",
    "\n",
    "- Coder des tests pour chaque fonction. (25min -> 11h20)  \n",
    "**Sauf** `genere_etats` et `genere_graphe` (ce qui est un symptome que ces fonctions devraient être adaptées)\n",
    "- Finir la documentation de la librairie. (10min -> 12h)"
   ]
  },
  {
   "cell_type": "markdown",
   "metadata": {},
   "source": [
    "# Exercice\n",
    "\n",
    "- Coder la fonction `genere_etats`\n",
    "- Compléter les tests sur les fonctions et la documentation `genere_etats` et `genere_graphe`"
   ]
  },
  {
   "cell_type": "code",
   "execution_count": null,
   "metadata": {},
   "outputs": [],
   "source": []
  }
 ],
 "metadata": {
  "kernelspec": {
   "display_name": "Python 3",
   "language": "python",
   "name": "python3"
  },
  "language_info": {
   "codemirror_mode": {
    "name": "ipython",
    "version": 3
   },
   "file_extension": ".py",
   "mimetype": "text/x-python",
   "name": "python",
   "nbconvert_exporter": "python",
   "pygments_lexer": "ipython3",
   "version": "3.8.3"
  },
  "toc-autonumbering": true,
  "toc-showcode": false,
  "toc-showmarkdowntxt": false,
  "toc-showtags": false
 },
 "nbformat": 4,
 "nbformat_minor": 4
}
