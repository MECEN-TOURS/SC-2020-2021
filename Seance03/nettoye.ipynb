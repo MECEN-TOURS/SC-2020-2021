{
 "cells": [
  {
   "cell_type": "markdown",
   "metadata": {},
   "source": [
    "# Introduction du problème\n",
    "\n",
    "1. Un berger, un loup, un mouton et un chou d'un côté d'une rivière.\n",
    "2. Ils veulent traverser cette rivière.\n",
    "3. Ils possèdent une barque de 2 places.\n",
    "4. Le berger est toujours dans la barque lors d'une traversée.\n",
    "5. Le berger ne peut pas laisser sans surveilance:\n",
    "    - le loup et le mouton\n",
    "    - le mouton et le chou\n",
    "6. Comment doit on planifier les traversées pour que tout le monde passent la rivière?"
   ]
  },
  {
   "cell_type": "markdown",
   "metadata": {},
   "source": [
    "# Résolution du problème"
   ]
  },
  {
   "cell_type": "code",
   "execution_count": 1,
   "metadata": {},
   "outputs": [],
   "source": [
    "import auxiliaire as aux\n",
    "from rich import print\n",
    "from importlib import reload # si jamais on voulait recharger une librairie en cours dans redémarrer le notebook"
   ]
  },
  {
   "cell_type": "code",
   "execution_count": 2,
   "metadata": {},
   "outputs": [
    {
     "data": {
      "text/plain": [
       "<module 'auxiliaire' from '/home/vincent/projets/COURS/SC-2020-2021/Seance03/auxiliaire.py'>"
      ]
     },
     "execution_count": 2,
     "metadata": {},
     "output_type": "execute_result"
    }
   ],
   "source": [
    "reload(aux)"
   ]
  },
  {
   "cell_type": "code",
   "execution_count": 3,
   "metadata": {},
   "outputs": [
    {
     "data": {
      "text/plain": [
       "\u001b[0;31mType:\u001b[0m        module\n",
       "\u001b[0;31mString form:\u001b[0m <module 'auxiliaire' from '/home/vincent/projets/COURS/SC-2020-2021/Seance03/auxiliaire.py'>\n",
       "\u001b[0;31mFile:\u001b[0m        ~/projets/COURS/SC-2020-2021/Seance03/auxiliaire.py\n",
       "\u001b[0;31mDocstring:\u001b[0m  \n",
       "Description.\n",
       "\n",
       "Module auxiliaire pour la résolution du problème de traversée.\n"
      ]
     },
     "metadata": {},
     "output_type": "display_data"
    }
   ],
   "source": [
    "aux?"
   ]
  },
  {
   "cell_type": "markdown",
   "metadata": {},
   "source": [
    "## Modélisation\n",
    "\n",
    "- On introduit les constantes `PERSONNAGES` et `COTES` contenant les différentes valeurs possibles.\n",
    "- On introduit les types litéraux `Personnage` et `Cote` pour représenter chaines de caractères admissibles.\n",
    "- Un état du problème est représenté par un `dict` qui associe à chaque personnage, le côté de la rivière où il se trouve. On utilise le type `Etat` à cet effet.\n",
    "- Les sommets sont les états respectant la règle additionnel. On encode en python cette structure comme `List[Etat]`\n",
    "- Deux états sont reliés par une arrête lorsque on passe de l'un à l'autre avec exactement une traversée de barque. On encode cette structure en python via un couple d'état. On introduit le type `Arrete`.\n",
    "- Finalement le graphe sera le couple constitué de la list des états admissibles (aka les sommets) et de la liste des arrêtes. On introduit le type `Graphe` à cet effet."
   ]
  },
  {
   "cell_type": "code",
   "execution_count": 4,
   "metadata": {},
   "outputs": [
    {
     "data": {
      "text/html": [
       "<pre style=\"white-space:pre;overflow-x:auto;line-height:normal;font-family:Menlo,'DejaVu Sans Mono',consolas,'Courier New',monospace\">typing.Literal<span style=\"font-weight: bold\">[</span><span style=\"color: #008000\">'Berger'</span>, <span style=\"color: #008000\">'Loup'</span>, <span style=\"color: #008000\">'Mouton'</span>, <span style=\"color: #008000\">'Choux'</span><span style=\"font-weight: bold\">]</span>\n",
       "</pre>\n"
      ],
      "text/plain": [
       "<rich.jupyter.JupyterRenderable at 0x7fc829f89490>"
      ]
     },
     "metadata": {},
     "output_type": "display_data"
    }
   ],
   "source": [
    "print(aux.Personnage)"
   ]
  },
  {
   "cell_type": "code",
   "execution_count": 5,
   "metadata": {},
   "outputs": [
    {
     "data": {
      "text/html": [
       "<pre style=\"white-space:pre;overflow-x:auto;line-height:normal;font-family:Menlo,'DejaVu Sans Mono',consolas,'Courier New',monospace\">typing.Literal<span style=\"font-weight: bold\">[</span><span style=\"color: #008000\">'Gauche'</span>, <span style=\"color: #008000\">'Droite'</span><span style=\"font-weight: bold\">]</span>\n",
       "</pre>\n"
      ],
      "text/plain": [
       "<rich.jupyter.JupyterRenderable at 0x7fc829e29bb0>"
      ]
     },
     "metadata": {},
     "output_type": "display_data"
    }
   ],
   "source": [
    "print(aux.Cote)"
   ]
  },
  {
   "cell_type": "code",
   "execution_count": 6,
   "metadata": {},
   "outputs": [
    {
     "data": {
      "text/html": [
       "<pre style=\"white-space:pre;overflow-x:auto;line-height:normal;font-family:Menlo,'DejaVu Sans Mono',consolas,'Courier New',monospace\"><span style=\"font-weight: bold\">[</span><span style=\"color: #008000\">'Berger'</span>, <span style=\"color: #008000\">'Loup'</span>, <span style=\"color: #008000\">'Mouton'</span>, <span style=\"color: #008000\">'Choux'</span><span style=\"font-weight: bold\">]</span>\n",
       "</pre>\n"
      ],
      "text/plain": [
       "<rich.jupyter.JupyterRenderable at 0x7fc829e29ca0>"
      ]
     },
     "metadata": {},
     "output_type": "display_data"
    }
   ],
   "source": [
    "print(aux.PERSONNAGES)"
   ]
  },
  {
   "cell_type": "code",
   "execution_count": 7,
   "metadata": {},
   "outputs": [
    {
     "data": {
      "text/html": [
       "<pre style=\"white-space:pre;overflow-x:auto;line-height:normal;font-family:Menlo,'DejaVu Sans Mono',consolas,'Courier New',monospace\"><span style=\"font-weight: bold\">[</span><span style=\"color: #008000\">'Gauche'</span>, <span style=\"color: #008000\">'Droite'</span><span style=\"font-weight: bold\">]</span>\n",
       "</pre>\n"
      ],
      "text/plain": [
       "<rich.jupyter.JupyterRenderable at 0x7fc8380436d0>"
      ]
     },
     "metadata": {},
     "output_type": "display_data"
    }
   ],
   "source": [
    "print(aux.COTES)"
   ]
  },
  {
   "cell_type": "code",
   "execution_count": 8,
   "metadata": {},
   "outputs": [
    {
     "data": {
      "text/html": [
       "<pre style=\"white-space:pre;overflow-x:auto;line-height:normal;font-family:Menlo,'DejaVu Sans Mono',consolas,'Courier New',monospace\"><span style=\"font-weight: bold\">{</span><span style=\"color: #008000\">'Berger'</span>: <span style=\"color: #008000\">'Gauche'</span>, <span style=\"color: #008000\">'Loup'</span>: <span style=\"color: #008000\">'Gauche'</span>, <span style=\"color: #008000\">'Mouton'</span>: <span style=\"color: #008000\">'Gauche'</span>, <span style=\"color: #008000\">'Choux'</span>: <span style=\"color: #008000\">'Gauche'</span><span style=\"font-weight: bold\">}</span>\n",
       "</pre>\n"
      ],
      "text/plain": [
       "<rich.jupyter.JupyterRenderable at 0x7fc82a7c5c70>"
      ]
     },
     "metadata": {},
     "output_type": "display_data"
    }
   ],
   "source": [
    "print(aux.DEPART)"
   ]
  },
  {
   "cell_type": "code",
   "execution_count": 9,
   "metadata": {},
   "outputs": [
    {
     "data": {
      "text/html": [
       "<pre style=\"white-space:pre;overflow-x:auto;line-height:normal;font-family:Menlo,'DejaVu Sans Mono',consolas,'Courier New',monospace\"><span style=\"font-weight: bold\">{</span><span style=\"color: #008000\">'Berger'</span>: <span style=\"color: #008000\">'Droite'</span>, <span style=\"color: #008000\">'Loup'</span>: <span style=\"color: #008000\">'Droite'</span>, <span style=\"color: #008000\">'Mouton'</span>: <span style=\"color: #008000\">'Droite'</span>, <span style=\"color: #008000\">'Choux'</span>: <span style=\"color: #008000\">'Droite'</span><span style=\"font-weight: bold\">}</span>\n",
       "</pre>\n"
      ],
      "text/plain": [
       "<rich.jupyter.JupyterRenderable at 0x7fc829f89a00>"
      ]
     },
     "metadata": {},
     "output_type": "display_data"
    }
   ],
   "source": [
    "print(aux.ARRIVEE)"
   ]
  },
  {
   "cell_type": "code",
   "execution_count": null,
   "metadata": {},
   "outputs": [],
   "source": []
  },
  {
   "cell_type": "markdown",
   "metadata": {},
   "source": [
    "## Résolution"
   ]
  },
  {
   "cell_type": "code",
   "execution_count": 10,
   "metadata": {},
   "outputs": [
    {
     "data": {
      "text/html": [
       "<pre style=\"white-space:pre;overflow-x:auto;line-height:normal;font-family:Menlo,'DejaVu Sans Mono',consolas,'Courier New',monospace\"><span style=\"font-weight: bold\">[</span>\n",
       "    <span style=\"font-weight: bold\">{</span><span style=\"color: #008000\">'Berger'</span>: <span style=\"color: #008000\">'Gauche'</span>, <span style=\"color: #008000\">'Loup'</span>: <span style=\"color: #008000\">'Gauche'</span>, <span style=\"color: #008000\">'Mouton'</span>: <span style=\"color: #008000\">'Gauche'</span>, <span style=\"color: #008000\">'Choux'</span>: <span style=\"color: #008000\">'Gauche'</span><span style=\"font-weight: bold\">}</span>,\n",
       "    <span style=\"font-weight: bold\">{</span><span style=\"color: #008000\">'Berger'</span>: <span style=\"color: #008000\">'Gauche'</span>, <span style=\"color: #008000\">'Loup'</span>: <span style=\"color: #008000\">'Gauche'</span>, <span style=\"color: #008000\">'Mouton'</span>: <span style=\"color: #008000\">'Gauche'</span>, <span style=\"color: #008000\">'Choux'</span>: <span style=\"color: #008000\">'Droite'</span><span style=\"font-weight: bold\">}</span>,\n",
       "    <span style=\"font-weight: bold\">{</span><span style=\"color: #008000\">'Berger'</span>: <span style=\"color: #008000\">'Gauche'</span>, <span style=\"color: #008000\">'Loup'</span>: <span style=\"color: #008000\">'Gauche'</span>, <span style=\"color: #008000\">'Mouton'</span>: <span style=\"color: #008000\">'Droite'</span>, <span style=\"color: #008000\">'Choux'</span>: <span style=\"color: #008000\">'Gauche'</span><span style=\"font-weight: bold\">}</span>,\n",
       "    <span style=\"font-weight: bold\">{</span><span style=\"color: #008000\">'Berger'</span>: <span style=\"color: #008000\">'Gauche'</span>, <span style=\"color: #008000\">'Loup'</span>: <span style=\"color: #008000\">'Droite'</span>, <span style=\"color: #008000\">'Mouton'</span>: <span style=\"color: #008000\">'Gauche'</span>, <span style=\"color: #008000\">'Choux'</span>: <span style=\"color: #008000\">'Gauche'</span><span style=\"font-weight: bold\">}</span>,\n",
       "    <span style=\"font-weight: bold\">{</span><span style=\"color: #008000\">'Berger'</span>: <span style=\"color: #008000\">'Gauche'</span>, <span style=\"color: #008000\">'Loup'</span>: <span style=\"color: #008000\">'Droite'</span>, <span style=\"color: #008000\">'Mouton'</span>: <span style=\"color: #008000\">'Gauche'</span>, <span style=\"color: #008000\">'Choux'</span>: <span style=\"color: #008000\">'Droite'</span><span style=\"font-weight: bold\">}</span>,\n",
       "    <span style=\"font-weight: bold\">{</span><span style=\"color: #008000\">'Berger'</span>: <span style=\"color: #008000\">'Droite'</span>, <span style=\"color: #008000\">'Loup'</span>: <span style=\"color: #008000\">'Gauche'</span>, <span style=\"color: #008000\">'Mouton'</span>: <span style=\"color: #008000\">'Droite'</span>, <span style=\"color: #008000\">'Choux'</span>: <span style=\"color: #008000\">'Gauche'</span><span style=\"font-weight: bold\">}</span>,\n",
       "    <span style=\"font-weight: bold\">{</span><span style=\"color: #008000\">'Berger'</span>: <span style=\"color: #008000\">'Droite'</span>, <span style=\"color: #008000\">'Loup'</span>: <span style=\"color: #008000\">'Gauche'</span>, <span style=\"color: #008000\">'Mouton'</span>: <span style=\"color: #008000\">'Droite'</span>, <span style=\"color: #008000\">'Choux'</span>: <span style=\"color: #008000\">'Droite'</span><span style=\"font-weight: bold\">}</span>,\n",
       "    <span style=\"font-weight: bold\">{</span><span style=\"color: #008000\">'Berger'</span>: <span style=\"color: #008000\">'Droite'</span>, <span style=\"color: #008000\">'Loup'</span>: <span style=\"color: #008000\">'Droite'</span>, <span style=\"color: #008000\">'Mouton'</span>: <span style=\"color: #008000\">'Gauche'</span>, <span style=\"color: #008000\">'Choux'</span>: <span style=\"color: #008000\">'Droite'</span><span style=\"font-weight: bold\">}</span>,\n",
       "    <span style=\"font-weight: bold\">{</span><span style=\"color: #008000\">'Berger'</span>: <span style=\"color: #008000\">'Droite'</span>, <span style=\"color: #008000\">'Loup'</span>: <span style=\"color: #008000\">'Droite'</span>, <span style=\"color: #008000\">'Mouton'</span>: <span style=\"color: #008000\">'Droite'</span>, <span style=\"color: #008000\">'Choux'</span>: <span style=\"color: #008000\">'Gauche'</span><span style=\"font-weight: bold\">}</span>,\n",
       "    <span style=\"font-weight: bold\">{</span><span style=\"color: #008000\">'Berger'</span>: <span style=\"color: #008000\">'Droite'</span>, <span style=\"color: #008000\">'Loup'</span>: <span style=\"color: #008000\">'Droite'</span>, <span style=\"color: #008000\">'Mouton'</span>: <span style=\"color: #008000\">'Droite'</span>, <span style=\"color: #008000\">'Choux'</span>: <span style=\"color: #008000\">'Droite'</span><span style=\"font-weight: bold\">}</span>\n",
       "<span style=\"font-weight: bold\">]</span>\n",
       "</pre>\n"
      ],
      "text/plain": [
       "<rich.jupyter.JupyterRenderable at 0x7fc82a7c5490>"
      ]
     },
     "metadata": {},
     "output_type": "display_data"
    }
   ],
   "source": [
    "print(aux.SOMMETS)"
   ]
  },
  {
   "cell_type": "code",
   "execution_count": 11,
   "metadata": {},
   "outputs": [
    {
     "data": {
      "text/html": [
       "<pre style=\"white-space:pre;overflow-x:auto;line-height:normal;font-family:Menlo,'DejaVu Sans Mono',consolas,'Courier New',monospace\"><span style=\"font-weight: bold\">(</span>\n",
       "    <span style=\"font-weight: bold\">[</span>\n",
       "        <span style=\"font-weight: bold\">{</span><span style=\"color: #008000\">'Berger'</span>: <span style=\"color: #008000\">'Gauche'</span>, <span style=\"color: #008000\">'Loup'</span>: <span style=\"color: #008000\">'Gauche'</span>, <span style=\"color: #008000\">'Mouton'</span>: <span style=\"color: #008000\">'Gauche'</span>, <span style=\"color: #008000\">'Choux'</span>: <span style=\"color: #008000\">'Gauche'</span><span style=\"font-weight: bold\">}</span>,\n",
       "        <span style=\"font-weight: bold\">{</span><span style=\"color: #008000\">'Berger'</span>: <span style=\"color: #008000\">'Gauche'</span>, <span style=\"color: #008000\">'Loup'</span>: <span style=\"color: #008000\">'Gauche'</span>, <span style=\"color: #008000\">'Mouton'</span>: <span style=\"color: #008000\">'Gauche'</span>, <span style=\"color: #008000\">'Choux'</span>: <span style=\"color: #008000\">'Droite'</span><span style=\"font-weight: bold\">}</span>,\n",
       "        <span style=\"font-weight: bold\">{</span><span style=\"color: #008000\">'Berger'</span>: <span style=\"color: #008000\">'Gauche'</span>, <span style=\"color: #008000\">'Loup'</span>: <span style=\"color: #008000\">'Gauche'</span>, <span style=\"color: #008000\">'Mouton'</span>: <span style=\"color: #008000\">'Droite'</span>, <span style=\"color: #008000\">'Choux'</span>: <span style=\"color: #008000\">'Gauche'</span><span style=\"font-weight: bold\">}</span>,\n",
       "        <span style=\"font-weight: bold\">{</span><span style=\"color: #008000\">'Berger'</span>: <span style=\"color: #008000\">'Gauche'</span>, <span style=\"color: #008000\">'Loup'</span>: <span style=\"color: #008000\">'Droite'</span>, <span style=\"color: #008000\">'Mouton'</span>: <span style=\"color: #008000\">'Gauche'</span>, <span style=\"color: #008000\">'Choux'</span>: <span style=\"color: #008000\">'Gauche'</span><span style=\"font-weight: bold\">}</span>,\n",
       "        <span style=\"font-weight: bold\">{</span><span style=\"color: #008000\">'Berger'</span>: <span style=\"color: #008000\">'Gauche'</span>, <span style=\"color: #008000\">'Loup'</span>: <span style=\"color: #008000\">'Droite'</span>, <span style=\"color: #008000\">'Mouton'</span>: <span style=\"color: #008000\">'Gauche'</span>, <span style=\"color: #008000\">'Choux'</span>: <span style=\"color: #008000\">'Droite'</span><span style=\"font-weight: bold\">}</span>,\n",
       "        <span style=\"font-weight: bold\">{</span><span style=\"color: #008000\">'Berger'</span>: <span style=\"color: #008000\">'Droite'</span>, <span style=\"color: #008000\">'Loup'</span>: <span style=\"color: #008000\">'Gauche'</span>, <span style=\"color: #008000\">'Mouton'</span>: <span style=\"color: #008000\">'Droite'</span>, <span style=\"color: #008000\">'Choux'</span>: <span style=\"color: #008000\">'Gauche'</span><span style=\"font-weight: bold\">}</span>,\n",
       "        <span style=\"font-weight: bold\">{</span><span style=\"color: #008000\">'Berger'</span>: <span style=\"color: #008000\">'Droite'</span>, <span style=\"color: #008000\">'Loup'</span>: <span style=\"color: #008000\">'Gauche'</span>, <span style=\"color: #008000\">'Mouton'</span>: <span style=\"color: #008000\">'Droite'</span>, <span style=\"color: #008000\">'Choux'</span>: <span style=\"color: #008000\">'Droite'</span><span style=\"font-weight: bold\">}</span>,\n",
       "        <span style=\"font-weight: bold\">{</span><span style=\"color: #008000\">'Berger'</span>: <span style=\"color: #008000\">'Droite'</span>, <span style=\"color: #008000\">'Loup'</span>: <span style=\"color: #008000\">'Droite'</span>, <span style=\"color: #008000\">'Mouton'</span>: <span style=\"color: #008000\">'Gauche'</span>, <span style=\"color: #008000\">'Choux'</span>: <span style=\"color: #008000\">'Droite'</span><span style=\"font-weight: bold\">}</span>,\n",
       "        <span style=\"font-weight: bold\">{</span><span style=\"color: #008000\">'Berger'</span>: <span style=\"color: #008000\">'Droite'</span>, <span style=\"color: #008000\">'Loup'</span>: <span style=\"color: #008000\">'Droite'</span>, <span style=\"color: #008000\">'Mouton'</span>: <span style=\"color: #008000\">'Droite'</span>, <span style=\"color: #008000\">'Choux'</span>: <span style=\"color: #008000\">'Gauche'</span><span style=\"font-weight: bold\">}</span>,\n",
       "        <span style=\"font-weight: bold\">{</span><span style=\"color: #008000\">'Berger'</span>: <span style=\"color: #008000\">'Droite'</span>, <span style=\"color: #008000\">'Loup'</span>: <span style=\"color: #008000\">'Droite'</span>, <span style=\"color: #008000\">'Mouton'</span>: <span style=\"color: #008000\">'Droite'</span>, <span style=\"color: #008000\">'Choux'</span>: <span style=\"color: #008000\">'Droite'</span><span style=\"font-weight: bold\">}</span>\n",
       "    <span style=\"font-weight: bold\">]</span>,\n",
       "    <span style=\"font-weight: bold\">[</span>\n",
       "        <span style=\"font-weight: bold\">(</span>\n",
       "            <span style=\"font-weight: bold\">{</span><span style=\"color: #008000\">'Berger'</span>: <span style=\"color: #008000\">'Gauche'</span>, <span style=\"color: #008000\">'Loup'</span>: <span style=\"color: #008000\">'Gauche'</span>, <span style=\"color: #008000\">'Mouton'</span>: <span style=\"color: #008000\">'Gauche'</span>, <span style=\"color: #008000\">'Choux'</span>: <span style=\"color: #008000\">'Gauche'</span><span style=\"font-weight: bold\">}</span>,\n",
       "            <span style=\"font-weight: bold\">{</span><span style=\"color: #008000\">'Berger'</span>: <span style=\"color: #008000\">'Droite'</span>, <span style=\"color: #008000\">'Loup'</span>: <span style=\"color: #008000\">'Gauche'</span>, <span style=\"color: #008000\">'Mouton'</span>: <span style=\"color: #008000\">'Droite'</span>, <span style=\"color: #008000\">'Choux'</span>: <span style=\"color: #008000\">'Gauche'</span><span style=\"font-weight: bold\">}</span>\n",
       "        <span style=\"font-weight: bold\">)</span>,\n",
       "        <span style=\"font-weight: bold\">(</span>\n",
       "            <span style=\"font-weight: bold\">{</span><span style=\"color: #008000\">'Berger'</span>: <span style=\"color: #008000\">'Gauche'</span>, <span style=\"color: #008000\">'Loup'</span>: <span style=\"color: #008000\">'Gauche'</span>, <span style=\"color: #008000\">'Mouton'</span>: <span style=\"color: #008000\">'Gauche'</span>, <span style=\"color: #008000\">'Choux'</span>: <span style=\"color: #008000\">'Droite'</span><span style=\"font-weight: bold\">}</span>,\n",
       "            <span style=\"font-weight: bold\">{</span><span style=\"color: #008000\">'Berger'</span>: <span style=\"color: #008000\">'Droite'</span>, <span style=\"color: #008000\">'Loup'</span>: <span style=\"color: #008000\">'Gauche'</span>, <span style=\"color: #008000\">'Mouton'</span>: <span style=\"color: #008000\">'Droite'</span>, <span style=\"color: #008000\">'Choux'</span>: <span style=\"color: #008000\">'Droite'</span><span style=\"font-weight: bold\">}</span>\n",
       "        <span style=\"font-weight: bold\">)</span>,\n",
       "        <span style=\"font-weight: bold\">(</span>\n",
       "            <span style=\"font-weight: bold\">{</span><span style=\"color: #008000\">'Berger'</span>: <span style=\"color: #008000\">'Gauche'</span>, <span style=\"color: #008000\">'Loup'</span>: <span style=\"color: #008000\">'Gauche'</span>, <span style=\"color: #008000\">'Mouton'</span>: <span style=\"color: #008000\">'Gauche'</span>, <span style=\"color: #008000\">'Choux'</span>: <span style=\"color: #008000\">'Droite'</span><span style=\"font-weight: bold\">}</span>,\n",
       "            <span style=\"font-weight: bold\">{</span><span style=\"color: #008000\">'Berger'</span>: <span style=\"color: #008000\">'Droite'</span>, <span style=\"color: #008000\">'Loup'</span>: <span style=\"color: #008000\">'Droite'</span>, <span style=\"color: #008000\">'Mouton'</span>: <span style=\"color: #008000\">'Gauche'</span>, <span style=\"color: #008000\">'Choux'</span>: <span style=\"color: #008000\">'Droite'</span><span style=\"font-weight: bold\">}</span>\n",
       "        <span style=\"font-weight: bold\">)</span>,\n",
       "        <span style=\"font-weight: bold\">(</span>\n",
       "            <span style=\"font-weight: bold\">{</span><span style=\"color: #008000\">'Berger'</span>: <span style=\"color: #008000\">'Gauche'</span>, <span style=\"color: #008000\">'Loup'</span>: <span style=\"color: #008000\">'Gauche'</span>, <span style=\"color: #008000\">'Mouton'</span>: <span style=\"color: #008000\">'Droite'</span>, <span style=\"color: #008000\">'Choux'</span>: <span style=\"color: #008000\">'Gauche'</span><span style=\"font-weight: bold\">}</span>,\n",
       "            <span style=\"font-weight: bold\">{</span><span style=\"color: #008000\">'Berger'</span>: <span style=\"color: #008000\">'Droite'</span>, <span style=\"color: #008000\">'Loup'</span>: <span style=\"color: #008000\">'Gauche'</span>, <span style=\"color: #008000\">'Mouton'</span>: <span style=\"color: #008000\">'Droite'</span>, <span style=\"color: #008000\">'Choux'</span>: <span style=\"color: #008000\">'Gauche'</span><span style=\"font-weight: bold\">}</span>\n",
       "        <span style=\"font-weight: bold\">)</span>,\n",
       "        <span style=\"font-weight: bold\">(</span>\n",
       "            <span style=\"font-weight: bold\">{</span><span style=\"color: #008000\">'Berger'</span>: <span style=\"color: #008000\">'Gauche'</span>, <span style=\"color: #008000\">'Loup'</span>: <span style=\"color: #008000\">'Gauche'</span>, <span style=\"color: #008000\">'Mouton'</span>: <span style=\"color: #008000\">'Droite'</span>, <span style=\"color: #008000\">'Choux'</span>: <span style=\"color: #008000\">'Gauche'</span><span style=\"font-weight: bold\">}</span>,\n",
       "            <span style=\"font-weight: bold\">{</span><span style=\"color: #008000\">'Berger'</span>: <span style=\"color: #008000\">'Droite'</span>, <span style=\"color: #008000\">'Loup'</span>: <span style=\"color: #008000\">'Gauche'</span>, <span style=\"color: #008000\">'Mouton'</span>: <span style=\"color: #008000\">'Droite'</span>, <span style=\"color: #008000\">'Choux'</span>: <span style=\"color: #008000\">'Droite'</span><span style=\"font-weight: bold\">}</span>\n",
       "        <span style=\"font-weight: bold\">)</span>,\n",
       "        <span style=\"font-weight: bold\">(</span>\n",
       "            <span style=\"font-weight: bold\">{</span><span style=\"color: #008000\">'Berger'</span>: <span style=\"color: #008000\">'Gauche'</span>, <span style=\"color: #008000\">'Loup'</span>: <span style=\"color: #008000\">'Gauche'</span>, <span style=\"color: #008000\">'Mouton'</span>: <span style=\"color: #008000\">'Droite'</span>, <span style=\"color: #008000\">'Choux'</span>: <span style=\"color: #008000\">'Gauche'</span><span style=\"font-weight: bold\">}</span>,\n",
       "            <span style=\"font-weight: bold\">{</span><span style=\"color: #008000\">'Berger'</span>: <span style=\"color: #008000\">'Droite'</span>, <span style=\"color: #008000\">'Loup'</span>: <span style=\"color: #008000\">'Droite'</span>, <span style=\"color: #008000\">'Mouton'</span>: <span style=\"color: #008000\">'Droite'</span>, <span style=\"color: #008000\">'Choux'</span>: <span style=\"color: #008000\">'Gauche'</span><span style=\"font-weight: bold\">}</span>\n",
       "        <span style=\"font-weight: bold\">)</span>,\n",
       "        <span style=\"font-weight: bold\">(</span>\n",
       "            <span style=\"font-weight: bold\">{</span><span style=\"color: #008000\">'Berger'</span>: <span style=\"color: #008000\">'Gauche'</span>, <span style=\"color: #008000\">'Loup'</span>: <span style=\"color: #008000\">'Droite'</span>, <span style=\"color: #008000\">'Mouton'</span>: <span style=\"color: #008000\">'Gauche'</span>, <span style=\"color: #008000\">'Choux'</span>: <span style=\"color: #008000\">'Gauche'</span><span style=\"font-weight: bold\">}</span>,\n",
       "            <span style=\"font-weight: bold\">{</span><span style=\"color: #008000\">'Berger'</span>: <span style=\"color: #008000\">'Droite'</span>, <span style=\"color: #008000\">'Loup'</span>: <span style=\"color: #008000\">'Droite'</span>, <span style=\"color: #008000\">'Mouton'</span>: <span style=\"color: #008000\">'Gauche'</span>, <span style=\"color: #008000\">'Choux'</span>: <span style=\"color: #008000\">'Droite'</span><span style=\"font-weight: bold\">}</span>\n",
       "        <span style=\"font-weight: bold\">)</span>,\n",
       "        <span style=\"font-weight: bold\">(</span>\n",
       "            <span style=\"font-weight: bold\">{</span><span style=\"color: #008000\">'Berger'</span>: <span style=\"color: #008000\">'Gauche'</span>, <span style=\"color: #008000\">'Loup'</span>: <span style=\"color: #008000\">'Droite'</span>, <span style=\"color: #008000\">'Mouton'</span>: <span style=\"color: #008000\">'Gauche'</span>, <span style=\"color: #008000\">'Choux'</span>: <span style=\"color: #008000\">'Gauche'</span><span style=\"font-weight: bold\">}</span>,\n",
       "            <span style=\"font-weight: bold\">{</span><span style=\"color: #008000\">'Berger'</span>: <span style=\"color: #008000\">'Droite'</span>, <span style=\"color: #008000\">'Loup'</span>: <span style=\"color: #008000\">'Droite'</span>, <span style=\"color: #008000\">'Mouton'</span>: <span style=\"color: #008000\">'Droite'</span>, <span style=\"color: #008000\">'Choux'</span>: <span style=\"color: #008000\">'Gauche'</span><span style=\"font-weight: bold\">}</span>\n",
       "        <span style=\"font-weight: bold\">)</span>,\n",
       "        <span style=\"font-weight: bold\">(</span>\n",
       "            <span style=\"font-weight: bold\">{</span><span style=\"color: #008000\">'Berger'</span>: <span style=\"color: #008000\">'Gauche'</span>, <span style=\"color: #008000\">'Loup'</span>: <span style=\"color: #008000\">'Droite'</span>, <span style=\"color: #008000\">'Mouton'</span>: <span style=\"color: #008000\">'Gauche'</span>, <span style=\"color: #008000\">'Choux'</span>: <span style=\"color: #008000\">'Droite'</span><span style=\"font-weight: bold\">}</span>,\n",
       "            <span style=\"font-weight: bold\">{</span><span style=\"color: #008000\">'Berger'</span>: <span style=\"color: #008000\">'Droite'</span>, <span style=\"color: #008000\">'Loup'</span>: <span style=\"color: #008000\">'Droite'</span>, <span style=\"color: #008000\">'Mouton'</span>: <span style=\"color: #008000\">'Gauche'</span>, <span style=\"color: #008000\">'Choux'</span>: <span style=\"color: #008000\">'Droite'</span><span style=\"font-weight: bold\">}</span>\n",
       "        <span style=\"font-weight: bold\">)</span>,\n",
       "        <span style=\"font-weight: bold\">(</span>\n",
       "            <span style=\"font-weight: bold\">{</span><span style=\"color: #008000\">'Berger'</span>: <span style=\"color: #008000\">'Gauche'</span>, <span style=\"color: #008000\">'Loup'</span>: <span style=\"color: #008000\">'Droite'</span>, <span style=\"color: #008000\">'Mouton'</span>: <span style=\"color: #008000\">'Gauche'</span>, <span style=\"color: #008000\">'Choux'</span>: <span style=\"color: #008000\">'Droite'</span><span style=\"font-weight: bold\">}</span>,\n",
       "            <span style=\"font-weight: bold\">{</span><span style=\"color: #008000\">'Berger'</span>: <span style=\"color: #008000\">'Droite'</span>, <span style=\"color: #008000\">'Loup'</span>: <span style=\"color: #008000\">'Droite'</span>, <span style=\"color: #008000\">'Mouton'</span>: <span style=\"color: #008000\">'Droite'</span>, <span style=\"color: #008000\">'Choux'</span>: <span style=\"color: #008000\">'Droite'</span><span style=\"font-weight: bold\">}</span>\n",
       "        <span style=\"font-weight: bold\">)</span>,\n",
       "        <span style=\"font-weight: bold\">(</span>\n",
       "            <span style=\"font-weight: bold\">{</span><span style=\"color: #008000\">'Berger'</span>: <span style=\"color: #008000\">'Droite'</span>, <span style=\"color: #008000\">'Loup'</span>: <span style=\"color: #008000\">'Gauche'</span>, <span style=\"color: #008000\">'Mouton'</span>: <span style=\"color: #008000\">'Droite'</span>, <span style=\"color: #008000\">'Choux'</span>: <span style=\"color: #008000\">'Gauche'</span><span style=\"font-weight: bold\">}</span>,\n",
       "            <span style=\"font-weight: bold\">{</span><span style=\"color: #008000\">'Berger'</span>: <span style=\"color: #008000\">'Gauche'</span>, <span style=\"color: #008000\">'Loup'</span>: <span style=\"color: #008000\">'Gauche'</span>, <span style=\"color: #008000\">'Mouton'</span>: <span style=\"color: #008000\">'Gauche'</span>, <span style=\"color: #008000\">'Choux'</span>: <span style=\"color: #008000\">'Gauche'</span><span style=\"font-weight: bold\">}</span>\n",
       "        <span style=\"font-weight: bold\">)</span>,\n",
       "        <span style=\"font-weight: bold\">(</span>\n",
       "            <span style=\"font-weight: bold\">{</span><span style=\"color: #008000\">'Berger'</span>: <span style=\"color: #008000\">'Droite'</span>, <span style=\"color: #008000\">'Loup'</span>: <span style=\"color: #008000\">'Gauche'</span>, <span style=\"color: #008000\">'Mouton'</span>: <span style=\"color: #008000\">'Droite'</span>, <span style=\"color: #008000\">'Choux'</span>: <span style=\"color: #008000\">'Gauche'</span><span style=\"font-weight: bold\">}</span>,\n",
       "            <span style=\"font-weight: bold\">{</span><span style=\"color: #008000\">'Berger'</span>: <span style=\"color: #008000\">'Gauche'</span>, <span style=\"color: #008000\">'Loup'</span>: <span style=\"color: #008000\">'Gauche'</span>, <span style=\"color: #008000\">'Mouton'</span>: <span style=\"color: #008000\">'Droite'</span>, <span style=\"color: #008000\">'Choux'</span>: <span style=\"color: #008000\">'Gauche'</span><span style=\"font-weight: bold\">}</span>\n",
       "        <span style=\"font-weight: bold\">)</span>,\n",
       "        <span style=\"font-weight: bold\">(</span>\n",
       "            <span style=\"font-weight: bold\">{</span><span style=\"color: #008000\">'Berger'</span>: <span style=\"color: #008000\">'Droite'</span>, <span style=\"color: #008000\">'Loup'</span>: <span style=\"color: #008000\">'Gauche'</span>, <span style=\"color: #008000\">'Mouton'</span>: <span style=\"color: #008000\">'Droite'</span>, <span style=\"color: #008000\">'Choux'</span>: <span style=\"color: #008000\">'Droite'</span><span style=\"font-weight: bold\">}</span>,\n",
       "            <span style=\"font-weight: bold\">{</span><span style=\"color: #008000\">'Berger'</span>: <span style=\"color: #008000\">'Gauche'</span>, <span style=\"color: #008000\">'Loup'</span>: <span style=\"color: #008000\">'Gauche'</span>, <span style=\"color: #008000\">'Mouton'</span>: <span style=\"color: #008000\">'Gauche'</span>, <span style=\"color: #008000\">'Choux'</span>: <span style=\"color: #008000\">'Droite'</span><span style=\"font-weight: bold\">}</span>\n",
       "        <span style=\"font-weight: bold\">)</span>,\n",
       "        <span style=\"font-weight: bold\">(</span>\n",
       "            <span style=\"font-weight: bold\">{</span><span style=\"color: #008000\">'Berger'</span>: <span style=\"color: #008000\">'Droite'</span>, <span style=\"color: #008000\">'Loup'</span>: <span style=\"color: #008000\">'Gauche'</span>, <span style=\"color: #008000\">'Mouton'</span>: <span style=\"color: #008000\">'Droite'</span>, <span style=\"color: #008000\">'Choux'</span>: <span style=\"color: #008000\">'Droite'</span><span style=\"font-weight: bold\">}</span>,\n",
       "            <span style=\"font-weight: bold\">{</span><span style=\"color: #008000\">'Berger'</span>: <span style=\"color: #008000\">'Gauche'</span>, <span style=\"color: #008000\">'Loup'</span>: <span style=\"color: #008000\">'Gauche'</span>, <span style=\"color: #008000\">'Mouton'</span>: <span style=\"color: #008000\">'Droite'</span>, <span style=\"color: #008000\">'Choux'</span>: <span style=\"color: #008000\">'Gauche'</span><span style=\"font-weight: bold\">}</span>\n",
       "        <span style=\"font-weight: bold\">)</span>,\n",
       "        <span style=\"font-weight: bold\">(</span>\n",
       "            <span style=\"font-weight: bold\">{</span><span style=\"color: #008000\">'Berger'</span>: <span style=\"color: #008000\">'Droite'</span>, <span style=\"color: #008000\">'Loup'</span>: <span style=\"color: #008000\">'Droite'</span>, <span style=\"color: #008000\">'Mouton'</span>: <span style=\"color: #008000\">'Gauche'</span>, <span style=\"color: #008000\">'Choux'</span>: <span style=\"color: #008000\">'Droite'</span><span style=\"font-weight: bold\">}</span>,\n",
       "            <span style=\"font-weight: bold\">{</span><span style=\"color: #008000\">'Berger'</span>: <span style=\"color: #008000\">'Gauche'</span>, <span style=\"color: #008000\">'Loup'</span>: <span style=\"color: #008000\">'Gauche'</span>, <span style=\"color: #008000\">'Mouton'</span>: <span style=\"color: #008000\">'Gauche'</span>, <span style=\"color: #008000\">'Choux'</span>: <span style=\"color: #008000\">'Droite'</span><span style=\"font-weight: bold\">}</span>\n",
       "        <span style=\"font-weight: bold\">)</span>,\n",
       "        <span style=\"font-weight: bold\">(</span>\n",
       "            <span style=\"font-weight: bold\">{</span><span style=\"color: #008000\">'Berger'</span>: <span style=\"color: #008000\">'Droite'</span>, <span style=\"color: #008000\">'Loup'</span>: <span style=\"color: #008000\">'Droite'</span>, <span style=\"color: #008000\">'Mouton'</span>: <span style=\"color: #008000\">'Gauche'</span>, <span style=\"color: #008000\">'Choux'</span>: <span style=\"color: #008000\">'Droite'</span><span style=\"font-weight: bold\">}</span>,\n",
       "            <span style=\"font-weight: bold\">{</span><span style=\"color: #008000\">'Berger'</span>: <span style=\"color: #008000\">'Gauche'</span>, <span style=\"color: #008000\">'Loup'</span>: <span style=\"color: #008000\">'Droite'</span>, <span style=\"color: #008000\">'Mouton'</span>: <span style=\"color: #008000\">'Gauche'</span>, <span style=\"color: #008000\">'Choux'</span>: <span style=\"color: #008000\">'Gauche'</span><span style=\"font-weight: bold\">}</span>\n",
       "        <span style=\"font-weight: bold\">)</span>,\n",
       "        <span style=\"font-weight: bold\">(</span>\n",
       "            <span style=\"font-weight: bold\">{</span><span style=\"color: #008000\">'Berger'</span>: <span style=\"color: #008000\">'Droite'</span>, <span style=\"color: #008000\">'Loup'</span>: <span style=\"color: #008000\">'Droite'</span>, <span style=\"color: #008000\">'Mouton'</span>: <span style=\"color: #008000\">'Gauche'</span>, <span style=\"color: #008000\">'Choux'</span>: <span style=\"color: #008000\">'Droite'</span><span style=\"font-weight: bold\">}</span>,\n",
       "            <span style=\"font-weight: bold\">{</span><span style=\"color: #008000\">'Berger'</span>: <span style=\"color: #008000\">'Gauche'</span>, <span style=\"color: #008000\">'Loup'</span>: <span style=\"color: #008000\">'Droite'</span>, <span style=\"color: #008000\">'Mouton'</span>: <span style=\"color: #008000\">'Gauche'</span>, <span style=\"color: #008000\">'Choux'</span>: <span style=\"color: #008000\">'Droite'</span><span style=\"font-weight: bold\">}</span>\n",
       "        <span style=\"font-weight: bold\">)</span>,\n",
       "        <span style=\"font-weight: bold\">(</span>\n",
       "            <span style=\"font-weight: bold\">{</span><span style=\"color: #008000\">'Berger'</span>: <span style=\"color: #008000\">'Droite'</span>, <span style=\"color: #008000\">'Loup'</span>: <span style=\"color: #008000\">'Droite'</span>, <span style=\"color: #008000\">'Mouton'</span>: <span style=\"color: #008000\">'Droite'</span>, <span style=\"color: #008000\">'Choux'</span>: <span style=\"color: #008000\">'Gauche'</span><span style=\"font-weight: bold\">}</span>,\n",
       "            <span style=\"font-weight: bold\">{</span><span style=\"color: #008000\">'Berger'</span>: <span style=\"color: #008000\">'Gauche'</span>, <span style=\"color: #008000\">'Loup'</span>: <span style=\"color: #008000\">'Gauche'</span>, <span style=\"color: #008000\">'Mouton'</span>: <span style=\"color: #008000\">'Droite'</span>, <span style=\"color: #008000\">'Choux'</span>: <span style=\"color: #008000\">'Gauche'</span><span style=\"font-weight: bold\">}</span>\n",
       "        <span style=\"font-weight: bold\">)</span>,\n",
       "        <span style=\"font-weight: bold\">(</span>\n",
       "            <span style=\"font-weight: bold\">{</span><span style=\"color: #008000\">'Berger'</span>: <span style=\"color: #008000\">'Droite'</span>, <span style=\"color: #008000\">'Loup'</span>: <span style=\"color: #008000\">'Droite'</span>, <span style=\"color: #008000\">'Mouton'</span>: <span style=\"color: #008000\">'Droite'</span>, <span style=\"color: #008000\">'Choux'</span>: <span style=\"color: #008000\">'Gauche'</span><span style=\"font-weight: bold\">}</span>,\n",
       "            <span style=\"font-weight: bold\">{</span><span style=\"color: #008000\">'Berger'</span>: <span style=\"color: #008000\">'Gauche'</span>, <span style=\"color: #008000\">'Loup'</span>: <span style=\"color: #008000\">'Droite'</span>, <span style=\"color: #008000\">'Mouton'</span>: <span style=\"color: #008000\">'Gauche'</span>, <span style=\"color: #008000\">'Choux'</span>: <span style=\"color: #008000\">'Gauche'</span><span style=\"font-weight: bold\">}</span>\n",
       "        <span style=\"font-weight: bold\">)</span>,\n",
       "        <span style=\"font-weight: bold\">(</span>\n",
       "            <span style=\"font-weight: bold\">{</span><span style=\"color: #008000\">'Berger'</span>: <span style=\"color: #008000\">'Droite'</span>, <span style=\"color: #008000\">'Loup'</span>: <span style=\"color: #008000\">'Droite'</span>, <span style=\"color: #008000\">'Mouton'</span>: <span style=\"color: #008000\">'Droite'</span>, <span style=\"color: #008000\">'Choux'</span>: <span style=\"color: #008000\">'Droite'</span><span style=\"font-weight: bold\">}</span>,\n",
       "            <span style=\"font-weight: bold\">{</span><span style=\"color: #008000\">'Berger'</span>: <span style=\"color: #008000\">'Gauche'</span>, <span style=\"color: #008000\">'Loup'</span>: <span style=\"color: #008000\">'Droite'</span>, <span style=\"color: #008000\">'Mouton'</span>: <span style=\"color: #008000\">'Gauche'</span>, <span style=\"color: #008000\">'Choux'</span>: <span style=\"color: #008000\">'Droite'</span><span style=\"font-weight: bold\">}</span>\n",
       "        <span style=\"font-weight: bold\">)</span>\n",
       "    <span style=\"font-weight: bold\">]</span>\n",
       "<span style=\"font-weight: bold\">)</span>\n",
       "</pre>\n"
      ],
      "text/plain": [
       "<rich.jupyter.JupyterRenderable at 0x7fc829dd70a0>"
      ]
     },
     "metadata": {},
     "output_type": "display_data"
    }
   ],
   "source": [
    "print(aux.GRAPHE)"
   ]
  },
  {
   "cell_type": "code",
   "execution_count": 12,
   "metadata": {},
   "outputs": [
    {
     "data": {
      "text/plain": [
       "True"
      ]
     },
     "execution_count": 12,
     "metadata": {},
     "output_type": "execute_result"
    }
   ],
   "source": [
    "aux.sont_relies(\n",
    "    depart=aux.DEPART, \n",
    "    arrivee=aux.ARRIVEE, \n",
    "    graphe=aux.GRAPHE\n",
    ")"
   ]
  },
  {
   "cell_type": "code",
   "execution_count": 13,
   "metadata": {},
   "outputs": [
    {
     "data": {
      "text/plain": [
       "[{'Berger': 'Gauche', 'Loup': 'Gauche', 'Mouton': 'Gauche', 'Choux': 'Gauche'},\n",
       " {'Berger': 'Droite', 'Loup': 'Gauche', 'Mouton': 'Droite', 'Choux': 'Gauche'},\n",
       " {'Berger': 'Gauche', 'Loup': 'Gauche', 'Mouton': 'Droite', 'Choux': 'Gauche'},\n",
       " {'Berger': 'Droite', 'Loup': 'Droite', 'Mouton': 'Droite', 'Choux': 'Gauche'},\n",
       " {'Berger': 'Gauche', 'Loup': 'Droite', 'Mouton': 'Gauche', 'Choux': 'Gauche'},\n",
       " {'Berger': 'Droite', 'Loup': 'Droite', 'Mouton': 'Gauche', 'Choux': 'Droite'},\n",
       " {'Berger': 'Gauche', 'Loup': 'Droite', 'Mouton': 'Gauche', 'Choux': 'Droite'},\n",
       " {'Berger': 'Droite', 'Loup': 'Droite', 'Mouton': 'Droite', 'Choux': 'Droite'}]"
      ]
     },
     "execution_count": 13,
     "metadata": {},
     "output_type": "execute_result"
    }
   ],
   "source": [
    "aux.trouve_chemin(\n",
    "    depart=aux.DEPART, \n",
    "    arrivee=aux.ARRIVEE, \n",
    "    graphe=aux.GRAPHE\n",
    ")"
   ]
  },
  {
   "cell_type": "markdown",
   "metadata": {},
   "source": [
    "# Exercice\n",
    "\n",
    "- Coder des tests pour chaque fonction. (25min -> 11h20)  \n",
    "**Sauf** `genere_etats` et `genere_graphe` (ce qui est un symptome que ces fonctions devraient être adaptées)\n",
    "- Finir la documentation de la librairie. (10min -> 12h)"
   ]
  },
  {
   "cell_type": "markdown",
   "metadata": {},
   "source": [
    "# Exercice\n",
    "\n",
    "- Coder la fonction `genere_etats`\n",
    "- Compléter les tests sur les fonctions et la documentation `genere_etats` et `genere_graphe`"
   ]
  }
 ],
 "metadata": {
  "kernelspec": {
   "display_name": "Python 3",
   "language": "python",
   "name": "python3"
  },
  "language_info": {
   "codemirror_mode": {
    "name": "ipython",
    "version": 3
   },
   "file_extension": ".py",
   "mimetype": "text/x-python",
   "name": "python",
   "nbconvert_exporter": "python",
   "pygments_lexer": "ipython3",
   "version": "3.8.3"
  },
  "toc-autonumbering": true,
  "toc-showcode": false,
  "toc-showmarkdowntxt": false,
  "toc-showtags": false
 },
 "nbformat": 4,
 "nbformat_minor": 4
}
