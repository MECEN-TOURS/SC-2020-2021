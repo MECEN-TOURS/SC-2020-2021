{
 "cells": [
  {
   "cell_type": "markdown",
   "id": "historical-netscape",
   "metadata": {},
   "source": [
    "# Ordonnancement"
   ]
  },
  {
   "cell_type": "markdown",
   "id": "suitable-monitoring",
   "metadata": {},
   "source": [
    "## Cahier des charges de l'exemple principal\n",
    "\n",
    "Tâche   | Durée | Prérequis\n",
    "-----:  |:-----:|:---------\n",
    "A       |  2    |\n",
    "B       |  1    |\n",
    "C       |  3    |\n",
    "D       |  4    | A, B\n",
    "E       |  1    | B, C\n",
    "F       |  2    | A, D, E\n",
    "G       |  3    | A, B, C, E\n",
    "H       |  2    | C, F, G"
   ]
  },
  {
   "cell_type": "markdown",
   "id": "sized-disposal",
   "metadata": {},
   "source": [
    "**OBJECTIF** assembler un emploi du temps des tâches tel que\n",
    "- chaque tâche ne début qu'après que tous ses pré requis soient complétés\n",
    "- à part cela on peut effectuer des tâches en parallèle\n",
    "- on veut que la totalité des tâches soient réalisé en le minimum de temps."
   ]
  },
  {
   "cell_type": "markdown",
   "id": "spoken-treasurer",
   "metadata": {},
   "source": [
    "## Exercice\n",
    "\n",
    "10min -> 10h30\n",
    "\n",
    "1. Essayer d'organiser un planning.\n",
    "2. Trouver un graphe sous jacent au problème."
   ]
  },
  {
   "cell_type": "markdown",
   "id": "interim-papua",
   "metadata": {},
   "source": [
    "1. On remarque que les tâches sont rangés dans l'odre alphabétique et que les prérequis sont toujours précédent dans l'alphabet. \n",
    "On peut donc constater que l'enchainement\n",
    "\n",
    "A - B - C - D - E - F - G - H\n",
    "\n",
    "est valide.\n",
    "\n",
    "Il est clair que la durée $18$ n'est pas optimale.\n",
    "\n",
    "On peut déjà clairement faire tourner A, B et C en parallèle au démarrage.\n",
    "\n",
    "**REMARQUE** quel représentation graphique peut-on utiliser pour représenter un emploi du temps?"
   ]
  },
  {
   "cell_type": "markdown",
   "id": "lesser-disorder",
   "metadata": {},
   "source": [
    "2. On peut d'abord organiser un graphe de la façon suivante.\n",
    "\n",
    "- Les sommets seront les tâches.\n",
    "- Une arrête relie $\\alpha$ à $\\beta$ lorsque $\\alpha$ est un prérequis de $\\beta$."
   ]
  },
  {
   "cell_type": "markdown",
   "id": "charming-farming",
   "metadata": {},
   "source": [
    "# Exercice\n",
    "\n",
    "5min -> 10h45\n",
    "\n",
    "Construisez le graphe orienté correspondant au cahier des charges ci-dessus."
   ]
  },
  {
   "cell_type": "code",
   "execution_count": null,
   "id": "rough-delight",
   "metadata": {},
   "outputs": [],
   "source": []
  }
 ],
 "metadata": {
  "kernelspec": {
   "display_name": "Python 3",
   "language": "python",
   "name": "python3"
  },
  "language_info": {
   "codemirror_mode": {
    "name": "ipython",
    "version": 3
   },
   "file_extension": ".py",
   "mimetype": "text/x-python",
   "name": "python",
   "nbconvert_exporter": "python",
   "pygments_lexer": "ipython3",
   "version": "3.8.3"
  }
 },
 "nbformat": 4,
 "nbformat_minor": 5
}
