{
 "cells": [
  {
   "cell_type": "markdown",
   "id": "breeding-symbol",
   "metadata": {},
   "source": [
    "# Ordonnancement"
   ]
  },
  {
   "cell_type": "markdown",
   "id": "considerable-courage",
   "metadata": {},
   "source": [
    "## Cahier des charges de l'exemple principal\n",
    "\n",
    "Tâche   | Durée | Prérequis\n",
    "-----:  |:-----:|:---------\n",
    "A       |  2    |\n",
    "B       |  1    |\n",
    "C       |  3    |\n",
    "D       |  4    | A, B\n",
    "E       |  1    | B, C\n",
    "F       |  2    | A, D, E\n",
    "G       |  3    | A, B, C, E\n",
    "H       |  2    | C, F, G"
   ]
  },
  {
   "cell_type": "markdown",
   "id": "medieval-onion",
   "metadata": {},
   "source": [
    "**OBJECTIF** assembler un emploi du temps des tâches tel que\n",
    "- chaque tâche ne début qu'après que tous ses pré requis soient complétés\n",
    "- à part cela on peut effectuer des tâches en parallèle\n",
    "- on veut que la totalité des tâches soient réalisé en le minimum de temps."
   ]
  },
  {
   "cell_type": "markdown",
   "id": "ongoing-trace",
   "metadata": {},
   "source": [
    "## Exercice\n",
    "\n",
    "10min -> 10h30\n",
    "\n",
    "- Essayer d'organiser un planning.\n",
    "- Trouver un graphe sous jacent au problème."
   ]
  },
  {
   "cell_type": "code",
   "execution_count": null,
   "id": "useful-trainer",
   "metadata": {},
   "outputs": [],
   "source": []
  }
 ],
 "metadata": {
  "kernelspec": {
   "display_name": "Python 3",
   "language": "python",
   "name": "python3"
  },
  "language_info": {
   "codemirror_mode": {
    "name": "ipython",
    "version": 3
   },
   "file_extension": ".py",
   "mimetype": "text/x-python",
   "name": "python",
   "nbconvert_exporter": "python",
   "pygments_lexer": "ipython3",
   "version": "3.8.3"
  }
 },
 "nbformat": 4,
 "nbformat_minor": 5
}
