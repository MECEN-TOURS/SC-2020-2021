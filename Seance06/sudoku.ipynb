{
 "cells": [
  {
   "cell_type": "markdown",
   "id": "stone-medicaid",
   "metadata": {},
   "source": [
    "# Objectif\n",
    "\n",
    "Codez un solveur de Sudoku de type 2:\n",
    "- $2^4=16$ cases\n",
    "- $2^2=4$ valeurs possibles: 1, 2, 3, 4\n",
    "- $2^2=4$ lignes de $2^2=4$ cases\n",
    "- $2^2=4$ colonnes de $2^2=4$ cases\n",
    "- $2^2=4$ carrés de $2^2=4$ cases"
   ]
  },
  {
   "cell_type": "markdown",
   "id": "maritime-wireless",
   "metadata": {},
   "source": [
    "Exemple d'une grille complète:\n",
    "\n",
    "| 1 | 2 | 3 | 4 |\n",
    "|---|---|---|---|\n",
    "| 3 | 4 | 1 | 2 |\n",
    "| 2 | 1 | 4 | 3 |\n",
    "| 4 | 3 | 2 | 1 |\n",
    "\n",
    "On a exactement une fois chaque nombre sur chaque ligne, chaque colonne et chaque carré."
   ]
  },
  {
   "cell_type": "markdown",
   "id": "apart-imperial",
   "metadata": {},
   "source": [
    "## Sommets\n",
    "\n",
    "On va s'intéresser aux grilles partielles. \n",
    "On symbolisera les cases vides par un `x`.\n",
    "\n",
    "| 1 | 2 | x | x |\n",
    "|---|---|---|---|\n",
    "| x | x | 1 | 2 |\n",
    "| 2 | x | x | 3 |\n",
    "| x | 3 | 2 | x |\n",
    "\n",
    "On a 16 cases, et 5 choix possibles par cases donc"
   ]
  },
  {
   "cell_type": "code",
   "execution_count": 1,
   "id": "hazardous-portugal",
   "metadata": {},
   "outputs": [
    {
     "name": "stdout",
     "output_type": "stream",
     "text": [
      "il y a 5 ** 16 =152587890625 grilles partielles distinctes.\n"
     ]
    }
   ],
   "source": [
    "print(f\"il y a {5 ** 16 =} grilles partielles distinctes.\")"
   ]
  },
  {
   "cell_type": "markdown",
   "id": "million-switch",
   "metadata": {},
   "source": [
    "Il y a clairement trops de sommets pour expérer construire le graphe entier en mémoire."
   ]
  },
  {
   "cell_type": "markdown",
   "id": "through-justice",
   "metadata": {},
   "source": [
    "## Arretes\n",
    "\n",
    "Deux grilles partilles sont connectées par une arrête lorsque la deuxième grille a les mêmes valeurs dans les mêmes cases que la première, sauf pour la première case vide ou on a 1, 2, 3 ou 4.\n",
    "\n",
    "<img src=\"./voisins.svg\"/>"
   ]
  },
  {
   "cell_type": "markdown",
   "id": "practical-reservoir",
   "metadata": {},
   "source": [
    "Le graphe qui nous intéresse part donc d'une grille incomplète et contient tous les sommets reliés à cette grille par un chemin.\n",
    "<img src=\"./bas_arbre.svg\">"
   ]
  },
  {
   "cell_type": "markdown",
   "id": "fifty-edinburgh",
   "metadata": {},
   "source": [
    "Si on part d'une grille avec $n$ cases vides on a alors\n",
    "$$4^0 + 4^1 + 4^2 + \\dots + 4^n = \\frac{4^{n+1} - 1}{3}$$\n",
    "grilles incomplètes dans le graphe."
   ]
  },
  {
   "cell_type": "markdown",
   "id": "elementary-potter",
   "metadata": {},
   "source": [
    "De plus on observe que le graphe est sans boucle (visuellement on voit qu'on ne peut que descendre dans le graphe) on dit qu'il s'agit d'un arbre."
   ]
  },
  {
   "cell_type": "markdown",
   "id": "sharing-editor",
   "metadata": {},
   "source": [
    "Les grilles complètes correspondant au remplissage de l'arbre corrspondent aux sommets qui sont dans la couche la plus basse de l'arbre.\n",
    "\n",
    "Parmi celles-ci on cherche celles qui satisfont les règles chaque valeur apparaît au plus une fois sur chaque:\n",
    "- ligne\n",
    "- colonne\n",
    "- sous carré"
   ]
  },
  {
   "cell_type": "markdown",
   "id": "frequent-howard",
   "metadata": {},
   "source": [
    "**REMARQUE** les solutions correspondant à une grille incomplète sont la réunion des solutions correspondant à ses voisins."
   ]
  },
  {
   "cell_type": "markdown",
   "id": "signal-possession",
   "metadata": {},
   "source": [
    "**REMARQUE** dés qu'une grille incomplète enfreint la règle on est sûr que toutes les grilles qui lui sont connectés vont l'enfreindre aussi! On peut donc arrêter le parcours pour cette partie du graphe."
   ]
  },
  {
   "cell_type": "markdown",
   "id": "dressed-aerospace",
   "metadata": {},
   "source": [
    "## Vérification des règles"
   ]
  },
  {
   "cell_type": "markdown",
   "id": "southwest-lemon",
   "metadata": {},
   "source": [
    "Indice pour chaque dans la liste\n",
    "\n",
    "| 0 | 1 | 2 | 3 |\n",
    "|---|---|---|---|\n",
    "| 4 | 5 | 6 | 7 |\n",
    "| 8 | 9 | 10 | 11 |\n",
    "| 12 | 13 | 14 | 15 |"
   ]
  },
  {
   "cell_type": "code",
   "execution_count": 3,
   "id": "pursuant-township",
   "metadata": {},
   "outputs": [],
   "source": [
    "from auxiliaire import Grille"
   ]
  },
  {
   "cell_type": "code",
   "execution_count": 4,
   "id": "difficult-deposit",
   "metadata": {},
   "outputs": [],
   "source": [
    "def verifie_lignes(grille: Grille) -> bool:\n",
    "    \"\"\"Chaque valeur doit être au plus présente une fois par ligne\"\"\"\n",
    "    for valeur in (1, 2, 3, 4):\n",
    "        for num_ligne in range(4):\n",
    "            if sum(\n",
    "                1 \n",
    "                for indice in range(num_ligne * 4, (num_ligne+1)*4) \n",
    "                if grille[indice] == valeur\n",
    "            ) >= 2:\n",
    "                return False\n",
    "    return True"
   ]
  },
  {
   "cell_type": "markdown",
   "id": "identified-assignment",
   "metadata": {},
   "source": [
    "### Exercice\n",
    "\n",
    "Coder `verifie_colonnes`."
   ]
  }
 ],
 "metadata": {
  "kernelspec": {
   "display_name": "Python 3",
   "language": "python",
   "name": "python3"
  },
  "language_info": {
   "codemirror_mode": {
    "name": "ipython",
    "version": 3
   },
   "file_extension": ".py",
   "mimetype": "text/x-python",
   "name": "python",
   "nbconvert_exporter": "python",
   "pygments_lexer": "ipython3",
   "version": "3.8.3"
  }
 },
 "nbformat": 4,
 "nbformat_minor": 5
}
