{
 "cells": [
  {
   "cell_type": "markdown",
   "id": "formed-conjunction",
   "metadata": {},
   "source": [
    "# Exercice\n",
    "\n",
    "Utiliser la classe `GrapheP` pour construire l'exemple de la séance précédente et le graphe de la carte de France. 10min -> 10h40"
   ]
  },
  {
   "cell_type": "code",
   "execution_count": null,
   "id": "liberal-envelope",
   "metadata": {},
   "outputs": [],
   "source": []
  }
 ],
 "metadata": {
  "kernelspec": {
   "display_name": "Python 3",
   "language": "python",
   "name": "python3"
  },
  "language_info": {
   "codemirror_mode": {
    "name": "ipython",
    "version": 3
   },
   "file_extension": ".py",
   "mimetype": "text/x-python",
   "name": "python",
   "nbconvert_exporter": "python",
   "pygments_lexer": "ipython3",
   "version": "3.8.3"
  }
 },
 "nbformat": 4,
 "nbformat_minor": 5
}
