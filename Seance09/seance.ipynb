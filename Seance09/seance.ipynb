{
 "cells": [
  {
   "cell_type": "markdown",
   "id": "overall-stretch",
   "metadata": {},
   "source": [
    "# Exercice\n",
    "\n",
    "Utiliser la classe `GrapheP` pour construire l'exemple de la séance précédente et le graphe de la carte de France. 10min -> 10h40"
   ]
  },
  {
   "cell_type": "code",
   "execution_count": 1,
   "id": "another-disposition",
   "metadata": {},
   "outputs": [],
   "source": [
    "from graphe_p import GrapheP"
   ]
  },
  {
   "cell_type": "code",
   "execution_count": 3,
   "id": "radical-patch",
   "metadata": {},
   "outputs": [],
   "source": [
    "exemple = GrapheP.par_str_non_ordonne(\"\"\"\n",
    "A B 1\n",
    "A E 7\n",
    "B C 2\n",
    "B D 4\n",
    "C D 1\n",
    "C F 1\n",
    "C G 5\n",
    "D F 2\n",
    "D H 1\n",
    "E G 2\n",
    "E I 4\n",
    "F H 1\n",
    "G H 2\n",
    "G I 1\n",
    "\"\"\")"
   ]
  },
  {
   "cell_type": "code",
   "execution_count": 4,
   "id": "buried-synthetic",
   "metadata": {},
   "outputs": [
    {
     "data": {
      "text/plain": [
       "GrapheP(voisinage={'A': {'B': 1, 'E': 7}, 'B': {'A': 1, 'C': 2, 'D': 4}, 'E': {'A': 7, 'G': 2, 'I': 4}, 'C': {'B': 2, 'D': 1, 'F': 1, 'G': 5}, 'D': {'B': 4, 'C': 1, 'F': 2, 'H': 1}, 'F': {'C': 1, 'D': 2, 'H': 1}, 'G': {'C': 5, 'E': 2, 'H': 2, 'I': 1}, 'H': {'D': 1, 'F': 1, 'G': 2}, 'I': {'E': 4, 'G': 1}})"
      ]
     },
     "execution_count": 4,
     "metadata": {},
     "output_type": "execute_result"
    }
   ],
   "source": [
    "exemple"
   ]
  },
  {
   "cell_type": "code",
   "execution_count": 5,
   "id": "seventh-desperate",
   "metadata": {},
   "outputs": [
    {
     "data": {
      "text/plain": [
       "True"
      ]
     },
     "execution_count": 5,
     "metadata": {},
     "output_type": "execute_result"
    }
   ],
   "source": [
    "exemple.est_non_ordonne()"
   ]
  },
  {
   "cell_type": "code",
   "execution_count": 6,
   "id": "mental-curve",
   "metadata": {},
   "outputs": [],
   "source": [
    "france = GrapheP.par_str_non_ordonne(\"\"\"\n",
    "Paris Lille 1\n",
    "Paris Strasbourg 2\n",
    "Paris Lyon 1\n",
    "Paris Clermont 4\n",
    "Paris Tours 1\n",
    "Paris Renne 1\n",
    "Lille Strasbourg 3\n",
    "Strasbourg Lyon 2\n",
    "Lyon Grenoble 1\n",
    "Lyon Marseille 2\n",
    "Lyon Clermont 2\n",
    "Grenoble Marseille 3\n",
    "Marseille Montpellier 1\n",
    "Marseille Clermont 4\n",
    "Montpellier Clermont 4\n",
    "Montpellier Toulouse 2\n",
    "Toulouse Clermont 4\n",
    "Toulouse Bordeaux 2\n",
    "Bordeaux Tours 3\n",
    "Bordeaux Nantes 3\n",
    "Nantes Tours 1\n",
    "Nantes Brest 2 \n",
    "Brest Rennes 1\n",
    "Brest Tours 2 \n",
    "Rennes Tours 1\n",
    "Tours Clermont 3\n",
    "\"\"\"\n",
    ")"
   ]
  },
  {
   "cell_type": "code",
   "execution_count": 7,
   "id": "stone-density",
   "metadata": {},
   "outputs": [
    {
     "data": {
      "text/plain": [
       "GrapheP(voisinage={'Paris': {'Lille': 1, 'Strasbourg': 2, 'Lyon': 1, 'Clermont': 4, 'Tours': 1, 'Renne': 1}, 'Lille': {'Paris': 1, 'Strasbourg': 3}, 'Strasbourg': {'Paris': 2, 'Lille': 3, 'Lyon': 2}, 'Lyon': {'Paris': 1, 'Strasbourg': 2, 'Grenoble': 1, 'Marseille': 2, 'Clermont': 2}, 'Clermont': {'Paris': 4, 'Lyon': 2, 'Marseille': 4, 'Montpellier': 4, 'Toulouse': 4, 'Tours': 3}, 'Tours': {'Paris': 1, 'Bordeaux': 3, 'Nantes': 1, 'Brest': 2, 'Rennes': 1, 'Clermont': 3}, 'Renne': {'Paris': 1}, 'Grenoble': {'Lyon': 1, 'Marseille': 3}, 'Marseille': {'Lyon': 2, 'Grenoble': 3, 'Montpellier': 1, 'Clermont': 4}, 'Montpellier': {'Marseille': 1, 'Clermont': 4, 'Toulouse': 2}, 'Toulouse': {'Montpellier': 2, 'Clermont': 4, 'Bordeaux': 2}, 'Bordeaux': {'Toulouse': 2, 'Tours': 3, 'Nantes': 3}, 'Nantes': {'Bordeaux': 3, 'Tours': 1, 'Brest': 2}, 'Brest': {'Nantes': 2, 'Rennes': 1, 'Tours': 2}, 'Rennes': {'Brest': 1, 'Tours': 1}})"
      ]
     },
     "execution_count": 7,
     "metadata": {},
     "output_type": "execute_result"
    }
   ],
   "source": [
    "france"
   ]
  },
  {
   "cell_type": "code",
   "execution_count": 8,
   "id": "circular-language",
   "metadata": {},
   "outputs": [
    {
     "data": {
      "text/plain": [
       "True"
      ]
     },
     "execution_count": 8,
     "metadata": {},
     "output_type": "execute_result"
    }
   ],
   "source": [
    "france.est_non_ordonne()"
   ]
  },
  {
   "cell_type": "markdown",
   "id": "paperback-reference",
   "metadata": {},
   "source": [
    "# Exercice\n",
    "\n",
    "1. Utiliser `Table` pour déterminer les chemins les plus courts \n",
    "- dans `exemple` en partant de `A`\n",
    "- dans `france` en partant de `Paris`\n",
    "\n",
    "2. Vérifier les résultats et corriger les bogues éventuels.\n",
    "\n",
    "20min -> 11h15"
   ]
  },
  {
   "cell_type": "code",
   "execution_count": 9,
   "id": "unsigned-copper",
   "metadata": {},
   "outputs": [],
   "source": [
    "from table import Table"
   ]
  },
  {
   "cell_type": "code",
   "execution_count": 10,
   "id": "iraqi-crowd",
   "metadata": {},
   "outputs": [
    {
     "data": {
      "text/plain": [
       "\u001b[0;31mInit signature:\u001b[0m \u001b[0mTable\u001b[0m\u001b[0;34m(\u001b[0m\u001b[0mgraphe\u001b[0m\u001b[0;34m:\u001b[0m \u001b[0mgraphe_p\u001b[0m\u001b[0;34m.\u001b[0m\u001b[0mGrapheP\u001b[0m\u001b[0;34m,\u001b[0m \u001b[0mdepart\u001b[0m\u001b[0;34m:\u001b[0m \u001b[0mstr\u001b[0m\u001b[0;34m)\u001b[0m\u001b[0;34m\u001b[0m\u001b[0;34m\u001b[0m\u001b[0m\n",
       "\u001b[0;31mDocstring:\u001b[0m     \n",
       "Structure pour Dijkstra.\n",
       "\n",
       "        Exemples:\n",
       ">>> mon_graphe = GrapheP(voisinage={'A': {'B': 1, 'C': 4}, 'B': {'C': 2}, 'C': {}})\n",
       ">>> mon_graphe\n",
       "GrapheP(voisinage={'A': {'B': 1, 'C': 4}, 'B': {'C': 2}, 'C': {}})\n",
       ">>> ma_table = Table(graphe=mon_graphe, depart='A')\n",
       ">>> ma_table\n",
       "Table(graphe=GrapheP(voisinage={'A': {'B': 1, 'C': 4}, 'B': {'C': 2}, 'C': {}}), depart='A')\n",
       ">>> print(ma_table)\n",
       "   NaN\n",
       "A  0.0\n",
       "B  inf\n",
       "C  inf\n",
       ">>> ma_table.lance_dijkstra()\n",
       ">>> print(ma_table)\n",
       "   NaN    A    B    C\n",
       "A  0.0  0.0  0.0  0.0\n",
       "B  inf  1.0  1.0  1.0\n",
       "C  inf  4.0  3.0  3.0\n",
       "\u001b[0;31mInit docstring:\u001b[0m Initialise à partir du graphe et du sommet.\n",
       "\u001b[0;31mFile:\u001b[0m           ~/projets/COURS/SC-2020-2021/Seance09/table.py\n",
       "\u001b[0;31mType:\u001b[0m           type\n",
       "\u001b[0;31mSubclasses:\u001b[0m     \n"
      ]
     },
     "metadata": {},
     "output_type": "display_data"
    }
   ],
   "source": [
    "Table?"
   ]
  },
  {
   "cell_type": "code",
   "execution_count": null,
   "id": "swiss-distance",
   "metadata": {},
   "outputs": [],
   "source": []
  }
 ],
 "metadata": {
  "kernelspec": {
   "display_name": "Python 3",
   "language": "python",
   "name": "python3"
  },
  "language_info": {
   "codemirror_mode": {
    "name": "ipython",
    "version": 3
   },
   "file_extension": ".py",
   "mimetype": "text/x-python",
   "name": "python",
   "nbconvert_exporter": "python",
   "pygments_lexer": "ipython3",
   "version": "3.8.3"
  }
 },
 "nbformat": 4,
 "nbformat_minor": 5
}
