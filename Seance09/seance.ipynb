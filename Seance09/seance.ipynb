{
 "cells": [
  {
   "cell_type": "markdown",
   "id": "demanding-lexington",
   "metadata": {},
   "source": [
    "# Exercice\n",
    "\n",
    "Utiliser la classe `GrapheP` pour construire l'exemple de la séance précédente et le graphe de la carte de France. 10min -> 10h40"
   ]
  },
  {
   "cell_type": "code",
   "execution_count": 1,
   "id": "modern-coast",
   "metadata": {},
   "outputs": [],
   "source": [
    "from graphe_p import GrapheP"
   ]
  },
  {
   "cell_type": "code",
   "execution_count": 11,
   "id": "domestic-canon",
   "metadata": {},
   "outputs": [
    {
     "data": {
      "text/plain": [
       "\u001b[0;31mInit signature:\u001b[0m\n",
       "\u001b[0mGrapheP\u001b[0m\u001b[0;34m(\u001b[0m\u001b[0;34m\u001b[0m\n",
       "\u001b[0;34m\u001b[0m    \u001b[0mvoisinage\u001b[0m\u001b[0;34m=\u001b[0m\u001b[0mtyping\u001b[0m\u001b[0;34m.\u001b[0m\u001b[0mDict\u001b[0m\u001b[0;34m[\u001b[0m\u001b[0mstr\u001b[0m\u001b[0;34m,\u001b[0m \u001b[0mtyping\u001b[0m\u001b[0;34m.\u001b[0m\u001b[0mDict\u001b[0m\u001b[0;34m[\u001b[0m\u001b[0mstr\u001b[0m\u001b[0;34m,\u001b[0m \u001b[0mtyping\u001b[0m\u001b[0;34m.\u001b[0m\u001b[0mUnion\u001b[0m\u001b[0;34m[\u001b[0m\u001b[0mint\u001b[0m\u001b[0;34m,\u001b[0m \u001b[0mfloat\u001b[0m\u001b[0;34m]\u001b[0m\u001b[0;34m]\u001b[0m\u001b[0;34m]\u001b[0m\u001b[0;34m,\u001b[0m\u001b[0;34m\u001b[0m\n",
       "\u001b[0;34m\u001b[0m\u001b[0;34m)\u001b[0m\u001b[0;34m\u001b[0m\u001b[0;34m\u001b[0m\u001b[0m\n",
       "\u001b[0;31mDocstring:\u001b[0m     \n",
       "Graphe pondérée.\n",
       "\n",
       "    Exemple:\n",
       ">>> graphe = GrapheP(\n",
       "...     voisinage={\n",
       "...         \"A\": {\"B\": 1},\n",
       "...         \"B\": {},\n",
       "...         \"C\": {},\n",
       "...     }\n",
       "... )\n",
       ">>> graphe\n",
       "GrapheP(voisinage={'A': {'B': 1}, 'B': {}, 'C': {}})\n",
       ">>> graphe_bis = GrapheP.par_sommets_arretes(\n",
       "...     sommets=[\"A\", \"B\", \"C\"],\n",
       "...     arretes=[((\"A\", \"B\"), 1)],\n",
       "... )\n",
       ">>> graphe == graphe_bis\n",
       "True\n",
       ">>> graphe is graphe_bis\n",
       "False\n",
       ">>> for sommet in graphe.sommets:\n",
       "...     print(sommet)\n",
       "...\n",
       "A\n",
       "B\n",
       "C\n",
       ">>> graphe.sommets = [\"A\", \"B\", \"C\", \"D\"]\n",
       "AttributeError:\n",
       "can't set attribute\n",
       ">>> for arrete in graphe.arretes:\n",
       "...     print(arrete)\n",
       "...\n",
       "(('A', 'B'), 1)\n",
       ">>> graphe.arretes.append(((\"A\", \"C\"), 2))\n",
       "AttributeError:\n",
       "'generator' object has no attribute 'append'\n",
       ">>> graphe[\"A\"]\n",
       "{'B': 1}\n",
       ">>> nouveau = GrapheP.par_str_non_ordonne(\n",
       "... '''\n",
       "... A B 1\n",
       "... A C 2\n",
       "... A D 3\n",
       "... A E 4.5\n",
       "... B C 5\n",
       "... B F 6\n",
       "... C G 7\n",
       "... D H 8\n",
       "... '''\n",
       "... )\n",
       ">>> nouveau\n",
       "GrapheP(voisinage={'A': {'B': 1, 'C': 2, 'D': 3, 'E': 4.5}, 'B': {'A': 1, 'C': 5, 'F': 6}, 'C': {'A': 2, 'B': 5, 'G': 7}, 'D': {'A': 3, 'H': 8}, 'E': {'A': 4.5}, 'F': {'B': 6}, 'G': {'C': 7}, 'H': {'D': 8}})\n",
       ">>> print(nouveau.adjacence)\n",
       "[\n",
       "    [0, 1, 2, 3, 4.5, 0, 0, 0],\n",
       "    [1, 0, 5, 0, 0, 6, 0, 0],\n",
       "    [2, 5, 0, 0, 0, 0, 7, 0],\n",
       "    [3, 0, 0, 0, 0, 0, 0, 8],\n",
       "    [4.5, 0, 0, 0, 0, 0, 0, 0],\n",
       "    [0, 6, 0, 0, 0, 0, 0, 0],\n",
       "    [0, 0, 7, 0, 0, 0, 0, 0],\n",
       "    [0, 0, 0, 8, 0, 0, 0, 0]\n",
       "]\n",
       ">>> import numpy as np\n",
       ">>> np.array(nouveau.adjacence)\n",
       "array([[0. , 1. , 2. , 3. , 4.5, 0. , 0. , 0. ],\n",
       "       [1. , 0. , 5. , 0. , 0. , 6. , 0. , 0. ],\n",
       "       [2. , 5. , 0. , 0. , 0. , 0. , 7. , 0. ],\n",
       "       [3. , 0. , 0. , 0. , 0. , 0. , 0. , 8. ],\n",
       "       [4.5, 0. , 0. , 0. , 0. , 0. , 0. , 0. ],\n",
       "       [0. , 6. , 0. , 0. , 0. , 0. , 0. , 0. ],\n",
       "       [0. , 0. , 7. , 0. , 0. , 0. , 0. , 0. ],\n",
       "       [0. , 0. , 0. , 8. , 0. , 0. , 0. , 0. ]])\n",
       "\n",
       ">>> nouveau.est_non_ordonne()\n",
       "True\n",
       "\u001b[0;31mInit docstring:\u001b[0m Initialise par dictionnaire de voisinage.\n",
       "\u001b[0;31mFile:\u001b[0m           ~/projets/COURS/SC-2020-2021/Seance09/graphe_p.py\n",
       "\u001b[0;31mType:\u001b[0m           type\n",
       "\u001b[0;31mSubclasses:\u001b[0m     \n"
      ]
     },
     "metadata": {},
     "output_type": "display_data"
    }
   ],
   "source": [
    "GrapheP?"
   ]
  },
  {
   "cell_type": "code",
   "execution_count": 3,
   "id": "valid-maximum",
   "metadata": {},
   "outputs": [],
   "source": [
    "exemple = GrapheP.par_str_non_ordonne(\"\"\"\n",
    "A B 1\n",
    "A E 7\n",
    "B C 2\n",
    "B D 4\n",
    "C D 1\n",
    "C F 1\n",
    "C G 5\n",
    "D F 2\n",
    "D H 1\n",
    "E G 2\n",
    "E I 4\n",
    "F H 1\n",
    "G H 2\n",
    "G I 1\n",
    "\"\"\")"
   ]
  },
  {
   "cell_type": "code",
   "execution_count": 4,
   "id": "loose-message",
   "metadata": {},
   "outputs": [
    {
     "data": {
      "text/plain": [
       "GrapheP(voisinage={'A': {'B': 1, 'E': 7}, 'B': {'A': 1, 'C': 2, 'D': 4}, 'E': {'A': 7, 'G': 2, 'I': 4}, 'C': {'B': 2, 'D': 1, 'F': 1, 'G': 5}, 'D': {'B': 4, 'C': 1, 'F': 2, 'H': 1}, 'F': {'C': 1, 'D': 2, 'H': 1}, 'G': {'C': 5, 'E': 2, 'H': 2, 'I': 1}, 'H': {'D': 1, 'F': 1, 'G': 2}, 'I': {'E': 4, 'G': 1}})"
      ]
     },
     "execution_count": 4,
     "metadata": {},
     "output_type": "execute_result"
    }
   ],
   "source": [
    "exemple"
   ]
  },
  {
   "cell_type": "code",
   "execution_count": 5,
   "id": "interested-reminder",
   "metadata": {},
   "outputs": [
    {
     "data": {
      "text/plain": [
       "True"
      ]
     },
     "execution_count": 5,
     "metadata": {},
     "output_type": "execute_result"
    }
   ],
   "source": [
    "exemple.est_non_ordonne()"
   ]
  },
  {
   "cell_type": "code",
   "execution_count": 6,
   "id": "legislative-wesley",
   "metadata": {},
   "outputs": [],
   "source": [
    "france = GrapheP.par_str_non_ordonne(\"\"\"\n",
    "Paris Lille 1\n",
    "Paris Strasbourg 2\n",
    "Paris Lyon 1\n",
    "Paris Clermont 4\n",
    "Paris Tours 1\n",
    "Paris Renne 1\n",
    "Lille Strasbourg 3\n",
    "Strasbourg Lyon 2\n",
    "Lyon Grenoble 1\n",
    "Lyon Marseille 2\n",
    "Lyon Clermont 2\n",
    "Grenoble Marseille 3\n",
    "Marseille Montpellier 1\n",
    "Marseille Clermont 4\n",
    "Montpellier Clermont 4\n",
    "Montpellier Toulouse 2\n",
    "Toulouse Clermont 4\n",
    "Toulouse Bordeaux 2\n",
    "Bordeaux Tours 3\n",
    "Bordeaux Nantes 3\n",
    "Nantes Tours 1\n",
    "Nantes Brest 2 \n",
    "Brest Rennes 1\n",
    "Brest Tours 2 \n",
    "Rennes Tours 1\n",
    "Tours Clermont 3\n",
    "\"\"\"\n",
    ")"
   ]
  },
  {
   "cell_type": "code",
   "execution_count": 7,
   "id": "matched-marathon",
   "metadata": {},
   "outputs": [
    {
     "data": {
      "text/plain": [
       "GrapheP(voisinage={'Paris': {'Lille': 1, 'Strasbourg': 2, 'Lyon': 1, 'Clermont': 4, 'Tours': 1, 'Renne': 1}, 'Lille': {'Paris': 1, 'Strasbourg': 3}, 'Strasbourg': {'Paris': 2, 'Lille': 3, 'Lyon': 2}, 'Lyon': {'Paris': 1, 'Strasbourg': 2, 'Grenoble': 1, 'Marseille': 2, 'Clermont': 2}, 'Clermont': {'Paris': 4, 'Lyon': 2, 'Marseille': 4, 'Montpellier': 4, 'Toulouse': 4, 'Tours': 3}, 'Tours': {'Paris': 1, 'Bordeaux': 3, 'Nantes': 1, 'Brest': 2, 'Rennes': 1, 'Clermont': 3}, 'Renne': {'Paris': 1}, 'Grenoble': {'Lyon': 1, 'Marseille': 3}, 'Marseille': {'Lyon': 2, 'Grenoble': 3, 'Montpellier': 1, 'Clermont': 4}, 'Montpellier': {'Marseille': 1, 'Clermont': 4, 'Toulouse': 2}, 'Toulouse': {'Montpellier': 2, 'Clermont': 4, 'Bordeaux': 2}, 'Bordeaux': {'Toulouse': 2, 'Tours': 3, 'Nantes': 3}, 'Nantes': {'Bordeaux': 3, 'Tours': 1, 'Brest': 2}, 'Brest': {'Nantes': 2, 'Rennes': 1, 'Tours': 2}, 'Rennes': {'Brest': 1, 'Tours': 1}})"
      ]
     },
     "execution_count": 7,
     "metadata": {},
     "output_type": "execute_result"
    }
   ],
   "source": [
    "france"
   ]
  },
  {
   "cell_type": "code",
   "execution_count": 8,
   "id": "several-register",
   "metadata": {},
   "outputs": [
    {
     "data": {
      "text/plain": [
       "True"
      ]
     },
     "execution_count": 8,
     "metadata": {},
     "output_type": "execute_result"
    }
   ],
   "source": [
    "france.est_non_ordonne()"
   ]
  },
  {
   "cell_type": "markdown",
   "id": "square-gauge",
   "metadata": {},
   "source": [
    "# Exercice\n",
    "\n",
    "1. Utiliser `Table` pour déterminer les chemins les plus courts \n",
    "- dans `exemple` en partant de `A`\n",
    "- dans `france` en partant de `Paris`\n",
    "\n",
    "2. Vérifier les résultats et corriger les bogues éventuels.\n",
    "\n",
    "20min -> 11h15"
   ]
  },
  {
   "cell_type": "code",
   "execution_count": 9,
   "id": "warming-riverside",
   "metadata": {},
   "outputs": [],
   "source": [
    "from table import Table"
   ]
  },
  {
   "cell_type": "code",
   "execution_count": 10,
   "id": "prompt-diving",
   "metadata": {},
   "outputs": [
    {
     "data": {
      "text/plain": [
       "\u001b[0;31mInit signature:\u001b[0m \u001b[0mTable\u001b[0m\u001b[0;34m(\u001b[0m\u001b[0mgraphe\u001b[0m\u001b[0;34m:\u001b[0m \u001b[0mgraphe_p\u001b[0m\u001b[0;34m.\u001b[0m\u001b[0mGrapheP\u001b[0m\u001b[0;34m,\u001b[0m \u001b[0mdepart\u001b[0m\u001b[0;34m:\u001b[0m \u001b[0mstr\u001b[0m\u001b[0;34m)\u001b[0m\u001b[0;34m\u001b[0m\u001b[0;34m\u001b[0m\u001b[0m\n",
       "\u001b[0;31mDocstring:\u001b[0m     \n",
       "Structure pour Dijkstra.\n",
       "\n",
       "        Exemples:\n",
       ">>> mon_graphe = GrapheP(voisinage={'A': {'B': 1, 'C': 4}, 'B': {'C': 2}, 'C': {}})\n",
       ">>> mon_graphe\n",
       "GrapheP(voisinage={'A': {'B': 1, 'C': 4}, 'B': {'C': 2}, 'C': {}})\n",
       ">>> ma_table = Table(graphe=mon_graphe, depart='A')\n",
       ">>> ma_table\n",
       "Table(graphe=GrapheP(voisinage={'A': {'B': 1, 'C': 4}, 'B': {'C': 2}, 'C': {}}), depart='A')\n",
       ">>> print(ma_table)\n",
       "   NaN\n",
       "A  0.0\n",
       "B  inf\n",
       "C  inf\n",
       ">>> ma_table.lance_dijkstra()\n",
       ">>> print(ma_table)\n",
       "   NaN    A    B    C\n",
       "A  0.0  0.0  0.0  0.0\n",
       "B  inf  1.0  1.0  1.0\n",
       "C  inf  4.0  3.0  3.0\n",
       "\u001b[0;31mInit docstring:\u001b[0m Initialise à partir du graphe et du sommet.\n",
       "\u001b[0;31mFile:\u001b[0m           ~/projets/COURS/SC-2020-2021/Seance09/table.py\n",
       "\u001b[0;31mType:\u001b[0m           type\n",
       "\u001b[0;31mSubclasses:\u001b[0m     \n"
      ]
     },
     "metadata": {},
     "output_type": "display_data"
    }
   ],
   "source": [
    "Table?"
   ]
  },
  {
   "cell_type": "code",
   "execution_count": 12,
   "id": "regulation-skirt",
   "metadata": {},
   "outputs": [
    {
     "data": {
      "text/plain": [
       "Table(graphe=GrapheP(voisinage={'A': {'B': 1, 'E': 7}, 'B': {'A': 1, 'C': 2, 'D': 4}, 'E': {'A': 7, 'G': 2, 'I': 4}, 'C': {'B': 2, 'D': 1, 'F': 1, 'G': 5}, 'D': {'B': 4, 'C': 1, 'F': 2, 'H': 1}, 'F': {'C': 1, 'D': 2, 'H': 1}, 'G': {'C': 5, 'E': 2, 'H': 2, 'I': 1}, 'H': {'D': 1, 'F': 1, 'G': 2}, 'I': {'E': 4, 'G': 1}}), depart='A')"
      ]
     },
     "execution_count": 12,
     "metadata": {},
     "output_type": "execute_result"
    }
   ],
   "source": [
    "table_exemple = Table(graphe=exemple, depart=\"A\")\n",
    "table_exemple"
   ]
  },
  {
   "cell_type": "code",
   "execution_count": 13,
   "id": "electrical-pitch",
   "metadata": {},
   "outputs": [
    {
     "name": "stdout",
     "output_type": "stream",
     "text": [
      "   NaN\n",
      "A  0.0\n",
      "B  inf\n",
      "E  inf\n",
      "C  inf\n",
      "D  inf\n",
      "F  inf\n",
      "G  inf\n",
      "H  inf\n",
      "I  inf\n"
     ]
    }
   ],
   "source": [
    "print(table_exemple)"
   ]
  },
  {
   "cell_type": "code",
   "execution_count": 14,
   "id": "violent-penguin",
   "metadata": {},
   "outputs": [],
   "source": [
    "table_exemple.lance_dijkstra()"
   ]
  },
  {
   "cell_type": "code",
   "execution_count": 15,
   "id": "lucky-costs",
   "metadata": {},
   "outputs": [
    {
     "name": "stdout",
     "output_type": "stream",
     "text": [
      "   NaN    A    B    C    D    F    H    G    E    I\n",
      "A  0.0  0.0  0.0  0.0  0.0  0.0  0.0  0.0  0.0  0.0\n",
      "B  inf  1.0  1.0  1.0  1.0  1.0  1.0  1.0  1.0  1.0\n",
      "E  inf  7.0  7.0  7.0  7.0  7.0  7.0  7.0  7.0  7.0\n",
      "C  inf  inf  3.0  3.0  3.0  3.0  3.0  3.0  3.0  3.0\n",
      "D  inf  inf  5.0  4.0  4.0  4.0  4.0  4.0  4.0  4.0\n",
      "F  inf  inf  inf  4.0  4.0  4.0  4.0  4.0  4.0  4.0\n",
      "G  inf  inf  inf  8.0  8.0  8.0  7.0  7.0  7.0  7.0\n",
      "H  inf  inf  inf  inf  5.0  5.0  5.0  5.0  5.0  5.0\n",
      "I  inf  inf  inf  inf  inf  inf  inf  8.0  8.0  8.0\n"
     ]
    }
   ],
   "source": [
    "print(table_exemple)"
   ]
  },
  {
   "cell_type": "code",
   "execution_count": 16,
   "id": "noble-hindu",
   "metadata": {},
   "outputs": [],
   "source": [
    "table_france = Table(graphe=france, depart=\"Paris\")"
   ]
  },
  {
   "cell_type": "code",
   "execution_count": 17,
   "id": "stainless-tissue",
   "metadata": {},
   "outputs": [
    {
     "data": {
      "text/plain": [
       "Table(graphe=GrapheP(voisinage={'Paris': {'Lille': 1, 'Strasbourg': 2, 'Lyon': 1, 'Clermont': 4, 'Tours': 1, 'Renne': 1}, 'Lille': {'Paris': 1, 'Strasbourg': 3}, 'Strasbourg': {'Paris': 2, 'Lille': 3, 'Lyon': 2}, 'Lyon': {'Paris': 1, 'Strasbourg': 2, 'Grenoble': 1, 'Marseille': 2, 'Clermont': 2}, 'Clermont': {'Paris': 4, 'Lyon': 2, 'Marseille': 4, 'Montpellier': 4, 'Toulouse': 4, 'Tours': 3}, 'Tours': {'Paris': 1, 'Bordeaux': 3, 'Nantes': 1, 'Brest': 2, 'Rennes': 1, 'Clermont': 3}, 'Renne': {'Paris': 1}, 'Grenoble': {'Lyon': 1, 'Marseille': 3}, 'Marseille': {'Lyon': 2, 'Grenoble': 3, 'Montpellier': 1, 'Clermont': 4}, 'Montpellier': {'Marseille': 1, 'Clermont': 4, 'Toulouse': 2}, 'Toulouse': {'Montpellier': 2, 'Clermont': 4, 'Bordeaux': 2}, 'Bordeaux': {'Toulouse': 2, 'Tours': 3, 'Nantes': 3}, 'Nantes': {'Bordeaux': 3, 'Tours': 1, 'Brest': 2}, 'Brest': {'Nantes': 2, 'Rennes': 1, 'Tours': 2}, 'Rennes': {'Brest': 1, 'Tours': 1}}), depart='Paris')"
      ]
     },
     "execution_count": 17,
     "metadata": {},
     "output_type": "execute_result"
    }
   ],
   "source": [
    "table_france"
   ]
  },
  {
   "cell_type": "code",
   "execution_count": 18,
   "id": "everyday-soldier",
   "metadata": {},
   "outputs": [
    {
     "name": "stdout",
     "output_type": "stream",
     "text": [
      "             NaN\n",
      "Paris        0.0\n",
      "Lille        inf\n",
      "Strasbourg   inf\n",
      "Lyon         inf\n",
      "Clermont     inf\n",
      "Tours        inf\n",
      "Renne        inf\n",
      "Grenoble     inf\n",
      "Marseille    inf\n",
      "Montpellier  inf\n",
      "Toulouse     inf\n",
      "Bordeaux     inf\n",
      "Nantes       inf\n",
      "Brest        inf\n",
      "Rennes       inf\n"
     ]
    }
   ],
   "source": [
    "print(table_france)"
   ]
  },
  {
   "cell_type": "code",
   "execution_count": 19,
   "id": "senior-staff",
   "metadata": {},
   "outputs": [],
   "source": [
    "table_france.lance_dijkstra()"
   ]
  },
  {
   "cell_type": "code",
   "execution_count": 20,
   "id": "stopped-overall",
   "metadata": {},
   "outputs": [
    {
     "name": "stdout",
     "output_type": "stream",
     "text": [
      "             NaN  Paris  Lille  Lyon  Tours  Renne  Strasbourg  Grenoble  \\\n",
      "Paris        0.0    0.0    0.0   0.0    0.0    0.0         0.0       0.0   \n",
      "Lille        inf    1.0    1.0   1.0    1.0    1.0         1.0       1.0   \n",
      "Strasbourg   inf    2.0    2.0   2.0    2.0    2.0         2.0       2.0   \n",
      "Lyon         inf    1.0    1.0   1.0    1.0    1.0         1.0       1.0   \n",
      "Clermont     inf    4.0    4.0   3.0    3.0    3.0         3.0       3.0   \n",
      "Tours        inf    1.0    1.0   1.0    1.0    1.0         1.0       1.0   \n",
      "Renne        inf    1.0    1.0   1.0    1.0    1.0         1.0       1.0   \n",
      "Grenoble     inf    inf    inf   2.0    2.0    2.0         2.0       2.0   \n",
      "Marseille    inf    inf    inf   3.0    3.0    3.0         3.0       3.0   \n",
      "Montpellier  inf    inf    inf   inf    inf    inf         inf       inf   \n",
      "Toulouse     inf    inf    inf   inf    inf    inf         inf       inf   \n",
      "Bordeaux     inf    inf    inf   inf    4.0    4.0         4.0       4.0   \n",
      "Nantes       inf    inf    inf   inf    2.0    2.0         2.0       2.0   \n",
      "Brest        inf    inf    inf   inf    3.0    3.0         3.0       3.0   \n",
      "Rennes       inf    inf    inf   inf    2.0    2.0         2.0       2.0   \n",
      "\n",
      "             Nantes  Rennes  Brest  Clermont  Marseille  Montpellier  \\\n",
      "Paris           0.0     0.0    0.0       0.0        0.0          0.0   \n",
      "Lille           1.0     1.0    1.0       1.0        1.0          1.0   \n",
      "Strasbourg      2.0     2.0    2.0       2.0        2.0          2.0   \n",
      "Lyon            1.0     1.0    1.0       1.0        1.0          1.0   \n",
      "Clermont        3.0     3.0    3.0       3.0        3.0          3.0   \n",
      "Tours           1.0     1.0    1.0       1.0        1.0          1.0   \n",
      "Renne           1.0     1.0    1.0       1.0        1.0          1.0   \n",
      "Grenoble        2.0     2.0    2.0       2.0        2.0          2.0   \n",
      "Marseille       3.0     3.0    3.0       3.0        3.0          3.0   \n",
      "Montpellier     inf     inf    inf       7.0        4.0          4.0   \n",
      "Toulouse        inf     inf    inf       7.0        7.0          6.0   \n",
      "Bordeaux        4.0     4.0    4.0       4.0        4.0          4.0   \n",
      "Nantes          2.0     2.0    2.0       2.0        2.0          2.0   \n",
      "Brest           3.0     3.0    3.0       3.0        3.0          3.0   \n",
      "Rennes          2.0     2.0    2.0       2.0        2.0          2.0   \n",
      "\n",
      "             Bordeaux  Toulouse  \n",
      "Paris             0.0       0.0  \n",
      "Lille             1.0       1.0  \n",
      "Strasbourg        2.0       2.0  \n",
      "Lyon              1.0       1.0  \n",
      "Clermont          3.0       3.0  \n",
      "Tours             1.0       1.0  \n",
      "Renne             1.0       1.0  \n",
      "Grenoble          2.0       2.0  \n",
      "Marseille         3.0       3.0  \n",
      "Montpellier       4.0       4.0  \n",
      "Toulouse          6.0       6.0  \n",
      "Bordeaux          4.0       4.0  \n",
      "Nantes            2.0       2.0  \n",
      "Brest             3.0       3.0  \n",
      "Rennes            2.0       2.0  \n"
     ]
    }
   ],
   "source": [
    "print(table_france)"
   ]
  },
  {
   "cell_type": "markdown",
   "id": "suburban-southeast",
   "metadata": {},
   "source": [
    "# Exercice\n",
    "\n",
    "Rajouter à `Table` une méthode `calcule_chemin` prenant en argument un sommet `arrivee` et renvoyant le chemin le plus court entre `depart` et ce `arrivee`. 15min -> 11h40"
   ]
  },
  {
   "cell_type": "code",
   "execution_count": null,
   "id": "surprising-latest",
   "metadata": {},
   "outputs": [],
   "source": []
  }
 ],
 "metadata": {
  "kernelspec": {
   "display_name": "Python 3",
   "language": "python",
   "name": "python3"
  },
  "language_info": {
   "codemirror_mode": {
    "name": "ipython",
    "version": 3
   },
   "file_extension": ".py",
   "mimetype": "text/x-python",
   "name": "python",
   "nbconvert_exporter": "python",
   "pygments_lexer": "ipython3",
   "version": "3.8.3"
  }
 },
 "nbformat": 4,
 "nbformat_minor": 5
}
