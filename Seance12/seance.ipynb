{
 "cells": [
  {
   "cell_type": "markdown",
   "id": "hydraulic-threat",
   "metadata": {},
   "source": [
    "# Problème de flot maximal\n",
    "\n",
    "On ne fera pas de preuve algorithmique."
   ]
  },
  {
   "cell_type": "markdown",
   "id": "later-basis",
   "metadata": {},
   "source": [
    "## Définition\n",
    "\n",
    "Soit $(V, E)$ un graphe pondéré positivement par une fonction $C$ (**Capacite**).\n",
    "On se donne deux noeuds particulier dans le graphe qu'on appelera la  $S$ (**Source**) et $P$ (**Puit**)\n",
    "- On appelle flot admissible une fonction $F$ (**Flot**) sur les arrêtes vérifiant les conditions suivantes:\n",
    "$$\\forall e \\in E,\\qquad 0\\leq F(e) \\leq C(e).$$\n",
    "$$\\forall v \\in V\\setminus\\{S, P\\}\\qquad \\sum_{e\\in \\mathcal{E}(v)} F(e) = \\sum_{e\\in \\mathcal{S}(v)} F(e).$$\n",
    "avec $\\mathcal{E}(v):=\\{(a, b) \\in E\\quad :\\quad b=v\\}$, $\\mathcal{S}(v):=\\{(a, b) \\in E\\quad :\\quad a=v\\}$\n",
    "- On dira qu'un flot admissible est maximal si la quantitée suivante l'est:\n",
    "$$\\sum_{e\\in \\mathcal{E}(P)} F(e) - \\sum_{e\\in \\mathcal{S}(P)}F(e)$$\n",
    "**ATTENTION** on reformulera généralement le problème avec des arrêtes fictives."
   ]
  },
  {
   "cell_type": "markdown",
   "id": "split-pleasure",
   "metadata": {},
   "source": [
    "# Exemple/Exercice -> 11h15\n",
    "\n",
    "Rajouter les arguments pour justifier les légendes des images.\n",
    "\n",
    "**CAPACITES**\n",
    "<img src=\"elementaire.svg\" width=\"600\">\n",
    "\n"
   ]
  },
  {
   "cell_type": "markdown",
   "id": "worst-presentation",
   "metadata": {},
   "source": [
    "**FLOT TRIVIAL**\n",
    "<img src=\"elementaire_trivial.svg\" width=\"600\">\n",
    "\n"
   ]
  },
  {
   "cell_type": "markdown",
   "id": "suffering-berlin",
   "metadata": {},
   "source": [
    "**FLOT ADMISSIBLE**\n",
    "<img src=\"elementaire_admissible.svg\" width=\"600\">\n"
   ]
  },
  {
   "cell_type": "markdown",
   "id": "monetary-family",
   "metadata": {},
   "source": [
    "\n",
    "**FLOT NON ADMISSIBLE**\n",
    "<img src=\"elementaire_non_admissible.svg\" width=\"600\">\n"
   ]
  },
  {
   "cell_type": "markdown",
   "id": "stopped-amber",
   "metadata": {},
   "source": [
    "\n",
    "**FLOT MAXIMAL**\n",
    "<img src=\"elementaire_maximal.svg\" width=\"600\">"
   ]
  },
  {
   "cell_type": "markdown",
   "id": "royal-statistics",
   "metadata": {},
   "source": [
    "## Exemple\n",
    "\n",
    "<img src=\"./dag_capacite.svg\" alt=\"graphe avec capacité\" width=\"800\">"
   ]
  },
  {
   "cell_type": "markdown",
   "id": "competitive-college",
   "metadata": {},
   "source": [
    "### Exercice -> 10h35\n",
    "\n",
    "- Quelles sont les arrêtes rentrantes et sortantes associées à $F$?\n",
    "$$\\mathcal{E}(F)= \\{(B,F),\\quad (D,F)\\quad, (E,F)\\}$$\n",
    "$$\\mathcal{S}(F)= \\{(F, C),\\quad (F, G)\\}$$\n",
    "\n",
    "- Donner un flot admissible sur ce graphe.\n",
    "\n",
    "Il suffit d'utiliser la fonction $F$ constante égale à $0$."
   ]
  },
  {
   "cell_type": "markdown",
   "id": "african-confirmation",
   "metadata": {},
   "source": [
    "**REMARQUE** \n",
    "- On a rajouter des arrêtes fictives sur le dessin (celles avec des capacités valant $?$). L'une sort du puit $I$ l'autre rentre dans la source $A$.\n",
    "- On peut alors reformuler le problème du flot maximal en demandant que la loi des noeuds s'appliquent également à la source et au puit, mais on cherche à maximiser les flots sur ces arrêtes fictives."
   ]
  },
  {
   "cell_type": "code",
   "execution_count": null,
   "id": "popular-primary",
   "metadata": {},
   "outputs": [],
   "source": []
  }
 ],
 "metadata": {
  "kernelspec": {
   "display_name": "Python 3",
   "language": "python",
   "name": "python3"
  },
  "language_info": {
   "codemirror_mode": {
    "name": "ipython",
    "version": 3
   },
   "file_extension": ".py",
   "mimetype": "text/x-python",
   "name": "python",
   "nbconvert_exporter": "python",
   "pygments_lexer": "ipython3",
   "version": "3.8.3"
  }
 },
 "nbformat": 4,
 "nbformat_minor": 5
}
