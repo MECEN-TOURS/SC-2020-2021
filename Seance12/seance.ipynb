{
 "cells": [
  {
   "cell_type": "markdown",
   "id": "cognitive-lesson",
   "metadata": {},
   "source": [
    "# Problème de flot maximal\n",
    "\n",
    "On ne fera pas de preuve algorithmique."
   ]
  },
  {
   "cell_type": "markdown",
   "id": "signed-moment",
   "metadata": {},
   "source": [
    "## Définition\n",
    "\n",
    "Soit $(V, E)$ un graphe pondéré positivement par une fonction $C$ (**Capacite**).\n",
    "- On se donne deux noeuds particulier dans le graphe qu'on appelera la  $S$ (**Source**) et $P$ (**Puit**)\n",
    "On appelle flot admissible une fonction $F$ (**Flot**) sur les arrêtes vérifiant les conditions suivantes:\n",
    "$$\\forall e \\in E,\\qquad 0\\leq F(e) \\leq C(e).$$\n",
    "$$\\forall v \\in V\\qquad \\sum_{e\\in \\mathcal{E}(v)} F(e) = \\sum_{e\\in \\mathcal{S}(v)} F(e).$$\n",
    "avec $\\mathcal{E}(v):=\\{(a, b) \\in E\\quad :\\quad b=v\\}$, $\\mathcal{S}(v):=\\{(a, b) \\in E\\quad :\\quad a=v\\}$\n",
    "\n",
    "- Le problème du flot maximal est de trouver un flot admissible tel que la somme des flots sortant moins la somme des flots rentrant à $S$ soit maximale.\n"
   ]
  },
  {
   "cell_type": "markdown",
   "id": "bottom-johnston",
   "metadata": {},
   "source": [
    "## Exemple\n",
    "\n",
    "<img src=\"./dag_capacite.svg\" height=\"100\"/>"
   ]
  },
  {
   "cell_type": "markdown",
   "id": "hispanic-detector",
   "metadata": {},
   "source": [
    "### Exercice\n",
    "\n",
    "- Quelles sont les arrêtes rentrantes et sortantes associées à $F$?\n",
    "- Donner un flot admissible sur ce graphe."
   ]
  },
  {
   "cell_type": "code",
   "execution_count": null,
   "id": "medical-carnival",
   "metadata": {},
   "outputs": [],
   "source": []
  }
 ],
 "metadata": {
  "kernelspec": {
   "display_name": "Python 3",
   "language": "python",
   "name": "python3"
  },
  "language_info": {
   "codemirror_mode": {
    "name": "ipython",
    "version": 3
   },
   "file_extension": ".py",
   "mimetype": "text/x-python",
   "name": "python",
   "nbconvert_exporter": "python",
   "pygments_lexer": "ipython3",
   "version": "3.8.3"
  }
 },
 "nbformat": 4,
 "nbformat_minor": 5
}
