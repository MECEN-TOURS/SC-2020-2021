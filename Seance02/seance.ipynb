{
 "cells": [
  {
   "cell_type": "markdown",
   "metadata": {},
   "source": [
    "# Introduction du problème\n",
    "\n",
    "1. Un berger, un loup, un mouton et un chou d'un côté d'une rivière.\n",
    "2. Ils veulent traverser cette rivière.\n",
    "3. Ils possèdent une barque de 2 places.\n",
    "4. Le berger est toujours dans la barque lors d'une traversée.\n",
    "5. Le berger ne peut pas laisser sans surveilance:\n",
    "    - le loup et le mouton\n",
    "    - le mouton et le chou\n",
    "6. Comment doit on planifier les traversées pour que tout le monde passent la rivière?"
   ]
  },
  {
   "cell_type": "markdown",
   "metadata": {},
   "source": [
    "# Exercice:\n",
    "\n",
    "1. Trouver une solution du problème. -> 11h\n",
    "2. Trouver une démarche générale pour la résolution du problème."
   ]
  },
  {
   "cell_type": "markdown",
   "metadata": {},
   "source": [
    "## Solution question 1\n",
    "\n",
    "1. Berger, Mouton\n",
    "2. Berger\n",
    "3. Berger, Loup\n",
    "4. Berger, Mouton\n",
    "5. Berger, Chou\n",
    "6. Berger\n",
    "7. Berger, Mouton\n",
    "\n",
    "**REMARQUES**:\n",
    "- Comment est-ce qu'on trouve la solution? Faire à chaque coup un déplacement utile en respectant les contraintes.\n",
    "- Comment peut-on vérifier qu'elle est correcte? Besoin de visualiser les présences de chaque côté après chaque déplacement."
   ]
  },
  {
   "cell_type": "markdown",
   "metadata": {},
   "source": [
    "## Solution question 2\n",
    "\n",
    "L'état du problème c'est les présences de chaque côté de la rivière.\n",
    "Voire le dessin."
   ]
  },
  {
   "cell_type": "markdown",
   "metadata": {},
   "source": [
    "### Informatiquement parlant\n",
    "\n",
    "1. A chaque côté on associe les présents.\n",
    "    * Ici on peut à priori représenter des états invalides:\n",
    "    * {Gauche : Berger Loup Mouton Chou; Droite : Berger Loup Mouton Chou}\n",
    "2. A chaque personnage on associe son côté de la rivière.\n",
    "    * Ici comme à chaque personn j'associe un côté, pas d'état invalide.\n",
    "    * {Berger: Gauche, Loup: Droite, Mouton: Gauche, Chou: Droite}\n",
    "\n",
    "Comme on veut coder une association la structure naturelle est le dictionnaire. `dict`"
   ]
  },
  {
   "cell_type": "code",
   "execution_count": 1,
   "metadata": {},
   "outputs": [],
   "source": [
    "cotes = (\"Gauche\", \"Droite\")\n",
    "personnages = (\"Berger\", \"Loup\", \"Mouton\", \"Choux\")"
   ]
  },
  {
   "cell_type": "code",
   "execution_count": 2,
   "metadata": {},
   "outputs": [
    {
     "data": {
      "text/plain": [
       "dict"
      ]
     },
     "execution_count": 2,
     "metadata": {},
     "output_type": "execute_result"
    }
   ],
   "source": [
    "depart = {\"Berger\": \"Gauche\", \"Loup\": \"Gauche\", \"Mouton\": \"Gauche\", \"Chou\": \"Gauche\"}\n",
    "type(depart)"
   ]
  },
  {
   "cell_type": "code",
   "execution_count": 3,
   "metadata": {},
   "outputs": [
    {
     "data": {
      "text/plain": [
       "{'Berger': 'Droite', 'Loup': 'Droite', 'Mouton': 'Droite', 'Chou': 'Droite'}"
      ]
     },
     "execution_count": 3,
     "metadata": {},
     "output_type": "execute_result"
    }
   ],
   "source": [
    "arrivee = {\"Berger\": \"Droite\", \"Loup\": \"Droite\", \"Mouton\": \"Droite\", \"Chou\": \"Droite\"}\n",
    "arrivee\n"
   ]
  },
  {
   "cell_type": "code",
   "execution_count": 4,
   "metadata": {},
   "outputs": [
    {
     "data": {
      "text/plain": [
       "'Droite'"
      ]
     },
     "execution_count": 4,
     "metadata": {},
     "output_type": "execute_result"
    }
   ],
   "source": [
    "# Rappel pour accéder à une association.\n",
    "arrivee[\"Berger\"]"
   ]
  },
  {
   "cell_type": "markdown",
   "metadata": {},
   "source": [
    "### Exercice\n",
    "\n",
    "Construisez l'équivalent informatique du dessin en python. -> 12h\n",
    "- Liste de tous les états.\n",
    "- Représentez les interdits.\n",
    "- Représentez les flèches entre états."
   ]
  },
  {
   "cell_type": "code",
   "execution_count": 5,
   "metadata": {},
   "outputs": [],
   "source": [
    "def genere_etats():\n",
    "    resultat = list()\n",
    "    for choix_berger in cotes:\n",
    "        for choix_loup in cotes:\n",
    "            for choix_mouton in cotes:\n",
    "                for choix_chou in cotes:\n",
    "                    etat = {\n",
    "                        \"Berger\": choix_berger,\n",
    "                        \"Loup\": choix_loup,\n",
    "                        \"Mouton\": choix_mouton,\n",
    "                        \"Chou\": choix_chou\n",
    "                    }\n",
    "                    resultat.append(etat)\n",
    "    return resultat"
   ]
  },
  {
   "cell_type": "code",
   "execution_count": 6,
   "metadata": {},
   "outputs": [
    {
     "data": {
      "text/plain": [
       "16"
      ]
     },
     "execution_count": 6,
     "metadata": {},
     "output_type": "execute_result"
    }
   ],
   "source": [
    "len(genere_etats())"
   ]
  },
  {
   "cell_type": "code",
   "execution_count": 7,
   "metadata": {},
   "outputs": [],
   "source": [
    "def est_interdit(etat):\n",
    "    if etat[\"Loup\"] == etat[\"Mouton\"] and etat[\"Loup\"] != etat[\"Berger\"]:\n",
    "        return True\n",
    "    if etat[\"Mouton\"] == etat[\"Chou\"] and etat[\"Mouton\"] != etat[\"Berger\"]:\n",
    "        return True\n",
    "    return False"
   ]
  },
  {
   "cell_type": "code",
   "execution_count": 8,
   "metadata": {},
   "outputs": [],
   "source": [
    "def sont_connectes(etat_depart, etat_arrivee):\n",
    "    if etat_depart[\"Berger\"] == etat_arrivee[\"Berger\"]:\n",
    "        return False\n",
    "    nombre_de_changements = 0\n",
    "    for personnage in (\"Loup\", \"Mouton\", \"Chou\"):\n",
    "        if etat_depart[personnage] != etat_arrivee[personnage]:\n",
    "            nombre_de_changements = nombre_de_changements + 1\n",
    "    if nombre_de_changements < 2:\n",
    "        return True\n",
    "    else:\n",
    "        return False"
   ]
  },
  {
   "cell_type": "code",
   "execution_count": 9,
   "metadata": {},
   "outputs": [
    {
     "name": "stdout",
     "output_type": "stream",
     "text": [
      "10\n",
      "[{'Berger': 'Gauche', 'Loup': 'Gauche', 'Mouton': 'Gauche', 'Chou': 'Gauche'}, {'Berger': 'Gauche', 'Loup': 'Gauche', 'Mouton': 'Gauche', 'Chou': 'Droite'}, {'Berger': 'Gauche', 'Loup': 'Gauche', 'Mouton': 'Droite', 'Chou': 'Gauche'}, {'Berger': 'Gauche', 'Loup': 'Droite', 'Mouton': 'Gauche', 'Chou': 'Gauche'}, {'Berger': 'Gauche', 'Loup': 'Droite', 'Mouton': 'Gauche', 'Chou': 'Droite'}, {'Berger': 'Droite', 'Loup': 'Gauche', 'Mouton': 'Droite', 'Chou': 'Gauche'}, {'Berger': 'Droite', 'Loup': 'Gauche', 'Mouton': 'Droite', 'Chou': 'Droite'}, {'Berger': 'Droite', 'Loup': 'Droite', 'Mouton': 'Gauche', 'Chou': 'Droite'}, {'Berger': 'Droite', 'Loup': 'Droite', 'Mouton': 'Droite', 'Chou': 'Gauche'}, {'Berger': 'Droite', 'Loup': 'Droite', 'Mouton': 'Droite', 'Chou': 'Droite'}]\n"
     ]
    }
   ],
   "source": [
    "sommets = [etat for etat in genere_etats() if not est_interdit(etat)]\n",
    "print(len(sommets))\n",
    "print(sommets)"
   ]
  },
  {
   "cell_type": "code",
   "execution_count": 10,
   "metadata": {},
   "outputs": [
    {
     "name": "stdout",
     "output_type": "stream",
     "text": [
      "20\n",
      "[({'Berger': 'Gauche', 'Loup': 'Gauche', 'Mouton': 'Gauche', 'Chou': 'Gauche'}, {'Berger': 'Droite', 'Loup': 'Gauche', 'Mouton': 'Droite', 'Chou': 'Gauche'}), ({'Berger': 'Gauche', 'Loup': 'Gauche', 'Mouton': 'Gauche', 'Chou': 'Droite'}, {'Berger': 'Droite', 'Loup': 'Gauche', 'Mouton': 'Droite', 'Chou': 'Droite'}), ({'Berger': 'Gauche', 'Loup': 'Gauche', 'Mouton': 'Gauche', 'Chou': 'Droite'}, {'Berger': 'Droite', 'Loup': 'Droite', 'Mouton': 'Gauche', 'Chou': 'Droite'}), ({'Berger': 'Gauche', 'Loup': 'Gauche', 'Mouton': 'Droite', 'Chou': 'Gauche'}, {'Berger': 'Droite', 'Loup': 'Gauche', 'Mouton': 'Droite', 'Chou': 'Gauche'}), ({'Berger': 'Gauche', 'Loup': 'Gauche', 'Mouton': 'Droite', 'Chou': 'Gauche'}, {'Berger': 'Droite', 'Loup': 'Gauche', 'Mouton': 'Droite', 'Chou': 'Droite'}), ({'Berger': 'Gauche', 'Loup': 'Gauche', 'Mouton': 'Droite', 'Chou': 'Gauche'}, {'Berger': 'Droite', 'Loup': 'Droite', 'Mouton': 'Droite', 'Chou': 'Gauche'}), ({'Berger': 'Gauche', 'Loup': 'Droite', 'Mouton': 'Gauche', 'Chou': 'Gauche'}, {'Berger': 'Droite', 'Loup': 'Droite', 'Mouton': 'Gauche', 'Chou': 'Droite'}), ({'Berger': 'Gauche', 'Loup': 'Droite', 'Mouton': 'Gauche', 'Chou': 'Gauche'}, {'Berger': 'Droite', 'Loup': 'Droite', 'Mouton': 'Droite', 'Chou': 'Gauche'}), ({'Berger': 'Gauche', 'Loup': 'Droite', 'Mouton': 'Gauche', 'Chou': 'Droite'}, {'Berger': 'Droite', 'Loup': 'Droite', 'Mouton': 'Gauche', 'Chou': 'Droite'}), ({'Berger': 'Gauche', 'Loup': 'Droite', 'Mouton': 'Gauche', 'Chou': 'Droite'}, {'Berger': 'Droite', 'Loup': 'Droite', 'Mouton': 'Droite', 'Chou': 'Droite'}), ({'Berger': 'Droite', 'Loup': 'Gauche', 'Mouton': 'Droite', 'Chou': 'Gauche'}, {'Berger': 'Gauche', 'Loup': 'Gauche', 'Mouton': 'Gauche', 'Chou': 'Gauche'}), ({'Berger': 'Droite', 'Loup': 'Gauche', 'Mouton': 'Droite', 'Chou': 'Gauche'}, {'Berger': 'Gauche', 'Loup': 'Gauche', 'Mouton': 'Droite', 'Chou': 'Gauche'}), ({'Berger': 'Droite', 'Loup': 'Gauche', 'Mouton': 'Droite', 'Chou': 'Droite'}, {'Berger': 'Gauche', 'Loup': 'Gauche', 'Mouton': 'Gauche', 'Chou': 'Droite'}), ({'Berger': 'Droite', 'Loup': 'Gauche', 'Mouton': 'Droite', 'Chou': 'Droite'}, {'Berger': 'Gauche', 'Loup': 'Gauche', 'Mouton': 'Droite', 'Chou': 'Gauche'}), ({'Berger': 'Droite', 'Loup': 'Droite', 'Mouton': 'Gauche', 'Chou': 'Droite'}, {'Berger': 'Gauche', 'Loup': 'Gauche', 'Mouton': 'Gauche', 'Chou': 'Droite'}), ({'Berger': 'Droite', 'Loup': 'Droite', 'Mouton': 'Gauche', 'Chou': 'Droite'}, {'Berger': 'Gauche', 'Loup': 'Droite', 'Mouton': 'Gauche', 'Chou': 'Gauche'}), ({'Berger': 'Droite', 'Loup': 'Droite', 'Mouton': 'Gauche', 'Chou': 'Droite'}, {'Berger': 'Gauche', 'Loup': 'Droite', 'Mouton': 'Gauche', 'Chou': 'Droite'}), ({'Berger': 'Droite', 'Loup': 'Droite', 'Mouton': 'Droite', 'Chou': 'Gauche'}, {'Berger': 'Gauche', 'Loup': 'Gauche', 'Mouton': 'Droite', 'Chou': 'Gauche'}), ({'Berger': 'Droite', 'Loup': 'Droite', 'Mouton': 'Droite', 'Chou': 'Gauche'}, {'Berger': 'Gauche', 'Loup': 'Droite', 'Mouton': 'Gauche', 'Chou': 'Gauche'}), ({'Berger': 'Droite', 'Loup': 'Droite', 'Mouton': 'Droite', 'Chou': 'Droite'}, {'Berger': 'Gauche', 'Loup': 'Droite', 'Mouton': 'Gauche', 'Chou': 'Droite'})]\n"
     ]
    }
   ],
   "source": [
    "fleches = [(sommet1, sommet2) for sommet1 in sommets for sommet2 in sommets if sont_connectes(sommet1, sommet2)]\n",
    "print(len(fleches))\n",
    "print(fleches)"
   ]
  },
  {
   "cell_type": "code",
   "execution_count": 11,
   "metadata": {},
   "outputs": [],
   "source": [
    "# pour un affichage plus sympathique\n",
    "from rich import print"
   ]
  },
  {
   "cell_type": "code",
   "execution_count": 12,
   "metadata": {},
   "outputs": [
    {
     "data": {
      "text/html": [
       "<pre style=\"white-space:pre;overflow-x:auto;line-height:normal;font-family:Menlo,'DejaVu Sans Mono',consolas,'Courier New',monospace\"><span style=\"font-weight: bold\">[</span>\n",
       "    <span style=\"font-weight: bold\">{</span><span style=\"color: #008000\">'Berger'</span>: <span style=\"color: #008000\">'Gauche'</span>, <span style=\"color: #008000\">'Loup'</span>: <span style=\"color: #008000\">'Gauche'</span>, <span style=\"color: #008000\">'Mouton'</span>: <span style=\"color: #008000\">'Gauche'</span>, <span style=\"color: #008000\">'Chou'</span>: <span style=\"color: #008000\">'Gauche'</span><span style=\"font-weight: bold\">}</span>,\n",
       "    <span style=\"font-weight: bold\">{</span><span style=\"color: #008000\">'Berger'</span>: <span style=\"color: #008000\">'Gauche'</span>, <span style=\"color: #008000\">'Loup'</span>: <span style=\"color: #008000\">'Gauche'</span>, <span style=\"color: #008000\">'Mouton'</span>: <span style=\"color: #008000\">'Gauche'</span>, <span style=\"color: #008000\">'Chou'</span>: <span style=\"color: #008000\">'Droite'</span><span style=\"font-weight: bold\">}</span>,\n",
       "    <span style=\"font-weight: bold\">{</span><span style=\"color: #008000\">'Berger'</span>: <span style=\"color: #008000\">'Gauche'</span>, <span style=\"color: #008000\">'Loup'</span>: <span style=\"color: #008000\">'Gauche'</span>, <span style=\"color: #008000\">'Mouton'</span>: <span style=\"color: #008000\">'Droite'</span>, <span style=\"color: #008000\">'Chou'</span>: <span style=\"color: #008000\">'Gauche'</span><span style=\"font-weight: bold\">}</span>,\n",
       "    <span style=\"font-weight: bold\">{</span><span style=\"color: #008000\">'Berger'</span>: <span style=\"color: #008000\">'Gauche'</span>, <span style=\"color: #008000\">'Loup'</span>: <span style=\"color: #008000\">'Gauche'</span>, <span style=\"color: #008000\">'Mouton'</span>: <span style=\"color: #008000\">'Droite'</span>, <span style=\"color: #008000\">'Chou'</span>: <span style=\"color: #008000\">'Droite'</span><span style=\"font-weight: bold\">}</span>,\n",
       "    <span style=\"font-weight: bold\">{</span><span style=\"color: #008000\">'Berger'</span>: <span style=\"color: #008000\">'Gauche'</span>, <span style=\"color: #008000\">'Loup'</span>: <span style=\"color: #008000\">'Droite'</span>, <span style=\"color: #008000\">'Mouton'</span>: <span style=\"color: #008000\">'Gauche'</span>, <span style=\"color: #008000\">'Chou'</span>: <span style=\"color: #008000\">'Gauche'</span><span style=\"font-weight: bold\">}</span>,\n",
       "    <span style=\"font-weight: bold\">{</span><span style=\"color: #008000\">'Berger'</span>: <span style=\"color: #008000\">'Gauche'</span>, <span style=\"color: #008000\">'Loup'</span>: <span style=\"color: #008000\">'Droite'</span>, <span style=\"color: #008000\">'Mouton'</span>: <span style=\"color: #008000\">'Gauche'</span>, <span style=\"color: #008000\">'Chou'</span>: <span style=\"color: #008000\">'Droite'</span><span style=\"font-weight: bold\">}</span>,\n",
       "    <span style=\"font-weight: bold\">{</span><span style=\"color: #008000\">'Berger'</span>: <span style=\"color: #008000\">'Gauche'</span>, <span style=\"color: #008000\">'Loup'</span>: <span style=\"color: #008000\">'Droite'</span>, <span style=\"color: #008000\">'Mouton'</span>: <span style=\"color: #008000\">'Droite'</span>, <span style=\"color: #008000\">'Chou'</span>: <span style=\"color: #008000\">'Gauche'</span><span style=\"font-weight: bold\">}</span>,\n",
       "    <span style=\"font-weight: bold\">{</span><span style=\"color: #008000\">'Berger'</span>: <span style=\"color: #008000\">'Gauche'</span>, <span style=\"color: #008000\">'Loup'</span>: <span style=\"color: #008000\">'Droite'</span>, <span style=\"color: #008000\">'Mouton'</span>: <span style=\"color: #008000\">'Droite'</span>, <span style=\"color: #008000\">'Chou'</span>: <span style=\"color: #008000\">'Droite'</span><span style=\"font-weight: bold\">}</span>,\n",
       "    <span style=\"font-weight: bold\">{</span><span style=\"color: #008000\">'Berger'</span>: <span style=\"color: #008000\">'Droite'</span>, <span style=\"color: #008000\">'Loup'</span>: <span style=\"color: #008000\">'Gauche'</span>, <span style=\"color: #008000\">'Mouton'</span>: <span style=\"color: #008000\">'Gauche'</span>, <span style=\"color: #008000\">'Chou'</span>: <span style=\"color: #008000\">'Gauche'</span><span style=\"font-weight: bold\">}</span>,\n",
       "    <span style=\"font-weight: bold\">{</span><span style=\"color: #008000\">'Berger'</span>: <span style=\"color: #008000\">'Droite'</span>, <span style=\"color: #008000\">'Loup'</span>: <span style=\"color: #008000\">'Gauche'</span>, <span style=\"color: #008000\">'Mouton'</span>: <span style=\"color: #008000\">'Gauche'</span>, <span style=\"color: #008000\">'Chou'</span>: <span style=\"color: #008000\">'Droite'</span><span style=\"font-weight: bold\">}</span>,\n",
       "    <span style=\"font-weight: bold\">{</span><span style=\"color: #008000\">'Berger'</span>: <span style=\"color: #008000\">'Droite'</span>, <span style=\"color: #008000\">'Loup'</span>: <span style=\"color: #008000\">'Gauche'</span>, <span style=\"color: #008000\">'Mouton'</span>: <span style=\"color: #008000\">'Droite'</span>, <span style=\"color: #008000\">'Chou'</span>: <span style=\"color: #008000\">'Gauche'</span><span style=\"font-weight: bold\">}</span>,\n",
       "    <span style=\"font-weight: bold\">{</span><span style=\"color: #008000\">'Berger'</span>: <span style=\"color: #008000\">'Droite'</span>, <span style=\"color: #008000\">'Loup'</span>: <span style=\"color: #008000\">'Gauche'</span>, <span style=\"color: #008000\">'Mouton'</span>: <span style=\"color: #008000\">'Droite'</span>, <span style=\"color: #008000\">'Chou'</span>: <span style=\"color: #008000\">'Droite'</span><span style=\"font-weight: bold\">}</span>,\n",
       "    <span style=\"font-weight: bold\">{</span><span style=\"color: #008000\">'Berger'</span>: <span style=\"color: #008000\">'Droite'</span>, <span style=\"color: #008000\">'Loup'</span>: <span style=\"color: #008000\">'Droite'</span>, <span style=\"color: #008000\">'Mouton'</span>: <span style=\"color: #008000\">'Gauche'</span>, <span style=\"color: #008000\">'Chou'</span>: <span style=\"color: #008000\">'Gauche'</span><span style=\"font-weight: bold\">}</span>,\n",
       "    <span style=\"font-weight: bold\">{</span><span style=\"color: #008000\">'Berger'</span>: <span style=\"color: #008000\">'Droite'</span>, <span style=\"color: #008000\">'Loup'</span>: <span style=\"color: #008000\">'Droite'</span>, <span style=\"color: #008000\">'Mouton'</span>: <span style=\"color: #008000\">'Gauche'</span>, <span style=\"color: #008000\">'Chou'</span>: <span style=\"color: #008000\">'Droite'</span><span style=\"font-weight: bold\">}</span>,\n",
       "    <span style=\"font-weight: bold\">{</span><span style=\"color: #008000\">'Berger'</span>: <span style=\"color: #008000\">'Droite'</span>, <span style=\"color: #008000\">'Loup'</span>: <span style=\"color: #008000\">'Droite'</span>, <span style=\"color: #008000\">'Mouton'</span>: <span style=\"color: #008000\">'Droite'</span>, <span style=\"color: #008000\">'Chou'</span>: <span style=\"color: #008000\">'Gauche'</span><span style=\"font-weight: bold\">}</span>,\n",
       "    <span style=\"font-weight: bold\">{</span><span style=\"color: #008000\">'Berger'</span>: <span style=\"color: #008000\">'Droite'</span>, <span style=\"color: #008000\">'Loup'</span>: <span style=\"color: #008000\">'Droite'</span>, <span style=\"color: #008000\">'Mouton'</span>: <span style=\"color: #008000\">'Droite'</span>, <span style=\"color: #008000\">'Chou'</span>: <span style=\"color: #008000\">'Droite'</span><span style=\"font-weight: bold\">}</span>\n",
       "<span style=\"font-weight: bold\">]</span>\n",
       "</pre>\n"
      ],
      "text/plain": [
       "<rich.jupyter.JupyterRenderable at 0x7f73cedbd5b0>"
      ]
     },
     "metadata": {},
     "output_type": "display_data"
    }
   ],
   "source": [
    "print(genere_etats())"
   ]
  },
  {
   "cell_type": "code",
   "execution_count": 13,
   "metadata": {},
   "outputs": [
    {
     "data": {
      "text/html": [
       "<pre style=\"white-space:pre;overflow-x:auto;line-height:normal;font-family:Menlo,'DejaVu Sans Mono',consolas,'Courier New',monospace\"><span style=\"font-weight: bold\">[</span>\n",
       "    <span style=\"font-weight: bold\">{</span><span style=\"color: #008000\">'Berger'</span>: <span style=\"color: #008000\">'Gauche'</span>, <span style=\"color: #008000\">'Loup'</span>: <span style=\"color: #008000\">'Gauche'</span>, <span style=\"color: #008000\">'Mouton'</span>: <span style=\"color: #008000\">'Gauche'</span>, <span style=\"color: #008000\">'Chou'</span>: <span style=\"color: #008000\">'Gauche'</span><span style=\"font-weight: bold\">}</span>,\n",
       "    <span style=\"font-weight: bold\">{</span><span style=\"color: #008000\">'Berger'</span>: <span style=\"color: #008000\">'Gauche'</span>, <span style=\"color: #008000\">'Loup'</span>: <span style=\"color: #008000\">'Gauche'</span>, <span style=\"color: #008000\">'Mouton'</span>: <span style=\"color: #008000\">'Gauche'</span>, <span style=\"color: #008000\">'Chou'</span>: <span style=\"color: #008000\">'Droite'</span><span style=\"font-weight: bold\">}</span>,\n",
       "    <span style=\"font-weight: bold\">{</span><span style=\"color: #008000\">'Berger'</span>: <span style=\"color: #008000\">'Gauche'</span>, <span style=\"color: #008000\">'Loup'</span>: <span style=\"color: #008000\">'Gauche'</span>, <span style=\"color: #008000\">'Mouton'</span>: <span style=\"color: #008000\">'Droite'</span>, <span style=\"color: #008000\">'Chou'</span>: <span style=\"color: #008000\">'Gauche'</span><span style=\"font-weight: bold\">}</span>,\n",
       "    <span style=\"font-weight: bold\">{</span><span style=\"color: #008000\">'Berger'</span>: <span style=\"color: #008000\">'Gauche'</span>, <span style=\"color: #008000\">'Loup'</span>: <span style=\"color: #008000\">'Droite'</span>, <span style=\"color: #008000\">'Mouton'</span>: <span style=\"color: #008000\">'Gauche'</span>, <span style=\"color: #008000\">'Chou'</span>: <span style=\"color: #008000\">'Gauche'</span><span style=\"font-weight: bold\">}</span>,\n",
       "    <span style=\"font-weight: bold\">{</span><span style=\"color: #008000\">'Berger'</span>: <span style=\"color: #008000\">'Gauche'</span>, <span style=\"color: #008000\">'Loup'</span>: <span style=\"color: #008000\">'Droite'</span>, <span style=\"color: #008000\">'Mouton'</span>: <span style=\"color: #008000\">'Gauche'</span>, <span style=\"color: #008000\">'Chou'</span>: <span style=\"color: #008000\">'Droite'</span><span style=\"font-weight: bold\">}</span>,\n",
       "    <span style=\"font-weight: bold\">{</span><span style=\"color: #008000\">'Berger'</span>: <span style=\"color: #008000\">'Droite'</span>, <span style=\"color: #008000\">'Loup'</span>: <span style=\"color: #008000\">'Gauche'</span>, <span style=\"color: #008000\">'Mouton'</span>: <span style=\"color: #008000\">'Droite'</span>, <span style=\"color: #008000\">'Chou'</span>: <span style=\"color: #008000\">'Gauche'</span><span style=\"font-weight: bold\">}</span>,\n",
       "    <span style=\"font-weight: bold\">{</span><span style=\"color: #008000\">'Berger'</span>: <span style=\"color: #008000\">'Droite'</span>, <span style=\"color: #008000\">'Loup'</span>: <span style=\"color: #008000\">'Gauche'</span>, <span style=\"color: #008000\">'Mouton'</span>: <span style=\"color: #008000\">'Droite'</span>, <span style=\"color: #008000\">'Chou'</span>: <span style=\"color: #008000\">'Droite'</span><span style=\"font-weight: bold\">}</span>,\n",
       "    <span style=\"font-weight: bold\">{</span><span style=\"color: #008000\">'Berger'</span>: <span style=\"color: #008000\">'Droite'</span>, <span style=\"color: #008000\">'Loup'</span>: <span style=\"color: #008000\">'Droite'</span>, <span style=\"color: #008000\">'Mouton'</span>: <span style=\"color: #008000\">'Gauche'</span>, <span style=\"color: #008000\">'Chou'</span>: <span style=\"color: #008000\">'Droite'</span><span style=\"font-weight: bold\">}</span>,\n",
       "    <span style=\"font-weight: bold\">{</span><span style=\"color: #008000\">'Berger'</span>: <span style=\"color: #008000\">'Droite'</span>, <span style=\"color: #008000\">'Loup'</span>: <span style=\"color: #008000\">'Droite'</span>, <span style=\"color: #008000\">'Mouton'</span>: <span style=\"color: #008000\">'Droite'</span>, <span style=\"color: #008000\">'Chou'</span>: <span style=\"color: #008000\">'Gauche'</span><span style=\"font-weight: bold\">}</span>,\n",
       "    <span style=\"font-weight: bold\">{</span><span style=\"color: #008000\">'Berger'</span>: <span style=\"color: #008000\">'Droite'</span>, <span style=\"color: #008000\">'Loup'</span>: <span style=\"color: #008000\">'Droite'</span>, <span style=\"color: #008000\">'Mouton'</span>: <span style=\"color: #008000\">'Droite'</span>, <span style=\"color: #008000\">'Chou'</span>: <span style=\"color: #008000\">'Droite'</span><span style=\"font-weight: bold\">}</span>\n",
       "<span style=\"font-weight: bold\">]</span>\n",
       "</pre>\n"
      ],
      "text/plain": [
       "<rich.jupyter.JupyterRenderable at 0x7f73ceb61d30>"
      ]
     },
     "metadata": {},
     "output_type": "display_data"
    }
   ],
   "source": [
    "print(sommets)"
   ]
  },
  {
   "cell_type": "code",
   "execution_count": 14,
   "metadata": {},
   "outputs": [
    {
     "data": {
      "text/html": [
       "<pre style=\"white-space:pre;overflow-x:auto;line-height:normal;font-family:Menlo,'DejaVu Sans Mono',consolas,'Courier New',monospace\"><span style=\"font-weight: bold\">[</span>\n",
       "    <span style=\"font-weight: bold\">(</span>\n",
       "        <span style=\"font-weight: bold\">{</span><span style=\"color: #008000\">'Berger'</span>: <span style=\"color: #008000\">'Gauche'</span>, <span style=\"color: #008000\">'Loup'</span>: <span style=\"color: #008000\">'Gauche'</span>, <span style=\"color: #008000\">'Mouton'</span>: <span style=\"color: #008000\">'Gauche'</span>, <span style=\"color: #008000\">'Chou'</span>: <span style=\"color: #008000\">'Gauche'</span><span style=\"font-weight: bold\">}</span>,\n",
       "        <span style=\"font-weight: bold\">{</span><span style=\"color: #008000\">'Berger'</span>: <span style=\"color: #008000\">'Droite'</span>, <span style=\"color: #008000\">'Loup'</span>: <span style=\"color: #008000\">'Gauche'</span>, <span style=\"color: #008000\">'Mouton'</span>: <span style=\"color: #008000\">'Droite'</span>, <span style=\"color: #008000\">'Chou'</span>: <span style=\"color: #008000\">'Gauche'</span><span style=\"font-weight: bold\">}</span>\n",
       "    <span style=\"font-weight: bold\">)</span>,\n",
       "    <span style=\"font-weight: bold\">(</span>\n",
       "        <span style=\"font-weight: bold\">{</span><span style=\"color: #008000\">'Berger'</span>: <span style=\"color: #008000\">'Gauche'</span>, <span style=\"color: #008000\">'Loup'</span>: <span style=\"color: #008000\">'Gauche'</span>, <span style=\"color: #008000\">'Mouton'</span>: <span style=\"color: #008000\">'Gauche'</span>, <span style=\"color: #008000\">'Chou'</span>: <span style=\"color: #008000\">'Droite'</span><span style=\"font-weight: bold\">}</span>,\n",
       "        <span style=\"font-weight: bold\">{</span><span style=\"color: #008000\">'Berger'</span>: <span style=\"color: #008000\">'Droite'</span>, <span style=\"color: #008000\">'Loup'</span>: <span style=\"color: #008000\">'Gauche'</span>, <span style=\"color: #008000\">'Mouton'</span>: <span style=\"color: #008000\">'Droite'</span>, <span style=\"color: #008000\">'Chou'</span>: <span style=\"color: #008000\">'Droite'</span><span style=\"font-weight: bold\">}</span>\n",
       "    <span style=\"font-weight: bold\">)</span>,\n",
       "    <span style=\"font-weight: bold\">(</span>\n",
       "        <span style=\"font-weight: bold\">{</span><span style=\"color: #008000\">'Berger'</span>: <span style=\"color: #008000\">'Gauche'</span>, <span style=\"color: #008000\">'Loup'</span>: <span style=\"color: #008000\">'Gauche'</span>, <span style=\"color: #008000\">'Mouton'</span>: <span style=\"color: #008000\">'Gauche'</span>, <span style=\"color: #008000\">'Chou'</span>: <span style=\"color: #008000\">'Droite'</span><span style=\"font-weight: bold\">}</span>,\n",
       "        <span style=\"font-weight: bold\">{</span><span style=\"color: #008000\">'Berger'</span>: <span style=\"color: #008000\">'Droite'</span>, <span style=\"color: #008000\">'Loup'</span>: <span style=\"color: #008000\">'Droite'</span>, <span style=\"color: #008000\">'Mouton'</span>: <span style=\"color: #008000\">'Gauche'</span>, <span style=\"color: #008000\">'Chou'</span>: <span style=\"color: #008000\">'Droite'</span><span style=\"font-weight: bold\">}</span>\n",
       "    <span style=\"font-weight: bold\">)</span>,\n",
       "    <span style=\"font-weight: bold\">(</span>\n",
       "        <span style=\"font-weight: bold\">{</span><span style=\"color: #008000\">'Berger'</span>: <span style=\"color: #008000\">'Gauche'</span>, <span style=\"color: #008000\">'Loup'</span>: <span style=\"color: #008000\">'Gauche'</span>, <span style=\"color: #008000\">'Mouton'</span>: <span style=\"color: #008000\">'Droite'</span>, <span style=\"color: #008000\">'Chou'</span>: <span style=\"color: #008000\">'Gauche'</span><span style=\"font-weight: bold\">}</span>,\n",
       "        <span style=\"font-weight: bold\">{</span><span style=\"color: #008000\">'Berger'</span>: <span style=\"color: #008000\">'Droite'</span>, <span style=\"color: #008000\">'Loup'</span>: <span style=\"color: #008000\">'Gauche'</span>, <span style=\"color: #008000\">'Mouton'</span>: <span style=\"color: #008000\">'Droite'</span>, <span style=\"color: #008000\">'Chou'</span>: <span style=\"color: #008000\">'Gauche'</span><span style=\"font-weight: bold\">}</span>\n",
       "    <span style=\"font-weight: bold\">)</span>,\n",
       "    <span style=\"font-weight: bold\">(</span>\n",
       "        <span style=\"font-weight: bold\">{</span><span style=\"color: #008000\">'Berger'</span>: <span style=\"color: #008000\">'Gauche'</span>, <span style=\"color: #008000\">'Loup'</span>: <span style=\"color: #008000\">'Gauche'</span>, <span style=\"color: #008000\">'Mouton'</span>: <span style=\"color: #008000\">'Droite'</span>, <span style=\"color: #008000\">'Chou'</span>: <span style=\"color: #008000\">'Gauche'</span><span style=\"font-weight: bold\">}</span>,\n",
       "        <span style=\"font-weight: bold\">{</span><span style=\"color: #008000\">'Berger'</span>: <span style=\"color: #008000\">'Droite'</span>, <span style=\"color: #008000\">'Loup'</span>: <span style=\"color: #008000\">'Gauche'</span>, <span style=\"color: #008000\">'Mouton'</span>: <span style=\"color: #008000\">'Droite'</span>, <span style=\"color: #008000\">'Chou'</span>: <span style=\"color: #008000\">'Droite'</span><span style=\"font-weight: bold\">}</span>\n",
       "    <span style=\"font-weight: bold\">)</span>,\n",
       "    <span style=\"font-weight: bold\">(</span>\n",
       "        <span style=\"font-weight: bold\">{</span><span style=\"color: #008000\">'Berger'</span>: <span style=\"color: #008000\">'Gauche'</span>, <span style=\"color: #008000\">'Loup'</span>: <span style=\"color: #008000\">'Gauche'</span>, <span style=\"color: #008000\">'Mouton'</span>: <span style=\"color: #008000\">'Droite'</span>, <span style=\"color: #008000\">'Chou'</span>: <span style=\"color: #008000\">'Gauche'</span><span style=\"font-weight: bold\">}</span>,\n",
       "        <span style=\"font-weight: bold\">{</span><span style=\"color: #008000\">'Berger'</span>: <span style=\"color: #008000\">'Droite'</span>, <span style=\"color: #008000\">'Loup'</span>: <span style=\"color: #008000\">'Droite'</span>, <span style=\"color: #008000\">'Mouton'</span>: <span style=\"color: #008000\">'Droite'</span>, <span style=\"color: #008000\">'Chou'</span>: <span style=\"color: #008000\">'Gauche'</span><span style=\"font-weight: bold\">}</span>\n",
       "    <span style=\"font-weight: bold\">)</span>,\n",
       "    <span style=\"font-weight: bold\">(</span>\n",
       "        <span style=\"font-weight: bold\">{</span><span style=\"color: #008000\">'Berger'</span>: <span style=\"color: #008000\">'Gauche'</span>, <span style=\"color: #008000\">'Loup'</span>: <span style=\"color: #008000\">'Droite'</span>, <span style=\"color: #008000\">'Mouton'</span>: <span style=\"color: #008000\">'Gauche'</span>, <span style=\"color: #008000\">'Chou'</span>: <span style=\"color: #008000\">'Gauche'</span><span style=\"font-weight: bold\">}</span>,\n",
       "        <span style=\"font-weight: bold\">{</span><span style=\"color: #008000\">'Berger'</span>: <span style=\"color: #008000\">'Droite'</span>, <span style=\"color: #008000\">'Loup'</span>: <span style=\"color: #008000\">'Droite'</span>, <span style=\"color: #008000\">'Mouton'</span>: <span style=\"color: #008000\">'Gauche'</span>, <span style=\"color: #008000\">'Chou'</span>: <span style=\"color: #008000\">'Droite'</span><span style=\"font-weight: bold\">}</span>\n",
       "    <span style=\"font-weight: bold\">)</span>,\n",
       "    <span style=\"font-weight: bold\">(</span>\n",
       "        <span style=\"font-weight: bold\">{</span><span style=\"color: #008000\">'Berger'</span>: <span style=\"color: #008000\">'Gauche'</span>, <span style=\"color: #008000\">'Loup'</span>: <span style=\"color: #008000\">'Droite'</span>, <span style=\"color: #008000\">'Mouton'</span>: <span style=\"color: #008000\">'Gauche'</span>, <span style=\"color: #008000\">'Chou'</span>: <span style=\"color: #008000\">'Gauche'</span><span style=\"font-weight: bold\">}</span>,\n",
       "        <span style=\"font-weight: bold\">{</span><span style=\"color: #008000\">'Berger'</span>: <span style=\"color: #008000\">'Droite'</span>, <span style=\"color: #008000\">'Loup'</span>: <span style=\"color: #008000\">'Droite'</span>, <span style=\"color: #008000\">'Mouton'</span>: <span style=\"color: #008000\">'Droite'</span>, <span style=\"color: #008000\">'Chou'</span>: <span style=\"color: #008000\">'Gauche'</span><span style=\"font-weight: bold\">}</span>\n",
       "    <span style=\"font-weight: bold\">)</span>,\n",
       "    <span style=\"font-weight: bold\">(</span>\n",
       "        <span style=\"font-weight: bold\">{</span><span style=\"color: #008000\">'Berger'</span>: <span style=\"color: #008000\">'Gauche'</span>, <span style=\"color: #008000\">'Loup'</span>: <span style=\"color: #008000\">'Droite'</span>, <span style=\"color: #008000\">'Mouton'</span>: <span style=\"color: #008000\">'Gauche'</span>, <span style=\"color: #008000\">'Chou'</span>: <span style=\"color: #008000\">'Droite'</span><span style=\"font-weight: bold\">}</span>,\n",
       "        <span style=\"font-weight: bold\">{</span><span style=\"color: #008000\">'Berger'</span>: <span style=\"color: #008000\">'Droite'</span>, <span style=\"color: #008000\">'Loup'</span>: <span style=\"color: #008000\">'Droite'</span>, <span style=\"color: #008000\">'Mouton'</span>: <span style=\"color: #008000\">'Gauche'</span>, <span style=\"color: #008000\">'Chou'</span>: <span style=\"color: #008000\">'Droite'</span><span style=\"font-weight: bold\">}</span>\n",
       "    <span style=\"font-weight: bold\">)</span>,\n",
       "    <span style=\"font-weight: bold\">(</span>\n",
       "        <span style=\"font-weight: bold\">{</span><span style=\"color: #008000\">'Berger'</span>: <span style=\"color: #008000\">'Gauche'</span>, <span style=\"color: #008000\">'Loup'</span>: <span style=\"color: #008000\">'Droite'</span>, <span style=\"color: #008000\">'Mouton'</span>: <span style=\"color: #008000\">'Gauche'</span>, <span style=\"color: #008000\">'Chou'</span>: <span style=\"color: #008000\">'Droite'</span><span style=\"font-weight: bold\">}</span>,\n",
       "        <span style=\"font-weight: bold\">{</span><span style=\"color: #008000\">'Berger'</span>: <span style=\"color: #008000\">'Droite'</span>, <span style=\"color: #008000\">'Loup'</span>: <span style=\"color: #008000\">'Droite'</span>, <span style=\"color: #008000\">'Mouton'</span>: <span style=\"color: #008000\">'Droite'</span>, <span style=\"color: #008000\">'Chou'</span>: <span style=\"color: #008000\">'Droite'</span><span style=\"font-weight: bold\">}</span>\n",
       "    <span style=\"font-weight: bold\">)</span>,\n",
       "    <span style=\"font-weight: bold\">(</span>\n",
       "        <span style=\"font-weight: bold\">{</span><span style=\"color: #008000\">'Berger'</span>: <span style=\"color: #008000\">'Droite'</span>, <span style=\"color: #008000\">'Loup'</span>: <span style=\"color: #008000\">'Gauche'</span>, <span style=\"color: #008000\">'Mouton'</span>: <span style=\"color: #008000\">'Droite'</span>, <span style=\"color: #008000\">'Chou'</span>: <span style=\"color: #008000\">'Gauche'</span><span style=\"font-weight: bold\">}</span>,\n",
       "        <span style=\"font-weight: bold\">{</span><span style=\"color: #008000\">'Berger'</span>: <span style=\"color: #008000\">'Gauche'</span>, <span style=\"color: #008000\">'Loup'</span>: <span style=\"color: #008000\">'Gauche'</span>, <span style=\"color: #008000\">'Mouton'</span>: <span style=\"color: #008000\">'Gauche'</span>, <span style=\"color: #008000\">'Chou'</span>: <span style=\"color: #008000\">'Gauche'</span><span style=\"font-weight: bold\">}</span>\n",
       "    <span style=\"font-weight: bold\">)</span>,\n",
       "    <span style=\"font-weight: bold\">(</span>\n",
       "        <span style=\"font-weight: bold\">{</span><span style=\"color: #008000\">'Berger'</span>: <span style=\"color: #008000\">'Droite'</span>, <span style=\"color: #008000\">'Loup'</span>: <span style=\"color: #008000\">'Gauche'</span>, <span style=\"color: #008000\">'Mouton'</span>: <span style=\"color: #008000\">'Droite'</span>, <span style=\"color: #008000\">'Chou'</span>: <span style=\"color: #008000\">'Gauche'</span><span style=\"font-weight: bold\">}</span>,\n",
       "        <span style=\"font-weight: bold\">{</span><span style=\"color: #008000\">'Berger'</span>: <span style=\"color: #008000\">'Gauche'</span>, <span style=\"color: #008000\">'Loup'</span>: <span style=\"color: #008000\">'Gauche'</span>, <span style=\"color: #008000\">'Mouton'</span>: <span style=\"color: #008000\">'Droite'</span>, <span style=\"color: #008000\">'Chou'</span>: <span style=\"color: #008000\">'Gauche'</span><span style=\"font-weight: bold\">}</span>\n",
       "    <span style=\"font-weight: bold\">)</span>,\n",
       "    <span style=\"font-weight: bold\">(</span>\n",
       "        <span style=\"font-weight: bold\">{</span><span style=\"color: #008000\">'Berger'</span>: <span style=\"color: #008000\">'Droite'</span>, <span style=\"color: #008000\">'Loup'</span>: <span style=\"color: #008000\">'Gauche'</span>, <span style=\"color: #008000\">'Mouton'</span>: <span style=\"color: #008000\">'Droite'</span>, <span style=\"color: #008000\">'Chou'</span>: <span style=\"color: #008000\">'Droite'</span><span style=\"font-weight: bold\">}</span>,\n",
       "        <span style=\"font-weight: bold\">{</span><span style=\"color: #008000\">'Berger'</span>: <span style=\"color: #008000\">'Gauche'</span>, <span style=\"color: #008000\">'Loup'</span>: <span style=\"color: #008000\">'Gauche'</span>, <span style=\"color: #008000\">'Mouton'</span>: <span style=\"color: #008000\">'Gauche'</span>, <span style=\"color: #008000\">'Chou'</span>: <span style=\"color: #008000\">'Droite'</span><span style=\"font-weight: bold\">}</span>\n",
       "    <span style=\"font-weight: bold\">)</span>,\n",
       "    <span style=\"font-weight: bold\">(</span>\n",
       "        <span style=\"font-weight: bold\">{</span><span style=\"color: #008000\">'Berger'</span>: <span style=\"color: #008000\">'Droite'</span>, <span style=\"color: #008000\">'Loup'</span>: <span style=\"color: #008000\">'Gauche'</span>, <span style=\"color: #008000\">'Mouton'</span>: <span style=\"color: #008000\">'Droite'</span>, <span style=\"color: #008000\">'Chou'</span>: <span style=\"color: #008000\">'Droite'</span><span style=\"font-weight: bold\">}</span>,\n",
       "        <span style=\"font-weight: bold\">{</span><span style=\"color: #008000\">'Berger'</span>: <span style=\"color: #008000\">'Gauche'</span>, <span style=\"color: #008000\">'Loup'</span>: <span style=\"color: #008000\">'Gauche'</span>, <span style=\"color: #008000\">'Mouton'</span>: <span style=\"color: #008000\">'Droite'</span>, <span style=\"color: #008000\">'Chou'</span>: <span style=\"color: #008000\">'Gauche'</span><span style=\"font-weight: bold\">}</span>\n",
       "    <span style=\"font-weight: bold\">)</span>,\n",
       "    <span style=\"font-weight: bold\">(</span>\n",
       "        <span style=\"font-weight: bold\">{</span><span style=\"color: #008000\">'Berger'</span>: <span style=\"color: #008000\">'Droite'</span>, <span style=\"color: #008000\">'Loup'</span>: <span style=\"color: #008000\">'Droite'</span>, <span style=\"color: #008000\">'Mouton'</span>: <span style=\"color: #008000\">'Gauche'</span>, <span style=\"color: #008000\">'Chou'</span>: <span style=\"color: #008000\">'Droite'</span><span style=\"font-weight: bold\">}</span>,\n",
       "        <span style=\"font-weight: bold\">{</span><span style=\"color: #008000\">'Berger'</span>: <span style=\"color: #008000\">'Gauche'</span>, <span style=\"color: #008000\">'Loup'</span>: <span style=\"color: #008000\">'Gauche'</span>, <span style=\"color: #008000\">'Mouton'</span>: <span style=\"color: #008000\">'Gauche'</span>, <span style=\"color: #008000\">'Chou'</span>: <span style=\"color: #008000\">'Droite'</span><span style=\"font-weight: bold\">}</span>\n",
       "    <span style=\"font-weight: bold\">)</span>,\n",
       "    <span style=\"font-weight: bold\">(</span>\n",
       "        <span style=\"font-weight: bold\">{</span><span style=\"color: #008000\">'Berger'</span>: <span style=\"color: #008000\">'Droite'</span>, <span style=\"color: #008000\">'Loup'</span>: <span style=\"color: #008000\">'Droite'</span>, <span style=\"color: #008000\">'Mouton'</span>: <span style=\"color: #008000\">'Gauche'</span>, <span style=\"color: #008000\">'Chou'</span>: <span style=\"color: #008000\">'Droite'</span><span style=\"font-weight: bold\">}</span>,\n",
       "        <span style=\"font-weight: bold\">{</span><span style=\"color: #008000\">'Berger'</span>: <span style=\"color: #008000\">'Gauche'</span>, <span style=\"color: #008000\">'Loup'</span>: <span style=\"color: #008000\">'Droite'</span>, <span style=\"color: #008000\">'Mouton'</span>: <span style=\"color: #008000\">'Gauche'</span>, <span style=\"color: #008000\">'Chou'</span>: <span style=\"color: #008000\">'Gauche'</span><span style=\"font-weight: bold\">}</span>\n",
       "    <span style=\"font-weight: bold\">)</span>,\n",
       "    <span style=\"font-weight: bold\">(</span>\n",
       "        <span style=\"font-weight: bold\">{</span><span style=\"color: #008000\">'Berger'</span>: <span style=\"color: #008000\">'Droite'</span>, <span style=\"color: #008000\">'Loup'</span>: <span style=\"color: #008000\">'Droite'</span>, <span style=\"color: #008000\">'Mouton'</span>: <span style=\"color: #008000\">'Gauche'</span>, <span style=\"color: #008000\">'Chou'</span>: <span style=\"color: #008000\">'Droite'</span><span style=\"font-weight: bold\">}</span>,\n",
       "        <span style=\"font-weight: bold\">{</span><span style=\"color: #008000\">'Berger'</span>: <span style=\"color: #008000\">'Gauche'</span>, <span style=\"color: #008000\">'Loup'</span>: <span style=\"color: #008000\">'Droite'</span>, <span style=\"color: #008000\">'Mouton'</span>: <span style=\"color: #008000\">'Gauche'</span>, <span style=\"color: #008000\">'Chou'</span>: <span style=\"color: #008000\">'Droite'</span><span style=\"font-weight: bold\">}</span>\n",
       "    <span style=\"font-weight: bold\">)</span>,\n",
       "    <span style=\"font-weight: bold\">(</span>\n",
       "        <span style=\"font-weight: bold\">{</span><span style=\"color: #008000\">'Berger'</span>: <span style=\"color: #008000\">'Droite'</span>, <span style=\"color: #008000\">'Loup'</span>: <span style=\"color: #008000\">'Droite'</span>, <span style=\"color: #008000\">'Mouton'</span>: <span style=\"color: #008000\">'Droite'</span>, <span style=\"color: #008000\">'Chou'</span>: <span style=\"color: #008000\">'Gauche'</span><span style=\"font-weight: bold\">}</span>,\n",
       "        <span style=\"font-weight: bold\">{</span><span style=\"color: #008000\">'Berger'</span>: <span style=\"color: #008000\">'Gauche'</span>, <span style=\"color: #008000\">'Loup'</span>: <span style=\"color: #008000\">'Gauche'</span>, <span style=\"color: #008000\">'Mouton'</span>: <span style=\"color: #008000\">'Droite'</span>, <span style=\"color: #008000\">'Chou'</span>: <span style=\"color: #008000\">'Gauche'</span><span style=\"font-weight: bold\">}</span>\n",
       "    <span style=\"font-weight: bold\">)</span>,\n",
       "    <span style=\"font-weight: bold\">(</span>\n",
       "        <span style=\"font-weight: bold\">{</span><span style=\"color: #008000\">'Berger'</span>: <span style=\"color: #008000\">'Droite'</span>, <span style=\"color: #008000\">'Loup'</span>: <span style=\"color: #008000\">'Droite'</span>, <span style=\"color: #008000\">'Mouton'</span>: <span style=\"color: #008000\">'Droite'</span>, <span style=\"color: #008000\">'Chou'</span>: <span style=\"color: #008000\">'Gauche'</span><span style=\"font-weight: bold\">}</span>,\n",
       "        <span style=\"font-weight: bold\">{</span><span style=\"color: #008000\">'Berger'</span>: <span style=\"color: #008000\">'Gauche'</span>, <span style=\"color: #008000\">'Loup'</span>: <span style=\"color: #008000\">'Droite'</span>, <span style=\"color: #008000\">'Mouton'</span>: <span style=\"color: #008000\">'Gauche'</span>, <span style=\"color: #008000\">'Chou'</span>: <span style=\"color: #008000\">'Gauche'</span><span style=\"font-weight: bold\">}</span>\n",
       "    <span style=\"font-weight: bold\">)</span>,\n",
       "    <span style=\"font-weight: bold\">(</span>\n",
       "        <span style=\"font-weight: bold\">{</span><span style=\"color: #008000\">'Berger'</span>: <span style=\"color: #008000\">'Droite'</span>, <span style=\"color: #008000\">'Loup'</span>: <span style=\"color: #008000\">'Droite'</span>, <span style=\"color: #008000\">'Mouton'</span>: <span style=\"color: #008000\">'Droite'</span>, <span style=\"color: #008000\">'Chou'</span>: <span style=\"color: #008000\">'Droite'</span><span style=\"font-weight: bold\">}</span>,\n",
       "        <span style=\"font-weight: bold\">{</span><span style=\"color: #008000\">'Berger'</span>: <span style=\"color: #008000\">'Gauche'</span>, <span style=\"color: #008000\">'Loup'</span>: <span style=\"color: #008000\">'Droite'</span>, <span style=\"color: #008000\">'Mouton'</span>: <span style=\"color: #008000\">'Gauche'</span>, <span style=\"color: #008000\">'Chou'</span>: <span style=\"color: #008000\">'Droite'</span><span style=\"font-weight: bold\">}</span>\n",
       "    <span style=\"font-weight: bold\">)</span>\n",
       "<span style=\"font-weight: bold\">]</span>\n",
       "</pre>\n"
      ],
      "text/plain": [
       "<rich.jupyter.JupyterRenderable at 0x7f73cf2215b0>"
      ]
     },
     "metadata": {},
     "output_type": "display_data"
    }
   ],
   "source": [
    "print(fleches)"
   ]
  },
  {
   "cell_type": "markdown",
   "metadata": {},
   "source": [
    "## Bilan\n",
    "\n",
    "On a fait:\n",
    "- A ce stade on a \"visuellement\" confirmé que les fonctions étaient corrects.\n",
    "- On a les sommets, les fleches, l'état de départ et l'état d'arrivée.\n",
    "\n",
    "Reste à faire:\n",
    "- Coder une fonction déterminant un chemin parmi les sommets en empruntant les flèches allant du départ à l'arrivée.\n",
    "- On veut garantir automatiquement que les fonctions sont corrects.\n",
    "- On veut nettoyer le code pour présenter proprement la solution du problème.\n"
   ]
  },
  {
   "cell_type": "code",
   "execution_count": 16,
   "metadata": {},
   "outputs": [],
   "source": [
    "def genere_graphe():\n",
    "    sommets = [etat for etat in genere_etats() if not est_interdit(etat)]\n",
    "    fleches = [\n",
    "        (etat1, etat2) \n",
    "        for etat1 in sommets \n",
    "        for etat2 in sommets \n",
    "        if sont_connectes(etat1, etat2)\n",
    "    ]\n",
    "    return sommets, fleches"
   ]
  },
  {
   "cell_type": "code",
   "execution_count": 17,
   "metadata": {},
   "outputs": [
    {
     "data": {
      "text/html": [
       "<pre style=\"white-space:pre;overflow-x:auto;line-height:normal;font-family:Menlo,'DejaVu Sans Mono',consolas,'Courier New',monospace\"><span style=\"font-weight: bold\">(</span>\n",
       "    <span style=\"font-weight: bold\">[</span>\n",
       "        <span style=\"font-weight: bold\">{</span><span style=\"color: #008000\">'Berger'</span>: <span style=\"color: #008000\">'Gauche'</span>, <span style=\"color: #008000\">'Loup'</span>: <span style=\"color: #008000\">'Gauche'</span>, <span style=\"color: #008000\">'Mouton'</span>: <span style=\"color: #008000\">'Gauche'</span>, <span style=\"color: #008000\">'Chou'</span>: <span style=\"color: #008000\">'Gauche'</span><span style=\"font-weight: bold\">}</span>,\n",
       "        <span style=\"font-weight: bold\">{</span><span style=\"color: #008000\">'Berger'</span>: <span style=\"color: #008000\">'Gauche'</span>, <span style=\"color: #008000\">'Loup'</span>: <span style=\"color: #008000\">'Gauche'</span>, <span style=\"color: #008000\">'Mouton'</span>: <span style=\"color: #008000\">'Gauche'</span>, <span style=\"color: #008000\">'Chou'</span>: <span style=\"color: #008000\">'Droite'</span><span style=\"font-weight: bold\">}</span>,\n",
       "        <span style=\"font-weight: bold\">{</span><span style=\"color: #008000\">'Berger'</span>: <span style=\"color: #008000\">'Gauche'</span>, <span style=\"color: #008000\">'Loup'</span>: <span style=\"color: #008000\">'Gauche'</span>, <span style=\"color: #008000\">'Mouton'</span>: <span style=\"color: #008000\">'Droite'</span>, <span style=\"color: #008000\">'Chou'</span>: <span style=\"color: #008000\">'Gauche'</span><span style=\"font-weight: bold\">}</span>,\n",
       "        <span style=\"font-weight: bold\">{</span><span style=\"color: #008000\">'Berger'</span>: <span style=\"color: #008000\">'Gauche'</span>, <span style=\"color: #008000\">'Loup'</span>: <span style=\"color: #008000\">'Droite'</span>, <span style=\"color: #008000\">'Mouton'</span>: <span style=\"color: #008000\">'Gauche'</span>, <span style=\"color: #008000\">'Chou'</span>: <span style=\"color: #008000\">'Gauche'</span><span style=\"font-weight: bold\">}</span>,\n",
       "        <span style=\"font-weight: bold\">{</span><span style=\"color: #008000\">'Berger'</span>: <span style=\"color: #008000\">'Gauche'</span>, <span style=\"color: #008000\">'Loup'</span>: <span style=\"color: #008000\">'Droite'</span>, <span style=\"color: #008000\">'Mouton'</span>: <span style=\"color: #008000\">'Gauche'</span>, <span style=\"color: #008000\">'Chou'</span>: <span style=\"color: #008000\">'Droite'</span><span style=\"font-weight: bold\">}</span>,\n",
       "        <span style=\"font-weight: bold\">{</span><span style=\"color: #008000\">'Berger'</span>: <span style=\"color: #008000\">'Droite'</span>, <span style=\"color: #008000\">'Loup'</span>: <span style=\"color: #008000\">'Gauche'</span>, <span style=\"color: #008000\">'Mouton'</span>: <span style=\"color: #008000\">'Droite'</span>, <span style=\"color: #008000\">'Chou'</span>: <span style=\"color: #008000\">'Gauche'</span><span style=\"font-weight: bold\">}</span>,\n",
       "        <span style=\"font-weight: bold\">{</span><span style=\"color: #008000\">'Berger'</span>: <span style=\"color: #008000\">'Droite'</span>, <span style=\"color: #008000\">'Loup'</span>: <span style=\"color: #008000\">'Gauche'</span>, <span style=\"color: #008000\">'Mouton'</span>: <span style=\"color: #008000\">'Droite'</span>, <span style=\"color: #008000\">'Chou'</span>: <span style=\"color: #008000\">'Droite'</span><span style=\"font-weight: bold\">}</span>,\n",
       "        <span style=\"font-weight: bold\">{</span><span style=\"color: #008000\">'Berger'</span>: <span style=\"color: #008000\">'Droite'</span>, <span style=\"color: #008000\">'Loup'</span>: <span style=\"color: #008000\">'Droite'</span>, <span style=\"color: #008000\">'Mouton'</span>: <span style=\"color: #008000\">'Gauche'</span>, <span style=\"color: #008000\">'Chou'</span>: <span style=\"color: #008000\">'Droite'</span><span style=\"font-weight: bold\">}</span>,\n",
       "        <span style=\"font-weight: bold\">{</span><span style=\"color: #008000\">'Berger'</span>: <span style=\"color: #008000\">'Droite'</span>, <span style=\"color: #008000\">'Loup'</span>: <span style=\"color: #008000\">'Droite'</span>, <span style=\"color: #008000\">'Mouton'</span>: <span style=\"color: #008000\">'Droite'</span>, <span style=\"color: #008000\">'Chou'</span>: <span style=\"color: #008000\">'Gauche'</span><span style=\"font-weight: bold\">}</span>,\n",
       "        <span style=\"font-weight: bold\">{</span><span style=\"color: #008000\">'Berger'</span>: <span style=\"color: #008000\">'Droite'</span>, <span style=\"color: #008000\">'Loup'</span>: <span style=\"color: #008000\">'Droite'</span>, <span style=\"color: #008000\">'Mouton'</span>: <span style=\"color: #008000\">'Droite'</span>, <span style=\"color: #008000\">'Chou'</span>: <span style=\"color: #008000\">'Droite'</span><span style=\"font-weight: bold\">}</span>\n",
       "    <span style=\"font-weight: bold\">]</span>,\n",
       "    <span style=\"font-weight: bold\">[</span>\n",
       "        <span style=\"font-weight: bold\">(</span>\n",
       "            <span style=\"font-weight: bold\">{</span><span style=\"color: #008000\">'Berger'</span>: <span style=\"color: #008000\">'Gauche'</span>, <span style=\"color: #008000\">'Loup'</span>: <span style=\"color: #008000\">'Gauche'</span>, <span style=\"color: #008000\">'Mouton'</span>: <span style=\"color: #008000\">'Gauche'</span>, <span style=\"color: #008000\">'Chou'</span>: <span style=\"color: #008000\">'Gauche'</span><span style=\"font-weight: bold\">}</span>,\n",
       "            <span style=\"font-weight: bold\">{</span><span style=\"color: #008000\">'Berger'</span>: <span style=\"color: #008000\">'Droite'</span>, <span style=\"color: #008000\">'Loup'</span>: <span style=\"color: #008000\">'Gauche'</span>, <span style=\"color: #008000\">'Mouton'</span>: <span style=\"color: #008000\">'Droite'</span>, <span style=\"color: #008000\">'Chou'</span>: <span style=\"color: #008000\">'Gauche'</span><span style=\"font-weight: bold\">}</span>\n",
       "        <span style=\"font-weight: bold\">)</span>,\n",
       "        <span style=\"font-weight: bold\">(</span>\n",
       "            <span style=\"font-weight: bold\">{</span><span style=\"color: #008000\">'Berger'</span>: <span style=\"color: #008000\">'Gauche'</span>, <span style=\"color: #008000\">'Loup'</span>: <span style=\"color: #008000\">'Gauche'</span>, <span style=\"color: #008000\">'Mouton'</span>: <span style=\"color: #008000\">'Gauche'</span>, <span style=\"color: #008000\">'Chou'</span>: <span style=\"color: #008000\">'Droite'</span><span style=\"font-weight: bold\">}</span>,\n",
       "            <span style=\"font-weight: bold\">{</span><span style=\"color: #008000\">'Berger'</span>: <span style=\"color: #008000\">'Droite'</span>, <span style=\"color: #008000\">'Loup'</span>: <span style=\"color: #008000\">'Gauche'</span>, <span style=\"color: #008000\">'Mouton'</span>: <span style=\"color: #008000\">'Droite'</span>, <span style=\"color: #008000\">'Chou'</span>: <span style=\"color: #008000\">'Droite'</span><span style=\"font-weight: bold\">}</span>\n",
       "        <span style=\"font-weight: bold\">)</span>,\n",
       "        <span style=\"font-weight: bold\">(</span>\n",
       "            <span style=\"font-weight: bold\">{</span><span style=\"color: #008000\">'Berger'</span>: <span style=\"color: #008000\">'Gauche'</span>, <span style=\"color: #008000\">'Loup'</span>: <span style=\"color: #008000\">'Gauche'</span>, <span style=\"color: #008000\">'Mouton'</span>: <span style=\"color: #008000\">'Gauche'</span>, <span style=\"color: #008000\">'Chou'</span>: <span style=\"color: #008000\">'Droite'</span><span style=\"font-weight: bold\">}</span>,\n",
       "            <span style=\"font-weight: bold\">{</span><span style=\"color: #008000\">'Berger'</span>: <span style=\"color: #008000\">'Droite'</span>, <span style=\"color: #008000\">'Loup'</span>: <span style=\"color: #008000\">'Droite'</span>, <span style=\"color: #008000\">'Mouton'</span>: <span style=\"color: #008000\">'Gauche'</span>, <span style=\"color: #008000\">'Chou'</span>: <span style=\"color: #008000\">'Droite'</span><span style=\"font-weight: bold\">}</span>\n",
       "        <span style=\"font-weight: bold\">)</span>,\n",
       "        <span style=\"font-weight: bold\">(</span>\n",
       "            <span style=\"font-weight: bold\">{</span><span style=\"color: #008000\">'Berger'</span>: <span style=\"color: #008000\">'Gauche'</span>, <span style=\"color: #008000\">'Loup'</span>: <span style=\"color: #008000\">'Gauche'</span>, <span style=\"color: #008000\">'Mouton'</span>: <span style=\"color: #008000\">'Droite'</span>, <span style=\"color: #008000\">'Chou'</span>: <span style=\"color: #008000\">'Gauche'</span><span style=\"font-weight: bold\">}</span>,\n",
       "            <span style=\"font-weight: bold\">{</span><span style=\"color: #008000\">'Berger'</span>: <span style=\"color: #008000\">'Droite'</span>, <span style=\"color: #008000\">'Loup'</span>: <span style=\"color: #008000\">'Gauche'</span>, <span style=\"color: #008000\">'Mouton'</span>: <span style=\"color: #008000\">'Droite'</span>, <span style=\"color: #008000\">'Chou'</span>: <span style=\"color: #008000\">'Gauche'</span><span style=\"font-weight: bold\">}</span>\n",
       "        <span style=\"font-weight: bold\">)</span>,\n",
       "        <span style=\"font-weight: bold\">(</span>\n",
       "            <span style=\"font-weight: bold\">{</span><span style=\"color: #008000\">'Berger'</span>: <span style=\"color: #008000\">'Gauche'</span>, <span style=\"color: #008000\">'Loup'</span>: <span style=\"color: #008000\">'Gauche'</span>, <span style=\"color: #008000\">'Mouton'</span>: <span style=\"color: #008000\">'Droite'</span>, <span style=\"color: #008000\">'Chou'</span>: <span style=\"color: #008000\">'Gauche'</span><span style=\"font-weight: bold\">}</span>,\n",
       "            <span style=\"font-weight: bold\">{</span><span style=\"color: #008000\">'Berger'</span>: <span style=\"color: #008000\">'Droite'</span>, <span style=\"color: #008000\">'Loup'</span>: <span style=\"color: #008000\">'Gauche'</span>, <span style=\"color: #008000\">'Mouton'</span>: <span style=\"color: #008000\">'Droite'</span>, <span style=\"color: #008000\">'Chou'</span>: <span style=\"color: #008000\">'Droite'</span><span style=\"font-weight: bold\">}</span>\n",
       "        <span style=\"font-weight: bold\">)</span>,\n",
       "        <span style=\"font-weight: bold\">(</span>\n",
       "            <span style=\"font-weight: bold\">{</span><span style=\"color: #008000\">'Berger'</span>: <span style=\"color: #008000\">'Gauche'</span>, <span style=\"color: #008000\">'Loup'</span>: <span style=\"color: #008000\">'Gauche'</span>, <span style=\"color: #008000\">'Mouton'</span>: <span style=\"color: #008000\">'Droite'</span>, <span style=\"color: #008000\">'Chou'</span>: <span style=\"color: #008000\">'Gauche'</span><span style=\"font-weight: bold\">}</span>,\n",
       "            <span style=\"font-weight: bold\">{</span><span style=\"color: #008000\">'Berger'</span>: <span style=\"color: #008000\">'Droite'</span>, <span style=\"color: #008000\">'Loup'</span>: <span style=\"color: #008000\">'Droite'</span>, <span style=\"color: #008000\">'Mouton'</span>: <span style=\"color: #008000\">'Droite'</span>, <span style=\"color: #008000\">'Chou'</span>: <span style=\"color: #008000\">'Gauche'</span><span style=\"font-weight: bold\">}</span>\n",
       "        <span style=\"font-weight: bold\">)</span>,\n",
       "        <span style=\"font-weight: bold\">(</span>\n",
       "            <span style=\"font-weight: bold\">{</span><span style=\"color: #008000\">'Berger'</span>: <span style=\"color: #008000\">'Gauche'</span>, <span style=\"color: #008000\">'Loup'</span>: <span style=\"color: #008000\">'Droite'</span>, <span style=\"color: #008000\">'Mouton'</span>: <span style=\"color: #008000\">'Gauche'</span>, <span style=\"color: #008000\">'Chou'</span>: <span style=\"color: #008000\">'Gauche'</span><span style=\"font-weight: bold\">}</span>,\n",
       "            <span style=\"font-weight: bold\">{</span><span style=\"color: #008000\">'Berger'</span>: <span style=\"color: #008000\">'Droite'</span>, <span style=\"color: #008000\">'Loup'</span>: <span style=\"color: #008000\">'Droite'</span>, <span style=\"color: #008000\">'Mouton'</span>: <span style=\"color: #008000\">'Gauche'</span>, <span style=\"color: #008000\">'Chou'</span>: <span style=\"color: #008000\">'Droite'</span><span style=\"font-weight: bold\">}</span>\n",
       "        <span style=\"font-weight: bold\">)</span>,\n",
       "        <span style=\"font-weight: bold\">(</span>\n",
       "            <span style=\"font-weight: bold\">{</span><span style=\"color: #008000\">'Berger'</span>: <span style=\"color: #008000\">'Gauche'</span>, <span style=\"color: #008000\">'Loup'</span>: <span style=\"color: #008000\">'Droite'</span>, <span style=\"color: #008000\">'Mouton'</span>: <span style=\"color: #008000\">'Gauche'</span>, <span style=\"color: #008000\">'Chou'</span>: <span style=\"color: #008000\">'Gauche'</span><span style=\"font-weight: bold\">}</span>,\n",
       "            <span style=\"font-weight: bold\">{</span><span style=\"color: #008000\">'Berger'</span>: <span style=\"color: #008000\">'Droite'</span>, <span style=\"color: #008000\">'Loup'</span>: <span style=\"color: #008000\">'Droite'</span>, <span style=\"color: #008000\">'Mouton'</span>: <span style=\"color: #008000\">'Droite'</span>, <span style=\"color: #008000\">'Chou'</span>: <span style=\"color: #008000\">'Gauche'</span><span style=\"font-weight: bold\">}</span>\n",
       "        <span style=\"font-weight: bold\">)</span>,\n",
       "        <span style=\"font-weight: bold\">(</span>\n",
       "            <span style=\"font-weight: bold\">{</span><span style=\"color: #008000\">'Berger'</span>: <span style=\"color: #008000\">'Gauche'</span>, <span style=\"color: #008000\">'Loup'</span>: <span style=\"color: #008000\">'Droite'</span>, <span style=\"color: #008000\">'Mouton'</span>: <span style=\"color: #008000\">'Gauche'</span>, <span style=\"color: #008000\">'Chou'</span>: <span style=\"color: #008000\">'Droite'</span><span style=\"font-weight: bold\">}</span>,\n",
       "            <span style=\"font-weight: bold\">{</span><span style=\"color: #008000\">'Berger'</span>: <span style=\"color: #008000\">'Droite'</span>, <span style=\"color: #008000\">'Loup'</span>: <span style=\"color: #008000\">'Droite'</span>, <span style=\"color: #008000\">'Mouton'</span>: <span style=\"color: #008000\">'Gauche'</span>, <span style=\"color: #008000\">'Chou'</span>: <span style=\"color: #008000\">'Droite'</span><span style=\"font-weight: bold\">}</span>\n",
       "        <span style=\"font-weight: bold\">)</span>,\n",
       "        <span style=\"font-weight: bold\">(</span>\n",
       "            <span style=\"font-weight: bold\">{</span><span style=\"color: #008000\">'Berger'</span>: <span style=\"color: #008000\">'Gauche'</span>, <span style=\"color: #008000\">'Loup'</span>: <span style=\"color: #008000\">'Droite'</span>, <span style=\"color: #008000\">'Mouton'</span>: <span style=\"color: #008000\">'Gauche'</span>, <span style=\"color: #008000\">'Chou'</span>: <span style=\"color: #008000\">'Droite'</span><span style=\"font-weight: bold\">}</span>,\n",
       "            <span style=\"font-weight: bold\">{</span><span style=\"color: #008000\">'Berger'</span>: <span style=\"color: #008000\">'Droite'</span>, <span style=\"color: #008000\">'Loup'</span>: <span style=\"color: #008000\">'Droite'</span>, <span style=\"color: #008000\">'Mouton'</span>: <span style=\"color: #008000\">'Droite'</span>, <span style=\"color: #008000\">'Chou'</span>: <span style=\"color: #008000\">'Droite'</span><span style=\"font-weight: bold\">}</span>\n",
       "        <span style=\"font-weight: bold\">)</span>,\n",
       "        <span style=\"font-weight: bold\">(</span>\n",
       "            <span style=\"font-weight: bold\">{</span><span style=\"color: #008000\">'Berger'</span>: <span style=\"color: #008000\">'Droite'</span>, <span style=\"color: #008000\">'Loup'</span>: <span style=\"color: #008000\">'Gauche'</span>, <span style=\"color: #008000\">'Mouton'</span>: <span style=\"color: #008000\">'Droite'</span>, <span style=\"color: #008000\">'Chou'</span>: <span style=\"color: #008000\">'Gauche'</span><span style=\"font-weight: bold\">}</span>,\n",
       "            <span style=\"font-weight: bold\">{</span><span style=\"color: #008000\">'Berger'</span>: <span style=\"color: #008000\">'Gauche'</span>, <span style=\"color: #008000\">'Loup'</span>: <span style=\"color: #008000\">'Gauche'</span>, <span style=\"color: #008000\">'Mouton'</span>: <span style=\"color: #008000\">'Gauche'</span>, <span style=\"color: #008000\">'Chou'</span>: <span style=\"color: #008000\">'Gauche'</span><span style=\"font-weight: bold\">}</span>\n",
       "        <span style=\"font-weight: bold\">)</span>,\n",
       "        <span style=\"font-weight: bold\">(</span>\n",
       "            <span style=\"font-weight: bold\">{</span><span style=\"color: #008000\">'Berger'</span>: <span style=\"color: #008000\">'Droite'</span>, <span style=\"color: #008000\">'Loup'</span>: <span style=\"color: #008000\">'Gauche'</span>, <span style=\"color: #008000\">'Mouton'</span>: <span style=\"color: #008000\">'Droite'</span>, <span style=\"color: #008000\">'Chou'</span>: <span style=\"color: #008000\">'Gauche'</span><span style=\"font-weight: bold\">}</span>,\n",
       "            <span style=\"font-weight: bold\">{</span><span style=\"color: #008000\">'Berger'</span>: <span style=\"color: #008000\">'Gauche'</span>, <span style=\"color: #008000\">'Loup'</span>: <span style=\"color: #008000\">'Gauche'</span>, <span style=\"color: #008000\">'Mouton'</span>: <span style=\"color: #008000\">'Droite'</span>, <span style=\"color: #008000\">'Chou'</span>: <span style=\"color: #008000\">'Gauche'</span><span style=\"font-weight: bold\">}</span>\n",
       "        <span style=\"font-weight: bold\">)</span>,\n",
       "        <span style=\"font-weight: bold\">(</span>\n",
       "            <span style=\"font-weight: bold\">{</span><span style=\"color: #008000\">'Berger'</span>: <span style=\"color: #008000\">'Droite'</span>, <span style=\"color: #008000\">'Loup'</span>: <span style=\"color: #008000\">'Gauche'</span>, <span style=\"color: #008000\">'Mouton'</span>: <span style=\"color: #008000\">'Droite'</span>, <span style=\"color: #008000\">'Chou'</span>: <span style=\"color: #008000\">'Droite'</span><span style=\"font-weight: bold\">}</span>,\n",
       "            <span style=\"font-weight: bold\">{</span><span style=\"color: #008000\">'Berger'</span>: <span style=\"color: #008000\">'Gauche'</span>, <span style=\"color: #008000\">'Loup'</span>: <span style=\"color: #008000\">'Gauche'</span>, <span style=\"color: #008000\">'Mouton'</span>: <span style=\"color: #008000\">'Gauche'</span>, <span style=\"color: #008000\">'Chou'</span>: <span style=\"color: #008000\">'Droite'</span><span style=\"font-weight: bold\">}</span>\n",
       "        <span style=\"font-weight: bold\">)</span>,\n",
       "        <span style=\"font-weight: bold\">(</span>\n",
       "            <span style=\"font-weight: bold\">{</span><span style=\"color: #008000\">'Berger'</span>: <span style=\"color: #008000\">'Droite'</span>, <span style=\"color: #008000\">'Loup'</span>: <span style=\"color: #008000\">'Gauche'</span>, <span style=\"color: #008000\">'Mouton'</span>: <span style=\"color: #008000\">'Droite'</span>, <span style=\"color: #008000\">'Chou'</span>: <span style=\"color: #008000\">'Droite'</span><span style=\"font-weight: bold\">}</span>,\n",
       "            <span style=\"font-weight: bold\">{</span><span style=\"color: #008000\">'Berger'</span>: <span style=\"color: #008000\">'Gauche'</span>, <span style=\"color: #008000\">'Loup'</span>: <span style=\"color: #008000\">'Gauche'</span>, <span style=\"color: #008000\">'Mouton'</span>: <span style=\"color: #008000\">'Droite'</span>, <span style=\"color: #008000\">'Chou'</span>: <span style=\"color: #008000\">'Gauche'</span><span style=\"font-weight: bold\">}</span>\n",
       "        <span style=\"font-weight: bold\">)</span>,\n",
       "        <span style=\"font-weight: bold\">(</span>\n",
       "            <span style=\"font-weight: bold\">{</span><span style=\"color: #008000\">'Berger'</span>: <span style=\"color: #008000\">'Droite'</span>, <span style=\"color: #008000\">'Loup'</span>: <span style=\"color: #008000\">'Droite'</span>, <span style=\"color: #008000\">'Mouton'</span>: <span style=\"color: #008000\">'Gauche'</span>, <span style=\"color: #008000\">'Chou'</span>: <span style=\"color: #008000\">'Droite'</span><span style=\"font-weight: bold\">}</span>,\n",
       "            <span style=\"font-weight: bold\">{</span><span style=\"color: #008000\">'Berger'</span>: <span style=\"color: #008000\">'Gauche'</span>, <span style=\"color: #008000\">'Loup'</span>: <span style=\"color: #008000\">'Gauche'</span>, <span style=\"color: #008000\">'Mouton'</span>: <span style=\"color: #008000\">'Gauche'</span>, <span style=\"color: #008000\">'Chou'</span>: <span style=\"color: #008000\">'Droite'</span><span style=\"font-weight: bold\">}</span>\n",
       "        <span style=\"font-weight: bold\">)</span>,\n",
       "        <span style=\"font-weight: bold\">(</span>\n",
       "            <span style=\"font-weight: bold\">{</span><span style=\"color: #008000\">'Berger'</span>: <span style=\"color: #008000\">'Droite'</span>, <span style=\"color: #008000\">'Loup'</span>: <span style=\"color: #008000\">'Droite'</span>, <span style=\"color: #008000\">'Mouton'</span>: <span style=\"color: #008000\">'Gauche'</span>, <span style=\"color: #008000\">'Chou'</span>: <span style=\"color: #008000\">'Droite'</span><span style=\"font-weight: bold\">}</span>,\n",
       "            <span style=\"font-weight: bold\">{</span><span style=\"color: #008000\">'Berger'</span>: <span style=\"color: #008000\">'Gauche'</span>, <span style=\"color: #008000\">'Loup'</span>: <span style=\"color: #008000\">'Droite'</span>, <span style=\"color: #008000\">'Mouton'</span>: <span style=\"color: #008000\">'Gauche'</span>, <span style=\"color: #008000\">'Chou'</span>: <span style=\"color: #008000\">'Gauche'</span><span style=\"font-weight: bold\">}</span>\n",
       "        <span style=\"font-weight: bold\">)</span>,\n",
       "        <span style=\"font-weight: bold\">(</span>\n",
       "            <span style=\"font-weight: bold\">{</span><span style=\"color: #008000\">'Berger'</span>: <span style=\"color: #008000\">'Droite'</span>, <span style=\"color: #008000\">'Loup'</span>: <span style=\"color: #008000\">'Droite'</span>, <span style=\"color: #008000\">'Mouton'</span>: <span style=\"color: #008000\">'Gauche'</span>, <span style=\"color: #008000\">'Chou'</span>: <span style=\"color: #008000\">'Droite'</span><span style=\"font-weight: bold\">}</span>,\n",
       "            <span style=\"font-weight: bold\">{</span><span style=\"color: #008000\">'Berger'</span>: <span style=\"color: #008000\">'Gauche'</span>, <span style=\"color: #008000\">'Loup'</span>: <span style=\"color: #008000\">'Droite'</span>, <span style=\"color: #008000\">'Mouton'</span>: <span style=\"color: #008000\">'Gauche'</span>, <span style=\"color: #008000\">'Chou'</span>: <span style=\"color: #008000\">'Droite'</span><span style=\"font-weight: bold\">}</span>\n",
       "        <span style=\"font-weight: bold\">)</span>,\n",
       "        <span style=\"font-weight: bold\">(</span>\n",
       "            <span style=\"font-weight: bold\">{</span><span style=\"color: #008000\">'Berger'</span>: <span style=\"color: #008000\">'Droite'</span>, <span style=\"color: #008000\">'Loup'</span>: <span style=\"color: #008000\">'Droite'</span>, <span style=\"color: #008000\">'Mouton'</span>: <span style=\"color: #008000\">'Droite'</span>, <span style=\"color: #008000\">'Chou'</span>: <span style=\"color: #008000\">'Gauche'</span><span style=\"font-weight: bold\">}</span>,\n",
       "            <span style=\"font-weight: bold\">{</span><span style=\"color: #008000\">'Berger'</span>: <span style=\"color: #008000\">'Gauche'</span>, <span style=\"color: #008000\">'Loup'</span>: <span style=\"color: #008000\">'Gauche'</span>, <span style=\"color: #008000\">'Mouton'</span>: <span style=\"color: #008000\">'Droite'</span>, <span style=\"color: #008000\">'Chou'</span>: <span style=\"color: #008000\">'Gauche'</span><span style=\"font-weight: bold\">}</span>\n",
       "        <span style=\"font-weight: bold\">)</span>,\n",
       "        <span style=\"font-weight: bold\">(</span>\n",
       "            <span style=\"font-weight: bold\">{</span><span style=\"color: #008000\">'Berger'</span>: <span style=\"color: #008000\">'Droite'</span>, <span style=\"color: #008000\">'Loup'</span>: <span style=\"color: #008000\">'Droite'</span>, <span style=\"color: #008000\">'Mouton'</span>: <span style=\"color: #008000\">'Droite'</span>, <span style=\"color: #008000\">'Chou'</span>: <span style=\"color: #008000\">'Gauche'</span><span style=\"font-weight: bold\">}</span>,\n",
       "            <span style=\"font-weight: bold\">{</span><span style=\"color: #008000\">'Berger'</span>: <span style=\"color: #008000\">'Gauche'</span>, <span style=\"color: #008000\">'Loup'</span>: <span style=\"color: #008000\">'Droite'</span>, <span style=\"color: #008000\">'Mouton'</span>: <span style=\"color: #008000\">'Gauche'</span>, <span style=\"color: #008000\">'Chou'</span>: <span style=\"color: #008000\">'Gauche'</span><span style=\"font-weight: bold\">}</span>\n",
       "        <span style=\"font-weight: bold\">)</span>,\n",
       "        <span style=\"font-weight: bold\">(</span>\n",
       "            <span style=\"font-weight: bold\">{</span><span style=\"color: #008000\">'Berger'</span>: <span style=\"color: #008000\">'Droite'</span>, <span style=\"color: #008000\">'Loup'</span>: <span style=\"color: #008000\">'Droite'</span>, <span style=\"color: #008000\">'Mouton'</span>: <span style=\"color: #008000\">'Droite'</span>, <span style=\"color: #008000\">'Chou'</span>: <span style=\"color: #008000\">'Droite'</span><span style=\"font-weight: bold\">}</span>,\n",
       "            <span style=\"font-weight: bold\">{</span><span style=\"color: #008000\">'Berger'</span>: <span style=\"color: #008000\">'Gauche'</span>, <span style=\"color: #008000\">'Loup'</span>: <span style=\"color: #008000\">'Droite'</span>, <span style=\"color: #008000\">'Mouton'</span>: <span style=\"color: #008000\">'Gauche'</span>, <span style=\"color: #008000\">'Chou'</span>: <span style=\"color: #008000\">'Droite'</span><span style=\"font-weight: bold\">}</span>\n",
       "        <span style=\"font-weight: bold\">)</span>\n",
       "    <span style=\"font-weight: bold\">]</span>\n",
       "<span style=\"font-weight: bold\">)</span>\n",
       "</pre>\n"
      ],
      "text/plain": [
       "<rich.jupyter.JupyterRenderable at 0x7f73cedbd5b0>"
      ]
     },
     "metadata": {},
     "output_type": "display_data"
    }
   ],
   "source": [
    "print(genere_graphe())"
   ]
  },
  {
   "cell_type": "markdown",
   "metadata": {},
   "source": [
    "# Exercice\n",
    "\n",
    "15min :-> 10h45\n",
    "1. Compléter la fonction `sont_relies`.\n",
    "2. Tester la fonction sur des petits graphes."
   ]
  },
  {
   "cell_type": "code",
   "execution_count": 27,
   "metadata": {},
   "outputs": [],
   "source": [
    "import time"
   ]
  },
  {
   "cell_type": "code",
   "execution_count": 36,
   "metadata": {},
   "outputs": [],
   "source": [
    "def sont_relies(depart, arrivee, graphe):\n",
    "    sommets, arretes = graphe\n",
    "    deja_visites = list()\n",
    "    a_visites = [depart]\n",
    "    while a_visites:\n",
    "        time.sleep(0.5)\n",
    "        sommet_courant = a_visites.pop()\n",
    "        print(f\"{sommet_courant=}\")\n",
    "        if sommet_courant == arrivee:\n",
    "            return True\n",
    "        if sommet_courant in deja_visites:\n",
    "            continue\n",
    "        else:\n",
    "            deja_visites.append(sommet_courant)\n",
    "        for sommet_1, sommet_2 in arretes:\n",
    "            if sommet_1 == sommet_courant:\n",
    "                a_visites.append(sommet_2)\n",
    "    return False"
   ]
  },
  {
   "cell_type": "code",
   "execution_count": 37,
   "metadata": {},
   "outputs": [
    {
     "data": {
      "text/html": [
       "<pre style=\"white-space:pre;overflow-x:auto;line-height:normal;font-family:Menlo,'DejaVu Sans Mono',consolas,'Courier New',monospace\"><span style=\"color: #808000\">sommet_courant</span>=<span style=\"color: #008000\">'A'</span>\n",
       "</pre>\n"
      ],
      "text/plain": [
       "<rich.jupyter.JupyterRenderable at 0x7f73ceafbca0>"
      ]
     },
     "metadata": {},
     "output_type": "display_data"
    },
    {
     "data": {
      "text/html": [
       "<pre style=\"white-space:pre;overflow-x:auto;line-height:normal;font-family:Menlo,'DejaVu Sans Mono',consolas,'Courier New',monospace\"><span style=\"color: #808000\">sommet_courant</span>=<span style=\"color: #008000\">'C'</span>\n",
       "</pre>\n"
      ],
      "text/plain": [
       "<rich.jupyter.JupyterRenderable at 0x7f73ceafb0a0>"
      ]
     },
     "metadata": {},
     "output_type": "display_data"
    },
    {
     "data": {
      "text/html": [
       "<pre style=\"white-space:pre;overflow-x:auto;line-height:normal;font-family:Menlo,'DejaVu Sans Mono',consolas,'Courier New',monospace\"><span style=\"color: #808000\">sommet_courant</span>=<span style=\"color: #008000\">'D'</span>\n",
       "</pre>\n"
      ],
      "text/plain": [
       "<rich.jupyter.JupyterRenderable at 0x7f73ceafb640>"
      ]
     },
     "metadata": {},
     "output_type": "display_data"
    },
    {
     "data": {
      "text/plain": [
       "True"
      ]
     },
     "execution_count": 37,
     "metadata": {},
     "output_type": "execute_result"
    }
   ],
   "source": [
    "exemple_positif = ([\"A\", \"B\", \"C\", \"D\"], [(\"A\", \"B\"), (\"A\", \"C\"), (\"C\", \"D\")])\n",
    "sont_relies(depart=\"A\", arrivee=\"D\", graphe=exemple_positif)"
   ]
  },
  {
   "cell_type": "code",
   "execution_count": 38,
   "metadata": {},
   "outputs": [
    {
     "data": {
      "text/html": [
       "<pre style=\"white-space:pre;overflow-x:auto;line-height:normal;font-family:Menlo,'DejaVu Sans Mono',consolas,'Courier New',monospace\"><span style=\"color: #808000\">sommet_courant</span>=<span style=\"color: #008000\">'A'</span>\n",
       "</pre>\n"
      ],
      "text/plain": [
       "<rich.jupyter.JupyterRenderable at 0x7f73ceb54580>"
      ]
     },
     "metadata": {},
     "output_type": "display_data"
    },
    {
     "data": {
      "text/html": [
       "<pre style=\"white-space:pre;overflow-x:auto;line-height:normal;font-family:Menlo,'DejaVu Sans Mono',consolas,'Courier New',monospace\"><span style=\"color: #808000\">sommet_courant</span>=<span style=\"color: #008000\">'B'</span>\n",
       "</pre>\n"
      ],
      "text/plain": [
       "<rich.jupyter.JupyterRenderable at 0x7f73cedbd5b0>"
      ]
     },
     "metadata": {},
     "output_type": "display_data"
    },
    {
     "data": {
      "text/plain": [
       "False"
      ]
     },
     "execution_count": 38,
     "metadata": {},
     "output_type": "execute_result"
    }
   ],
   "source": [
    "exemple_negatif = ([\"A\", \"B\", \"C\", \"D\"], [(\"A\", \"B\"), (\"C\", \"D\")])\n",
    "sont_relies(depart=\"A\", arrivee=\"D\", graphe=exemple_negatif)"
   ]
  },
  {
   "cell_type": "code",
   "execution_count": 39,
   "metadata": {},
   "outputs": [
    {
     "data": {
      "text/html": [
       "<pre style=\"white-space:pre;overflow-x:auto;line-height:normal;font-family:Menlo,'DejaVu Sans Mono',consolas,'Courier New',monospace\"><span style=\"color: #808000\">sommet_courant</span>=<span style=\"font-weight: bold\">{</span><span style=\"color: #008000\">'Berger'</span>: <span style=\"color: #008000\">'Gauche'</span>, <span style=\"color: #008000\">'Loup'</span>: <span style=\"color: #008000\">'Gauche'</span>, <span style=\"color: #008000\">'Mouton'</span>: <span style=\"color: #008000\">'Gauche'</span>, <span style=\"color: #008000\">'Chou'</span>: <span style=\"color: #008000\">'Gauche'</span><span style=\"font-weight: bold\">}</span>\n",
       "</pre>\n"
      ],
      "text/plain": [
       "<rich.jupyter.JupyterRenderable at 0x7f73ceb54820>"
      ]
     },
     "metadata": {},
     "output_type": "display_data"
    },
    {
     "data": {
      "text/html": [
       "<pre style=\"white-space:pre;overflow-x:auto;line-height:normal;font-family:Menlo,'DejaVu Sans Mono',consolas,'Courier New',monospace\"><span style=\"color: #808000\">sommet_courant</span>=<span style=\"font-weight: bold\">{</span><span style=\"color: #008000\">'Berger'</span>: <span style=\"color: #008000\">'Droite'</span>, <span style=\"color: #008000\">'Loup'</span>: <span style=\"color: #008000\">'Gauche'</span>, <span style=\"color: #008000\">'Mouton'</span>: <span style=\"color: #008000\">'Droite'</span>, <span style=\"color: #008000\">'Chou'</span>: <span style=\"color: #008000\">'Gauche'</span><span style=\"font-weight: bold\">}</span>\n",
       "</pre>\n"
      ],
      "text/plain": [
       "<rich.jupyter.JupyterRenderable at 0x7f73ceb10280>"
      ]
     },
     "metadata": {},
     "output_type": "display_data"
    },
    {
     "data": {
      "text/html": [
       "<pre style=\"white-space:pre;overflow-x:auto;line-height:normal;font-family:Menlo,'DejaVu Sans Mono',consolas,'Courier New',monospace\"><span style=\"color: #808000\">sommet_courant</span>=<span style=\"font-weight: bold\">{</span><span style=\"color: #008000\">'Berger'</span>: <span style=\"color: #008000\">'Gauche'</span>, <span style=\"color: #008000\">'Loup'</span>: <span style=\"color: #008000\">'Gauche'</span>, <span style=\"color: #008000\">'Mouton'</span>: <span style=\"color: #008000\">'Droite'</span>, <span style=\"color: #008000\">'Chou'</span>: <span style=\"color: #008000\">'Gauche'</span><span style=\"font-weight: bold\">}</span>\n",
       "</pre>\n"
      ],
      "text/plain": [
       "<rich.jupyter.JupyterRenderable at 0x7f73ceb54160>"
      ]
     },
     "metadata": {},
     "output_type": "display_data"
    },
    {
     "data": {
      "text/html": [
       "<pre style=\"white-space:pre;overflow-x:auto;line-height:normal;font-family:Menlo,'DejaVu Sans Mono',consolas,'Courier New',monospace\"><span style=\"color: #808000\">sommet_courant</span>=<span style=\"font-weight: bold\">{</span><span style=\"color: #008000\">'Berger'</span>: <span style=\"color: #008000\">'Droite'</span>, <span style=\"color: #008000\">'Loup'</span>: <span style=\"color: #008000\">'Droite'</span>, <span style=\"color: #008000\">'Mouton'</span>: <span style=\"color: #008000\">'Droite'</span>, <span style=\"color: #008000\">'Chou'</span>: <span style=\"color: #008000\">'Gauche'</span><span style=\"font-weight: bold\">}</span>\n",
       "</pre>\n"
      ],
      "text/plain": [
       "<rich.jupyter.JupyterRenderable at 0x7f73ceb54820>"
      ]
     },
     "metadata": {},
     "output_type": "display_data"
    },
    {
     "data": {
      "text/html": [
       "<pre style=\"white-space:pre;overflow-x:auto;line-height:normal;font-family:Menlo,'DejaVu Sans Mono',consolas,'Courier New',monospace\"><span style=\"color: #808000\">sommet_courant</span>=<span style=\"font-weight: bold\">{</span><span style=\"color: #008000\">'Berger'</span>: <span style=\"color: #008000\">'Gauche'</span>, <span style=\"color: #008000\">'Loup'</span>: <span style=\"color: #008000\">'Droite'</span>, <span style=\"color: #008000\">'Mouton'</span>: <span style=\"color: #008000\">'Gauche'</span>, <span style=\"color: #008000\">'Chou'</span>: <span style=\"color: #008000\">'Gauche'</span><span style=\"font-weight: bold\">}</span>\n",
       "</pre>\n"
      ],
      "text/plain": [
       "<rich.jupyter.JupyterRenderable at 0x7f73ce82de20>"
      ]
     },
     "metadata": {},
     "output_type": "display_data"
    },
    {
     "data": {
      "text/html": [
       "<pre style=\"white-space:pre;overflow-x:auto;line-height:normal;font-family:Menlo,'DejaVu Sans Mono',consolas,'Courier New',monospace\"><span style=\"color: #808000\">sommet_courant</span>=<span style=\"font-weight: bold\">{</span><span style=\"color: #008000\">'Berger'</span>: <span style=\"color: #008000\">'Droite'</span>, <span style=\"color: #008000\">'Loup'</span>: <span style=\"color: #008000\">'Droite'</span>, <span style=\"color: #008000\">'Mouton'</span>: <span style=\"color: #008000\">'Droite'</span>, <span style=\"color: #008000\">'Chou'</span>: <span style=\"color: #008000\">'Gauche'</span><span style=\"font-weight: bold\">}</span>\n",
       "</pre>\n"
      ],
      "text/plain": [
       "<rich.jupyter.JupyterRenderable at 0x7f73ceafbbe0>"
      ]
     },
     "metadata": {},
     "output_type": "display_data"
    },
    {
     "data": {
      "text/html": [
       "<pre style=\"white-space:pre;overflow-x:auto;line-height:normal;font-family:Menlo,'DejaVu Sans Mono',consolas,'Courier New',monospace\"><span style=\"color: #808000\">sommet_courant</span>=<span style=\"font-weight: bold\">{</span><span style=\"color: #008000\">'Berger'</span>: <span style=\"color: #008000\">'Droite'</span>, <span style=\"color: #008000\">'Loup'</span>: <span style=\"color: #008000\">'Droite'</span>, <span style=\"color: #008000\">'Mouton'</span>: <span style=\"color: #008000\">'Gauche'</span>, <span style=\"color: #008000\">'Chou'</span>: <span style=\"color: #008000\">'Droite'</span><span style=\"font-weight: bold\">}</span>\n",
       "</pre>\n"
      ],
      "text/plain": [
       "<rich.jupyter.JupyterRenderable at 0x7f73ce82de20>"
      ]
     },
     "metadata": {},
     "output_type": "display_data"
    },
    {
     "data": {
      "text/html": [
       "<pre style=\"white-space:pre;overflow-x:auto;line-height:normal;font-family:Menlo,'DejaVu Sans Mono',consolas,'Courier New',monospace\"><span style=\"color: #808000\">sommet_courant</span>=<span style=\"font-weight: bold\">{</span><span style=\"color: #008000\">'Berger'</span>: <span style=\"color: #008000\">'Gauche'</span>, <span style=\"color: #008000\">'Loup'</span>: <span style=\"color: #008000\">'Droite'</span>, <span style=\"color: #008000\">'Mouton'</span>: <span style=\"color: #008000\">'Gauche'</span>, <span style=\"color: #008000\">'Chou'</span>: <span style=\"color: #008000\">'Droite'</span><span style=\"font-weight: bold\">}</span>\n",
       "</pre>\n"
      ],
      "text/plain": [
       "<rich.jupyter.JupyterRenderable at 0x7f73ceafbbe0>"
      ]
     },
     "metadata": {},
     "output_type": "display_data"
    },
    {
     "data": {
      "text/html": [
       "<pre style=\"white-space:pre;overflow-x:auto;line-height:normal;font-family:Menlo,'DejaVu Sans Mono',consolas,'Courier New',monospace\"><span style=\"color: #808000\">sommet_courant</span>=<span style=\"font-weight: bold\">{</span><span style=\"color: #008000\">'Berger'</span>: <span style=\"color: #008000\">'Droite'</span>, <span style=\"color: #008000\">'Loup'</span>: <span style=\"color: #008000\">'Droite'</span>, <span style=\"color: #008000\">'Mouton'</span>: <span style=\"color: #008000\">'Droite'</span>, <span style=\"color: #008000\">'Chou'</span>: <span style=\"color: #008000\">'Droite'</span><span style=\"font-weight: bold\">}</span>\n",
       "</pre>\n"
      ],
      "text/plain": [
       "<rich.jupyter.JupyterRenderable at 0x7f73ce82de20>"
      ]
     },
     "metadata": {},
     "output_type": "display_data"
    },
    {
     "data": {
      "text/plain": [
       "True"
      ]
     },
     "execution_count": 39,
     "metadata": {},
     "output_type": "execute_result"
    }
   ],
   "source": [
    "sont_relies(depart=depart, arrivee=arrivee, graphe=genere_graphe())"
   ]
  },
  {
   "cell_type": "markdown",
   "metadata": {},
   "source": [
    "# Exercice\n",
    "\n",
    "10min -> 11h20\n",
    "\n",
    "Adapter la fonction `sont_relies` pour pouvoir récupérer un chemin entre les sommets lorsqu'ils sont bien reliés."
   ]
  },
  {
   "cell_type": "code",
   "execution_count": null,
   "metadata": {},
   "outputs": [],
   "source": []
  }
 ],
 "metadata": {
  "kernelspec": {
   "display_name": "Python 3",
   "language": "python",
   "name": "python3"
  },
  "language_info": {
   "codemirror_mode": {
    "name": "ipython",
    "version": 3
   },
   "file_extension": ".py",
   "mimetype": "text/x-python",
   "name": "python",
   "nbconvert_exporter": "python",
   "pygments_lexer": "ipython3",
   "version": "3.8.3"
  },
  "toc-autonumbering": false,
  "toc-showcode": true,
  "toc-showmarkdowntxt": false
 },
 "nbformat": 4,
 "nbformat_minor": 4
}
