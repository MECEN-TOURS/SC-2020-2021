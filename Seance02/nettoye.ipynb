{
 "cells": [
  {
   "cell_type": "markdown",
   "metadata": {},
   "source": [
    "# Introduction du problème\n",
    "\n",
    "1. Un berger, un loup, un mouton et un chou d'un côté d'une rivière.\n",
    "2. Ils veulent traverser cette rivière.\n",
    "3. Ils possèdent une barque de 2 places.\n",
    "4. Le berger est toujours dans la barque lors d'une traversée.\n",
    "5. Le berger ne peut pas laisser sans surveilance:\n",
    "    - le loup et le mouton\n",
    "    - le mouton et le chou\n",
    "6. Comment doit on planifier les traversées pour que tout le monde passent la rivière?"
   ]
  },
  {
   "cell_type": "markdown",
   "metadata": {},
   "source": [
    "# Résolution du problème"
   ]
  },
  {
   "cell_type": "code",
   "execution_count": 1,
   "metadata": {},
   "outputs": [],
   "source": [
    "import auxiliaire as aux\n",
    "from rich import print"
   ]
  },
  {
   "cell_type": "code",
   "execution_count": 2,
   "metadata": {},
   "outputs": [
    {
     "data": {
      "text/plain": [
       "True"
      ]
     },
     "execution_count": 2,
     "metadata": {},
     "output_type": "execute_result"
    }
   ],
   "source": [
    "aux.sont_relies(\n",
    "    depart=aux.DEPART, \n",
    "    arrivee=aux.ARRIVEE, \n",
    "    graphe=aux.genere_graphe()\n",
    ")"
   ]
  },
  {
   "cell_type": "code",
   "execution_count": 3,
   "metadata": {},
   "outputs": [
    {
     "data": {
      "text/plain": [
       "[{'Berger': 'Gauche', 'Loup': 'Gauche', 'Mouton': 'Gauche', 'Chou': 'Gauche'},\n",
       " {'Berger': 'Droite', 'Loup': 'Gauche', 'Mouton': 'Droite', 'Chou': 'Gauche'},\n",
       " {'Berger': 'Gauche', 'Loup': 'Gauche', 'Mouton': 'Droite', 'Chou': 'Gauche'},\n",
       " {'Berger': 'Droite', 'Loup': 'Droite', 'Mouton': 'Droite', 'Chou': 'Gauche'},\n",
       " {'Berger': 'Gauche', 'Loup': 'Droite', 'Mouton': 'Gauche', 'Chou': 'Gauche'},\n",
       " {'Berger': 'Droite', 'Loup': 'Droite', 'Mouton': 'Gauche', 'Chou': 'Droite'},\n",
       " {'Berger': 'Gauche', 'Loup': 'Droite', 'Mouton': 'Gauche', 'Chou': 'Droite'},\n",
       " {'Berger': 'Droite', 'Loup': 'Droite', 'Mouton': 'Droite', 'Chou': 'Droite'}]"
      ]
     },
     "execution_count": 3,
     "metadata": {},
     "output_type": "execute_result"
    }
   ],
   "source": [
    "aux.trouve_chemin(\n",
    "    depart=aux.DEPART, \n",
    "    arrivee=aux.ARRIVEE, \n",
    "    graphe=aux.genere_graphe()\n",
    ")"
   ]
  },
  {
   "cell_type": "markdown",
   "metadata": {},
   "source": [
    "# Exercice\n",
    "\n",
    "Modifier le notebook et la librairie pour que le résultat soit compréhensible."
   ]
  },
  {
   "cell_type": "code",
   "execution_count": null,
   "metadata": {},
   "outputs": [],
   "source": []
  }
 ],
 "metadata": {
  "kernelspec": {
   "display_name": "Python 3",
   "language": "python",
   "name": "python3"
  },
  "language_info": {
   "codemirror_mode": {
    "name": "ipython",
    "version": 3
   },
   "file_extension": ".py",
   "mimetype": "text/x-python",
   "name": "python",
   "nbconvert_exporter": "python",
   "pygments_lexer": "ipython3",
   "version": "3.8.3"
  },
  "toc-autonumbering": true,
  "toc-showcode": false,
  "toc-showmarkdowntxt": false,
  "toc-showtags": false
 },
 "nbformat": 4,
 "nbformat_minor": 4
}
