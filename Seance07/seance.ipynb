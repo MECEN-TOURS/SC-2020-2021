{
 "cells": [
  {
   "cell_type": "markdown",
   "id": "surgical-democracy",
   "metadata": {},
   "source": [
    "# Retour sur les graphes et les parcours"
   ]
  },
  {
   "cell_type": "markdown",
   "id": "adaptive-midnight",
   "metadata": {},
   "source": [
    "**REMARQUE** on a vu qu'on n'est pas obligé d'avoir le graphe entier en mémoire pour travailler dessus!"
   ]
  },
  {
   "cell_type": "markdown",
   "id": "local-playlist",
   "metadata": {},
   "source": [
    "<img src=\"./graphe_non_oriente.svg\"/>"
   ]
  },
  {
   "cell_type": "markdown",
   "id": "hourly-rogers",
   "metadata": {},
   "source": [
    "## Exercice\n",
    "\n",
    "Implémenter les algorithmes *dfs* (Depth First Search) et *bfs* (Breadth First Search) pour parcourir les graphes partant du sommet *1* (Une class `Graphe`, une fonction `bfs` une fonction `dfs`) 10min -> 10h50"
   ]
  },
  {
   "cell_type": "markdown",
   "id": "adult-proceeding",
   "metadata": {},
   "source": [
    "**REMARQUE** on constate que la seul fonctionnalité d'un graphe qu'on utilise pour `dfs` et `bfs` est la possibilité d'itérer sur les voisins d'un sommet."
   ]
  },
  {
   "cell_type": "markdown",
   "id": "transparent-algebra",
   "metadata": {},
   "source": [
    "**REMARQUE** on a en fait trois façons d'implémenter un graphe\n",
    "- liste de sommets et liste d'arrêtes\n",
    "- dictionnaire de voisinage\n",
    "- représentation matricielle"
   ]
  },
  {
   "cell_type": "code",
   "execution_count": null,
   "id": "floating-surveillance",
   "metadata": {},
   "outputs": [],
   "source": []
  }
 ],
 "metadata": {
  "kernelspec": {
   "display_name": "Python 3",
   "language": "python",
   "name": "python3"
  },
  "language_info": {
   "codemirror_mode": {
    "name": "ipython",
    "version": 3
   },
   "file_extension": ".py",
   "mimetype": "text/x-python",
   "name": "python",
   "nbconvert_exporter": "python",
   "pygments_lexer": "ipython3",
   "version": "3.8.3"
  }
 },
 "nbformat": 4,
 "nbformat_minor": 5
}
