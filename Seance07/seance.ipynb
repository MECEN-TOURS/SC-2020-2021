{
 "cells": [
  {
   "cell_type": "markdown",
   "id": "seeing-collect",
   "metadata": {},
   "source": [
    "# Retour sur les graphes et les parcours"
   ]
  },
  {
   "cell_type": "markdown",
   "id": "neither-burns",
   "metadata": {},
   "source": [
    "**REMARQUE** on a vu qu'on n'est pas obligé d'avoir le graphe entier en mémoire pour travailler dessus!"
   ]
  },
  {
   "cell_type": "markdown",
   "id": "nuclear-bruce",
   "metadata": {},
   "source": [
    "<img src=\"./graphe_non_oriente.svg\"/>"
   ]
  },
  {
   "cell_type": "markdown",
   "id": "civilian-address",
   "metadata": {},
   "source": [
    "## Exercice\n",
    "\n",
    "1. Implémenter les algorithmes *dfs* (Depth First Search) et *bfs* (Breadth First Search) pour parcourir les graphes partant du sommet *1* (une fonction `bfs` une fonction `dfs`) 10min -> 10h50\n",
    "2. Implémenter `Graphe_v1` et `Graphe_v2` et tester sur le graphe ci-dessus le tout. 10min -> 11h15\n",
    "3. Implémenter `Graphe_v3` et tester le résultat. 10min -> 11h50"
   ]
  },
  {
   "cell_type": "markdown",
   "id": "surrounded-lucas",
   "metadata": {},
   "source": [
    "**REMARQUE** on constate que la seul fonctionnalité d'un graphe qu'on utilise pour `dfs` et `bfs` est la possibilité d'itérer sur les voisins d'un sommet."
   ]
  },
  {
   "cell_type": "markdown",
   "id": "understanding-connection",
   "metadata": {},
   "source": [
    "**REMARQUE** on a en fait trois façons d'implémenter un graphe\n",
    "- liste de sommets et liste d'arrêtes\n",
    "\n",
    "$$N=\\{1, 2, 3, 4, 5, 6, 7, 8, 9, 10, 11\\},$$\n",
    "$$S=\\{(1,2), (1, 4), (2, 1), (4, 1), (4, 5), (5, 4), (4, 3), (3, 4), (2, 8), (8, 2), (3, 8), (8, 3), (5, 6), (6, 5), (6, 7), (7, 6), (6, 11), (11, 6), (7, 9), (9, 7), (8, 9), (9, 8), (11, 10), (10, 11), (9, 10), (10, 9)\\}$$\n",
    "- dictionnaire de voisinage \n",
    "```python\n",
    "{\n",
    "    1:[2, 4],\n",
    "    2:[1, 8],\n",
    "    3:[4, 8],\n",
    "    4:[1, 3, 5],\n",
    "    5:[4, 6],\n",
    "    6:[5, 7, 11],\n",
    "    7:[6, 9],\n",
    "    8:[2, 3, 9],\n",
    "    9:[7, 8, 10],\n",
    "    10:[9, 11],\n",
    "    11:[6, 10],\n",
    "}\n",
    "```\n",
    "- représentation matricielle\n",
    "\n",
    "On numérote les sommets du graphe de $1$ à $n$ on représente alors le graphe comme une matrice $A\\in \\mathcal{M}_n(\\mathbb{R})$ avec\n",
    "$$A_{i,j}=\n",
    "\\begin{cases}\n",
    "1 & \\text{si } (i,j) \\text{ est une arrete}\\\\\n",
    "0 & \\text{sinon}\n",
    "\\end{cases}\n",
    "$$\n",
    "On dit que $A$ est la matrice d'adjacence.\n",
    "\n",
    "**REMARQUE** un graphe est non ordonné si et seulement si sa matrice d'adjacence est symétrique. En fait de nombreuses propriétés du graphe on des équivalents algébriques.\n",
    "\n",
    "\n",
    "\\begin{pmatrix}\n",
    " 0 & 1 & 0 & 1 & 0 & 0 & 0 & 0 & 0 & 0 & 0 \\\\\n",
    " 1 & 0 & 0 & 0 & 0 & 0 & 0 & 1 & 0 & 0 & 0 \\\\\n",
    " 0 & 0 & 0 & 1 & 0 & 0 & 0 & 1 & 0 & 0 & 0 \\\\\n",
    " 1 & 0 & 1 & 0 & 1 & 0 & 0 & 0 & 0 & 0 & 0 \\\\\n",
    " 0 & 0 & 0 & 1 & 0 & 1 & 0 & 0 & 0 & 0 & 0 \\\\\n",
    " 0 & 0 & 0 & 0 & 1 & 0 & 1 & 0 & 0 & 0 & 1 \\\\\n",
    " 0 & 0 & 0 & 0 & 0 & 1 & 0 & 0 & 1 & 0 & 0 \\\\\n",
    " 0 & 1 & 1 & 0 & 0 & 0 & 0 & 0 & 1 & 0 & 0 \\\\\n",
    " 0 & 0 & 0 & 0 & 0 & 0 & 1 & 1 & 0 & 1 & 0 \\\\\n",
    " 0 & 0 & 0 & 0 & 0 & 0 & 0 & 0 & 1 & 0 & 1 \\\\\n",
    " 0 & 0 & 0 & 0 & 0 & 1 & 0 & 0 & 0 & 1 & 0\n",
    "\\end{pmatrix}\n",
    "\n"
   ]
  },
  {
   "cell_type": "code",
   "execution_count": 13,
   "id": "included-amendment",
   "metadata": {},
   "outputs": [],
   "source": [
    "%run graphe.py"
   ]
  },
  {
   "cell_type": "code",
   "execution_count": 14,
   "id": "upset-waste",
   "metadata": {},
   "outputs": [],
   "source": [
    "v1 = Graphe_v1(\n",
    "    sommets=[i for i in range(1, 12)],\n",
    "    arretes=[(1,2), (1, 4), (2, 1), (4, 1), (4, 5), (5, 4), (4, 3), (3, 4), (2, 8), (8, 2), (3, 8), (8, 3), (5, 6), (6, 5), (6, 7), (7, 6), (6, 11), (11, 6), (7, 9), (9, 7), (8, 9), (9, 8), (11, 10), (10, 11), (9, 10), (10, 9)]\n",
    ")"
   ]
  },
  {
   "cell_type": "code",
   "execution_count": 15,
   "id": "single-intro",
   "metadata": {},
   "outputs": [
    {
     "data": {
      "text/plain": [
       "<__main__.Graphe_v1 at 0x7f84aae07ac0>"
      ]
     },
     "execution_count": 15,
     "metadata": {},
     "output_type": "execute_result"
    }
   ],
   "source": [
    "v1"
   ]
  },
  {
   "cell_type": "code",
   "execution_count": 16,
   "id": "western-benjamin",
   "metadata": {},
   "outputs": [
    {
     "name": "stdout",
     "output_type": "stream",
     "text": [
      "1\n",
      "4\n",
      "3\n",
      "8\n",
      "9\n",
      "10\n",
      "11\n",
      "6\n",
      "7\n",
      "5\n",
      "2\n"
     ]
    }
   ],
   "source": [
    "for sommet in dfs(depart=1, graphe=v1):\n",
    "    print(sommet)"
   ]
  },
  {
   "cell_type": "code",
   "execution_count": 17,
   "id": "efficient-blanket",
   "metadata": {},
   "outputs": [
    {
     "name": "stdout",
     "output_type": "stream",
     "text": [
      "1\n",
      "2\n",
      "4\n",
      "8\n",
      "5\n",
      "3\n",
      "9\n",
      "6\n",
      "7\n",
      "10\n",
      "11\n"
     ]
    }
   ],
   "source": [
    "for sommet in bfs(depart=1, graphe=v1):\n",
    "    print(sommet)"
   ]
  },
  {
   "cell_type": "code",
   "execution_count": 18,
   "id": "controlled-acrylic",
   "metadata": {},
   "outputs": [],
   "source": [
    "v2 = Graphe_v2(\n",
    "    voisinage={\n",
    "        1:[2, 4],\n",
    "        2:[1, 8],\n",
    "        3:[4, 8],\n",
    "        4:[1, 3, 5],\n",
    "        5:[4, 6],\n",
    "        6:[5, 7, 11],\n",
    "        7:[6, 9],\n",
    "        8:[2, 3, 9],\n",
    "        9:[7, 8, 10],\n",
    "        10:[9, 11],\n",
    "        11:[6, 10],\n",
    "    }\n",
    ")"
   ]
  },
  {
   "cell_type": "code",
   "execution_count": 19,
   "id": "expired-reading",
   "metadata": {},
   "outputs": [
    {
     "data": {
      "text/plain": [
       "<__main__.Graphe_v2 at 0x7f84aae07b80>"
      ]
     },
     "execution_count": 19,
     "metadata": {},
     "output_type": "execute_result"
    }
   ],
   "source": [
    "v2"
   ]
  },
  {
   "cell_type": "code",
   "execution_count": 20,
   "id": "colonial-campbell",
   "metadata": {},
   "outputs": [
    {
     "name": "stdout",
     "output_type": "stream",
     "text": [
      "1\n",
      "4\n",
      "5\n",
      "6\n",
      "11\n",
      "10\n",
      "9\n",
      "8\n",
      "3\n",
      "2\n",
      "7\n"
     ]
    }
   ],
   "source": [
    "for sommet in dfs(depart=1, graphe=v2):\n",
    "    print(sommet)"
   ]
  },
  {
   "cell_type": "code",
   "execution_count": 21,
   "id": "affiliated-intelligence",
   "metadata": {},
   "outputs": [
    {
     "name": "stdout",
     "output_type": "stream",
     "text": [
      "1\n",
      "2\n",
      "4\n",
      "8\n",
      "3\n",
      "5\n",
      "9\n",
      "6\n",
      "7\n",
      "10\n",
      "11\n"
     ]
    }
   ],
   "source": [
    "for sommet in bfs(depart=1, graphe=v2):\n",
    "    print(sommet)"
   ]
  },
  {
   "cell_type": "code",
   "execution_count": 22,
   "id": "reduced-identity",
   "metadata": {},
   "outputs": [],
   "source": [
    "v3 = Graphe_v3(\n",
    "    adjacence=[\n",
    "        [0 , 1 , 0 , 1 , 0 , 0 , 0 , 0 , 0 , 0 , 0],\n",
    "        [1 , 0 , 0 , 0 , 0 , 0 , 0 , 1 , 0 , 0 , 0],\n",
    "        [0 , 0 , 0 , 1 , 0 , 0 , 0 , 1 , 0 , 0 , 0],\n",
    "        [1 , 0 , 1 , 0 , 1 , 0 , 0 , 0 , 0 , 0 , 0],\n",
    "        [0 , 0 , 0 , 1 , 0 , 1 , 0 , 0 , 0 , 0 , 0],\n",
    "        [0 , 0 , 0 , 0 , 1 , 0 , 1 , 0 , 0 , 0 , 1],\n",
    "        [0 , 0 , 0 , 0 , 0 , 1 , 0 , 0 , 1 , 0 , 0],\n",
    "        [0 , 1 , 1 , 0 , 0 , 0 , 0 , 0 , 1 , 0 , 0],\n",
    "        [0 , 0 , 0 , 0 , 0 , 0 , 1 , 1 , 0 , 1 , 0],\n",
    "        [0 , 0 , 0 , 0 , 0 , 0 , 0 , 0 , 1 , 0 , 1],\n",
    "        [0 , 0 , 0 , 0 , 0 , 1 , 0 , 0 , 0 , 1 , 0],\n",
    "    ]\n",
    ")"
   ]
  },
  {
   "cell_type": "code",
   "execution_count": 23,
   "id": "democratic-practitioner",
   "metadata": {},
   "outputs": [
    {
     "name": "stdout",
     "output_type": "stream",
     "text": [
      "1\n",
      "4\n",
      "5\n",
      "6\n",
      "11\n",
      "10\n",
      "9\n",
      "8\n",
      "3\n",
      "2\n",
      "7\n"
     ]
    }
   ],
   "source": [
    "for sommet in dfs(depart=1, graphe=v3):\n",
    "    print(sommet)"
   ]
  },
  {
   "cell_type": "code",
   "execution_count": 24,
   "id": "tropical-relevance",
   "metadata": {},
   "outputs": [
    {
     "name": "stdout",
     "output_type": "stream",
     "text": [
      "1\n",
      "2\n",
      "4\n",
      "8\n",
      "3\n",
      "5\n",
      "9\n",
      "6\n",
      "7\n",
      "10\n",
      "11\n"
     ]
    }
   ],
   "source": [
    "for sommet in bfs(depart=1, graphe=v3):\n",
    "    print(sommet)"
   ]
  },
  {
   "cell_type": "markdown",
   "id": "southwest-judge",
   "metadata": {},
   "source": [
    "**REMARQUE** le parcours par `bfs` produit les sommets par ordre de distance au sommet de départ.\n",
    "\n",
    "**DEFINITION** la distance entre deux sommets est la longueur du plus court chemin qui les relie.\n"
   ]
  },
  {
   "cell_type": "markdown",
   "id": "embedded-category",
   "metadata": {},
   "source": [
    "## Exercice\n",
    "10min -> 12h10\n",
    "\n",
    "- Coder des fonctions (ou méthodes) de conversion entre les 3 classes.\n",
    "- Comment interpréter les coefficients des puissances de la matrice d'adjacence?"
   ]
  },
  {
   "cell_type": "markdown",
   "id": "oriented-engineer",
   "metadata": {},
   "source": [
    "# Introduction problématique"
   ]
  },
  {
   "cell_type": "markdown",
   "id": "dental-standing",
   "metadata": {},
   "source": [
    "La recherche de chemin par `bfs` produit celui qui a le moins d'arrête."
   ]
  },
  {
   "cell_type": "markdown",
   "id": "detailed-visibility",
   "metadata": {},
   "source": [
    "En fait on peut avoir une autre notion de distance dans les graphes et donc de chemin le plus court\n",
    "\n",
    "<img src=\"./France_temporel.svg\"/>"
   ]
  },
  {
   "cell_type": "markdown",
   "id": "antique-chemical",
   "metadata": {},
   "source": [
    "## Exercice\n",
    "\n",
    "- Réfléchissez à la structure de données pour ce type de graphe et à un algorithme permettant de trouver le chemin le plus court."
   ]
  }
 ],
 "metadata": {
  "kernelspec": {
   "display_name": "Python 3",
   "language": "python",
   "name": "python3"
  },
  "language_info": {
   "codemirror_mode": {
    "name": "ipython",
    "version": 3
   },
   "file_extension": ".py",
   "mimetype": "text/x-python",
   "name": "python",
   "nbconvert_exporter": "python",
   "pygments_lexer": "ipython3",
   "version": "3.8.3"
  }
 },
 "nbformat": 4,
 "nbformat_minor": 5
}
