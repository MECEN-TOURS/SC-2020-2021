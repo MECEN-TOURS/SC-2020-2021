{
 "cells": [
  {
   "cell_type": "markdown",
   "id": "comparable-hungarian",
   "metadata": {},
   "source": [
    "# Retour sur les graphes et les parcours"
   ]
  },
  {
   "cell_type": "markdown",
   "id": "incorporate-yield",
   "metadata": {},
   "source": [
    "**REMARQUE** on a vu qu'on n'est pas obligé d'avoir le graphe entier en mémoire pour travailler dessus!"
   ]
  },
  {
   "cell_type": "markdown",
   "id": "subjective-vault",
   "metadata": {},
   "source": [
    "<img src=\"./graphe_non_oriente.svg\"/>"
   ]
  },
  {
   "cell_type": "markdown",
   "id": "wireless-defensive",
   "metadata": {},
   "source": [
    "## Exercice\n",
    "\n",
    "1. Implémenter les algorithmes *dfs* (Depth First Search) et *bfs* (Breadth First Search) pour parcourir les graphes partant du sommet *1* (une fonction `bfs` une fonction `dfs`) 10min -> 10h50\n",
    "2. Implémenter `Graphe_v1` et `Graphe_v2` et tester sur le graphe ci-dessus le tout. 10min -> 11h15"
   ]
  },
  {
   "cell_type": "markdown",
   "id": "wrapped-obligation",
   "metadata": {},
   "source": [
    "**REMARQUE** on constate que la seul fonctionnalité d'un graphe qu'on utilise pour `dfs` et `bfs` est la possibilité d'itérer sur les voisins d'un sommet."
   ]
  },
  {
   "cell_type": "markdown",
   "id": "grave-bunch",
   "metadata": {},
   "source": [
    "**REMARQUE** on a en fait trois façons d'implémenter un graphe\n",
    "- liste de sommets et liste d'arrêtes\n",
    "\n",
    "$$N=\\{1, 2, 3, 4, 5, 6, 7, 8, 9, 10, 11\\},$$\n",
    "$$S=\\{(1,2), (1, 4), (2, 1), (4, 1), (4, 5), (5, 4), (4, 3), (3, 4), (2, 8), (8, 2), (3, 8), (8, 3), (5, 6), (6, 5), (6, 7), (7, 6), (6, 11), (11, 6), (7, 9), (9, 7), (8, 9), (9, 8), (11, 10), (10, 11), (9, 10), (10, 9)\\}$$\n",
    "- dictionnaire de voisinage \n",
    "```python\n",
    "{\n",
    "    1:[2, 4],\n",
    "    2:[1, 8],\n",
    "    3:[4, 8],\n",
    "    4:[1, 3, 5],\n",
    "    5:[4, 6],\n",
    "    6:[5, 7, 11],\n",
    "    7:[6, 9],\n",
    "    8:[2, 3, 9],\n",
    "    9:[7, 8, 10],\n",
    "    10:[9, 11],\n",
    "    11:[6, 10],\n",
    "}\n",
    "```\n",
    "- représentation matricielle\n",
    "\n",
    "\n",
    "\\begin{array)\n",
    " 0 & 1 & 0 & 1 & 0 & 0 & 0 & 0 & 0 & 0 & 0 \\\\\n",
    " 1 & 0 & 0 & 0 & 0 & 0 & 0 & 1 & 0 & 0 & 0 \\\\\n",
    " 0 & 0 & 0 & 1 & 0 & 0 & 0 & 1 & 0 & 0 & 0 \\\\\n",
    " 1 & 0 & 1 & 0 & 1 & 0 & 0 & 0 & 0 & 0 & 0 \\\\\n",
    " 0 & 0 & 0 & 1 & 0 & 1 & 0 & 0 & 0 & 0 & 0 \\\\\n",
    " 0 & 0 & 0 & 0 & 1 & 0 & 1 & 0 & 0 & 0 & 1 \\\\\n",
    " 0 & 0 & 0 & 0 & 0 & 1 & 0 & 0 & 1 & 0 & 0 \\\\\n",
    " 0 & 1 & 1 & 0 & 0 & 0 & 0 & 0 & 1 & 0 & 0 \\\\\n",
    " 0 & 0 & 0 & 0 & 0 & 0 & 1 & 1 & 0 & 1 & 0 \\\\\n",
    " 0 & 0 & 0 & 0 & 0 & 0 & 0 & 0 & 1 & 0 & 1 \\\\\n",
    " 0 & 0 & 0 & 0 & 0 & 1 & 0 & 0 & 0 & 1 & 0\n",
    "\\end{array}\n",
    "\n"
   ]
  },
  {
   "cell_type": "code",
   "execution_count": 2,
   "id": "grave-kennedy",
   "metadata": {},
   "outputs": [],
   "source": [
    "%run graphe.py"
   ]
  },
  {
   "cell_type": "code",
   "execution_count": 3,
   "id": "fuzzy-metabolism",
   "metadata": {},
   "outputs": [],
   "source": [
    "v1 = Graphe_v1(\n",
    "    sommets=[i for i in range(1, 12)],\n",
    "    arretes=[(1,2), (1, 4), (2, 1), (4, 1), (4, 5), (5, 4), (4, 3), (3, 4), (2, 8), (8, 2), (3, 8), (8, 3), (5, 6), (6, 5), (6, 7), (7, 6), (6, 11), (11, 6), (7, 9), (9, 7), (8, 9), (9, 8), (11, 10), (10, 11), (9, 10), (10, 9)]\n",
    ")"
   ]
  },
  {
   "cell_type": "code",
   "execution_count": 4,
   "id": "quick-street",
   "metadata": {},
   "outputs": [
    {
     "data": {
      "text/plain": [
       "<__main__.Graphe_v1 at 0x7f84c0528bb0>"
      ]
     },
     "execution_count": 4,
     "metadata": {},
     "output_type": "execute_result"
    }
   ],
   "source": [
    "v1"
   ]
  },
  {
   "cell_type": "code",
   "execution_count": 6,
   "id": "destroyed-latin",
   "metadata": {},
   "outputs": [
    {
     "name": "stdout",
     "output_type": "stream",
     "text": [
      "1\n",
      "2\n",
      "4\n",
      "8\n",
      "5\n",
      "3\n",
      "9\n",
      "6\n",
      "7\n",
      "10\n",
      "11\n"
     ]
    }
   ],
   "source": [
    "for sommet in dfs(depart=1, graphe=v1):\n",
    "    print(sommet)"
   ]
  },
  {
   "cell_type": "code",
   "execution_count": 7,
   "id": "binding-rhythm",
   "metadata": {},
   "outputs": [
    {
     "name": "stdout",
     "output_type": "stream",
     "text": [
      "1\n",
      "4\n",
      "3\n",
      "8\n",
      "9\n",
      "10\n",
      "11\n",
      "6\n",
      "7\n",
      "5\n",
      "2\n"
     ]
    }
   ],
   "source": [
    "for sommet in bfs(depart=1, graphe=v1):\n",
    "    print(sommet)"
   ]
  },
  {
   "cell_type": "code",
   "execution_count": 9,
   "id": "ideal-naples",
   "metadata": {},
   "outputs": [],
   "source": [
    "v2 = Graphe_v2(\n",
    "    voisinage={\n",
    "        1:[2, 4],\n",
    "        2:[1, 8],\n",
    "        3:[4, 8],\n",
    "        4:[1, 3, 5],\n",
    "        5:[4, 6],\n",
    "        6:[5, 7, 11],\n",
    "        7:[6, 9],\n",
    "        8:[2, 3, 9],\n",
    "        9:[7, 8, 10],\n",
    "        10:[9, 11],\n",
    "        11:[6, 10],\n",
    "    }\n",
    ")"
   ]
  },
  {
   "cell_type": "code",
   "execution_count": 10,
   "id": "attractive-islam",
   "metadata": {},
   "outputs": [
    {
     "data": {
      "text/plain": [
       "<__main__.Graphe_v2 at 0x7f84aa9bdb20>"
      ]
     },
     "execution_count": 10,
     "metadata": {},
     "output_type": "execute_result"
    }
   ],
   "source": [
    "v2"
   ]
  },
  {
   "cell_type": "code",
   "execution_count": 11,
   "id": "rubber-citizenship",
   "metadata": {},
   "outputs": [
    {
     "name": "stdout",
     "output_type": "stream",
     "text": [
      "1\n",
      "2\n",
      "4\n",
      "8\n",
      "3\n",
      "5\n",
      "9\n",
      "6\n",
      "7\n",
      "10\n",
      "11\n"
     ]
    }
   ],
   "source": [
    "for sommet in dfs(depart=1, graphe=v2):\n",
    "    print(sommet)"
   ]
  },
  {
   "cell_type": "code",
   "execution_count": 12,
   "id": "earned-museum",
   "metadata": {},
   "outputs": [
    {
     "name": "stdout",
     "output_type": "stream",
     "text": [
      "1\n",
      "4\n",
      "5\n",
      "6\n",
      "11\n",
      "10\n",
      "9\n",
      "8\n",
      "3\n",
      "2\n",
      "7\n"
     ]
    }
   ],
   "source": [
    "for sommet in bfs(depart=1, graphe=v2):\n",
    "    print(sommet)"
   ]
  },
  {
   "cell_type": "code",
   "execution_count": null,
   "id": "constitutional-vinyl",
   "metadata": {},
   "outputs": [],
   "source": []
  },
  {
   "cell_type": "markdown",
   "id": "fixed-airplane",
   "metadata": {},
   "source": [
    "**REMARQUE** le parcours par `dfs` produit les sommets par ordre de distance au sommet de départ.\n",
    "\n",
    "**DEFINITION** la distance entre deux sommets est la longueur du plus court chemin qui les relie.\n"
   ]
  },
  {
   "cell_type": "code",
   "execution_count": null,
   "id": "demographic-python",
   "metadata": {},
   "outputs": [],
   "source": []
  }
 ],
 "metadata": {
  "kernelspec": {
   "display_name": "Python 3",
   "language": "python",
   "name": "python3"
  },
  "language_info": {
   "codemirror_mode": {
    "name": "ipython",
    "version": 3
   },
   "file_extension": ".py",
   "mimetype": "text/x-python",
   "name": "python",
   "nbconvert_exporter": "python",
   "pygments_lexer": "ipython3",
   "version": "3.8.3"
  }
 },
 "nbformat": 4,
 "nbformat_minor": 5
}
